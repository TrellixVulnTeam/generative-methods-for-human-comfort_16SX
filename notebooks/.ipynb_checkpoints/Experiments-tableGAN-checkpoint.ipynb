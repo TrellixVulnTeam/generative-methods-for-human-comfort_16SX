{
 "cells": [
  {
   "cell_type": "markdown",
   "metadata": {},
   "source": [
    "# Load Files"
   ]
  },
  {
   "cell_type": "code",
   "execution_count": 1,
   "metadata": {
    "ExecuteTime": {
     "end_time": "2019-07-19T04:41:11.795676Z",
     "start_time": "2019-07-19T04:41:10.141970Z"
    }
   },
   "outputs": [
    {
     "name": "stdout",
     "output_type": "stream",
     "text": [
      "Importing Jupyter notebook from Utils.ipynb\n",
      "Importing Jupyter notebook from GAN.ipynb\n",
      "Importing Jupyter notebook from Functions.ipynb\n"
     ]
    }
   ],
   "source": [
    "from __future__ import absolute_import, division, print_function, unicode_literals\n",
    "\n",
    "# Notebooks\n",
    "import nbimporter\n",
    "import os\n",
    "import sys\n",
    "\n",
    "module_path = os.path.abspath(os.path.join('..'))\n",
    "if module_path not in sys.path:\n",
    "    sys.path.append(module_path)\n",
    "\n",
    "# Functions Notebook\n",
    "from Utils import build_GAN, batch_build_GAN, corr_matrix\n",
    "from Functions import holisticsTrainTest\n",
    "from Functions import comfPMV, ppv, selectModelParameters, trainTest_tunedModel, buildTrainRF, buildTrainKNN\n",
    "from Functions import buildTrainSVM, buildTrainNB, buildMLP, getClfMetrics, saveModel\n",
    "\n",
    "# Pandas, matplotlib, pickle, seaborn\n",
    "import pickle\n",
    "import numpy as np\n",
    "import pandas as pd\n",
    "import seaborn as sns\n",
    "import matplotlib.pyplot as plt\n",
    "# from collections import Counter\n",
    "\n",
    "# Sklearn\n",
    "from sklearn.manifold import TSNE\n",
    "from sklearn import preprocessing\n",
    "\n",
    "# Tensorflow\n",
    "import tensorflow as tf"
   ]
  },
  {
   "cell_type": "code",
   "execution_count": 2,
   "metadata": {
    "ExecuteTime": {
     "end_time": "2019-07-19T04:41:11.822770Z",
     "start_time": "2019-07-19T04:41:11.819221Z"
    }
   },
   "outputs": [],
   "source": [
    "# Run the pre-processing notebook first to make sure the pickle files exist\n",
    "\n",
    "df_feature1 = pd.read_pickle(\"df_feature1.pkl\")\n",
    "# df_feature2 = pd.read_pickle(\"df_feature2.pkl\")\n",
    "# df_feature3 = pd.read_pickle(\"df_feature3.pkl\")\n",
    "# df_feature4 = pd.read_pickle(\"df_feature4.pkl\")\n",
    "# df_feature5 = pd.read_pickle(\"df_feature5.pkl\")\n"
   ]
  },
  {
   "cell_type": "code",
   "execution_count": 3,
   "metadata": {
    "ExecuteTime": {
     "end_time": "2019-07-19T04:41:11.915183Z",
     "start_time": "2019-07-19T04:41:11.912757Z"
    }
   },
   "outputs": [],
   "source": [
    "test_size_percentage = 0.2 # for CV within train split\n",
    "train_test_split = 0.8 # for main train/validation split\n",
    "\n",
    "user_split = True #split train and test user-based or completely stratfied\n",
    "\n",
    "use_heuristics_participants = False\n"
   ]
  },
  {
   "cell_type": "code",
   "execution_count": 4,
   "metadata": {
    "ExecuteTime": {
     "end_time": "2019-07-19T04:41:12.045363Z",
     "start_time": "2019-07-19T04:41:12.006543Z"
    }
   },
   "outputs": [
    {
     "name": "stdout",
     "output_type": "stream",
     "text": [
      "Complete Participants: [1, 2, 4, 5, 6, 7, 8, 11, 12, 14, 15, 16, 17, 18, 19, 20, 21, 22, 23, 24, 25, 27, 29, 30, 31, 32, 33, 34, 35, 40, 41, 42, 43, 44, 45, 46, 49, 50, 51, 52, 54, 55, 57, 58, 59, 60, 61, 62, 63, 64, 65, 66, 67, 68, 70, 71, 72, 73, 74, 75, 76, 77, 78, 79, 80]\n",
      "Total number of complete participants: 65\n"
     ]
    }
   ],
   "source": [
    "df_aux_65 = pd.read_csv(\"../data/TCS_65_participants_outsideData.csv\", delimiter = \",\")\n",
    "\n",
    "list_complete_participants = list(df_aux_65['Participant_No'].unique())\n",
    "\n",
    "if use_heuristics_participants:\n",
    "    list_complete_participants.append(10)\n",
    "    list_complete_participants.append(26)\n",
    "    list_complete_participants.append(28)\n",
    "    list_complete_participants.append(36)\n",
    "    list_complete_participants.append(37)\n",
    "    list_complete_participants.append(39)\n",
    "    list_complete_participants.append(47)\n",
    "    list_complete_participants.append(48)\n",
    "    list_complete_participants.append(53)\n",
    "\n",
    "\n",
    "num_complete_participants = len(list_complete_participants)\n",
    "print(\"Complete Participants: {}\".format(list_complete_participants))\n",
    "print(\"Total number of complete participants: {}\".format(num_complete_participants))"
   ]
  },
  {
   "cell_type": "code",
   "execution_count": 5,
   "metadata": {
    "ExecuteTime": {
     "end_time": "2019-07-19T04:41:12.269335Z",
     "start_time": "2019-07-19T04:41:12.258496Z"
    }
   },
   "outputs": [
    {
     "name": "stdout",
     "output_type": "stream",
     "text": [
      "Num participants in test set: \n",
      "Testing on participants:\n",
      "[ 4 40 41 43 57 58 61 64 68 70 71 73 80]\n",
      "Total number of instances: 2067\n",
      "Number of training instances: 1713\n",
      "Number of testing (validation) instances: 354\n"
     ]
    }
   ],
   "source": [
    "\n",
    "df_feature1_train, df_feature1_test, df_feature1_train_binary, df_feature1_test_binary = holisticsTrainTest(df_feature1, \n",
    "                                                                                                            list_complete_participants,\n",
    "                                                                                                            user_split = user_split,\n",
    "                                                                                                            train_test_split = train_test_split)\n",
    "\n",
    "\n",
    "# df_feature2_train, df_feature2_test, df_feature2_train_binary, df_feature2_test_binary  = holisticsTrainTest(df_feature2, \n",
    "#                                                                                                              list_complete_participants,\n",
    "#                                                                                                             user_split = user_split,\n",
    "#                                                                                                             train_test_split=train_test_split)\n",
    "\n",
    "# df_feature3_train, df_feature3_test, df_feature3_train_binary, df_feature3_test_binary = holisticsTrainTest(df_feature3,\n",
    "#                                                                                                            list_complete_participants,\n",
    "#                                                                                                            user_split = user_split,\n",
    "#                                                                                                            train_test_split=train_test_split)\n",
    "\n",
    "# df_feature4_train, df_feature4_test, df_feature4_train_binary, df_feature4_test_binary = holisticsTrainTest(df_feature4,\n",
    "#                                                                                                            list_complete_participants,\n",
    "#                                                                                                            user_split = user_split,\n",
    "#                                                                                                            train_test_split=train_test_split)\n",
    "\n",
    "# df_feature5_train, df_feature5_test, df_feature5_train_binary, df_feature5_test_binary = holisticsTrainTest(df_feature5,\n",
    "#                                                                                                             list_complete_participants,\n",
    "#                                                                                                            user_split = user_split,\n",
    "#                                                                                                            train_test_split=train_test_split)\n",
    "\n",
    "print(\"Total number of instances: {}\".format(df_feature1.shape[0]))\n",
    "\n",
    "print(\"Number of training instances: {}\".format(df_feature1_train.shape[0]))\n",
    "print(\"Number of testing (validation) instances: {}\".format(df_feature1_test.shape[0]))"
   ]
  },
  {
   "cell_type": "markdown",
   "metadata": {},
   "source": [
    "# Preparing data"
   ]
  },
  {
   "cell_type": "code",
   "execution_count": 6,
   "metadata": {
    "ExecuteTime": {
     "end_time": "2019-07-19T04:41:12.701710Z",
     "start_time": "2019-07-19T04:41:12.693359Z"
    }
   },
   "outputs": [
    {
     "name": "stdout",
     "output_type": "stream",
     "text": [
      " 0    950\n",
      "-1    353\n",
      "-2    190\n",
      " 1    176\n",
      " 2     44\n",
      "Name: Discrete Thermal Comfort_TA, dtype: int64\n"
     ]
    }
   ],
   "source": [
    "# generate datasets for each class\n",
    "\n",
    "print(df_feature1_train['Discrete Thermal Comfort_TA'].value_counts())\n",
    "df_feature1_train_1 = df_feature1_train[df_feature1_train[ 'Discrete Thermal Comfort_TA'] == 1]  \n",
    "del df_feature1_train_1['Discrete Thermal Comfort_TA']\n",
    "\n",
    "df_feature1_train_2 = df_feature1_train[df_feature1_train[ 'Discrete Thermal Comfort_TA'] == 2]\n",
    "del df_feature1_train_2['Discrete Thermal Comfort_TA']\n",
    "\n",
    "df_feature1_train_minus1 = df_feature1_train[df_feature1_train[ 'Discrete Thermal Comfort_TA'] == -1]\n",
    "del df_feature1_train_minus1['Discrete Thermal Comfort_TA']\n",
    "\n",
    "df_feature1_train_minus2 = df_feature1_train[df_feature1_train[ 'Discrete Thermal Comfort_TA'] == -2]\n",
    "del df_feature1_train_minus2['Discrete Thermal Comfort_TA']"
   ]
  },
  {
   "cell_type": "code",
   "execution_count": 7,
   "metadata": {
    "ExecuteTime": {
     "end_time": "2019-07-19T04:11:43.354198Z",
     "start_time": "2019-07-19T04:11:42.819984Z"
    }
   },
   "outputs": [
    {
     "name": "stdout",
     "output_type": "stream",
     "text": [
      "[[ 2.59106159e+00  5.33421707e+00]\n",
      " [-6.89684868e+00 -1.11374292e+01]\n",
      " [-3.64753389e+00 -5.61378241e+00]\n",
      " [ 6.36958331e-02 -2.10755420e+00]\n",
      " [ 4.12109947e+00  3.77413225e+00]\n",
      " [-5.29684448e+00 -9.65248680e+00]\n",
      " [ 4.54109669e+00  6.56276226e+00]\n",
      " [ 1.27724037e+01  2.30390573e+00]\n",
      " [ 5.90303850e+00  5.83664227e+00]\n",
      " [-5.35609818e+00 -1.41580451e+00]\n",
      " [-4.36745691e+00 -9.53830719e+00]\n",
      " [ 2.14227867e+00  5.48313141e+00]\n",
      " [ 1.26944799e+01  2.06484342e+00]\n",
      " [-4.78393364e+00 -1.05970526e+01]\n",
      " [ 1.28373175e+01  4.91165733e+00]\n",
      " [-1.02855396e+01 -6.29746008e+00]\n",
      " [-7.95729637e-01 -3.90120387e+00]\n",
      " [ 1.25052681e+01  4.65816784e+00]\n",
      " [-7.15389538e+00 -1.00568314e+01]\n",
      " [ 2.48911572e+00  5.98436403e+00]\n",
      " [ 4.04692936e+00  4.35459661e+00]\n",
      " [ 1.18902922e+01  3.50570655e+00]\n",
      " [-9.49212933e+00 -7.75650024e+00]\n",
      " [-8.69203568e+00 -3.89128280e+00]\n",
      " [ 3.69638133e+00  3.93516397e+00]\n",
      " [ 9.77818251e-01  1.08615303e+00]\n",
      " [-2.56057429e+00 -3.30609965e+00]\n",
      " [ 3.66880274e+00 -9.08400178e-01]\n",
      " [-1.01360521e+01 -6.34834051e+00]\n",
      " [-9.20914173e+00 -8.13982296e+00]\n",
      " [-1.01175475e+00  1.50405526e+00]\n",
      " [-5.39578772e+00 -1.74434531e+00]\n",
      " [-9.93296051e+00 -8.07691956e+00]\n",
      " [ 1.32837677e+01  2.38562179e+00]\n",
      " [-8.53363419e+00 -9.57360840e+00]\n",
      " [ 1.29917822e+01  2.52342701e+00]\n",
      " [ 5.98300648e+00  8.21738911e+00]\n",
      " [ 3.09435916e+00  5.53997040e+00]\n",
      " [ 4.60742617e+00  6.49837351e+00]\n",
      " [-7.98508930e+00 -2.92959714e+00]\n",
      " [ 5.71584940e+00  8.34847260e+00]\n",
      " [ 3.67825079e+00 -8.56900215e-01]\n",
      " [ 1.19147100e+01  3.51157951e+00]\n",
      " [ 1.32624474e+01  2.36226010e+00]\n",
      " [-9.57211018e+00 -7.83536386e+00]\n",
      " [-8.07002068e+00 -4.13397837e+00]\n",
      " [-3.38863468e+00 -2.26448607e+00]\n",
      " [-8.66414165e+00 -3.90953374e+00]\n",
      " [ 5.97069311e+00  8.18021107e+00]\n",
      " [ 1.14240990e+01  6.27005339e+00]\n",
      " [-7.99945927e+00 -4.25092077e+00]\n",
      " [-1.83149374e+00 -3.11068177e+00]\n",
      " [-6.49040604e+00 -3.10250854e+00]\n",
      " [-8.54997158e+00 -4.29295349e+00]\n",
      " [ 3.84268260e+00  4.23776865e+00]\n",
      " [ 1.19304075e+01  4.46386909e+00]\n",
      " [-2.59612036e+00 -3.30625081e+00]\n",
      " [-6.55372620e+00 -3.06067729e+00]\n",
      " [ 1.24563961e+01  2.99553180e+00]\n",
      " [ 4.98006487e+00  6.16046381e+00]\n",
      " [-5.28505039e+00 -9.61811924e+00]\n",
      " [-5.18170929e+00 -1.34824491e+00]\n",
      " [ 9.73653555e-01  1.07788014e+00]\n",
      " [ 2.17495275e+00  5.48544121e+00]\n",
      " [ 3.00179052e+00  2.13287616e+00]\n",
      " [-5.59254408e+00 -9.38659000e+00]\n",
      " [ 1.26758137e+01  2.01131105e+00]\n",
      " [-2.36863112e+00 -1.15571690e+00]\n",
      " [-1.22687197e+00 -3.98175716e+00]\n",
      " [-3.62084866e+00 -2.28577042e+00]\n",
      " [ 3.09618497e+00  5.67009497e+00]\n",
      " [ 1.14339457e+01  6.26311874e+00]\n",
      " [-5.67137671e+00 -9.55855942e+00]\n",
      " [-1.01590290e+01 -6.33447409e+00]\n",
      " [ 1.97839880e+00 -3.27522397e+00]\n",
      " [-1.48424208e+00 -4.02372503e+00]\n",
      " [ 4.01677895e+00  4.35488129e+00]\n",
      " [ 1.27758341e+01  4.74670744e+00]\n",
      " [-8.01990604e+00 -2.90771484e+00]\n",
      " [ 2.96758771e+00  2.08467388e+00]\n",
      " [-5.49491024e+00 -9.33337286e-02]\n",
      " [ 1.26830769e+01  2.02908564e+00]\n",
      " [-8.61329460e+00 -4.11834526e+00]\n",
      " [ 4.31979847e+00  4.21117783e+00]\n",
      " [-1.00622964e+00  1.53437448e+00]\n",
      " [-1.03409920e+01 -6.28487396e+00]\n",
      " [-2.44099903e+00 -2.54772353e+00]\n",
      " [ 3.07664299e+00  2.06596971e+00]\n",
      " [-3.42244649e+00 -2.26103139e+00]\n",
      " [ 5.98661232e+00  8.22526073e+00]\n",
      " [-1.22637701e+00 -3.97126603e+00]\n",
      " [-9.50365925e+00 -7.74399424e+00]\n",
      " [ 4.47095251e+00  3.89332795e+00]\n",
      " [ 2.41958594e+00  5.93098736e+00]\n",
      " [ 6.81965500e-02 -2.10269523e+00]\n",
      " [-5.51407957e+00 -9.91043854e+00]\n",
      " [ 1.31176472e+01  1.90411687e+00]\n",
      " [-5.60433149e+00 -9.42006683e+00]\n",
      " [ 4.60270834e+00  6.51238346e+00]\n",
      " [-8.75170135e+00 -1.00251379e+01]\n",
      " [ 1.24077044e+01  4.61830091e+00]\n",
      " [-2.48203564e+00 -1.14560711e+00]\n",
      " [-8.10685062e+00 -4.43650103e+00]\n",
      " [-5.74848795e+00 -3.17300534e+00]\n",
      " [ 5.97635794e+00  8.18243504e+00]\n",
      " [-8.09785843e-01 -5.71512270e+00]\n",
      " [-7.98136592e-01 -3.91117263e+00]\n",
      " [-1.35751748e+00 -2.80501199e+00]\n",
      " [-5.28736782e+00 -9.63889790e+00]\n",
      " [-5.80020285e+00 -1.51290298e+00]\n",
      " [ 2.40265322e+00  5.92327452e+00]\n",
      " [ 1.02921176e+00  1.08151877e+00]\n",
      " [-7.86246479e-01 -3.86932683e+00]\n",
      " [-8.60311222e+00 -9.69566536e+00]\n",
      " [-2.24813175e+00 -9.89091098e-01]\n",
      " [ 1.07662563e+01  5.74021435e+00]\n",
      " [ 5.86979246e+00  5.87511539e+00]\n",
      " [-1.46723497e+00 -2.86247110e+00]\n",
      " [ 1.30567951e+01  1.86155474e+00]\n",
      " [-1.03054276e+01 -6.29041481e+00]\n",
      " [-8.03686798e-01 -5.77475929e+00]\n",
      " [-1.03458433e+01 -6.27673149e+00]\n",
      " [-9.31573582e+00 -7.68860483e+00]\n",
      " [-5.22783709e+00 -1.11487389e+00]\n",
      " [ 3.80917358e+00  4.23262739e+00]\n",
      " [ 1.32582092e+01  2.35917091e+00]\n",
      " [-4.63079929e+00 -1.07322474e+01]\n",
      " [ 2.90468526e+00  2.07847071e+00]\n",
      " [-7.79882002e+00 -4.79882526e+00]\n",
      " [ 5.71352339e+00  8.34693050e+00]\n",
      " [ 3.67643929e+00 -8.79786253e-01]\n",
      " [-8.61154652e+00 -3.93798327e+00]\n",
      " [-7.15453815e+00 -1.00573721e+01]\n",
      " [-5.77053976e+00 -1.48805261e+00]\n",
      " [-1.23312438e+00 -2.83306313e+00]\n",
      " [-8.05879593e+00 -4.27439833e+00]\n",
      " [-5.26931238e+00 -1.68852556e+00]\n",
      " [ 1.27613058e+01  4.76354504e+00]\n",
      " [ 3.67455673e+00 -8.74388635e-01]\n",
      " [-8.02794552e+00 -2.92027640e+00]\n",
      " [ 4.53458071e+00  6.57185030e+00]\n",
      " [ 3.12543154e+00  5.49677944e+00]\n",
      " [ 3.67491746e+00 -8.69723558e-01]\n",
      " [-1.18500042e+00 -3.93849730e+00]\n",
      " [ 4.76547384e+00  6.33319426e+00]\n",
      " [ 1.98459291e+00 -3.29525280e+00]\n",
      " [ 2.34900379e+00  5.34164762e+00]\n",
      " [-8.21013355e+00 -9.94297409e+00]\n",
      " [ 7.15759769e-03 -2.12540436e+00]\n",
      " [-5.59335756e+00 -9.39861965e+00]\n",
      " [-9.94849396e+00 -8.09991264e+00]\n",
      " [ 3.08118510e+00  5.68156910e+00]\n",
      " [-8.46066380e+00 -9.49978542e+00]\n",
      " [ 1.28022995e+01  4.87306690e+00]\n",
      " [-8.25369930e+00 -9.54931927e+00]\n",
      " [-4.49706411e+00 -9.41242218e+00]\n",
      " [-7.98710489e+00 -2.94565892e+00]\n",
      " [-5.51696157e+00 -9.88596439e+00]\n",
      " [-5.16709852e+00 -1.48667490e+00]\n",
      " [ 1.26151114e+01  4.86681700e+00]\n",
      " [ 4.92658997e+00  6.22194719e+00]\n",
      " [ 9.82413650e-01  1.07894850e+00]\n",
      " [ 1.07663670e+01  5.73878860e+00]\n",
      " [-5.34673166e+00 -1.72822177e+00]\n",
      " [-2.47178268e+00 -1.13838339e+00]\n",
      " [ 1.21980705e+01  4.54370832e+00]\n",
      " [ 5.69705534e+00  8.32634926e+00]\n",
      " [-8.24297905e+00 -9.57775879e+00]\n",
      " [-8.43380356e+00 -1.02076292e+01]\n",
      " [-9.38300228e+00 -7.61563206e+00]\n",
      " [-1.01579368e+00  1.53856981e+00]\n",
      " [ 2.12099624e+00  5.72313261e+00]\n",
      " [ 1.14337645e+01  6.26217127e+00]\n",
      " [-3.36867237e+00 -2.26252007e+00]\n",
      " [ 9.86233473e-01  1.07831705e+00]\n",
      " [-1.09601581e+00 -3.83518314e+00]]\n"
     ]
    }
   ],
   "source": [
    "X_embedded = TSNE(n_components=2).fit_transform(df_feature1_train_1)\n",
    "print(X_embedded)"
   ]
  },
  {
   "cell_type": "code",
   "execution_count": 8,
   "metadata": {
    "ExecuteTime": {
     "end_time": "2019-07-19T04:11:43.565586Z",
     "start_time": "2019-07-19T04:11:43.460138Z"
    }
   },
   "outputs": [
    {
     "data": {
      "text/plain": [
       "<matplotlib.collections.PathCollection at 0x7ff0b48087f0>"
      ]
     },
     "execution_count": 8,
     "metadata": {},
     "output_type": "execute_result"
    },
    {
     "data": {
      "image/png": "[encoded data removed]",
      "text/plain": [
       "<Figure size 432x288 with 1 Axes>"
      ]
     },
     "metadata": {
      "needs_background": "light"
     },
     "output_type": "display_data"
    }
   ],
   "source": [
    "# print(X_embedded[:,0])\n",
    "\n",
    "plt.scatter(X_embedded[:,0], X_embedded[:,1])\n"
   ]
  },
  {
   "cell_type": "code",
   "execution_count": 9,
   "metadata": {
    "ExecuteTime": {
     "end_time": "2019-07-19T04:11:43.892587Z",
     "start_time": "2019-07-19T04:11:43.672914Z"
    }
   },
   "outputs": [
    {
     "data": {
      "image/png": "[encoded data removed]",
      "text/plain": [
       "<Figure size 792x648 with 2 Axes>"
      ]
     },
     "metadata": {
      "needs_background": "light"
     },
     "output_type": "display_data"
    }
   ],
   "source": [
    "# Compute the correlation matrix\n",
    "corr_real_1 = corr_matrix(df_feature1_train_1)"
   ]
  },
  {
   "cell_type": "markdown",
   "metadata": {},
   "source": [
    "# table-GAN "
   ]
  },
  {
   "cell_type": "code",
   "execution_count": 11,
   "metadata": {
    "ExecuteTime": {
     "end_time": "2019-07-19T06:35:44.181422Z",
     "start_time": "2019-07-19T06:35:44.146843Z"
    }
   },
   "outputs": [],
   "source": [
    "# save datasets in folders to properly use tableGAN\n",
    "df_feature1_train_nolabel = df_feature1_train.copy()\n",
    "print(df_feature1_train.shape)\n",
    "\n",
    "# print(df_feature1_train_nolabel)\n",
    "del df_feature1_train_nolabel['Discrete Thermal Comfort_TA']\n",
    "\n",
    "# df_feature1_train.to_csv('data/Occutherm/Occutherm.csv', index=False)\n",
    "df_feature1_train_nolabel.to_csv('data/Occutherm/Occutherm.csv', index=False, sep=';')\n",
    "df_feature1_train['Discrete Thermal Comfort_TA'].to_csv('data/Occutherm/Occutherm_labels.csv', header=False, index=False)"
   ]
  },
  {
   "cell_type": "code",
   "execution_count": 11,
   "metadata": {
    "ExecuteTime": {
     "end_time": "2019-07-19T04:11:47.630796Z",
     "start_time": "2019-07-19T04:11:46.224157Z"
    }
   },
   "outputs": [
    {
     "name": "stdout",
     "output_type": "stream",
     "text": [
      "Traceback (most recent call last):\r\n",
      "  File \"main.py\", line 12, in <module>\r\n",
      "    from model import TableGan\r\n",
      "  File \"/home/matias/GAN-human-feedback/notebooks/model.py\", line 12, in <module>\r\n",
      "    from ops import *\r\n",
      "  File \"/home/matias/GAN-human-feedback/notebooks/ops.py\", line 7, in <module>\r\n",
      "    from utils import *\r\n",
      "  File \"/home/matias/GAN-human-feedback/notebooks/utils.py\", line 16, in <module>\r\n",
      "    import tensorflow.contrib.slim as slim\r\n",
      "ModuleNotFoundError: No module named 'tensorflow.contrib'\r\n"
     ]
    }
   ],
   "source": [
    "# train\n",
    "!python main.py --dataset=Occutherm --test_id=OI_11_00 --epoch=200 --train\n",
    "\n",
    "# sample\n",
    "!python main.py --dataset=Occutherm --test_id=OI_11_00"
   ]
  },
  {
   "cell_type": "code",
   "execution_count": 19,
   "metadata": {
    "ExecuteTime": {
     "end_time": "2019-07-19T09:21:17.440715Z",
     "start_time": "2019-07-19T09:21:17.420046Z"
    }
   },
   "outputs": [
    {
     "name": "stdout",
     "output_type": "stream",
     "text": [
      "(1500, 9)\n"
     ]
    }
   ],
   "source": [
    "# load fake data\n",
    "\n",
    "fake_df = pd.read_csv('samples/Occutherm/Occutherm_OI_11_00_fake.csv')\n",
    "\n",
    "test_df = pd.read_pickle(\"samples/Occutherm/OI_11_00_scaled_fake_tabular.pickle\")\n",
    "\n",
    "# print(fake_df[0,:])\n",
    "print(test_df.shape)"
   ]
  },
  {
   "cell_type": "code",
   "execution_count": null,
   "metadata": {
    "ExecuteTime": {
     "end_time": "2019-07-18T09:52:17.800294Z",
     "start_time": "2019-07-17T15:02:43.235Z"
    }
   },
   "outputs": [],
   "source": [
    "\n",
    "\n",
    "\n",
    "\n",
    "\n",
    "\n",
    "# # trained classification model\n",
    "# acc_knn_1_train, knn_optimal_1 = buildTrainKNN(df_feature1_train_1,test_size_percentage=test_size_percentage)\n",
    "# # test model\n",
    "# acc_holistic_knn_1, _ = trainTest_tunedModel(df_feature1_test, knn_optimal_1)\n",
    "# # 0.6\n",
    "\n",
    "\n",
    "\n",
    "# define the metrics to compare the synth data\n",
    "\n",
    "# run experiments to fund best architecture that maximizes good synth data\n",
    "\n",
    "# have TCS classifier model ACC from occutherm as baseline, with new synth data\n",
    "# re run the models and see if ACC increases"
   ]
  },
  {
   "cell_type": "code",
   "execution_count": null,
   "metadata": {
    "ExecuteTime": {
     "end_time": "2019-07-18T09:52:17.801647Z",
     "start_time": "2019-07-17T15:02:43.240Z"
    }
   },
   "outputs": [],
   "source": [
    "# Compute the correlation matrix\n",
    "# corr_synth_1 = corr_matrix(gen_data_1_df)\n",
    "\n",
    "# substract corr matrices\n",
    "\n"
   ]
  },
  {
   "cell_type": "code",
   "execution_count": null,
   "metadata": {},
   "outputs": [],
   "source": []
  },
  {
   "cell_type": "code",
   "execution_count": null,
   "metadata": {},
   "outputs": [],
   "source": []
  }
 ],
 "metadata": {
  "kernelspec": {
   "display_name": "Python 3",
   "language": "python",
   "name": "python3"
  },
  "language_info": {
   "codemirror_mode": {
    "name": "ipython",
    "version": 3
   },
   "file_extension": ".py",
   "mimetype": "text/x-python",
   "name": "python",
   "nbconvert_exporter": "python",
   "pygments_lexer": "ipython3",
   "version": "3.7.3"
  },
  "toc": {
   "base_numbering": 1,
   "nav_menu": {},
   "number_sections": true,
   "sideBar": true,
   "skip_h1_title": false,
   "title_cell": "Table of Contents",
   "title_sidebar": "Contents",
   "toc_cell": false,
   "toc_position": {
    "height": "calc(100% - 180px)",
    "left": "10px",
    "top": "150px",
    "width": "216px"
   },
   "toc_section_display": true,
   "toc_window_display": false
  },
  "varInspector": {
   "cols": {
    "lenName": 16,
    "lenType": 16,
    "lenVar": 40
   },
   "kernels_config": {
    "python": {
     "delete_cmd_postfix": "",
     "delete_cmd_prefix": "del ",
     "library": "var_list.py",
     "varRefreshCmd": "print(var_dic_list())"
    },
    "r": {
     "delete_cmd_postfix": ") ",
     "delete_cmd_prefix": "rm(",
     "library": "var_list.r",
     "varRefreshCmd": "cat(var_dic_list()) "
    }
   },
   "position": {
    "height": "395.85px",
    "left": "-1536px",
    "right": "20px",
    "top": "365px",
    "width": "576px"
   },
   "types_to_exclude": [
    "module",
    "function",
    "builtin_function_or_method",
    "instance",
    "_Feature"
   ],
   "window_display": true
  }
 },
 "nbformat": 4,
 "nbformat_minor": 2
}
