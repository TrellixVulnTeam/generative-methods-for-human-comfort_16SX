{
 "cells": [
  {
   "cell_type": "markdown",
   "metadata": {},
   "source": [
    "# Load Files"
   ]
  },
  {
   "cell_type": "code",
   "execution_count": 1,
   "metadata": {
    "ExecuteTime": {
     "end_time": "2019-08-11T02:35:47.025702Z",
     "start_time": "2019-08-11T02:35:45.250362Z"
    }
   },
   "outputs": [
    {
     "name": "stdout",
     "output_type": "stream",
     "text": [
      "Importing Jupyter notebook from Utils.ipynb\n",
      "Importing Jupyter notebook from GAN.ipynb\n",
      "Importing Jupyter notebook from Functions.ipynb\n"
     ]
    }
   ],
   "source": [
    "from __future__ import absolute_import, division, print_function, unicode_literals\n",
    "\n",
    "# Notebooks\n",
    "import nbimporter\n",
    "import os\n",
    "import sys\n",
    "\n",
    "module_path = os.path.abspath(os.path.join('..'))\n",
    "if module_path not in sys.path:\n",
    "    sys.path.append(module_path)\n",
    "\n",
    "# Functions Notebook\n",
    "from Utils import build_GAN, batch_build_GAN, corr_matrix\n",
    "from Functions import holisticsTrainTest\n",
    "from Functions import comfPMV, ppv, selectModelParameters, trainTest_tunedModel, buildTrainRF, buildTrainKNN\n",
    "from Functions import buildTrainSVM, buildTrainNB, buildMLP, getClfMetrics, saveModel\n",
    "\n",
    "# Pandas, matplotlib, pickle, seaborn\n",
    "import pickle\n",
    "import numpy as np\n",
    "import pandas as pd\n",
    "import seaborn as sns\n",
    "import matplotlib.pyplot as plt\n",
    "# from collections import Counter\n",
    "\n",
    "# Sklearn\n",
    "from sklearn.manifold import TSNE\n",
    "from sklearn import preprocessing\n",
    "\n",
    "# Tensorflow\n",
    "import tensorflow as tf"
   ]
  },
  {
   "cell_type": "code",
   "execution_count": 2,
   "metadata": {
    "ExecuteTime": {
     "end_time": "2019-08-11T02:35:47.031752Z",
     "start_time": "2019-08-11T02:35:47.027499Z"
    }
   },
   "outputs": [],
   "source": [
    "# Run the pre-processing notebook first to make sure the pickle files exist\n",
    "\n",
    "df_feature1 = pd.read_pickle(\"df_feature1.pkl\")\n",
    "# df_feature2 = pd.read_pickle(\"df_feature2.pkl\")\n",
    "# df_feature3 = pd.read_pickle(\"df_feature3.pkl\")\n",
    "# df_feature4 = pd.read_pickle(\"df_feature4.pkl\")\n",
    "# df_feature5 = pd.read_pickle(\"df_feature5.pkl\")\n"
   ]
  },
  {
   "cell_type": "code",
   "execution_count": 3,
   "metadata": {
    "ExecuteTime": {
     "end_time": "2019-08-11T02:35:47.048292Z",
     "start_time": "2019-08-11T02:35:47.033700Z"
    }
   },
   "outputs": [],
   "source": [
    "test_size_percentage = 0.2 # for CV within train split\n",
    "train_test_split = 0.8 # for main train/validation split\n",
    "\n",
    "user_split = False #split train and test user-based or completely stratfied\n",
    "\n",
    "use_heuristics_participants = False\n"
   ]
  },
  {
   "cell_type": "code",
   "execution_count": 4,
   "metadata": {
    "ExecuteTime": {
     "end_time": "2019-08-11T02:35:47.101801Z",
     "start_time": "2019-08-11T02:35:47.049964Z"
    }
   },
   "outputs": [
    {
     "name": "stdout",
     "output_type": "stream",
     "text": [
      "Complete Participants: [1, 2, 4, 5, 6, 7, 8, 11, 12, 14, 15, 16, 17, 18, 19, 20, 21, 22, 23, 24, 25, 27, 29, 30, 31, 32, 33, 34, 35, 40, 41, 42, 43, 44, 45, 46, 49, 50, 51, 52, 54, 55, 57, 58, 59, 60, 61, 62, 63, 64, 65, 66, 67, 68, 70, 71, 72, 73, 74, 75, 76, 77, 78, 79, 80]\n",
      "Total number of complete participants: 65\n"
     ]
    }
   ],
   "source": [
    "df_aux_65 = pd.read_csv(\"../data/TCS_65_participants_outsideData.csv\", delimiter = \",\")\n",
    "\n",
    "list_complete_participants = list(df_aux_65['Participant_No'].unique())\n",
    "\n",
    "if use_heuristics_participants:\n",
    "    list_complete_participants.append(10)\n",
    "    list_complete_participants.append(26)\n",
    "    list_complete_participants.append(28)\n",
    "    list_complete_participants.append(36)\n",
    "    list_complete_participants.append(37)\n",
    "    list_complete_participants.append(39)\n",
    "    list_complete_participants.append(47)\n",
    "    list_complete_participants.append(48)\n",
    "    list_complete_participants.append(53)\n",
    "\n",
    "num_complete_participants = len(list_complete_participants)\n",
    "print(\"Complete Participants: {}\".format(list_complete_participants))\n",
    "print(\"Total number of complete participants: {}\".format(num_complete_participants))"
   ]
  },
  {
   "cell_type": "code",
   "execution_count": 20,
   "metadata": {
    "ExecuteTime": {
     "end_time": "2019-08-11T04:00:42.439837Z",
     "start_time": "2019-08-11T04:00:42.423476Z"
    }
   },
   "outputs": [
    {
     "name": "stdout",
     "output_type": "stream",
     "text": [
      "Total number of instances: 2067\n",
      " 0    1152\n",
      "-1     452\n",
      "-2     217\n",
      " 1     198\n",
      " 2      48\n",
      "Name: Discrete Thermal Comfort_TA, dtype: int64\n",
      "Number of training instances: 1653\n",
      "Number of testing (validation) instances: 414\n"
     ]
    }
   ],
   "source": [
    "\n",
    "df_feature1_train, df_feature1_test, df_feature1_train_binary, df_feature1_test_binary = holisticsTrainTest(df_feature1, \n",
    "                                                                                                            list_complete_participants,\n",
    "                                                                                                            user_split = user_split,\n",
    "                                                                                                            train_test_split = train_test_split)\n",
    "\n",
    "\n",
    "# df_feature2_train, df_feature2_test, df_feature2_train_binary, df_feature2_test_binary  = holisticsTrainTest(df_feature2, \n",
    "#                                                                                                              list_complete_participants,\n",
    "#                                                                                                             user_split = user_split,\n",
    "#                                                                                                             train_test_split=train_test_split)\n",
    "\n",
    "# df_feature3_train, df_feature3_test, df_feature3_train_binary, df_feature3_test_binary = holisticsTrainTest(df_feature3,\n",
    "#                                                                                                            list_complete_participants,\n",
    "#                                                                                                            user_split = user_split,\n",
    "#                                                                                                            train_test_split=train_test_split)\n",
    "\n",
    "# df_feature4_train, df_feature4_test, df_feature4_train_binary, df_feature4_test_binary = holisticsTrainTest(df_feature4,\n",
    "#                                                                                                            list_complete_participants,\n",
    "#                                                                                                            user_split = user_split,\n",
    "#                                                                                                            train_test_split=train_test_split)\n",
    "\n",
    "# df_feature5_train, df_feature5_test, df_feature5_train_binary, df_feature5_test_binary = holisticsTrainTest(df_feature5,\n",
    "#                                                                                                             list_complete_participants,\n",
    "#                                                                                                            user_split = user_split,\n",
    "#                                                                                                            train_test_split=train_test_split)\n",
    "\n",
    "print(\"Total number of instances: {}\".format(df_feature1.shape[0]))\n",
    "print(df_feature1['Discrete Thermal Comfort_TA'].value_counts())\n",
    "print(\"Number of training instances: {}\".format(df_feature1_train.shape[0]))\n",
    "print(\"Number of testing (validation) instances: {}\".format(df_feature1_test.shape[0]))"
   ]
  },
  {
   "cell_type": "markdown",
   "metadata": {},
   "source": [
    "# Preparing data"
   ]
  },
  {
   "cell_type": "code",
   "execution_count": 6,
   "metadata": {
    "ExecuteTime": {
     "end_time": "2019-08-11T02:35:47.124307Z",
     "start_time": "2019-08-11T02:35:47.117016Z"
    }
   },
   "outputs": [
    {
     "name": "stdout",
     "output_type": "stream",
     "text": [
      " 0    918\n",
      "-1    372\n",
      "-2    173\n",
      " 1    157\n",
      " 2     33\n",
      "Name: Discrete Thermal Comfort_TA, dtype: int64\n",
      " 0    234\n",
      "-1     80\n",
      "-2     44\n",
      " 1     41\n",
      " 2     15\n",
      "Name: Discrete Thermal Comfort_TA, dtype: int64\n"
     ]
    }
   ],
   "source": [
    "print(df_feature1_train['Discrete Thermal Comfort_TA'].value_counts())\n",
    "print(df_feature1_test['Discrete Thermal Comfort_TA'].value_counts())\n",
    "# df_feature1_train.to_csv('df_feature1_train.csv', index=False)"
   ]
  },
  {
   "cell_type": "code",
   "execution_count": 32,
   "metadata": {
    "ExecuteTime": {
     "end_time": "2019-08-11T06:04:14.792008Z",
     "start_time": "2019-08-11T06:04:14.785263Z"
    }
   },
   "outputs": [
    {
     "name": "stdout",
     "output_type": "stream",
     "text": [
      "1059\n",
      "570\n",
      "528\n",
      "132\n"
     ]
    }
   ],
   "source": [
    "# needed datapoints per label\n",
    "needed_0 = 950\n",
    "needed_minus1 = 353 * 3\n",
    "needed_minus2 = 190 * 3\n",
    "needed_1 = 176 * 3\n",
    "needed_2 = 44 * 3\n",
    "\n",
    "print(needed_minus1)\n",
    "print(needed_minus2)\n",
    "print(needed_1)\n",
    "print(needed_2)"
   ]
  },
  {
   "cell_type": "markdown",
   "metadata": {},
   "source": [
    "## Occutherm thermal comfort models"
   ]
  },
  {
   "cell_type": "code",
   "execution_count": 33,
   "metadata": {
    "ExecuteTime": {
     "end_time": "2019-08-11T06:06:32.129914Z",
     "start_time": "2019-08-11T06:04:23.903122Z"
    }
   },
   "outputs": [
    {
     "name": "stdout",
     "output_type": "stream",
     "text": [
      "Features: ['Temperature (Fahrenheit)' 'SkinTemperature' 'ClothingInsulation'\n",
      " 'Height(cm)' 'Shoulder Circumference(cm)' 'Weight(lbs)' 'Gender'\n",
      " 'Temperature_outside' 'Humidity_outside']\n",
      "Expected accuracy (f1 micro) based on Cross-Validation:  0.5266228621517893\n",
      "GaussianNB(priors=None, var_smoothing=1e-09)\n",
      "Accuracy (f1 micro) on test set:  0.513595166163142\n",
      "F1 micro on test set:  0.513595166163142\n",
      "F1 macro on test set:  0.44454532230737226\n",
      "Confusion Matrix: \n",
      "[[ 21   9   5   0   0]\n",
      " [ 19  28  27   0   0]\n",
      " [ 19  34 107  21   3]\n",
      " [  1   0  18  11   1]\n",
      " [  0   0   3   1   3]]\n",
      "Classification Metrics: \n",
      "              precision    recall  f1-score   support\n",
      "\n",
      "          -2       0.35      0.60      0.44        35\n",
      "          -1       0.39      0.38      0.39        74\n",
      "           0       0.67      0.58      0.62       184\n",
      "           1       0.33      0.35      0.34        31\n",
      "           2       0.43      0.43      0.43         7\n",
      "\n",
      "   micro avg       0.51      0.51      0.51       331\n",
      "   macro avg       0.44      0.47      0.44       331\n",
      "weighted avg       0.54      0.51      0.52       331\n",
      "\n",
      "Features: ['Temperature (Fahrenheit)' 'SkinTemperature' 'ClothingInsulation'\n",
      " 'Height(cm)' 'Shoulder Circumference(cm)' 'Weight(lbs)' 'Gender'\n",
      " 'Temperature_outside' 'Humidity_outside']\n",
      "Number of folds: 10\n"
     ]
    },
    {
     "name": "stderr",
     "output_type": "stream",
     "text": [
      "/home/matias/anaconda3/envs/tGAN/lib/python3.7/site-packages/sklearn/model_selection/_search.py:841: DeprecationWarning: The default of the `iid` parameter will change from True to False in version 0.22 and will be removed in 0.24. This will change numeric results when test-set sizes are unequal.\n",
      "  DeprecationWarning)\n"
     ]
    },
    {
     "name": "stdout",
     "output_type": "stream",
     "text": [
      "Best parameters set found on development set:\n",
      "{'algorithm': 'brute', 'metric': 'seuclidean', 'n_neighbors': 3, 'weights': 'distance'}\n",
      "KNeighborsClassifier(algorithm='brute', leaf_size=30, metric='seuclidean',\n",
      "           metric_params=None, n_jobs=None, n_neighbors=3, p=2,\n",
      "           weights='distance')\n",
      "Accuracy (f1 micro) on test set:  0.6858006042296072\n",
      "F1 micro on test set:  0.6858006042296072\n",
      "F1 macro on test set:  0.5602459224188084\n",
      "Confusion Matrix: \n",
      "[[ 24   8   3   0   0]\n",
      " [ 12  38  24   0   0]\n",
      " [  3  26 147   7   1]\n",
      " [  0   0  11  16   4]\n",
      " [  0   0   1   4   2]]\n",
      "Classification Metrics: \n",
      "              precision    recall  f1-score   support\n",
      "\n",
      "          -2       0.62      0.69      0.65        35\n",
      "          -1       0.53      0.51      0.52        74\n",
      "           0       0.79      0.80      0.79       184\n",
      "           1       0.59      0.52      0.55        31\n",
      "           2       0.29      0.29      0.29         7\n",
      "\n",
      "   micro avg       0.69      0.69      0.69       331\n",
      "   macro avg       0.56      0.56      0.56       331\n",
      "weighted avg       0.68      0.69      0.68       331\n",
      "\n",
      "Features: ['Temperature (Fahrenheit)' 'SkinTemperature' 'ClothingInsulation'\n",
      " 'Height(cm)' 'Shoulder Circumference(cm)' 'Weight(lbs)' 'Gender'\n",
      " 'Temperature_outside' 'Humidity_outside']\n",
      "Number of folds: 10\n"
     ]
    },
    {
     "name": "stderr",
     "output_type": "stream",
     "text": [
      "/home/matias/anaconda3/envs/tGAN/lib/python3.7/site-packages/sklearn/model_selection/_search.py:841: DeprecationWarning: The default of the `iid` parameter will change from True to False in version 0.22 and will be removed in 0.24. This will change numeric results when test-set sizes are unequal.\n",
      "  DeprecationWarning)\n"
     ]
    },
    {
     "name": "stdout",
     "output_type": "stream",
     "text": [
      "Best parameters set found on development set:\n",
      "{'C': 1000, 'class_weight': 'balanced', 'gamma': 0.1, 'kernel': 'rbf'}\n",
      "SVC(C=1000, cache_size=200, class_weight='balanced', coef0=0.0,\n",
      "  decision_function_shape='ovr', degree=3, gamma=0.1, kernel='rbf',\n",
      "  max_iter=-1, probability=False, random_state=100, shrinking=True,\n",
      "  tol=0.001, verbose=False)\n",
      "Accuracy (f1 micro) on test set:  0.6827794561933535\n",
      "F1 micro on test set:  0.6827794561933535\n",
      "F1 macro on test set:  0.5749621346395539\n",
      "Confusion Matrix: \n",
      "[[ 25  10   0   0   0]\n",
      " [ 11  47  15   1   0]\n",
      " [  6  35 134   8   1]\n",
      " [  1   2   7  18   3]\n",
      " [  0   0   1   4   2]]\n",
      "Classification Metrics: \n",
      "              precision    recall  f1-score   support\n",
      "\n",
      "          -2       0.58      0.71      0.64        35\n",
      "          -1       0.50      0.64      0.56        74\n",
      "           0       0.85      0.73      0.79       184\n",
      "           1       0.58      0.58      0.58        31\n",
      "           2       0.33      0.29      0.31         7\n",
      "\n",
      "   micro avg       0.68      0.68      0.68       331\n",
      "   macro avg       0.57      0.59      0.57       331\n",
      "weighted avg       0.71      0.68      0.69       331\n",
      "\n",
      "Accuracy (f1 micro) on test set:  0.6666666666666666\n",
      "F1 micro on test set:  0.6666666666666666\n",
      "F1 macro on test set:  0.5482283464651171\n",
      "Confusion Matrix: \n",
      "[[ 21  19   2   2   0]\n",
      " [ 14  47  18   1   0]\n",
      " [  6  32 181  11   4]\n",
      " [  0   0  16  21   4]\n",
      " [  0   0   2   7   6]]\n",
      "Classification Metrics: \n",
      "              precision    recall  f1-score   support\n",
      "\n",
      "          -2       0.51      0.48      0.49        44\n",
      "          -1       0.48      0.59      0.53        80\n",
      "           0       0.83      0.77      0.80       234\n",
      "           1       0.50      0.51      0.51        41\n",
      "           2       0.43      0.40      0.41        15\n",
      "\n",
      "   micro avg       0.67      0.67      0.67       414\n",
      "   macro avg       0.55      0.55      0.55       414\n",
      "weighted avg       0.68      0.67      0.67       414\n",
      "\n",
      "Accuracy (f1 micro) on test set:  0.5652173913043478\n",
      "F1 micro on test set:  0.5652173913043478\n",
      "F1 macro on test set:  0.14444444444444443\n",
      "Confusion Matrix: \n",
      "[[  0   0  44   0   0]\n",
      " [  0   0  80   0   0]\n",
      " [  0   0 234   0   0]\n",
      " [  0   0  41   0   0]\n",
      " [  0   0  15   0   0]]\n",
      "Classification Metrics: \n",
      "              precision    recall  f1-score   support\n",
      "\n",
      "          -2       0.00      0.00      0.00        44\n",
      "          -1       0.00      0.00      0.00        80\n",
      "           0       0.57      1.00      0.72       234\n",
      "           1       0.00      0.00      0.00        41\n",
      "           2       0.00      0.00      0.00        15\n",
      "\n",
      "   micro avg       0.57      0.57      0.57       414\n",
      "   macro avg       0.11      0.20      0.14       414\n",
      "weighted avg       0.32      0.57      0.41       414\n",
      "\n",
      "Accuracy (f1 micro) on test set:  0.5652173913043478\n",
      "F1 micro on test set:  0.5652173913043478\n",
      "F1 macro on test set:  0.14444444444444443\n",
      "Confusion Matrix: \n",
      "[[  0   0  44   0   0]\n",
      " [  0   0  80   0   0]\n",
      " [  0   0 234   0   0]\n",
      " [  0   0  41   0   0]\n",
      " [  0   0  15   0   0]]\n",
      "Classification Metrics: \n",
      "              precision    recall  f1-score   support\n",
      "\n",
      "          -2       0.00      0.00      0.00        44\n",
      "          -1       0.00      0.00      0.00        80\n",
      "           0       0.57      1.00      0.72       234\n",
      "           1       0.00      0.00      0.00        41\n",
      "           2       0.00      0.00      0.00        15\n",
      "\n",
      "   micro avg       0.57      0.57      0.57       414\n",
      "   macro avg       0.11      0.20      0.14       414\n",
      "weighted avg       0.32      0.57      0.41       414\n",
      "\n",
      "0.6666666666666666\n",
      "0.5652173913043478\n",
      "0.5652173913043478\n"
     ]
    },
    {
     "name": "stderr",
     "output_type": "stream",
     "text": [
      "/home/matias/anaconda3/envs/tGAN/lib/python3.7/site-packages/sklearn/metrics/classification.py:1143: UndefinedMetricWarning: F-score is ill-defined and being set to 0.0 in labels with no predicted samples.\n",
      "  'precision', 'predicted', average, warn_for)\n",
      "/home/matias/anaconda3/envs/tGAN/lib/python3.7/site-packages/sklearn/metrics/classification.py:1143: UndefinedMetricWarning: Precision and F-score are ill-defined and being set to 0.0 in labels with no predicted samples.\n",
      "  'precision', 'predicted', average, warn_for)\n",
      "/home/matias/anaconda3/envs/tGAN/lib/python3.7/site-packages/sklearn/metrics/classification.py:1143: UndefinedMetricWarning: Precision and F-score are ill-defined and being set to 0.0 in labels with no predicted samples.\n",
      "  'precision', 'predicted', average, warn_for)\n",
      "/home/matias/anaconda3/envs/tGAN/lib/python3.7/site-packages/sklearn/metrics/classification.py:1143: UndefinedMetricWarning: Precision and F-score are ill-defined and being set to 0.0 in labels with no predicted samples.\n",
      "  'precision', 'predicted', average, warn_for)\n",
      "/home/matias/anaconda3/envs/tGAN/lib/python3.7/site-packages/sklearn/metrics/classification.py:1143: UndefinedMetricWarning: F-score is ill-defined and being set to 0.0 in labels with no predicted samples.\n",
      "  'precision', 'predicted', average, warn_for)\n",
      "/home/matias/anaconda3/envs/tGAN/lib/python3.7/site-packages/sklearn/metrics/classification.py:1143: UndefinedMetricWarning: Precision and F-score are ill-defined and being set to 0.0 in labels with no predicted samples.\n",
      "  'precision', 'predicted', average, warn_for)\n",
      "/home/matias/anaconda3/envs/tGAN/lib/python3.7/site-packages/sklearn/metrics/classification.py:1143: UndefinedMetricWarning: Precision and F-score are ill-defined and being set to 0.0 in labels with no predicted samples.\n",
      "  'precision', 'predicted', average, warn_for)\n",
      "/home/matias/anaconda3/envs/tGAN/lib/python3.7/site-packages/sklearn/metrics/classification.py:1143: UndefinedMetricWarning: Precision and F-score are ill-defined and being set to 0.0 in labels with no predicted samples.\n",
      "  'precision', 'predicted', average, warn_for)\n"
     ]
    }
   ],
   "source": [
    "# load best models NB and KNN\n",
    "acc_nb_1_train, nb_optimal_1 = buildTrainNB(df_feature1_train, test_size_percentage=test_size_percentage)\n",
    "acc_knn_1_train, knn_optimal_1 = buildTrainKNN(df_feature1_train,test_size_percentage=test_size_percentage)\n",
    "acc_svm_1_train, svm_optimal_1 = buildTrainSVM(df_feature1_train, test_size_percentage=test_size_percentage)\n",
    "\n",
    "# using the optimal model. re-train in whole train split and test in unseen test split\n",
    "acc_holistic_knn_1, _ = trainTest_tunedModel(df_feature1_test, knn_optimal_1)\n",
    "acc_holistic_nb_1, _ = trainTest_tunedModel(df_feature1_test, nb_optimal_1)\n",
    "acc_holistic_svm_1, _= trainTest_tunedModel(df_feature1_test, svm_optimal_1)\n",
    "\n",
    "print(acc_holistic_knn_1)\n",
    "print(acc_holistic_nb_1)\n",
    "print(acc_holistic_svm_1)\n"
   ]
  },
  {
   "cell_type": "markdown",
   "metadata": {},
   "source": [
    "# tGAN "
   ]
  },
  {
   "cell_type": "code",
   "execution_count": 9,
   "metadata": {
    "ExecuteTime": {
     "end_time": "2019-08-11T02:37:57.384705Z",
     "start_time": "2019-08-11T02:37:57.268705Z"
    }
   },
   "outputs": [
    {
     "name": "stderr",
     "output_type": "stream",
     "text": [
      "WARNING: Logging before flag parsing goes to stderr.\n",
      "W0811 10:37:57.360398 139778422806336 module_wrapper.py:136] From /home/matias/anaconda3/envs/tGAN/lib/python3.7/site-packages/tensorflow_core/python/util/module_wrapper.py:163: The name tf.train.SessionRunHook is deprecated. Please use tf.estimator.SessionRunHook instead.\n",
      "\n"
     ]
    }
   ],
   "source": [
    "from tgan.model import TGANModel\n",
    "# continuous_columns, that will contain a list with the indices of continuous columns.\n",
    "# df_feature1_train.to_csv(\"../data/df_feature1_train.csv\", index=False)\n",
    "# print(df_feature1_train)\n",
    "continuous_columns = [0, 1, 2, 3, 4, 5, 7, 8]\n"
   ]
  },
  {
   "cell_type": "code",
   "execution_count": 10,
   "metadata": {
    "ExecuteTime": {
     "end_time": "2019-08-11T02:37:57.390456Z",
     "start_time": "2019-08-11T02:37:57.386109Z"
    }
   },
   "outputs": [
    {
     "data": {
      "text/plain": [
       "'best architecture based on TGAN architecture search\\n{\\n\"batch_size\": 100, \\n\"z_dim\": 100, \\n\"num_gen_rnn\": 400, \\n\"num_gen_feature\": 100, \\n\"num_dis_layers\": 5, \\n\"num_dis_hidden\": 200, \\n\"learning_rate\": 0.0002, \\n\"noise\": 0.1, \\n\"max_epoch\": 5, \\n\"steps_per_epoch\": 1000, \\n\"score\": 0.5043731778425656\\n}\\n'"
      ]
     },
     "execution_count": 10,
     "metadata": {},
     "output_type": "execute_result"
    }
   ],
   "source": [
    "\"\"\"best architecture based on TGAN architecture search\n",
    "{\n",
    "\"batch_size\": 100, \n",
    "\"z_dim\": 100, \n",
    "\"num_gen_rnn\": 400, \n",
    "\"num_gen_feature\": 100, \n",
    "\"num_dis_layers\": 5, \n",
    "\"num_dis_hidden\": 200, \n",
    "\"learning_rate\": 0.0002, \n",
    "\"noise\": 0.1, \n",
    "\"max_epoch\": 5, \n",
    "\"steps_per_epoch\": 1000, \n",
    "\"score\": 0.5043731778425656\n",
    "}\n",
    "\"\"\""
   ]
  },
  {
   "cell_type": "code",
   "execution_count": 11,
   "metadata": {
    "ExecuteTime": {
     "end_time": "2019-08-11T03:12:43.854894Z",
     "start_time": "2019-08-11T02:37:57.391902Z"
    },
    "scrolled": true
   },
   "outputs": [
    {
     "name": "stderr",
     "output_type": "stream",
     "text": [
      "W0811 10:37:57.511141 139778422806336 module_wrapper.py:136] From /home/matias/anaconda3/envs/tGAN/lib/python3.7/site-packages/tensorflow_core/python/util/module_wrapper.py:163: The name tf.get_default_graph is deprecated. Please use tf.compat.v1.get_default_graph instead.\n",
      "\n"
     ]
    },
    {
     "name": "stdout",
     "output_type": "stream",
     "text": [
      "\u001b[32m[0811 10:37:57 @input_source.py:222]\u001b[0m Setting up the queue 'QueueInput/input_queue' for CPU prefetching ...\n"
     ]
    },
    {
     "name": "stderr",
     "output_type": "stream",
     "text": [
      "W0811 10:37:57.543535 139778422806336 module_wrapper.py:136] From /home/matias/anaconda3/envs/tGAN/lib/python3.7/site-packages/tensorflow_core/python/util/module_wrapper.py:163: The name tf.summary.scalar is deprecated. Please use tf.compat.v1.summary.scalar instead.\n",
      "\n",
      "W0811 10:37:57.550619 139778422806336 deprecation.py:323] From /home/matias/anaconda3/envs/tGAN/lib/python3.7/site-packages/tgan/model.py:259: LSTMCell.__init__ (from tensorflow.python.ops.rnn_cell_impl) is deprecated and will be removed in a future version.\n",
      "Instructions for updating:\n",
      "This class is equivalent as tf.keras.layers.LSTMCell, and will be replaced by that in Tensorflow 2.0.\n",
      "W0811 10:37:57.572559 139778422806336 deprecation.py:323] From /home/matias/anaconda3/envs/tGAN/lib/python3.7/site-packages/tensorflow_core/python/ops/rnn_cell_impl.py:957: Layer.add_variable (from tensorflow.python.keras.engine.base_layer) is deprecated and will be removed in a future version.\n",
      "Instructions for updating:\n",
      "Please use `layer.add_weight` method instead.\n",
      "W0811 10:37:57.580392 139778422806336 deprecation.py:506] From /home/matias/anaconda3/envs/tGAN/lib/python3.7/site-packages/tensorflow_core/python/ops/rnn_cell_impl.py:961: calling Zeros.__init__ (from tensorflow.python.ops.init_ops) with dtype is deprecated and will be removed in a future version.\n",
      "Instructions for updating:\n",
      "Call initializer instance with the dtype argument instead of passing it to the constructor\n"
     ]
    },
    {
     "name": "stdout",
     "output_type": "stream",
     "text": [
      "\u001b[32m[0811 10:37:57 @registry.py:126]\u001b[0m gen/LSTM/00/FC input: [100, 400]\n"
     ]
    },
    {
     "name": "stderr",
     "output_type": "stream",
     "text": [
      "W0811 10:37:57.597186 139778422806336 module_wrapper.py:136] From /home/matias/anaconda3/envs/tGAN/lib/python3.7/site-packages/tensorflow_core/python/util/module_wrapper.py:163: The name tf.layers.Dense is deprecated. Please use tf.compat.v1.layers.Dense instead.\n",
      "\n",
      "W0811 10:37:57.597885 139778422806336 deprecation.py:323] From /home/matias/anaconda3/envs/tGAN/lib/python3.7/site-packages/tensorpack/models/fc.py:67: Layer.apply (from tensorflow.python.keras.engine.base_layer) is deprecated and will be removed in a future version.\n",
      "Instructions for updating:\n",
      "Please use `layer.__call__` method instead.\n"
     ]
    },
    {
     "name": "stdout",
     "output_type": "stream",
     "text": [
      "\u001b[32m[0811 10:37:57 @registry.py:134]\u001b[0m gen/LSTM/00/FC output: [100, 100]\n",
      "\u001b[32m[0811 10:37:57 @registry.py:126]\u001b[0m gen/LSTM/00/FC2 input: [100, 100]\n",
      "\u001b[32m[0811 10:37:57 @registry.py:134]\u001b[0m gen/LSTM/00/FC2 output: [100, 1]\n",
      "\u001b[32m[0811 10:37:57 @registry.py:126]\u001b[0m gen/LSTM/01/FC input: [100, 400]\n",
      "\u001b[32m[0811 10:37:57 @registry.py:134]\u001b[0m gen/LSTM/01/FC output: [100, 100]\n",
      "\u001b[32m[0811 10:37:57 @registry.py:126]\u001b[0m gen/LSTM/01/FC2 input: [100, 100]\n",
      "\u001b[32m[0811 10:37:57 @registry.py:134]\u001b[0m gen/LSTM/01/FC2 output: [100, 5]\n",
      "\u001b[32m[0811 10:37:57 @registry.py:126]\u001b[0m gen/LSTM/01/FC3 input: [100, 5]\n",
      "\u001b[32m[0811 10:37:57 @registry.py:134]\u001b[0m gen/LSTM/01/FC3 output: [100, 100]\n",
      "\u001b[32m[0811 10:37:57 @registry.py:126]\u001b[0m gen/LSTM/02/FC input: [100, 400]\n",
      "\u001b[32m[0811 10:37:57 @registry.py:134]\u001b[0m gen/LSTM/02/FC output: [100, 100]\n",
      "\u001b[32m[0811 10:37:57 @registry.py:126]\u001b[0m gen/LSTM/02/FC2 input: [100, 100]\n",
      "\u001b[32m[0811 10:37:57 @registry.py:134]\u001b[0m gen/LSTM/02/FC2 output: [100, 1]\n",
      "\u001b[32m[0811 10:37:57 @registry.py:126]\u001b[0m gen/LSTM/03/FC input: [100, 400]\n",
      "\u001b[32m[0811 10:37:57 @registry.py:134]\u001b[0m gen/LSTM/03/FC output: [100, 100]\n",
      "\u001b[32m[0811 10:37:57 @registry.py:126]\u001b[0m gen/LSTM/03/FC2 input: [100, 100]\n",
      "\u001b[32m[0811 10:37:57 @registry.py:134]\u001b[0m gen/LSTM/03/FC2 output: [100, 5]\n",
      "\u001b[32m[0811 10:37:57 @registry.py:126]\u001b[0m gen/LSTM/03/FC3 input: [100, 5]\n",
      "\u001b[32m[0811 10:37:57 @registry.py:134]\u001b[0m gen/LSTM/03/FC3 output: [100, 100]\n",
      "\u001b[32m[0811 10:37:57 @registry.py:126]\u001b[0m gen/LSTM/04/FC input: [100, 400]\n",
      "\u001b[32m[0811 10:37:57 @registry.py:134]\u001b[0m gen/LSTM/04/FC output: [100, 100]\n",
      "\u001b[32m[0811 10:37:57 @registry.py:126]\u001b[0m gen/LSTM/04/FC2 input: [100, 100]\n",
      "\u001b[32m[0811 10:37:57 @registry.py:134]\u001b[0m gen/LSTM/04/FC2 output: [100, 1]\n",
      "\u001b[32m[0811 10:37:57 @registry.py:126]\u001b[0m gen/LSTM/05/FC input: [100, 400]\n",
      "\u001b[32m[0811 10:37:57 @registry.py:134]\u001b[0m gen/LSTM/05/FC output: [100, 100]\n",
      "\u001b[32m[0811 10:37:57 @registry.py:126]\u001b[0m gen/LSTM/05/FC2 input: [100, 100]\n",
      "\u001b[32m[0811 10:37:57 @registry.py:134]\u001b[0m gen/LSTM/05/FC2 output: [100, 5]\n",
      "\u001b[32m[0811 10:37:57 @registry.py:126]\u001b[0m gen/LSTM/05/FC3 input: [100, 5]\n",
      "\u001b[32m[0811 10:37:57 @registry.py:134]\u001b[0m gen/LSTM/05/FC3 output: [100, 100]\n",
      "\u001b[32m[0811 10:37:58 @registry.py:126]\u001b[0m gen/LSTM/06/FC input: [100, 400]\n",
      "\u001b[32m[0811 10:37:58 @registry.py:134]\u001b[0m gen/LSTM/06/FC output: [100, 100]\n",
      "\u001b[32m[0811 10:37:58 @registry.py:126]\u001b[0m gen/LSTM/06/FC2 input: [100, 100]\n",
      "\u001b[32m[0811 10:37:58 @registry.py:134]\u001b[0m gen/LSTM/06/FC2 output: [100, 1]\n",
      "\u001b[32m[0811 10:37:58 @registry.py:126]\u001b[0m gen/LSTM/07/FC input: [100, 400]\n",
      "\u001b[32m[0811 10:37:58 @registry.py:134]\u001b[0m gen/LSTM/07/FC output: [100, 100]\n",
      "\u001b[32m[0811 10:37:58 @registry.py:126]\u001b[0m gen/LSTM/07/FC2 input: [100, 100]\n",
      "\u001b[32m[0811 10:37:58 @registry.py:134]\u001b[0m gen/LSTM/07/FC2 output: [100, 5]\n",
      "\u001b[32m[0811 10:37:58 @registry.py:126]\u001b[0m gen/LSTM/07/FC3 input: [100, 5]\n",
      "\u001b[32m[0811 10:37:58 @registry.py:134]\u001b[0m gen/LSTM/07/FC3 output: [100, 100]\n",
      "\u001b[32m[0811 10:37:58 @registry.py:126]\u001b[0m gen/LSTM/08/FC input: [100, 400]\n",
      "\u001b[32m[0811 10:37:58 @registry.py:134]\u001b[0m gen/LSTM/08/FC output: [100, 100]\n",
      "\u001b[32m[0811 10:37:58 @registry.py:126]\u001b[0m gen/LSTM/08/FC2 input: [100, 100]\n",
      "\u001b[32m[0811 10:37:58 @registry.py:134]\u001b[0m gen/LSTM/08/FC2 output: [100, 1]\n",
      "\u001b[32m[0811 10:37:58 @registry.py:126]\u001b[0m gen/LSTM/09/FC input: [100, 400]\n",
      "\u001b[32m[0811 10:37:58 @registry.py:134]\u001b[0m gen/LSTM/09/FC output: [100, 100]\n",
      "\u001b[32m[0811 10:37:58 @registry.py:126]\u001b[0m gen/LSTM/09/FC2 input: [100, 100]\n",
      "\u001b[32m[0811 10:37:58 @registry.py:134]\u001b[0m gen/LSTM/09/FC2 output: [100, 5]\n",
      "\u001b[32m[0811 10:37:58 @registry.py:126]\u001b[0m gen/LSTM/09/FC3 input: [100, 5]\n",
      "\u001b[32m[0811 10:37:58 @registry.py:134]\u001b[0m gen/LSTM/09/FC3 output: [100, 100]\n",
      "\u001b[32m[0811 10:37:58 @registry.py:126]\u001b[0m gen/LSTM/10/FC input: [100, 400]\n",
      "\u001b[32m[0811 10:37:58 @registry.py:134]\u001b[0m gen/LSTM/10/FC output: [100, 100]\n",
      "\u001b[32m[0811 10:37:58 @registry.py:126]\u001b[0m gen/LSTM/10/FC2 input: [100, 100]\n",
      "\u001b[32m[0811 10:37:58 @registry.py:134]\u001b[0m gen/LSTM/10/FC2 output: [100, 1]\n",
      "\u001b[32m[0811 10:37:58 @registry.py:126]\u001b[0m gen/LSTM/11/FC input: [100, 400]\n",
      "\u001b[32m[0811 10:37:58 @registry.py:134]\u001b[0m gen/LSTM/11/FC output: [100, 100]\n",
      "\u001b[32m[0811 10:37:58 @registry.py:126]\u001b[0m gen/LSTM/11/FC2 input: [100, 100]\n",
      "\u001b[32m[0811 10:37:58 @registry.py:134]\u001b[0m gen/LSTM/11/FC2 output: [100, 5]\n",
      "\u001b[32m[0811 10:37:58 @registry.py:126]\u001b[0m gen/LSTM/11/FC3 input: [100, 5]\n",
      "\u001b[32m[0811 10:37:58 @registry.py:134]\u001b[0m gen/LSTM/11/FC3 output: [100, 100]\n",
      "\u001b[32m[0811 10:37:58 @registry.py:126]\u001b[0m gen/LSTM/12/FC input: [100, 400]\n",
      "\u001b[32m[0811 10:37:58 @registry.py:134]\u001b[0m gen/LSTM/12/FC output: [100, 100]\n",
      "\u001b[32m[0811 10:37:58 @registry.py:126]\u001b[0m gen/LSTM/12/FC2 input: [100, 100]\n",
      "\u001b[32m[0811 10:37:58 @registry.py:134]\u001b[0m gen/LSTM/12/FC2 output: [100, 2]\n",
      "\u001b[32m[0811 10:37:58 @registry.py:126]\u001b[0m gen/LSTM/12/FC3 input: [100, 2]\n",
      "\u001b[32m[0811 10:37:58 @registry.py:134]\u001b[0m gen/LSTM/12/FC3 output: [100, 100]\n",
      "\u001b[32m[0811 10:37:58 @registry.py:126]\u001b[0m gen/LSTM/13/FC input: [100, 400]\n",
      "\u001b[32m[0811 10:37:58 @registry.py:134]\u001b[0m gen/LSTM/13/FC output: [100, 100]\n",
      "\u001b[32m[0811 10:37:58 @registry.py:126]\u001b[0m gen/LSTM/13/FC2 input: [100, 100]\n",
      "\u001b[32m[0811 10:37:58 @registry.py:134]\u001b[0m gen/LSTM/13/FC2 output: [100, 1]\n",
      "\u001b[32m[0811 10:37:58 @registry.py:126]\u001b[0m gen/LSTM/14/FC input: [100, 400]\n",
      "\u001b[32m[0811 10:37:58 @registry.py:134]\u001b[0m gen/LSTM/14/FC output: [100, 100]\n",
      "\u001b[32m[0811 10:37:58 @registry.py:126]\u001b[0m gen/LSTM/14/FC2 input: [100, 100]\n",
      "\u001b[32m[0811 10:37:58 @registry.py:134]\u001b[0m gen/LSTM/14/FC2 output: [100, 5]\n",
      "\u001b[32m[0811 10:37:58 @registry.py:126]\u001b[0m gen/LSTM/14/FC3 input: [100, 5]\n",
      "\u001b[32m[0811 10:37:58 @registry.py:134]\u001b[0m gen/LSTM/14/FC3 output: [100, 100]\n",
      "\u001b[32m[0811 10:37:58 @registry.py:126]\u001b[0m gen/LSTM/15/FC input: [100, 400]\n",
      "\u001b[32m[0811 10:37:58 @registry.py:134]\u001b[0m gen/LSTM/15/FC output: [100, 100]\n",
      "\u001b[32m[0811 10:37:58 @registry.py:126]\u001b[0m gen/LSTM/15/FC2 input: [100, 100]\n",
      "\u001b[32m[0811 10:37:58 @registry.py:134]\u001b[0m gen/LSTM/15/FC2 output: [100, 1]\n",
      "\u001b[32m[0811 10:37:58 @registry.py:126]\u001b[0m gen/LSTM/16/FC input: [100, 400]\n",
      "\u001b[32m[0811 10:37:58 @registry.py:134]\u001b[0m gen/LSTM/16/FC output: [100, 100]\n",
      "\u001b[32m[0811 10:37:58 @registry.py:126]\u001b[0m gen/LSTM/16/FC2 input: [100, 100]\n",
      "\u001b[32m[0811 10:37:58 @registry.py:134]\u001b[0m gen/LSTM/16/FC2 output: [100, 5]\n",
      "\u001b[32m[0811 10:37:58 @registry.py:126]\u001b[0m gen/LSTM/16/FC3 input: [100, 5]\n",
      "\u001b[32m[0811 10:37:58 @registry.py:134]\u001b[0m gen/LSTM/16/FC3 output: [100, 100]\n",
      "\u001b[32m[0811 10:37:58 @registry.py:126]\u001b[0m gen/LSTM/17/FC input: [100, 400]\n",
      "\u001b[32m[0811 10:37:58 @registry.py:134]\u001b[0m gen/LSTM/17/FC output: [100, 100]\n",
      "\u001b[32m[0811 10:37:58 @registry.py:126]\u001b[0m gen/LSTM/17/FC2 input: [100, 100]\n",
      "\u001b[32m[0811 10:37:58 @registry.py:134]\u001b[0m gen/LSTM/17/FC2 output: [100, 5]\n",
      "\u001b[32m[0811 10:37:58 @registry.py:126]\u001b[0m gen/LSTM/17/FC3 input: [100, 5]\n",
      "\u001b[32m[0811 10:37:58 @registry.py:134]\u001b[0m gen/LSTM/17/FC3 output: [100, 100]\n",
      "\u001b[32m[0811 10:37:59 @registry.py:126]\u001b[0m discrim/dis_fc0/fc input: [100, 55]\n",
      "\u001b[32m[0811 10:37:59 @registry.py:134]\u001b[0m discrim/dis_fc0/fc output: [100, 200]\n",
      "\u001b[32m[0811 10:37:59 @registry.py:126]\u001b[0m discrim/dis_fc0/fc_diversity input: [100, 200]\n",
      "\u001b[32m[0811 10:37:59 @registry.py:134]\u001b[0m discrim/dis_fc0/fc_diversity output: [100, 100]\n",
      "\u001b[32m[0811 10:37:59 @registry.py:126]\u001b[0m discrim/dis_fc1/fc input: [100, 210]\n",
      "\u001b[32m[0811 10:37:59 @registry.py:134]\u001b[0m discrim/dis_fc1/fc output: [100, 200]\n",
      "\u001b[32m[0811 10:37:59 @registry.py:126]\u001b[0m discrim/dis_fc1/fc_diversity input: [100, 200]\n",
      "\u001b[32m[0811 10:37:59 @registry.py:134]\u001b[0m discrim/dis_fc1/fc_diversity output: [100, 100]\n",
      "\u001b[32m[0811 10:37:59 @registry.py:126]\u001b[0m discrim/dis_fc2/fc input: [100, 210]\n",
      "\u001b[32m[0811 10:37:59 @registry.py:134]\u001b[0m discrim/dis_fc2/fc output: [100, 200]\n",
      "\u001b[32m[0811 10:37:59 @registry.py:126]\u001b[0m discrim/dis_fc2/fc_diversity input: [100, 200]\n",
      "\u001b[32m[0811 10:37:59 @registry.py:134]\u001b[0m discrim/dis_fc2/fc_diversity output: [100, 100]\n",
      "\u001b[32m[0811 10:37:59 @registry.py:126]\u001b[0m discrim/dis_fc3/fc input: [100, 210]\n",
      "\u001b[32m[0811 10:37:59 @registry.py:134]\u001b[0m discrim/dis_fc3/fc output: [100, 200]\n",
      "\u001b[32m[0811 10:37:59 @registry.py:126]\u001b[0m discrim/dis_fc3/fc_diversity input: [100, 200]\n",
      "\u001b[32m[0811 10:37:59 @registry.py:134]\u001b[0m discrim/dis_fc3/fc_diversity output: [100, 100]\n"
     ]
    },
    {
     "name": "stdout",
     "output_type": "stream",
     "text": [
      "\u001b[32m[0811 10:37:59 @registry.py:126]\u001b[0m discrim/dis_fc4/fc input: [100, 210]\n",
      "\u001b[32m[0811 10:37:59 @registry.py:134]\u001b[0m discrim/dis_fc4/fc output: [100, 200]\n",
      "\u001b[32m[0811 10:37:59 @registry.py:126]\u001b[0m discrim/dis_fc4/fc_diversity input: [100, 200]\n",
      "\u001b[32m[0811 10:37:59 @registry.py:134]\u001b[0m discrim/dis_fc4/fc_diversity output: [100, 100]\n",
      "\u001b[32m[0811 10:37:59 @registry.py:126]\u001b[0m discrim/dis_fc_top input: [100, 210]\n",
      "\u001b[32m[0811 10:37:59 @registry.py:134]\u001b[0m discrim/dis_fc_top output: [100, 1]\n"
     ]
    },
    {
     "name": "stderr",
     "output_type": "stream",
     "text": [
      "W0811 10:37:59.719285 139778422806336 deprecation.py:323] From /home/matias/anaconda3/envs/tGAN/lib/python3.7/site-packages/tensorflow_core/python/ops/nn_impl.py:183: where (from tensorflow.python.ops.array_ops) is deprecated and will be removed in a future version.\n",
      "Instructions for updating:\n",
      "Use tf.where in 2.0, which has the same broadcast rule as np.where\n",
      "W0811 10:37:59.740694 139778422806336 lazy_loader.py:50] \n",
      "The TensorFlow contrib module will not be included in TensorFlow 2.0.\n",
      "For more information, please see:\n",
      "  * https://github.com/tensorflow/community/blob/master/rfcs/20180907-contrib-sunset.md\n",
      "  * https://github.com/tensorflow/addons\n",
      "  * https://github.com/tensorflow/io (for I/O related ops)\n",
      "If you depend on functionality not listed there, please file an issue.\n",
      "\n"
     ]
    },
    {
     "name": "stdout",
     "output_type": "stream",
     "text": [
      "\u001b[32m[0811 10:38:06 @logger.py:90]\u001b[0m Argv: /home/matias/anaconda3/envs/tGAN/lib/python3.7/site-packages/ipykernel_launcher.py -f /run/user/1000/jupyter/kernel-cf0327a3-c69f-4ffd-bf91-0d4982bee916.json\n"
     ]
    },
    {
     "name": "stderr",
     "output_type": "stream",
     "text": [
      "W0811 10:38:06.255463 139778422806336 module_wrapper.py:136] From /home/matias/anaconda3/envs/tGAN/lib/python3.7/site-packages/tensorflow_core/python/util/module_wrapper.py:163: The name tf.gfile.IsDirectory is deprecated. Please use tf.io.gfile.isdir instead.\n",
      "\n"
     ]
    },
    {
     "name": "stdout",
     "output_type": "stream",
     "text": [
      "\u001b[32m[0811 10:38:06 @model_utils.py:67]\u001b[0m \u001b[36mList of Trainable Variables: \n",
      "\u001b[0mname                              shape           #elements\n",
      "--------------------------------  ------------  -----------\n",
      "gen/LSTM/go:0                     [1, 100]              100\n",
      "gen/LSTM/lstm_cell/kernel:0       [1000, 1600]      1600000\n",
      "gen/LSTM/lstm_cell/bias:0         [1600]               1600\n",
      "gen/LSTM/00/FC/W:0                [400, 100]          40000\n",
      "gen/LSTM/00/FC/b:0                [100]                 100\n",
      "gen/LSTM/00/FC2/W:0               [100, 1]              100\n",
      "gen/LSTM/00/FC2/b:0               [1]                     1\n",
      "gen/LSTM/00/attw:0                [1, 1, 1]               1\n",
      "gen/LSTM/01/FC/W:0                [400, 100]          40000\n",
      "gen/LSTM/01/FC/b:0                [100]                 100\n",
      "gen/LSTM/01/FC2/W:0               [100, 5]              500\n",
      "gen/LSTM/01/FC2/b:0               [5]                     5\n",
      "gen/LSTM/01/FC3/W:0               [5, 100]              500\n",
      "gen/LSTM/01/FC3/b:0               [100]                 100\n",
      "gen/LSTM/01/attw:0                [2, 1, 1]               2\n",
      "gen/LSTM/02/FC/W:0                [400, 100]          40000\n",
      "gen/LSTM/02/FC/b:0                [100]                 100\n",
      "gen/LSTM/02/FC2/W:0               [100, 1]              100\n",
      "gen/LSTM/02/FC2/b:0               [1]                     1\n",
      "gen/LSTM/02/attw:0                [3, 1, 1]               3\n",
      "gen/LSTM/03/FC/W:0                [400, 100]          40000\n",
      "gen/LSTM/03/FC/b:0                [100]                 100\n",
      "gen/LSTM/03/FC2/W:0               [100, 5]              500\n",
      "gen/LSTM/03/FC2/b:0               [5]                     5\n",
      "gen/LSTM/03/FC3/W:0               [5, 100]              500\n",
      "gen/LSTM/03/FC3/b:0               [100]                 100\n",
      "gen/LSTM/03/attw:0                [4, 1, 1]               4\n",
      "gen/LSTM/04/FC/W:0                [400, 100]          40000\n",
      "gen/LSTM/04/FC/b:0                [100]                 100\n",
      "gen/LSTM/04/FC2/W:0               [100, 1]              100\n",
      "gen/LSTM/04/FC2/b:0               [1]                     1\n",
      "gen/LSTM/04/attw:0                [5, 1, 1]               5\n",
      "gen/LSTM/05/FC/W:0                [400, 100]          40000\n",
      "gen/LSTM/05/FC/b:0                [100]                 100\n",
      "gen/LSTM/05/FC2/W:0               [100, 5]              500\n",
      "gen/LSTM/05/FC2/b:0               [5]                     5\n",
      "gen/LSTM/05/FC3/W:0               [5, 100]              500\n",
      "gen/LSTM/05/FC3/b:0               [100]                 100\n",
      "gen/LSTM/05/attw:0                [6, 1, 1]               6\n",
      "gen/LSTM/06/FC/W:0                [400, 100]          40000\n",
      "gen/LSTM/06/FC/b:0                [100]                 100\n",
      "gen/LSTM/06/FC2/W:0               [100, 1]              100\n",
      "gen/LSTM/06/FC2/b:0               [1]                     1\n",
      "gen/LSTM/06/attw:0                [7, 1, 1]               7\n",
      "gen/LSTM/07/FC/W:0                [400, 100]          40000\n",
      "gen/LSTM/07/FC/b:0                [100]                 100\n",
      "gen/LSTM/07/FC2/W:0               [100, 5]              500\n",
      "gen/LSTM/07/FC2/b:0               [5]                     5\n",
      "gen/LSTM/07/FC3/W:0               [5, 100]              500\n",
      "gen/LSTM/07/FC3/b:0               [100]                 100\n",
      "gen/LSTM/07/attw:0                [8, 1, 1]               8\n",
      "gen/LSTM/08/FC/W:0                [400, 100]          40000\n",
      "gen/LSTM/08/FC/b:0                [100]                 100\n",
      "gen/LSTM/08/FC2/W:0               [100, 1]              100\n",
      "gen/LSTM/08/FC2/b:0               [1]                     1\n",
      "gen/LSTM/08/attw:0                [9, 1, 1]               9\n",
      "gen/LSTM/09/FC/W:0                [400, 100]          40000\n",
      "gen/LSTM/09/FC/b:0                [100]                 100\n",
      "gen/LSTM/09/FC2/W:0               [100, 5]              500\n",
      "gen/LSTM/09/FC2/b:0               [5]                     5\n",
      "gen/LSTM/09/FC3/W:0               [5, 100]              500\n",
      "gen/LSTM/09/FC3/b:0               [100]                 100\n",
      "gen/LSTM/09/attw:0                [10, 1, 1]             10\n",
      "gen/LSTM/10/FC/W:0                [400, 100]          40000\n",
      "gen/LSTM/10/FC/b:0                [100]                 100\n",
      "gen/LSTM/10/FC2/W:0               [100, 1]              100\n",
      "gen/LSTM/10/FC2/b:0               [1]                     1\n",
      "gen/LSTM/10/attw:0                [11, 1, 1]             11\n",
      "gen/LSTM/11/FC/W:0                [400, 100]          40000\n",
      "gen/LSTM/11/FC/b:0                [100]                 100\n",
      "gen/LSTM/11/FC2/W:0               [100, 5]              500\n",
      "gen/LSTM/11/FC2/b:0               [5]                     5\n",
      "gen/LSTM/11/FC3/W:0               [5, 100]              500\n",
      "gen/LSTM/11/FC3/b:0               [100]                 100\n",
      "gen/LSTM/11/attw:0                [12, 1, 1]             12\n",
      "gen/LSTM/12/FC/W:0                [400, 100]          40000\n",
      "gen/LSTM/12/FC/b:0                [100]                 100\n",
      "gen/LSTM/12/FC2/W:0               [100, 2]              200\n",
      "gen/LSTM/12/FC2/b:0               [2]                     2\n",
      "gen/LSTM/12/FC3/W:0               [2, 100]              200\n",
      "gen/LSTM/12/FC3/b:0               [100]                 100\n",
      "gen/LSTM/12/attw:0                [13, 1, 1]             13\n",
      "gen/LSTM/13/FC/W:0                [400, 100]          40000\n",
      "gen/LSTM/13/FC/b:0                [100]                 100\n",
      "gen/LSTM/13/FC2/W:0               [100, 1]              100\n",
      "gen/LSTM/13/FC2/b:0               [1]                     1\n",
      "gen/LSTM/13/attw:0                [14, 1, 1]             14\n",
      "gen/LSTM/14/FC/W:0                [400, 100]          40000\n",
      "gen/LSTM/14/FC/b:0                [100]                 100\n",
      "gen/LSTM/14/FC2/W:0               [100, 5]              500\n",
      "gen/LSTM/14/FC2/b:0               [5]                     5\n",
      "gen/LSTM/14/FC3/W:0               [5, 100]              500\n",
      "gen/LSTM/14/FC3/b:0               [100]                 100\n",
      "gen/LSTM/14/attw:0                [15, 1, 1]             15\n",
      "gen/LSTM/15/FC/W:0                [400, 100]          40000\n",
      "gen/LSTM/15/FC/b:0                [100]                 100\n",
      "gen/LSTM/15/FC2/W:0               [100, 1]              100\n",
      "gen/LSTM/15/FC2/b:0               [1]                     1\n",
      "gen/LSTM/15/attw:0                [16, 1, 1]             16\n",
      "gen/LSTM/16/FC/W:0                [400, 100]          40000\n",
      "gen/LSTM/16/FC/b:0                [100]                 100\n",
      "gen/LSTM/16/FC2/W:0               [100, 5]              500\n",
      "gen/LSTM/16/FC2/b:0               [5]                     5\n",
      "gen/LSTM/16/FC3/W:0               [5, 100]              500\n",
      "gen/LSTM/16/FC3/b:0               [100]                 100\n",
      "gen/LSTM/16/attw:0                [17, 1, 1]             17\n",
      "gen/LSTM/17/FC/W:0                [400, 100]          40000\n",
      "gen/LSTM/17/FC/b:0                [100]                 100\n",
      "gen/LSTM/17/FC2/W:0               [100, 5]              500\n",
      "gen/LSTM/17/FC2/b:0               [5]                     5\n",
      "gen/LSTM/17/FC3/W:0               [5, 100]              500\n",
      "gen/LSTM/17/FC3/b:0               [100]                 100\n",
      "gen/LSTM/17/attw:0                [18, 1, 1]             18\n",
      "discrim/dis_fc0/fc/W:0            [55, 200]           11000\n",
      "discrim/dis_fc0/fc/b:0            [200]                 200\n",
      "discrim/dis_fc0/fc_diversity/W:0  [200, 100]          20000\n",
      "discrim/dis_fc0/fc_diversity/b:0  [100]                 100\n",
      "discrim/dis_fc0/bn/beta:0         [210]                 210\n",
      "discrim/dis_fc1/fc/W:0            [210, 200]          42000\n",
      "discrim/dis_fc1/fc/b:0            [200]                 200\n",
      "discrim/dis_fc1/fc_diversity/W:0  [200, 100]          20000\n",
      "discrim/dis_fc1/fc_diversity/b:0  [100]                 100\n",
      "discrim/dis_fc1/bn/beta:0         [210]                 210\n",
      "discrim/dis_fc2/fc/W:0            [210, 200]          42000\n",
      "discrim/dis_fc2/fc/b:0            [200]                 200\n",
      "discrim/dis_fc2/fc_diversity/W:0  [200, 100]          20000\n",
      "discrim/dis_fc2/fc_diversity/b:0  [100]                 100\n",
      "discrim/dis_fc2/bn/beta:0         [210]                 210\n",
      "discrim/dis_fc3/fc/W:0            [210, 200]          42000\n",
      "discrim/dis_fc3/fc/b:0            [200]                 200\n",
      "discrim/dis_fc3/fc_diversity/W:0  [200, 100]          20000\n",
      "discrim/dis_fc3/fc_diversity/b:0  [100]                 100\n",
      "discrim/dis_fc3/bn/beta:0         [210]                 210\n",
      "discrim/dis_fc4/fc/W:0            [210, 200]          42000\n",
      "discrim/dis_fc4/fc/b:0            [200]                 200\n",
      "discrim/dis_fc4/fc_diversity/W:0  [200, 100]          20000\n",
      "discrim/dis_fc4/fc_diversity/b:0  [100]                 100\n",
      "discrim/dis_fc4/bn/beta:0         [210]                 210\n",
      "discrim/dis_fc_top/W:0            [210, 1]              210\n",
      "discrim/dis_fc_top/b:0            [1]                     1\u001b[36m\n",
      "Number of trainable variables: 140\n",
      "Number of parameters (elements): 2616687\n",
      "Storage space needed for all trainable variables: 9.98MB\u001b[0m\n"
     ]
    },
    {
     "name": "stdout",
     "output_type": "stream",
     "text": [
      "\u001b[32m[0811 10:38:06 @base.py:209]\u001b[0m Setup callbacks graph ...\n",
      "\u001b[32m[0811 10:38:06 @summary.py:46]\u001b[0m [MovingAverageSummary] 6 operations in collection 'MOVING_SUMMARY_OPS' will be run with session hooks.\n",
      "\u001b[32m[0811 10:38:06 @summary.py:93]\u001b[0m Summarizing collection 'summaries' of size 9.\n",
      "\u001b[32m[0811 10:38:06 @graph.py:98]\u001b[0m Applying collection UPDATE_OPS of 20 ops.\n",
      "\u001b[32m[0811 10:38:07 @base.py:230]\u001b[0m Creating the session ...\n"
     ]
    },
    {
     "name": "stderr",
     "output_type": "stream",
     "text": [
      "W0811 10:38:07.844897 139778422806336 deprecation.py:323] From /home/matias/anaconda3/envs/tGAN/lib/python3.7/site-packages/tensorpack/tfutils/sesscreate.py:62: get_backward_walk_ops (from tensorflow.contrib.graph_editor.select) is deprecated and will be removed after 2019-06-06.\n",
      "Instructions for updating:\n",
      "Please use tensorflow.python.ops.op_selector.get_backward_walk_ops.\n"
     ]
    },
    {
     "name": "stdout",
     "output_type": "stream",
     "text": [
      "\u001b[32m[0811 10:38:09 @base.py:236]\u001b[0m Initializing the session ...\n",
      "\u001b[32m[0811 10:38:09 @base.py:243]\u001b[0m Graph Finalized.\n",
      "\u001b[32m[0811 10:38:10 @concurrency.py:38]\u001b[0m Starting EnqueueThread QueueInput/input_queue ...\n",
      "\u001b[32m[0811 10:38:10 @base.py:275]\u001b[0m Start Epoch 1 ...\n"
     ]
    },
    {
     "name": "stderr",
     "output_type": "stream",
     "text": [
      "100%|##########|1000/1000[07:00<00:00, 2.38it/s]"
     ]
    },
    {
     "name": "stdout",
     "output_type": "stream",
     "text": [
      "\u001b[32m[0811 10:45:11 @base.py:285]\u001b[0m Epoch 1 (global_step 1000) finished, time:7 minutes.\n"
     ]
    },
    {
     "name": "stderr",
     "output_type": "stream",
     "text": [
      "\n"
     ]
    },
    {
     "name": "stdout",
     "output_type": "stream",
     "text": [
      "\u001b[32m[0811 10:45:11 @saver.py:79]\u001b[0m Model saved to output/model/model-1000.\n",
      "\u001b[32m[0811 10:45:11 @monitor.py:467]\u001b[0m GAN_loss/discrim/accuracy_fake: 0.83\n",
      "\u001b[32m[0811 10:45:11 @monitor.py:467]\u001b[0m GAN_loss/discrim/accuracy_real: 0.14\n",
      "\u001b[32m[0811 10:45:11 @monitor.py:467]\u001b[0m GAN_loss/discrim/loss: 0.68736\n",
      "\u001b[32m[0811 10:45:11 @monitor.py:467]\u001b[0m GAN_loss/gen/final-g-loss: 1.0303\n",
      "\u001b[32m[0811 10:45:11 @monitor.py:467]\u001b[0m GAN_loss/gen/klloss: 0.076447\n",
      "\u001b[32m[0811 10:45:11 @monitor.py:467]\u001b[0m GAN_loss/gen/loss: 0.95384\n",
      "\u001b[32m[0811 10:45:11 @monitor.py:467]\u001b[0m QueueInput/queue_size: 50\n",
      "\u001b[32m[0811 10:45:11 @base.py:275]\u001b[0m Start Epoch 2 ...\n"
     ]
    },
    {
     "name": "stderr",
     "output_type": "stream",
     "text": [
      "100%|##########|1000/1000[06:52<00:00, 2.43it/s]"
     ]
    },
    {
     "name": "stdout",
     "output_type": "stream",
     "text": [
      "\u001b[32m[0811 10:52:03 @base.py:285]\u001b[0m Epoch 2 (global_step 2000) finished, time:6 minutes 52 seconds.\n",
      "\u001b[32m[0811 10:52:04 @saver.py:79]\u001b[0m Model saved to output/model/model-2000.\n",
      "\u001b[32m[0811 10:52:04 @monitor.py:467]\u001b[0m GAN_loss/discrim/accuracy_fake: 0.94\n",
      "\u001b[32m[0811 10:52:04 @monitor.py:467]\u001b[0m GAN_loss/discrim/accuracy_real: 0.04\n",
      "\u001b[32m[0811 10:52:04 @monitor.py:467]\u001b[0m GAN_loss/discrim/loss: 0.67641\n",
      "\u001b[32m[0811 10:52:04 @monitor.py:467]\u001b[0m GAN_loss/gen/final-g-loss: 1.0694\n",
      "\u001b[32m[0811 10:52:04 @monitor.py:467]\u001b[0m GAN_loss/gen/klloss: 0.15584\n",
      "\u001b[32m[0811 10:52:04 @monitor.py:467]\u001b[0m GAN_loss/gen/loss: 0.91359\n",
      "\u001b[32m[0811 10:52:04 @monitor.py:467]\u001b[0m QueueInput/queue_size: 50\n",
      "\u001b[32m[0811 10:52:04 @base.py:275]\u001b[0m Start Epoch 3 ...\n"
     ]
    },
    {
     "name": "stderr",
     "output_type": "stream",
     "text": [
      "\n",
      "100%|##########|1000/1000[06:52<00:00, 2.42it/s]"
     ]
    },
    {
     "name": "stdout",
     "output_type": "stream",
     "text": [
      "\u001b[32m[0811 10:58:56 @base.py:285]\u001b[0m Epoch 3 (global_step 3000) finished, time:6 minutes 52 seconds.\n",
      "\u001b[32m[0811 10:58:56 @saver.py:79]\u001b[0m Model saved to output/model/model-3000.\n",
      "\u001b[32m[0811 10:58:56 @monitor.py:467]\u001b[0m GAN_loss/discrim/accuracy_fake: 1\n",
      "\u001b[32m[0811 10:58:56 @monitor.py:467]\u001b[0m GAN_loss/discrim/accuracy_real: 0\n",
      "\u001b[32m[0811 10:58:56 @monitor.py:467]\u001b[0m GAN_loss/discrim/loss: 0.66683\n",
      "\u001b[32m[0811 10:58:56 @monitor.py:467]\u001b[0m GAN_loss/gen/final-g-loss: 1.0455\n",
      "\u001b[32m[0811 10:58:56 @monitor.py:467]\u001b[0m GAN_loss/gen/klloss: 0.13362\n",
      "\u001b[32m[0811 10:58:56 @monitor.py:467]\u001b[0m GAN_loss/gen/loss: 0.9119\n",
      "\u001b[32m[0811 10:58:56 @monitor.py:467]\u001b[0m QueueInput/queue_size: 50\n",
      "\u001b[32m[0811 10:58:56 @base.py:275]\u001b[0m Start Epoch 4 ...\n"
     ]
    },
    {
     "name": "stderr",
     "output_type": "stream",
     "text": [
      "\n",
      "100%|##########|1000/1000[06:52<00:00, 2.43it/s]"
     ]
    },
    {
     "name": "stdout",
     "output_type": "stream",
     "text": [
      "\u001b[32m[0811 11:05:48 @base.py:285]\u001b[0m Epoch 4 (global_step 4000) finished, time:6 minutes 52 seconds.\n",
      "\u001b[32m[0811 11:05:48 @saver.py:79]\u001b[0m Model saved to output/model/model-4000.\n",
      "\u001b[32m[0811 11:05:48 @monitor.py:467]\u001b[0m GAN_loss/discrim/accuracy_fake: 1\n",
      "\u001b[32m[0811 11:05:48 @monitor.py:467]\u001b[0m GAN_loss/discrim/accuracy_real: 0\n",
      "\u001b[32m[0811 11:05:48 @monitor.py:467]\u001b[0m GAN_loss/discrim/loss: 0.67072\n",
      "\u001b[32m[0811 11:05:48 @monitor.py:467]\u001b[0m GAN_loss/gen/final-g-loss: 1.1488\n",
      "\u001b[32m[0811 11:05:48 @monitor.py:467]\u001b[0m GAN_loss/gen/klloss: 0.23303\n",
      "\u001b[32m[0811 11:05:48 @monitor.py:467]\u001b[0m GAN_loss/gen/loss: 0.91579\n",
      "\u001b[32m[0811 11:05:48 @monitor.py:467]\u001b[0m QueueInput/queue_size: 50\n",
      "\u001b[32m[0811 11:05:48 @base.py:275]\u001b[0m Start Epoch 5 ...\n"
     ]
    },
    {
     "name": "stderr",
     "output_type": "stream",
     "text": [
      "\n",
      "100%|##########|1000/1000[06:52<00:00, 2.43it/s]"
     ]
    },
    {
     "name": "stdout",
     "output_type": "stream",
     "text": [
      "\u001b[32m[0811 11:12:40 @base.py:285]\u001b[0m Epoch 5 (global_step 5000) finished, time:6 minutes 52 seconds.\n",
      "\u001b[32m[0811 11:12:40 @saver.py:79]\u001b[0m Model saved to output/model/model-5000.\n",
      "\u001b[32m[0811 11:12:40 @monitor.py:467]\u001b[0m GAN_loss/discrim/accuracy_fake: 1\n",
      "\u001b[32m[0811 11:12:40 @monitor.py:467]\u001b[0m GAN_loss/discrim/accuracy_real: 0\n",
      "\u001b[32m[0811 11:12:40 @monitor.py:467]\u001b[0m GAN_loss/discrim/loss: 0.67062\n",
      "\u001b[32m[0811 11:12:40 @monitor.py:467]\u001b[0m GAN_loss/gen/final-g-loss: 1.0985\n",
      "\u001b[32m[0811 11:12:40 @monitor.py:467]\u001b[0m GAN_loss/gen/klloss: 0.18\n",
      "\u001b[32m[0811 11:12:40 @monitor.py:467]\u001b[0m GAN_loss/gen/loss: 0.91853\n",
      "\u001b[32m[0811 11:12:40 @monitor.py:467]\u001b[0m QueueInput/queue_size: 50\n",
      "\u001b[32m[0811 11:12:40 @base.py:289]\u001b[0m Training has finished!\n"
     ]
    },
    {
     "name": "stderr",
     "output_type": "stream",
     "text": [
      "\n"
     ]
    },
    {
     "name": "stdout",
     "output_type": "stream",
     "text": [
      "\u001b[32m[0811 11:12:40 @input_source.py:178]\u001b[0m EnqueueThread QueueInput/input_queue Exited.\n",
      "\u001b[32m[0811 11:12:42 @collection.py:146]\u001b[0m New collections created in tower : tf.GraphKeys.REGULARIZATION_LOSSES\n",
      "\u001b[32m[0811 11:12:42 @collection.py:165]\u001b[0m These collections were modified but restored in : (tf.GraphKeys.SUMMARIES: 0->2)\n",
      "\u001b[32m[0811 11:12:42 @sessinit.py:87]\u001b[0m \u001b[5m\u001b[31mWRN\u001b[0m The following variables are in the checkpoint, but not found in the graph: global_step, optimize/beta1_power, optimize/beta2_power\n",
      "\u001b[32m[0811 11:12:43 @sessinit.py:114]\u001b[0m Restoring checkpoint from output/model/model-5000 ...\n"
     ]
    }
   ],
   "source": [
    "tgan = TGANModel(\n",
    "    continuous_columns,\n",
    "    output='output',\n",
    "    max_epoch=5,\n",
    "    steps_per_epoch=1000,\n",
    "    save_checkpoints=True,\n",
    "    restore_session=True,\n",
    "    batch_size=100,\n",
    "    z_dim=100,\n",
    "    noise=0.1,\n",
    "    learning_rate=0.0002,\n",
    "    num_gen_rnn=400,\n",
    "    num_gen_feature=100,\n",
    "    num_dis_layers=5,\n",
    "    num_dis_hidden=200,\n",
    "    )\n",
    "\n",
    "tgan.fit(df_feature1_train) # "
   ]
  },
  {
   "cell_type": "markdown",
   "metadata": {},
   "source": [
    "## Generate samples"
   ]
  },
  {
   "cell_type": "code",
   "execution_count": 12,
   "metadata": {
    "ExecuteTime": {
     "end_time": "2019-08-11T03:12:43.860823Z",
     "start_time": "2019-08-11T03:12:43.856382Z"
    }
   },
   "outputs": [],
   "source": [
    "def sample_needed_label(num_samples, label):\n",
    "    synth_df = pd.DataFrame(columns=df_feature1.columns.values[1:])\n",
    "    count = 0\n",
    "    finish_loop = False\n",
    "    # generate as many sampels of label 0 as needed\n",
    "    while True:\n",
    "        if finish_loop:\n",
    "            break\n",
    "\n",
    "        # sample a bunch of points\n",
    "        curr_df = tgan.sample(1000)\n",
    "        # iterate through all\n",
    "        for index, row in curr_df.iterrows():\n",
    "            if row['Discrete Thermal Comfort_TA'] == label:\n",
    "                synth_df = synth_df.append(row)\n",
    "                count += 1\n",
    "                print(count)\n",
    "                if count == num_samples:\n",
    "                    finish_loop = True\n",
    "                    break\n",
    "    return synth_df\n"
   ]
  },
  {
   "cell_type": "code",
   "execution_count": 13,
   "metadata": {
    "ExecuteTime": {
     "end_time": "2019-08-11T03:12:48.225528Z",
     "start_time": "2019-08-11T03:12:43.862198Z"
    }
   },
   "outputs": [
    {
     "name": "stderr",
     "output_type": "stream",
     "text": [
      "\r",
      "  0%|          |0/100[00:00<?,?it/s]"
     ]
    },
    {
     "name": "stdout",
     "output_type": "stream",
     "text": [
      "Samples needed: 950\n"
     ]
    },
    {
     "name": "stderr",
     "output_type": "stream",
     "text": [
      "  9%|9         |9/100[00:01<00:13, 6.86it/s]\n"
     ]
    },
    {
     "name": "stdout",
     "output_type": "stream",
     "text": [
      "1\n",
      "2\n",
      "3\n",
      "4\n",
      "5\n",
      "6\n",
      "7\n",
      "8\n",
      "9\n",
      "10\n",
      "11\n",
      "12\n",
      "13\n",
      "14\n",
      "15\n",
      "16\n",
      "17\n",
      "18\n",
      "19\n",
      "20\n",
      "21\n",
      "22\n",
      "23\n",
      "24\n",
      "25\n",
      "26\n",
      "27\n",
      "28\n",
      "29\n",
      "30\n",
      "31\n",
      "32\n",
      "33\n",
      "34\n",
      "35\n",
      "36\n",
      "37\n",
      "38\n",
      "39\n",
      "40\n",
      "41\n",
      "42\n",
      "43\n",
      "44\n",
      "45\n",
      "46\n",
      "47\n",
      "48\n",
      "49\n",
      "50\n",
      "51\n",
      "52\n",
      "53\n",
      "54\n",
      "55\n",
      "56\n",
      "57\n",
      "58\n",
      "59\n",
      "60\n",
      "61\n",
      "62\n",
      "63\n",
      "64\n",
      "65\n",
      "66\n",
      "67\n",
      "68\n",
      "69\n",
      "70\n",
      "71\n",
      "72\n",
      "73\n",
      "74\n",
      "75\n",
      "76\n",
      "77\n",
      "78\n",
      "79\n",
      "80\n",
      "81\n",
      "82\n",
      "83\n",
      "84\n",
      "85\n",
      "86\n",
      "87\n",
      "88\n",
      "89\n",
      "90\n",
      "91\n",
      "92\n",
      "93\n",
      "94\n",
      "95\n",
      "96\n",
      "97\n",
      "98\n",
      "99\n",
      "100\n",
      "101\n",
      "102\n",
      "103\n",
      "104\n",
      "105\n",
      "106\n",
      "107\n",
      "108\n",
      "109\n",
      "110\n",
      "111\n",
      "112\n",
      "113\n",
      "114\n",
      "115\n",
      "116\n",
      "117\n",
      "118\n",
      "119\n",
      "120\n",
      "121\n",
      "122\n",
      "123\n",
      "124\n",
      "125\n",
      "126\n",
      "127\n",
      "128\n",
      "129\n",
      "130\n",
      "131\n",
      "132\n",
      "133\n",
      "134\n",
      "135\n",
      "136\n",
      "137\n",
      "138\n",
      "139\n",
      "140\n",
      "141\n",
      "142\n",
      "143\n",
      "144\n",
      "145\n",
      "146\n",
      "147\n",
      "148\n",
      "149\n",
      "150\n",
      "151\n",
      "152\n",
      "153\n",
      "154\n",
      "155\n",
      "156\n",
      "157\n",
      "158\n",
      "159\n",
      "160\n",
      "161\n",
      "162\n",
      "163\n",
      "164\n",
      "165\n",
      "166\n",
      "167\n",
      "168\n",
      "169\n",
      "170\n",
      "171\n",
      "172\n",
      "173\n",
      "174\n",
      "175\n",
      "176\n",
      "177\n",
      "178\n",
      "179\n",
      "180\n",
      "181\n",
      "182\n",
      "183\n",
      "184\n",
      "185\n",
      "186\n",
      "187\n",
      "188\n",
      "189\n",
      "190\n",
      "191\n",
      "192\n",
      "193\n",
      "194\n",
      "195\n",
      "196\n",
      "197\n",
      "198\n",
      "199\n",
      "200\n",
      "201\n",
      "202\n",
      "203\n",
      "204\n",
      "205\n",
      "206\n",
      "207\n",
      "208\n",
      "209\n",
      "210\n",
      "211\n",
      "212\n",
      "213\n",
      "214\n",
      "215\n",
      "216\n",
      "217\n",
      "218\n",
      "219\n",
      "220\n",
      "221\n",
      "222\n",
      "223\n",
      "224\n",
      "225\n",
      "226\n",
      "227\n",
      "228\n",
      "229\n",
      "230\n",
      "231\n",
      "232\n",
      "233\n",
      "234\n",
      "235\n",
      "236\n",
      "237\n",
      "238\n",
      "239\n",
      "240\n",
      "241\n",
      "242\n",
      "243\n",
      "244\n",
      "245\n",
      "246\n",
      "247\n",
      "248\n",
      "249\n",
      "250\n",
      "251\n",
      "252\n",
      "253\n",
      "254\n",
      "255\n",
      "256\n",
      "257\n",
      "258\n",
      "259\n",
      "260\n",
      "261\n",
      "262\n",
      "263\n",
      "264\n",
      "265\n",
      "266\n",
      "267\n",
      "268\n",
      "269\n",
      "270\n",
      "271\n",
      "272\n",
      "273\n",
      "274\n",
      "275\n",
      "276\n",
      "277\n",
      "278\n",
      "279\n",
      "280\n",
      "281\n",
      "282\n",
      "283\n",
      "284\n",
      "285\n",
      "286\n",
      "287\n",
      "288\n",
      "289\n",
      "290\n",
      "291\n",
      "292\n",
      "293\n",
      "294\n",
      "295\n",
      "296\n",
      "297\n",
      "298\n",
      "299\n",
      "300\n",
      "301\n",
      "302\n",
      "303\n",
      "304\n",
      "305\n",
      "306\n",
      "307\n",
      "308\n",
      "309\n",
      "310\n",
      "311\n",
      "312\n",
      "313\n",
      "314\n",
      "315\n",
      "316\n",
      "317\n",
      "318\n",
      "319\n",
      "320\n",
      "321\n",
      "322\n",
      "323\n",
      "324\n",
      "325\n",
      "326\n",
      "327\n",
      "328\n",
      "329\n",
      "330\n",
      "331\n",
      "332\n",
      "333\n",
      "334\n",
      "335\n",
      "336\n",
      "337\n",
      "338\n",
      "339\n",
      "340\n",
      "341\n",
      "342\n",
      "343\n",
      "344\n",
      "345\n",
      "346\n",
      "347\n",
      "348\n",
      "349\n",
      "350\n",
      "351\n",
      "352\n",
      "353\n",
      "354\n",
      "355\n",
      "356\n",
      "357\n",
      "358\n",
      "359\n",
      "360\n",
      "361\n",
      "362\n",
      "363\n",
      "364\n",
      "365\n",
      "366\n",
      "367\n",
      "368\n",
      "369\n",
      "370\n",
      "371\n",
      "372\n",
      "373\n",
      "374\n",
      "375\n",
      "376\n",
      "377\n",
      "378\n",
      "379\n",
      "380\n",
      "381\n",
      "382\n",
      "383\n",
      "384\n",
      "385\n",
      "386\n",
      "387\n",
      "388\n",
      "389\n",
      "390\n",
      "391\n",
      "392\n",
      "393\n",
      "394\n",
      "395\n",
      "396\n",
      "397\n",
      "398\n",
      "399\n",
      "400\n",
      "401\n",
      "402\n",
      "403\n",
      "404\n",
      "405\n",
      "406\n",
      "407\n",
      "408\n",
      "409\n",
      "410\n",
      "411\n",
      "412\n",
      "413\n",
      "414\n",
      "415\n",
      "416\n",
      "417\n",
      "418\n",
      "419\n",
      "420\n",
      "421\n",
      "422\n",
      "423\n",
      "424\n",
      "425\n",
      "426\n",
      "427\n",
      "428\n",
      "429\n",
      "430\n",
      "431\n",
      "432\n",
      "433\n",
      "434\n",
      "435\n",
      "436\n",
      "437\n",
      "438\n",
      "439\n",
      "440\n",
      "441\n",
      "442\n",
      "443\n",
      "444\n",
      "445\n",
      "446\n",
      "447\n",
      "448\n",
      "449\n",
      "450\n",
      "451\n",
      "452\n",
      "453\n",
      "454\n",
      "455\n",
      "456\n",
      "457\n",
      "458\n",
      "459\n",
      "460\n",
      "461\n",
      "462\n",
      "463\n",
      "464\n",
      "465\n",
      "466\n",
      "467\n",
      "468\n",
      "469\n",
      "470\n",
      "471\n",
      "472\n",
      "473\n",
      "474\n",
      "475\n",
      "476\n",
      "477\n",
      "478\n",
      "479\n",
      "480\n",
      "481\n",
      "482\n",
      "483\n",
      "484\n",
      "485\n",
      "486\n",
      "487\n",
      "488\n",
      "489\n",
      "490\n",
      "491\n",
      "492\n",
      "493\n",
      "494\n",
      "495\n",
      "496\n",
      "497\n",
      "498\n",
      "499\n",
      "500\n",
      "501\n",
      "502\n",
      "503\n",
      "504\n",
      "505\n",
      "506\n",
      "507\n",
      "508\n",
      "509\n",
      "510\n",
      "511\n",
      "512\n",
      "513\n",
      "514\n",
      "515\n",
      "516\n",
      "517\n",
      "518\n",
      "519\n",
      "520\n",
      "521\n",
      "522\n",
      "523\n",
      "524\n",
      "525\n",
      "526\n",
      "527\n",
      "528\n",
      "529\n",
      "530\n",
      "531\n",
      "532\n",
      "533\n",
      "534\n",
      "535\n",
      "536\n",
      "537\n",
      "538\n",
      "539\n",
      "540\n",
      "541\n",
      "542\n",
      "543\n",
      "544\n",
      "545\n",
      "546\n",
      "547\n",
      "548\n",
      "549\n",
      "550\n",
      "551\n",
      "552\n",
      "553\n",
      "554\n",
      "555\n",
      "556\n",
      "557\n",
      "558\n",
      "559\n",
      "560\n",
      "561\n",
      "562\n",
      "563\n",
      "564\n",
      "565\n",
      "566\n",
      "567\n",
      "568\n",
      "569\n",
      "570\n",
      "571\n",
      "572\n",
      "573\n",
      "574\n",
      "575\n",
      "576\n",
      "577\n",
      "578\n",
      "579\n",
      "580\n",
      "581\n",
      "582\n",
      "583\n",
      "584\n",
      "585\n",
      "586\n",
      "587\n",
      "588\n",
      "589\n",
      "590\n",
      "591\n",
      "592\n",
      "593\n",
      "594\n",
      "595\n",
      "596\n",
      "597\n",
      "598\n",
      "599\n",
      "600\n",
      "601\n",
      "602\n",
      "603\n",
      "604\n",
      "605\n",
      "606\n",
      "607\n",
      "608\n",
      "609\n",
      "610\n",
      "611\n",
      "612\n",
      "613\n",
      "614\n",
      "615\n",
      "616\n",
      "617\n",
      "618\n",
      "619\n",
      "620\n",
      "621\n",
      "622\n",
      "623\n",
      "624\n",
      "625\n",
      "626\n",
      "627\n",
      "628\n",
      "629\n",
      "630\n",
      "631\n",
      "632\n",
      "633\n",
      "634\n",
      "635\n",
      "636\n",
      "637\n",
      "638\n",
      "639\n",
      "640\n",
      "641\n",
      "642\n",
      "643\n",
      "644\n",
      "645\n",
      "646\n",
      "647\n",
      "648\n",
      "649\n",
      "650\n",
      "651\n",
      "652\n",
      "653\n",
      "654\n",
      "655\n",
      "656\n",
      "657\n",
      "658\n",
      "659\n",
      "660\n",
      "661\n",
      "662\n",
      "663\n",
      "664\n",
      "665\n",
      "666\n",
      "667\n",
      "668\n",
      "669\n",
      "670\n",
      "671\n",
      "672\n",
      "673\n",
      "674\n",
      "675\n",
      "676\n",
      "677\n",
      "678\n",
      "679\n",
      "680\n",
      "681\n",
      "682\n",
      "683\n",
      "684\n",
      "685\n",
      "686\n",
      "687\n",
      "688\n",
      "689\n",
      "690\n",
      "691\n",
      "692\n",
      "693\n",
      "694\n",
      "695\n",
      "696\n",
      "697\n",
      "698\n",
      "699\n",
      "700\n",
      "701\n",
      "702\n",
      "703\n",
      "704\n",
      "705\n",
      "706\n",
      "707\n",
      "708\n",
      "709\n",
      "710\n",
      "711\n",
      "712\n",
      "713\n",
      "714\n",
      "715\n",
      "716\n",
      "717\n",
      "718\n",
      "719\n",
      "720\n",
      "721\n",
      "722\n",
      "723\n",
      "724\n",
      "725\n",
      "726\n",
      "727\n",
      "728\n",
      "729\n",
      "730\n",
      "731\n",
      "732\n",
      "733\n",
      "734\n",
      "735\n",
      "736\n",
      "737\n",
      "738\n",
      "739\n",
      "740\n",
      "741\n",
      "742\n",
      "743\n",
      "744\n",
      "745\n",
      "746\n",
      "747\n",
      "748\n",
      "749\n",
      "750\n",
      "751\n",
      "752\n",
      "753\n",
      "754\n",
      "755\n",
      "756\n",
      "757\n",
      "758\n",
      "759\n",
      "760\n",
      "761\n",
      "762\n",
      "763\n",
      "764\n",
      "765\n",
      "766\n",
      "767\n",
      "768\n",
      "769\n",
      "770\n",
      "771\n",
      "772\n",
      "773\n",
      "774\n",
      "775\n",
      "776\n",
      "777\n",
      "778\n",
      "779\n",
      "780\n",
      "781\n",
      "782\n",
      "783\n",
      "784\n",
      "785\n",
      "786\n",
      "787\n",
      "788\n",
      "789\n",
      "790\n",
      "791\n",
      "792\n",
      "793\n",
      "794\n",
      "795\n",
      "796\n",
      "797\n",
      "798\n",
      "799\n",
      "800\n",
      "801\n",
      "802\n",
      "803\n",
      "804\n",
      "805\n",
      "806\n",
      "807\n",
      "808\n",
      "809\n",
      "810\n",
      "811\n",
      "812\n",
      "813\n",
      "814\n",
      "815\n",
      "816\n",
      "817\n",
      "818\n",
      "819\n",
      "820\n",
      "821\n",
      "822\n",
      "823\n",
      "824\n",
      "825\n",
      "826\n",
      "827\n",
      "828\n",
      "829\n",
      "830\n",
      "831\n",
      "832\n",
      "833\n",
      "834\n",
      "835\n",
      "836\n",
      "837\n",
      "838\n",
      "839\n",
      "840\n",
      "841\n",
      "842\n",
      "843\n",
      "844\n",
      "845\n",
      "846\n",
      "847\n",
      "848\n",
      "849\n",
      "850\n",
      "851\n",
      "852\n",
      "853\n",
      "854\n",
      "855\n",
      "856\n",
      "857\n",
      "858\n",
      "859\n",
      "860\n",
      "861\n",
      "862\n",
      "863\n",
      "864\n",
      "865\n",
      "866\n",
      "867\n",
      "868\n",
      "869\n",
      "870\n",
      "871\n",
      "872\n",
      "873\n",
      "874\n",
      "875\n",
      "876\n",
      "877\n",
      "878\n",
      "879\n",
      "880\n",
      "881\n",
      "882\n",
      "883\n",
      "884\n",
      "885\n",
      "886\n",
      "887\n",
      "888\n",
      "889\n",
      "890\n",
      "891\n",
      "892\n",
      "893\n",
      "894\n",
      "895\n",
      "896\n",
      "897\n",
      "898\n",
      "899\n",
      "900\n",
      "901\n",
      "902\n",
      "903\n",
      "904\n",
      "905\n",
      "906\n",
      "907\n",
      "908\n",
      "909\n",
      "910\n",
      "911\n",
      "912\n",
      "913\n",
      "914\n",
      "915\n",
      "916\n",
      "917\n",
      "918\n",
      "919\n",
      "920\n",
      "921\n",
      "922\n",
      "923\n",
      "924\n",
      "925\n",
      "926\n",
      "927\n",
      "928\n",
      "929\n",
      "930\n",
      "931\n",
      "932\n",
      "933\n",
      "934\n",
      "935\n",
      "936\n",
      "937\n",
      "938\n",
      "939\n",
      "940\n",
      "941\n",
      "942\n",
      "943\n",
      "944\n",
      "945\n",
      "946\n",
      "947\n",
      "948\n",
      "949\n",
      "950\n"
     ]
    }
   ],
   "source": [
    "print(\"Samples needed: {}\".format(needed_0))\n",
    "synth_0 = sample_needed_label(needed_0, '0')\n"
   ]
  },
  {
   "cell_type": "code",
   "execution_count": 34,
   "metadata": {
    "ExecuteTime": {
     "end_time": "2019-08-11T06:07:15.294168Z",
     "start_time": "2019-08-11T06:06:33.555499Z"
    },
    "scrolled": true
   },
   "outputs": [
    {
     "name": "stderr",
     "output_type": "stream",
     "text": [
      "\r",
      "  0%|          |0/100[00:00<?,?it/s]"
     ]
    },
    {
     "name": "stdout",
     "output_type": "stream",
     "text": [
      "Samples needed: 1059\n"
     ]
    },
    {
     "name": "stderr",
     "output_type": "stream",
     "text": [
      "  9%|9         |9/100[00:01<00:10, 8.83it/s]\n",
      "  0%|          |0/100[00:00<?,?it/s]"
     ]
    },
    {
     "name": "stdout",
     "output_type": "stream",
     "text": [
      "1\n",
      "2\n",
      "3\n",
      "4\n",
      "5\n",
      "6\n",
      "7\n",
      "8\n",
      "9\n",
      "10\n",
      "11\n",
      "12\n",
      "13\n",
      "14\n",
      "15\n",
      "16\n",
      "17\n",
      "18\n",
      "19\n",
      "20\n",
      "21\n",
      "22\n",
      "23\n",
      "24\n",
      "25\n",
      "26\n",
      "27\n",
      "28\n",
      "29\n",
      "30\n",
      "31\n"
     ]
    },
    {
     "name": "stderr",
     "output_type": "stream",
     "text": [
      "  9%|9         |9/100[00:01<00:10, 8.67it/s]\n",
      "  0%|          |0/100[00:00<?,?it/s]"
     ]
    },
    {
     "name": "stdout",
     "output_type": "stream",
     "text": [
      "32\n",
      "33\n",
      "34\n",
      "35\n",
      "36\n",
      "37\n",
      "38\n",
      "39\n",
      "40\n",
      "41\n",
      "42\n",
      "43\n",
      "44\n",
      "45\n",
      "46\n",
      "47\n",
      "48\n",
      "49\n",
      "50\n",
      "51\n",
      "52\n",
      "53\n",
      "54\n",
      "55\n",
      "56\n",
      "57\n",
      "58\n",
      "59\n",
      "60\n",
      "61\n",
      "62\n",
      "63\n",
      "64\n",
      "65\n",
      "66\n"
     ]
    },
    {
     "name": "stderr",
     "output_type": "stream",
     "text": [
      "  9%|9         |9/100[00:01<00:10, 8.48it/s]\n",
      "  0%|          |0/100[00:00<?,?it/s]"
     ]
    },
    {
     "name": "stdout",
     "output_type": "stream",
     "text": [
      "67\n",
      "68\n",
      "69\n",
      "70\n",
      "71\n",
      "72\n",
      "73\n",
      "74\n",
      "75\n",
      "76\n",
      "77\n",
      "78\n",
      "79\n",
      "80\n",
      "81\n",
      "82\n",
      "83\n",
      "84\n",
      "85\n",
      "86\n",
      "87\n",
      "88\n",
      "89\n",
      "90\n",
      "91\n",
      "92\n",
      "93\n",
      "94\n"
     ]
    },
    {
     "name": "stderr",
     "output_type": "stream",
     "text": [
      "  9%|9         |9/100[00:01<00:11, 8.26it/s]\n",
      "  0%|          |0/100[00:00<?,?it/s]"
     ]
    },
    {
     "name": "stdout",
     "output_type": "stream",
     "text": [
      "95\n",
      "96\n",
      "97\n",
      "98\n",
      "99\n",
      "100\n",
      "101\n",
      "102\n",
      "103\n",
      "104\n",
      "105\n",
      "106\n",
      "107\n",
      "108\n",
      "109\n",
      "110\n",
      "111\n",
      "112\n",
      "113\n",
      "114\n",
      "115\n",
      "116\n",
      "117\n",
      "118\n",
      "119\n",
      "120\n",
      "121\n",
      "122\n",
      "123\n",
      "124\n",
      "125\n",
      "126\n"
     ]
    },
    {
     "name": "stderr",
     "output_type": "stream",
     "text": [
      "  9%|9         |9/100[00:01<00:10, 8.73it/s]\n",
      "  0%|          |0/100[00:00<?,?it/s]"
     ]
    },
    {
     "name": "stdout",
     "output_type": "stream",
     "text": [
      "127\n",
      "128\n",
      "129\n",
      "130\n",
      "131\n",
      "132\n",
      "133\n",
      "134\n",
      "135\n",
      "136\n",
      "137\n",
      "138\n",
      "139\n",
      "140\n",
      "141\n",
      "142\n",
      "143\n",
      "144\n",
      "145\n",
      "146\n",
      "147\n",
      "148\n",
      "149\n",
      "150\n",
      "151\n",
      "152\n",
      "153\n",
      "154\n",
      "155\n",
      "156\n",
      "157\n"
     ]
    },
    {
     "name": "stderr",
     "output_type": "stream",
     "text": [
      "  9%|9         |9/100[00:01<00:10, 8.85it/s]\n",
      "  0%|          |0/100[00:00<?,?it/s]"
     ]
    },
    {
     "name": "stdout",
     "output_type": "stream",
     "text": [
      "158\n",
      "159\n",
      "160\n",
      "161\n",
      "162\n",
      "163\n",
      "164\n",
      "165\n",
      "166\n",
      "167\n",
      "168\n",
      "169\n",
      "170\n",
      "171\n",
      "172\n",
      "173\n",
      "174\n",
      "175\n",
      "176\n",
      "177\n",
      "178\n",
      "179\n",
      "180\n",
      "181\n",
      "182\n",
      "183\n",
      "184\n",
      "185\n",
      "186\n",
      "187\n",
      "188\n",
      "189\n",
      "190\n",
      "191\n"
     ]
    },
    {
     "name": "stderr",
     "output_type": "stream",
     "text": [
      "  9%|9         |9/100[00:01<00:10, 8.89it/s]\n",
      "  0%|          |0/100[00:00<?,?it/s]"
     ]
    },
    {
     "name": "stdout",
     "output_type": "stream",
     "text": [
      "192\n",
      "193\n",
      "194\n",
      "195\n",
      "196\n",
      "197\n",
      "198\n",
      "199\n",
      "200\n",
      "201\n",
      "202\n",
      "203\n",
      "204\n",
      "205\n",
      "206\n",
      "207\n",
      "208\n",
      "209\n",
      "210\n",
      "211\n",
      "212\n",
      "213\n",
      "214\n",
      "215\n"
     ]
    },
    {
     "name": "stderr",
     "output_type": "stream",
     "text": [
      "  9%|9         |9/100[00:01<00:10, 8.80it/s]\n",
      "  0%|          |0/100[00:00<?,?it/s]"
     ]
    },
    {
     "name": "stdout",
     "output_type": "stream",
     "text": [
      "216\n",
      "217\n",
      "218\n",
      "219\n",
      "220\n",
      "221\n",
      "222\n",
      "223\n",
      "224\n",
      "225\n",
      "226\n",
      "227\n",
      "228\n",
      "229\n",
      "230\n",
      "231\n",
      "232\n",
      "233\n",
      "234\n",
      "235\n",
      "236\n",
      "237\n",
      "238\n",
      "239\n",
      "240\n",
      "241\n",
      "242\n",
      "243\n",
      "244\n",
      "245\n",
      "246\n",
      "247\n",
      "248\n"
     ]
    },
    {
     "name": "stderr",
     "output_type": "stream",
     "text": [
      "  9%|9         |9/100[00:01<00:10, 8.38it/s]\n",
      "  0%|          |0/100[00:00<?,?it/s]"
     ]
    },
    {
     "name": "stdout",
     "output_type": "stream",
     "text": [
      "249\n",
      "250\n",
      "251\n",
      "252\n",
      "253\n",
      "254\n",
      "255\n",
      "256\n",
      "257\n",
      "258\n",
      "259\n",
      "260\n",
      "261\n",
      "262\n",
      "263\n",
      "264\n",
      "265\n",
      "266\n",
      "267\n",
      "268\n",
      "269\n",
      "270\n",
      "271\n",
      "272\n",
      "273\n",
      "274\n",
      "275\n",
      "276\n",
      "277\n",
      "278\n",
      "279\n",
      "280\n",
      "281\n",
      "282\n"
     ]
    },
    {
     "name": "stderr",
     "output_type": "stream",
     "text": [
      "  9%|9         |9/100[00:01<00:10, 8.89it/s]\n",
      "  0%|          |0/100[00:00<?,?it/s]"
     ]
    },
    {
     "name": "stdout",
     "output_type": "stream",
     "text": [
      "283\n",
      "284\n",
      "285\n",
      "286\n",
      "287\n",
      "288\n",
      "289\n",
      "290\n",
      "291\n",
      "292\n",
      "293\n",
      "294\n",
      "295\n",
      "296\n",
      "297\n",
      "298\n",
      "299\n",
      "300\n",
      "301\n",
      "302\n",
      "303\n",
      "304\n",
      "305\n",
      "306\n",
      "307\n",
      "308\n",
      "309\n",
      "310\n",
      "311\n",
      "312\n",
      "313\n",
      "314\n",
      "315\n",
      "316\n",
      "317\n",
      "318\n",
      "319\n",
      "320\n"
     ]
    },
    {
     "name": "stderr",
     "output_type": "stream",
     "text": [
      "  9%|9         |9/100[00:01<00:10, 8.87it/s]\n",
      "  0%|          |0/100[00:00<?,?it/s]"
     ]
    },
    {
     "name": "stdout",
     "output_type": "stream",
     "text": [
      "321\n",
      "322\n",
      "323\n",
      "324\n",
      "325\n",
      "326\n",
      "327\n",
      "328\n",
      "329\n",
      "330\n",
      "331\n",
      "332\n",
      "333\n",
      "334\n",
      "335\n",
      "336\n",
      "337\n",
      "338\n",
      "339\n",
      "340\n",
      "341\n",
      "342\n",
      "343\n",
      "344\n",
      "345\n",
      "346\n",
      "347\n",
      "348\n",
      "349\n",
      "350\n",
      "351\n",
      "352\n",
      "353\n",
      "354\n"
     ]
    },
    {
     "name": "stderr",
     "output_type": "stream",
     "text": [
      "  9%|9         |9/100[00:01<00:10, 8.80it/s]\n",
      "  0%|          |0/100[00:00<?,?it/s]"
     ]
    },
    {
     "name": "stdout",
     "output_type": "stream",
     "text": [
      "355\n",
      "356\n",
      "357\n",
      "358\n",
      "359\n",
      "360\n",
      "361\n",
      "362\n",
      "363\n",
      "364\n",
      "365\n",
      "366\n",
      "367\n",
      "368\n",
      "369\n",
      "370\n",
      "371\n",
      "372\n",
      "373\n"
     ]
    },
    {
     "name": "stderr",
     "output_type": "stream",
     "text": [
      "  9%|9         |9/100[00:01<00:10, 8.90it/s]\n"
     ]
    },
    {
     "name": "stdout",
     "output_type": "stream",
     "text": [
      "374\n",
      "375\n",
      "376\n",
      "377\n",
      "378\n",
      "379\n",
      "380\n",
      "381\n",
      "382\n",
      "383\n",
      "384\n",
      "385\n",
      "386\n",
      "387\n",
      "388\n",
      "389\n",
      "390\n",
      "391\n",
      "392\n",
      "393\n",
      "394\n",
      "395\n",
      "396\n",
      "397\n",
      "398\n",
      "399\n",
      "400\n",
      "401\n",
      "402\n",
      "403\n",
      "404\n",
      "405\n",
      "406\n",
      "407\n",
      "408\n",
      "409\n",
      "410\n",
      "411\n",
      "412\n",
      "413\n",
      "414\n",
      "415\n",
      "416\n"
     ]
    },
    {
     "name": "stderr",
     "output_type": "stream",
     "text": [
      "  9%|9         |9/100[00:01<00:10, 8.85it/s]\n",
      "  0%|          |0/100[00:00<?,?it/s]"
     ]
    },
    {
     "name": "stdout",
     "output_type": "stream",
     "text": [
      "417\n",
      "418\n",
      "419\n",
      "420\n",
      "421\n",
      "422\n",
      "423\n",
      "424\n",
      "425\n",
      "426\n",
      "427\n",
      "428\n",
      "429\n",
      "430\n",
      "431\n",
      "432\n",
      "433\n",
      "434\n",
      "435\n",
      "436\n",
      "437\n",
      "438\n",
      "439\n",
      "440\n"
     ]
    },
    {
     "name": "stderr",
     "output_type": "stream",
     "text": [
      "  9%|9         |9/100[00:01<00:11, 8.05it/s]\n",
      "  0%|          |0/100[00:00<?,?it/s]"
     ]
    },
    {
     "name": "stdout",
     "output_type": "stream",
     "text": [
      "441\n",
      "442\n",
      "443\n",
      "444\n",
      "445\n",
      "446\n",
      "447\n",
      "448\n",
      "449\n",
      "450\n",
      "451\n",
      "452\n",
      "453\n",
      "454\n",
      "455\n",
      "456\n",
      "457\n",
      "458\n",
      "459\n",
      "460\n",
      "461\n",
      "462\n",
      "463\n",
      "464\n",
      "465\n",
      "466\n",
      "467\n",
      "468\n",
      "469\n",
      "470\n",
      "471\n",
      "472\n",
      "473\n",
      "474\n",
      "475\n",
      "476\n"
     ]
    },
    {
     "name": "stderr",
     "output_type": "stream",
     "text": [
      "  9%|9         |9/100[00:01<00:11, 7.69it/s]\n",
      "  0%|          |0/100[00:00<?,?it/s]"
     ]
    },
    {
     "name": "stdout",
     "output_type": "stream",
     "text": [
      "477\n",
      "478\n",
      "479\n",
      "480\n",
      "481\n",
      "482\n",
      "483\n",
      "484\n",
      "485\n",
      "486\n",
      "487\n",
      "488\n",
      "489\n",
      "490\n",
      "491\n",
      "492\n",
      "493\n",
      "494\n",
      "495\n",
      "496\n",
      "497\n",
      "498\n",
      "499\n",
      "500\n",
      "501\n",
      "502\n",
      "503\n"
     ]
    },
    {
     "name": "stderr",
     "output_type": "stream",
     "text": [
      "  9%|9         |9/100[00:01<00:10, 8.87it/s]\n"
     ]
    },
    {
     "name": "stdout",
     "output_type": "stream",
     "text": [
      "504\n",
      "505\n",
      "506\n",
      "507\n",
      "508\n",
      "509\n",
      "510\n",
      "511\n",
      "512\n",
      "513\n",
      "514\n",
      "515\n",
      "516\n",
      "517\n",
      "518\n",
      "519\n",
      "520\n",
      "521\n",
      "522\n",
      "523\n",
      "524\n",
      "525\n",
      "526\n",
      "527\n",
      "528\n",
      "529\n",
      "530\n",
      "531\n",
      "532\n",
      "533\n",
      "534\n",
      "535\n",
      "536\n",
      "537\n",
      "538\n",
      "539\n",
      "540\n",
      "541\n",
      "542\n",
      "543\n",
      "544\n",
      "545\n"
     ]
    },
    {
     "name": "stderr",
     "output_type": "stream",
     "text": [
      "  9%|9         |9/100[00:01<00:11, 7.77it/s]\n",
      "  0%|          |0/100[00:00<?,?it/s]"
     ]
    },
    {
     "name": "stdout",
     "output_type": "stream",
     "text": [
      "546\n",
      "547\n",
      "548\n",
      "549\n",
      "550\n",
      "551\n",
      "552\n",
      "553\n",
      "554\n",
      "555\n",
      "556\n",
      "557\n",
      "558\n",
      "559\n",
      "560\n",
      "561\n",
      "562\n",
      "563\n",
      "564\n"
     ]
    },
    {
     "name": "stderr",
     "output_type": "stream",
     "text": [
      "  9%|9         |9/100[00:01<00:10, 8.91it/s]\n",
      "  0%|          |0/100[00:00<?,?it/s]"
     ]
    },
    {
     "name": "stdout",
     "output_type": "stream",
     "text": [
      "565\n",
      "566\n",
      "567\n",
      "568\n",
      "569\n",
      "570\n",
      "571\n",
      "572\n",
      "573\n",
      "574\n",
      "575\n",
      "576\n",
      "577\n",
      "578\n",
      "579\n",
      "580\n",
      "581\n",
      "582\n",
      "583\n",
      "584\n",
      "585\n",
      "586\n",
      "587\n",
      "588\n",
      "589\n",
      "590\n",
      "591\n",
      "592\n",
      "593\n",
      "594\n"
     ]
    },
    {
     "name": "stderr",
     "output_type": "stream",
     "text": [
      "  9%|9         |9/100[00:01<00:10, 8.90it/s]\n",
      "  0%|          |0/100[00:00<?,?it/s]"
     ]
    },
    {
     "name": "stdout",
     "output_type": "stream",
     "text": [
      "595\n",
      "596\n",
      "597\n",
      "598\n",
      "599\n",
      "600\n",
      "601\n",
      "602\n",
      "603\n",
      "604\n",
      "605\n",
      "606\n",
      "607\n",
      "608\n",
      "609\n",
      "610\n",
      "611\n",
      "612\n",
      "613\n",
      "614\n",
      "615\n",
      "616\n",
      "617\n",
      "618\n",
      "619\n",
      "620\n",
      "621\n",
      "622\n",
      "623\n",
      "624\n",
      "625\n"
     ]
    },
    {
     "name": "stderr",
     "output_type": "stream",
     "text": [
      "  9%|9         |9/100[00:01<00:10, 8.88it/s]\n",
      "  0%|          |0/100[00:00<?,?it/s]"
     ]
    },
    {
     "name": "stdout",
     "output_type": "stream",
     "text": [
      "626\n",
      "627\n",
      "628\n",
      "629\n",
      "630\n",
      "631\n",
      "632\n",
      "633\n",
      "634\n",
      "635\n",
      "636\n",
      "637\n",
      "638\n",
      "639\n",
      "640\n",
      "641\n",
      "642\n",
      "643\n",
      "644\n",
      "645\n",
      "646\n",
      "647\n",
      "648\n",
      "649\n",
      "650\n",
      "651\n",
      "652\n",
      "653\n",
      "654\n",
      "655\n",
      "656\n"
     ]
    },
    {
     "name": "stderr",
     "output_type": "stream",
     "text": [
      "  9%|9         |9/100[00:01<00:11, 8.19it/s]\n",
      "  0%|          |0/100[00:00<?,?it/s]"
     ]
    },
    {
     "name": "stdout",
     "output_type": "stream",
     "text": [
      "657\n",
      "658\n",
      "659\n",
      "660\n",
      "661\n",
      "662\n",
      "663\n",
      "664\n",
      "665\n",
      "666\n",
      "667\n",
      "668\n",
      "669\n",
      "670\n",
      "671\n",
      "672\n",
      "673\n",
      "674\n",
      "675\n",
      "676\n",
      "677\n",
      "678\n",
      "679\n",
      "680\n",
      "681\n",
      "682\n",
      "683\n",
      "684\n",
      "685\n",
      "686\n",
      "687\n",
      "688\n"
     ]
    },
    {
     "name": "stderr",
     "output_type": "stream",
     "text": [
      "  9%|9         |9/100[00:01<00:10, 8.90it/s]\n",
      "  0%|          |0/100[00:00<?,?it/s]"
     ]
    },
    {
     "name": "stdout",
     "output_type": "stream",
     "text": [
      "689\n",
      "690\n",
      "691\n",
      "692\n",
      "693\n",
      "694\n",
      "695\n",
      "696\n",
      "697\n",
      "698\n",
      "699\n",
      "700\n",
      "701\n",
      "702\n",
      "703\n",
      "704\n",
      "705\n",
      "706\n",
      "707\n",
      "708\n",
      "709\n",
      "710\n",
      "711\n"
     ]
    },
    {
     "name": "stderr",
     "output_type": "stream",
     "text": [
      "  9%|9         |9/100[00:01<00:10, 8.89it/s]\n",
      "  0%|          |0/100[00:00<?,?it/s]"
     ]
    },
    {
     "name": "stdout",
     "output_type": "stream",
     "text": [
      "712\n",
      "713\n",
      "714\n",
      "715\n",
      "716\n",
      "717\n",
      "718\n",
      "719\n",
      "720\n",
      "721\n",
      "722\n",
      "723\n",
      "724\n",
      "725\n",
      "726\n",
      "727\n",
      "728\n",
      "729\n",
      "730\n",
      "731\n",
      "732\n",
      "733\n",
      "734\n",
      "735\n",
      "736\n",
      "737\n",
      "738\n"
     ]
    },
    {
     "name": "stderr",
     "output_type": "stream",
     "text": [
      "  9%|9         |9/100[00:01<00:10, 8.84it/s]\n",
      "  0%|          |0/100[00:00<?,?it/s]"
     ]
    },
    {
     "name": "stdout",
     "output_type": "stream",
     "text": [
      "739\n",
      "740\n",
      "741\n",
      "742\n",
      "743\n",
      "744\n",
      "745\n",
      "746\n",
      "747\n",
      "748\n",
      "749\n",
      "750\n",
      "751\n",
      "752\n",
      "753\n",
      "754\n"
     ]
    },
    {
     "name": "stderr",
     "output_type": "stream",
     "text": [
      "  9%|9         |9/100[00:01<00:11, 8.13it/s]\n",
      "  0%|          |0/100[00:00<?,?it/s]"
     ]
    },
    {
     "name": "stdout",
     "output_type": "stream",
     "text": [
      "755\n",
      "756\n",
      "757\n",
      "758\n",
      "759\n",
      "760\n",
      "761\n",
      "762\n",
      "763\n",
      "764\n",
      "765\n",
      "766\n",
      "767\n",
      "768\n",
      "769\n",
      "770\n",
      "771\n",
      "772\n",
      "773\n",
      "774\n",
      "775\n",
      "776\n",
      "777\n",
      "778\n",
      "779\n",
      "780\n",
      "781\n",
      "782\n",
      "783\n",
      "784\n",
      "785\n",
      "786\n",
      "787\n",
      "788\n",
      "789\n",
      "790\n",
      "791\n"
     ]
    },
    {
     "name": "stderr",
     "output_type": "stream",
     "text": [
      "  9%|9         |9/100[00:01<00:10, 8.87it/s]\n",
      "  0%|          |0/100[00:00<?,?it/s]"
     ]
    },
    {
     "name": "stdout",
     "output_type": "stream",
     "text": [
      "792\n",
      "793\n",
      "794\n",
      "795\n",
      "796\n",
      "797\n",
      "798\n",
      "799\n",
      "800\n",
      "801\n",
      "802\n",
      "803\n",
      "804\n",
      "805\n",
      "806\n",
      "807\n",
      "808\n",
      "809\n",
      "810\n",
      "811\n",
      "812\n",
      "813\n",
      "814\n",
      "815\n",
      "816\n",
      "817\n",
      "818\n",
      "819\n"
     ]
    },
    {
     "name": "stderr",
     "output_type": "stream",
     "text": [
      "  9%|9         |9/100[00:01<00:10, 8.85it/s]\n",
      "  0%|          |0/100[00:00<?,?it/s]"
     ]
    },
    {
     "name": "stdout",
     "output_type": "stream",
     "text": [
      "820\n",
      "821\n",
      "822\n",
      "823\n",
      "824\n",
      "825\n",
      "826\n",
      "827\n",
      "828\n",
      "829\n",
      "830\n",
      "831\n",
      "832\n",
      "833\n",
      "834\n",
      "835\n",
      "836\n",
      "837\n",
      "838\n",
      "839\n",
      "840\n",
      "841\n",
      "842\n",
      "843\n",
      "844\n",
      "845\n",
      "846\n",
      "847\n",
      "848\n",
      "849\n",
      "850\n",
      "851\n",
      "852\n",
      "853\n",
      "854\n",
      "855\n",
      "856\n",
      "857\n",
      "858\n",
      "859\n"
     ]
    },
    {
     "name": "stderr",
     "output_type": "stream",
     "text": [
      "  9%|9         |9/100[00:01<00:10, 8.93it/s]\n"
     ]
    },
    {
     "name": "stdout",
     "output_type": "stream",
     "text": [
      "860\n",
      "861\n",
      "862\n",
      "863\n",
      "864\n",
      "865\n",
      "866\n",
      "867\n",
      "868\n",
      "869\n",
      "870\n",
      "871\n",
      "872\n",
      "873\n",
      "874\n",
      "875\n",
      "876\n",
      "877\n",
      "878\n",
      "879\n",
      "880\n",
      "881\n",
      "882\n",
      "883\n",
      "884\n",
      "885\n",
      "886\n",
      "887\n",
      "888\n",
      "889\n",
      "890\n",
      "891\n",
      "892\n",
      "893\n",
      "894\n",
      "895\n",
      "896\n",
      "897\n",
      "898\n",
      "899\n",
      "900\n",
      "901\n",
      "902\n"
     ]
    },
    {
     "name": "stderr",
     "output_type": "stream",
     "text": [
      "\r",
      "  0%|          |0/100[00:00<?,?it/s]"
     ]
    },
    {
     "name": "stdout",
     "output_type": "stream",
     "text": [
      "903\n",
      "904\n"
     ]
    },
    {
     "name": "stderr",
     "output_type": "stream",
     "text": [
      "  9%|9         |9/100[00:01<00:10, 8.94it/s]\n",
      "  0%|          |0/100[00:00<?,?it/s]"
     ]
    },
    {
     "name": "stdout",
     "output_type": "stream",
     "text": [
      "905\n",
      "906\n",
      "907\n",
      "908\n",
      "909\n",
      "910\n",
      "911\n",
      "912\n",
      "913\n",
      "914\n",
      "915\n",
      "916\n",
      "917\n",
      "918\n",
      "919\n",
      "920\n",
      "921\n",
      "922\n",
      "923\n",
      "924\n",
      "925\n",
      "926\n",
      "927\n",
      "928\n",
      "929\n",
      "930\n",
      "931\n",
      "932\n",
      "933\n",
      "934\n",
      "935\n",
      "936\n",
      "937\n",
      "938\n"
     ]
    },
    {
     "name": "stderr",
     "output_type": "stream",
     "text": [
      "  9%|9         |9/100[00:01<00:10, 8.32it/s]\n",
      "  0%|          |0/100[00:00<?,?it/s]"
     ]
    },
    {
     "name": "stdout",
     "output_type": "stream",
     "text": [
      "939\n",
      "940\n",
      "941\n",
      "942\n",
      "943\n",
      "944\n",
      "945\n",
      "946\n",
      "947\n",
      "948\n",
      "949\n",
      "950\n",
      "951\n",
      "952\n",
      "953\n",
      "954\n",
      "955\n",
      "956\n",
      "957\n",
      "958\n",
      "959\n",
      "960\n",
      "961\n",
      "962\n",
      "963\n",
      "964\n",
      "965\n",
      "966\n",
      "967\n",
      "968\n",
      "969\n"
     ]
    },
    {
     "name": "stderr",
     "output_type": "stream",
     "text": [
      "  9%|9         |9/100[00:01<00:10, 8.50it/s]\n",
      "  0%|          |0/100[00:00<?,?it/s]"
     ]
    },
    {
     "name": "stdout",
     "output_type": "stream",
     "text": [
      "970\n",
      "971\n",
      "972\n",
      "973\n",
      "974\n",
      "975\n",
      "976\n",
      "977\n",
      "978\n",
      "979\n",
      "980\n",
      "981\n",
      "982\n",
      "983\n",
      "984\n",
      "985\n",
      "986\n",
      "987\n",
      "988\n",
      "989\n",
      "990\n",
      "991\n",
      "992\n",
      "993\n",
      "994\n",
      "995\n",
      "996\n",
      "997\n",
      "998\n",
      "999\n",
      "1000\n",
      "1001\n",
      "1002\n",
      "1003\n"
     ]
    },
    {
     "name": "stderr",
     "output_type": "stream",
     "text": [
      "  9%|9         |9/100[00:01<00:10, 8.90it/s]\n"
     ]
    },
    {
     "name": "stdout",
     "output_type": "stream",
     "text": [
      "1004\n",
      "1005\n",
      "1006\n",
      "1007\n",
      "1008\n",
      "1009\n",
      "1010\n",
      "1011\n",
      "1012\n",
      "1013\n",
      "1014\n",
      "1015\n",
      "1016\n",
      "1017\n",
      "1018\n",
      "1019\n",
      "1020\n",
      "1021\n",
      "1022\n",
      "1023\n",
      "1024\n",
      "1025\n",
      "1026\n",
      "1027\n",
      "1028\n",
      "1029\n",
      "1030\n",
      "1031\n",
      "1032\n",
      "1033\n",
      "1034\n",
      "1035\n",
      "1036\n",
      "1037\n",
      "1038\n",
      "1039\n",
      "1040\n",
      "1041\n",
      "1042\n",
      "1043\n",
      "1044\n",
      "1045\n",
      "1046\n"
     ]
    },
    {
     "name": "stderr",
     "output_type": "stream",
     "text": [
      "\r",
      "  0%|          |0/100[00:00<?,?it/s]"
     ]
    },
    {
     "name": "stdout",
     "output_type": "stream",
     "text": [
      "1047\n",
      "1048\n",
      "1049\n",
      "1050\n",
      "1051\n"
     ]
    },
    {
     "name": "stderr",
     "output_type": "stream",
     "text": [
      "  9%|9         |9/100[00:01<00:10, 8.91it/s]"
     ]
    },
    {
     "name": "stdout",
     "output_type": "stream",
     "text": [
      "1052\n",
      "1053\n",
      "1054\n",
      "1055\n",
      "1056\n",
      "1057\n",
      "1058\n",
      "1059\n"
     ]
    },
    {
     "name": "stderr",
     "output_type": "stream",
     "text": [
      "\n"
     ]
    }
   ],
   "source": [
    "print(\"Samples needed: {}\".format(needed_minus1))\n",
    "synth_minus1 = sample_needed_label(needed_minus1, '-1')"
   ]
  },
  {
   "cell_type": "code",
   "execution_count": null,
   "metadata": {
    "ExecuteTime": {
     "start_time": "2019-08-11T06:04:46.211Z"
    },
    "scrolled": true
   },
   "outputs": [
    {
     "name": "stderr",
     "output_type": "stream",
     "text": [
      "\r",
      "  0%|          |0/100[00:00<?,?it/s]"
     ]
    },
    {
     "name": "stdout",
     "output_type": "stream",
     "text": [
      "Samples needed: 570\n"
     ]
    },
    {
     "name": "stderr",
     "output_type": "stream",
     "text": [
      "  9%|9         |9/100[00:01<00:11, 8.27it/s]\n",
      "  9%|9         |9/100[00:01<00:12, 7.44it/s]\n",
      "  9%|9         |9/100[00:01<00:11, 7.68it/s]\n",
      "  9%|9         |9/100[00:01<00:10, 8.89it/s]\n",
      "  9%|9         |9/100[00:01<00:10, 8.59it/s]\n",
      "  9%|9         |9/100[00:01<00:10, 8.89it/s]\n",
      "  0%|          |0/100[00:00<?,?it/s]"
     ]
    },
    {
     "name": "stdout",
     "output_type": "stream",
     "text": [
      "1\n"
     ]
    },
    {
     "name": "stderr",
     "output_type": "stream",
     "text": [
      "  9%|9         |9/100[00:01<00:10, 8.87it/s]\n",
      "  9%|9         |9/100[00:01<00:10, 8.37it/s]\n",
      "  0%|          |0/100[00:00<?,?it/s]"
     ]
    },
    {
     "name": "stdout",
     "output_type": "stream",
     "text": [
      "2\n",
      "3\n"
     ]
    },
    {
     "name": "stderr",
     "output_type": "stream",
     "text": [
      "  9%|9         |9/100[00:01<00:10, 8.81it/s]\n",
      "  9%|9         |9/100[00:01<00:10, 8.91it/s]\n",
      "  0%|          |0/100[00:00<?,?it/s]"
     ]
    },
    {
     "name": "stdout",
     "output_type": "stream",
     "text": [
      "4\n"
     ]
    },
    {
     "name": "stderr",
     "output_type": "stream",
     "text": [
      "  9%|9         |9/100[00:01<00:11, 7.76it/s]\n",
      "  9%|9         |9/100[00:01<00:10, 8.55it/s]\n",
      "  9%|9         |9/100[00:01<00:10, 8.56it/s]\n",
      "  9%|9         |9/100[00:01<00:10, 8.87it/s]\n",
      "  9%|9         |9/100[00:01<00:10, 8.87it/s]\n",
      "  9%|9         |9/100[00:01<00:10, 8.94it/s]\n",
      "  0%|          |0/100[00:00<?,?it/s]"
     ]
    },
    {
     "name": "stdout",
     "output_type": "stream",
     "text": [
      "5\n"
     ]
    },
    {
     "name": "stderr",
     "output_type": "stream",
     "text": [
      "  9%|9         |9/100[00:01<00:10, 8.82it/s]\n",
      "  9%|9         |9/100[00:01<00:10, 8.32it/s]\n",
      "  9%|9         |9/100[00:01<00:10, 8.87it/s]\n",
      "  0%|          |0/100[00:00<?,?it/s]"
     ]
    },
    {
     "name": "stdout",
     "output_type": "stream",
     "text": [
      "6\n"
     ]
    },
    {
     "name": "stderr",
     "output_type": "stream",
     "text": [
      "  9%|9         |9/100[00:01<00:10, 8.87it/s]\n",
      "  9%|9         |9/100[00:01<00:11, 7.83it/s]\n",
      "  0%|          |0/100[00:00<?,?it/s]"
     ]
    },
    {
     "name": "stdout",
     "output_type": "stream",
     "text": [
      "7\n"
     ]
    },
    {
     "name": "stderr",
     "output_type": "stream",
     "text": [
      "  9%|9         |9/100[00:01<00:10, 8.61it/s]\n",
      "  9%|9         |9/100[00:01<00:10, 8.89it/s]\n",
      "  9%|9         |9/100[00:01<00:10, 8.87it/s]\n",
      "  9%|9         |9/100[00:01<00:10, 8.63it/s]\n",
      "  9%|9         |9/100[00:01<00:10, 8.41it/s]\n",
      "  9%|9         |9/100[00:01<00:10, 8.88it/s]\n",
      "  9%|9         |9/100[00:01<00:10, 8.51it/s]\n",
      "  9%|9         |9/100[00:01<00:10, 8.57it/s]\n",
      "  9%|9         |9/100[00:01<00:10, 8.89it/s]\n",
      "  9%|9         |9/100[00:01<00:10, 8.93it/s]\n",
      "  9%|9         |9/100[00:01<00:10, 8.69it/s]\n",
      "  0%|          |0/100[00:00<?,?it/s]"
     ]
    },
    {
     "name": "stdout",
     "output_type": "stream",
     "text": [
      "8\n"
     ]
    },
    {
     "name": "stderr",
     "output_type": "stream",
     "text": [
      "  9%|9         |9/100[00:01<00:10, 8.91it/s]\n",
      "  9%|9         |9/100[00:01<00:10, 8.52it/s]\n",
      "  9%|9         |9/100[00:01<00:10, 8.86it/s]\n",
      "  9%|9         |9/100[00:01<00:10, 8.90it/s]\n",
      "  9%|9         |9/100[00:01<00:11, 7.83it/s]\n",
      "  0%|          |0/100[00:00<?,?it/s]"
     ]
    },
    {
     "name": "stdout",
     "output_type": "stream",
     "text": [
      "9\n",
      "10\n"
     ]
    },
    {
     "name": "stderr",
     "output_type": "stream",
     "text": [
      "  9%|9         |9/100[00:01<00:10, 8.92it/s]\n",
      "  9%|9         |9/100[00:01<00:10, 8.88it/s]\n",
      "  9%|9         |9/100[00:01<00:10, 8.91it/s]\n",
      "  0%|          |0/100[00:00<?,?it/s]"
     ]
    },
    {
     "name": "stdout",
     "output_type": "stream",
     "text": [
      "11\n"
     ]
    },
    {
     "name": "stderr",
     "output_type": "stream",
     "text": [
      "  9%|9         |9/100[00:01<00:10, 8.90it/s]\n",
      "  0%|          |0/100[00:00<?,?it/s]"
     ]
    },
    {
     "name": "stdout",
     "output_type": "stream",
     "text": [
      "12\n"
     ]
    },
    {
     "name": "stderr",
     "output_type": "stream",
     "text": [
      "  9%|9         |9/100[00:01<00:11, 7.89it/s]\n",
      "  9%|9         |9/100[00:01<00:10, 8.76it/s]\n",
      "  9%|9         |9/100[00:01<00:10, 8.90it/s]\n",
      "  9%|9         |9/100[00:01<00:10, 8.88it/s]\n",
      "  0%|          |0/100[00:00<?,?it/s]"
     ]
    },
    {
     "name": "stdout",
     "output_type": "stream",
     "text": [
      "13\n"
     ]
    },
    {
     "name": "stderr",
     "output_type": "stream",
     "text": [
      "  9%|9         |9/100[00:01<00:10, 8.57it/s]\n",
      "  0%|          |0/100[00:00<?,?it/s]"
     ]
    },
    {
     "name": "stdout",
     "output_type": "stream",
     "text": [
      "14\n"
     ]
    },
    {
     "name": "stderr",
     "output_type": "stream",
     "text": [
      "  9%|9         |9/100[00:01<00:11, 8.00it/s]\n",
      "  0%|          |0/100[00:00<?,?it/s]"
     ]
    },
    {
     "name": "stdout",
     "output_type": "stream",
     "text": [
      "15\n"
     ]
    },
    {
     "name": "stderr",
     "output_type": "stream",
     "text": [
      "  9%|9         |9/100[00:01<00:10, 8.64it/s]\n",
      "  0%|          |0/100[00:00<?,?it/s]"
     ]
    },
    {
     "name": "stdout",
     "output_type": "stream",
     "text": [
      "16\n",
      "17\n"
     ]
    },
    {
     "name": "stderr",
     "output_type": "stream",
     "text": [
      "  9%|9         |9/100[00:01<00:10, 8.53it/s]\n",
      "  0%|          |0/100[00:00<?,?it/s]"
     ]
    },
    {
     "name": "stdout",
     "output_type": "stream",
     "text": [
      "18\n"
     ]
    },
    {
     "name": "stderr",
     "output_type": "stream",
     "text": [
      "  9%|9         |9/100[00:01<00:10, 8.62it/s]\n",
      "  9%|9         |9/100[00:01<00:10, 8.86it/s]\n",
      "  0%|          |0/100[00:00<?,?it/s]"
     ]
    },
    {
     "name": "stdout",
     "output_type": "stream",
     "text": [
      "19\n",
      "20\n"
     ]
    },
    {
     "name": "stderr",
     "output_type": "stream",
     "text": [
      "  9%|9         |9/100[00:01<00:10, 8.88it/s]\n",
      "  0%|          |0/100[00:00<?,?it/s]"
     ]
    },
    {
     "name": "stdout",
     "output_type": "stream",
     "text": [
      "21\n"
     ]
    },
    {
     "name": "stderr",
     "output_type": "stream",
     "text": [
      "  9%|9         |9/100[00:01<00:10, 8.88it/s]\n",
      "  0%|          |0/100[00:00<?,?it/s]"
     ]
    },
    {
     "name": "stdout",
     "output_type": "stream",
     "text": [
      "22\n"
     ]
    },
    {
     "name": "stderr",
     "output_type": "stream",
     "text": [
      "  9%|9         |9/100[00:01<00:11, 8.05it/s]\n",
      "  9%|9         |9/100[00:01<00:10, 8.89it/s]\n",
      "  9%|9         |9/100[00:01<00:10, 8.88it/s]\n",
      "  9%|9         |9/100[00:01<00:10, 8.92it/s]\n",
      "  9%|9         |9/100[00:01<00:10, 8.87it/s]\n",
      "  0%|          |0/100[00:00<?,?it/s]"
     ]
    },
    {
     "name": "stdout",
     "output_type": "stream",
     "text": [
      "23\n"
     ]
    },
    {
     "name": "stderr",
     "output_type": "stream",
     "text": [
      "  9%|9         |9/100[00:01<00:10, 8.89it/s]\n",
      "  9%|9         |9/100[00:01<00:10, 8.95it/s]\n",
      "  0%|          |0/100[00:00<?,?it/s]"
     ]
    },
    {
     "name": "stdout",
     "output_type": "stream",
     "text": [
      "24\n"
     ]
    },
    {
     "name": "stderr",
     "output_type": "stream",
     "text": [
      "  9%|9         |9/100[00:01<00:10, 8.60it/s]\n",
      "  9%|9         |9/100[00:01<00:10, 8.86it/s]\n",
      "  0%|          |0/100[00:00<?,?it/s]"
     ]
    },
    {
     "name": "stdout",
     "output_type": "stream",
     "text": [
      "25\n"
     ]
    },
    {
     "name": "stderr",
     "output_type": "stream",
     "text": [
      "  9%|9         |9/100[00:01<00:10, 8.90it/s]\n",
      "  9%|9         |9/100[00:01<00:10, 8.89it/s]\n",
      "  9%|9         |9/100[00:01<00:10, 8.88it/s]\n",
      "  9%|9         |9/100[00:01<00:10, 8.89it/s]\n",
      "  9%|9         |9/100[00:01<00:10, 8.43it/s]\n",
      "  9%|9         |9/100[00:01<00:10, 8.87it/s]\n",
      "  0%|          |0/100[00:00<?,?it/s]"
     ]
    },
    {
     "name": "stdout",
     "output_type": "stream",
     "text": [
      "26\n"
     ]
    },
    {
     "name": "stderr",
     "output_type": "stream",
     "text": [
      "  9%|9         |9/100[00:01<00:10, 8.55it/s]\n",
      "  0%|          |0/100[00:00<?,?it/s]"
     ]
    },
    {
     "name": "stdout",
     "output_type": "stream",
     "text": [
      "27\n",
      "28\n"
     ]
    },
    {
     "name": "stderr",
     "output_type": "stream",
     "text": [
      "  9%|9         |9/100[00:01<00:10, 8.54it/s]\n",
      "  9%|9         |9/100[00:01<00:10, 8.88it/s]\n",
      "  9%|9         |9/100[00:01<00:11, 8.02it/s]\n",
      "  9%|9         |9/100[00:01<00:10, 8.34it/s]\n",
      "  0%|          |0/100[00:00<?,?it/s]"
     ]
    },
    {
     "name": "stdout",
     "output_type": "stream",
     "text": [
      "29\n"
     ]
    },
    {
     "name": "stderr",
     "output_type": "stream",
     "text": [
      "  9%|9         |9/100[00:01<00:10, 8.87it/s]\n",
      "  9%|9         |9/100[00:01<00:13, 6.57it/s]\n",
      "  0%|          |0/100[00:00<?,?it/s]"
     ]
    },
    {
     "name": "stdout",
     "output_type": "stream",
     "text": [
      "30\n"
     ]
    },
    {
     "name": "stderr",
     "output_type": "stream",
     "text": [
      "  9%|9         |9/100[00:01<00:10, 8.92it/s]\n",
      "  9%|9         |9/100[00:01<00:10, 8.92it/s]\n",
      "  0%|          |0/100[00:00<?,?it/s]"
     ]
    },
    {
     "name": "stdout",
     "output_type": "stream",
     "text": [
      "31\n"
     ]
    },
    {
     "name": "stderr",
     "output_type": "stream",
     "text": [
      "  9%|9         |9/100[00:01<00:11, 7.59it/s]\n",
      "  9%|9         |9/100[00:01<00:10, 8.90it/s]\n",
      "  9%|9         |9/100[00:01<00:10, 8.90it/s]\n",
      "  9%|9         |9/100[00:01<00:11, 8.11it/s]\n",
      "  0%|          |0/100[00:00<?,?it/s]"
     ]
    },
    {
     "name": "stdout",
     "output_type": "stream",
     "text": [
      "32\n"
     ]
    },
    {
     "name": "stderr",
     "output_type": "stream",
     "text": [
      "  9%|9         |9/100[00:01<00:10, 8.91it/s]\n",
      "  0%|          |0/100[00:00<?,?it/s]"
     ]
    },
    {
     "name": "stdout",
     "output_type": "stream",
     "text": [
      "33\n"
     ]
    },
    {
     "name": "stderr",
     "output_type": "stream",
     "text": [
      "  9%|9         |9/100[00:01<00:10, 8.78it/s]\n",
      "  0%|          |0/100[00:00<?,?it/s]"
     ]
    },
    {
     "name": "stdout",
     "output_type": "stream",
     "text": [
      "34\n"
     ]
    },
    {
     "name": "stderr",
     "output_type": "stream",
     "text": [
      "  9%|9         |9/100[00:01<00:11, 7.74it/s]\n",
      "  0%|          |0/100[00:00<?,?it/s]"
     ]
    },
    {
     "name": "stdout",
     "output_type": "stream",
     "text": [
      "35\n"
     ]
    },
    {
     "name": "stderr",
     "output_type": "stream",
     "text": [
      "  9%|9         |9/100[00:01<00:10, 8.86it/s]\n",
      "  0%|          |0/100[00:00<?,?it/s]"
     ]
    },
    {
     "name": "stdout",
     "output_type": "stream",
     "text": [
      "36\n"
     ]
    },
    {
     "name": "stderr",
     "output_type": "stream",
     "text": [
      "  9%|9         |9/100[00:01<00:10, 8.34it/s]\n",
      "  0%|          |0/100[00:00<?,?it/s]"
     ]
    },
    {
     "name": "stdout",
     "output_type": "stream",
     "text": [
      "37\n"
     ]
    },
    {
     "name": "stderr",
     "output_type": "stream",
     "text": [
      "  9%|9         |9/100[00:01<00:10, 8.64it/s]\n",
      "  9%|9         |9/100[00:01<00:11, 7.62it/s]\n",
      "  9%|9         |9/100[00:01<00:10, 8.89it/s]\n",
      "  0%|          |0/100[00:00<?,?it/s]"
     ]
    },
    {
     "name": "stdout",
     "output_type": "stream",
     "text": [
      "38\n",
      "39\n"
     ]
    },
    {
     "name": "stderr",
     "output_type": "stream",
     "text": [
      "  9%|9         |9/100[00:01<00:10, 8.44it/s]\n",
      "  9%|9         |9/100[00:01<00:10, 8.90it/s]\n",
      "  0%|          |0/100[00:00<?,?it/s]"
     ]
    },
    {
     "name": "stdout",
     "output_type": "stream",
     "text": [
      "40\n"
     ]
    },
    {
     "name": "stderr",
     "output_type": "stream",
     "text": [
      "  9%|9         |9/100[00:01<00:10, 8.95it/s]\n",
      "  9%|9         |9/100[00:01<00:10, 8.66it/s]\n",
      "  0%|          |0/100[00:00<?,?it/s]"
     ]
    },
    {
     "name": "stdout",
     "output_type": "stream",
     "text": [
      "41\n"
     ]
    },
    {
     "name": "stderr",
     "output_type": "stream",
     "text": [
      "  9%|9         |9/100[00:01<00:10, 8.66it/s]\n",
      "  0%|          |0/100[00:00<?,?it/s]"
     ]
    },
    {
     "name": "stdout",
     "output_type": "stream",
     "text": [
      "42\n"
     ]
    },
    {
     "name": "stderr",
     "output_type": "stream",
     "text": [
      "  9%|9         |9/100[00:01<00:10, 8.52it/s]\n",
      "  9%|9         |9/100[00:01<00:10, 8.93it/s]\n",
      "  0%|          |0/100[00:00<?,?it/s]"
     ]
    },
    {
     "name": "stdout",
     "output_type": "stream",
     "text": [
      "43\n"
     ]
    },
    {
     "name": "stderr",
     "output_type": "stream",
     "text": [
      "  9%|9         |9/100[00:01<00:10, 8.89it/s]\n",
      "  9%|9         |9/100[00:01<00:10, 8.88it/s]\n",
      "  0%|          |0/100[00:00<?,?it/s]"
     ]
    },
    {
     "name": "stdout",
     "output_type": "stream",
     "text": [
      "44\n"
     ]
    },
    {
     "name": "stderr",
     "output_type": "stream",
     "text": [
      "  9%|9         |9/100[00:01<00:10, 8.83it/s]\n",
      "  9%|9         |9/100[00:01<00:10, 8.88it/s]\n",
      "  9%|9         |9/100[00:01<00:10, 8.88it/s]\n",
      "  0%|          |0/100[00:00<?,?it/s]"
     ]
    },
    {
     "name": "stdout",
     "output_type": "stream",
     "text": [
      "45\n"
     ]
    },
    {
     "name": "stderr",
     "output_type": "stream",
     "text": [
      "  9%|9         |9/100[00:01<00:10, 8.91it/s]\n",
      "  9%|9         |9/100[00:01<00:10, 8.69it/s]\n",
      "  9%|9         |9/100[00:01<00:10, 8.30it/s]\n",
      "  9%|9         |9/100[00:01<00:10, 8.50it/s]\n",
      "  9%|9         |9/100[00:01<00:10, 8.90it/s]\n",
      "  0%|          |0/100[00:00<?,?it/s]"
     ]
    },
    {
     "name": "stdout",
     "output_type": "stream",
     "text": [
      "46\n"
     ]
    },
    {
     "name": "stderr",
     "output_type": "stream",
     "text": [
      "  9%|9         |9/100[00:01<00:10, 8.43it/s]\n",
      "  9%|9         |9/100[00:01<00:10, 8.85it/s]\n",
      "  9%|9         |9/100[00:01<00:10, 8.73it/s]\n",
      "  0%|          |0/100[00:00<?,?it/s]"
     ]
    },
    {
     "name": "stdout",
     "output_type": "stream",
     "text": [
      "47\n"
     ]
    },
    {
     "name": "stderr",
     "output_type": "stream",
     "text": [
      "  9%|9         |9/100[00:01<00:10, 8.88it/s]\n",
      "  9%|9         |9/100[00:01<00:10, 8.71it/s]\n",
      "  9%|9         |9/100[00:01<00:10, 8.32it/s]\n",
      "  9%|9         |9/100[00:01<00:10, 8.86it/s]\n",
      "  9%|9         |9/100[00:01<00:10, 8.69it/s]\n",
      "  9%|9         |9/100[00:01<00:10, 8.49it/s]\n",
      "  9%|9         |9/100[00:01<00:10, 8.64it/s]\n",
      "  9%|9         |9/100[00:01<00:10, 8.89it/s]\n",
      "  0%|          |0/100[00:00<?,?it/s]"
     ]
    },
    {
     "name": "stdout",
     "output_type": "stream",
     "text": [
      "48\n"
     ]
    },
    {
     "name": "stderr",
     "output_type": "stream",
     "text": [
      "  9%|9         |9/100[00:01<00:11, 8.18it/s]\n",
      "  9%|9         |9/100[00:01<00:10, 8.54it/s]\n",
      "  9%|9         |9/100[00:01<00:11, 7.77it/s]\n",
      "  9%|9         |9/100[00:01<00:11, 7.70it/s]\n",
      "  0%|          |0/100[00:00<?,?it/s]"
     ]
    },
    {
     "name": "stdout",
     "output_type": "stream",
     "text": [
      "49\n"
     ]
    },
    {
     "name": "stderr",
     "output_type": "stream",
     "text": [
      "  9%|9         |9/100[00:01<00:10, 8.90it/s]\n",
      "  9%|9         |9/100[00:01<00:12, 7.52it/s]\n",
      "  9%|9         |9/100[00:01<00:11, 7.75it/s]\n",
      "  9%|9         |9/100[00:01<00:10, 8.90it/s]\n",
      "  0%|          |0/100[00:00<?,?it/s]"
     ]
    },
    {
     "name": "stdout",
     "output_type": "stream",
     "text": [
      "50\n",
      "51\n"
     ]
    },
    {
     "name": "stderr",
     "output_type": "stream",
     "text": [
      "  9%|9         |9/100[00:01<00:10, 8.88it/s]\n",
      "  0%|          |0/100[00:00<?,?it/s]"
     ]
    },
    {
     "name": "stdout",
     "output_type": "stream",
     "text": [
      "52\n"
     ]
    },
    {
     "name": "stderr",
     "output_type": "stream",
     "text": [
      "  9%|9         |9/100[00:01<00:10, 8.37it/s]\n",
      "  9%|9         |9/100[00:01<00:11, 7.96it/s]\n",
      "  9%|9         |9/100[00:01<00:10, 8.93it/s]\n",
      "  9%|9         |9/100[00:01<00:13, 6.54it/s]\n",
      "  9%|9         |9/100[00:01<00:10, 8.68it/s]\n",
      "  9%|9         |9/100[00:01<00:10, 8.92it/s]\n",
      "  9%|9         |9/100[00:01<00:10, 8.47it/s]\n",
      "  0%|          |0/100[00:00<?,?it/s]"
     ]
    },
    {
     "name": "stdout",
     "output_type": "stream",
     "text": [
      "53\n"
     ]
    },
    {
     "name": "stderr",
     "output_type": "stream",
     "text": [
      "  9%|9         |9/100[00:01<00:10, 8.86it/s]\n",
      "  9%|9         |9/100[00:01<00:10, 8.92it/s]\n",
      "  0%|          |0/100[00:00<?,?it/s]"
     ]
    },
    {
     "name": "stdout",
     "output_type": "stream",
     "text": [
      "54\n"
     ]
    },
    {
     "name": "stderr",
     "output_type": "stream",
     "text": [
      "  9%|9         |9/100[00:01<00:10, 8.85it/s]\n",
      "  0%|          |0/100[00:00<?,?it/s]"
     ]
    },
    {
     "name": "stdout",
     "output_type": "stream",
     "text": [
      "55\n"
     ]
    },
    {
     "name": "stderr",
     "output_type": "stream",
     "text": [
      "  9%|9         |9/100[00:01<00:10, 8.53it/s]\n",
      "  0%|          |0/100[00:00<?,?it/s]"
     ]
    },
    {
     "name": "stdout",
     "output_type": "stream",
     "text": [
      "56\n"
     ]
    },
    {
     "name": "stderr",
     "output_type": "stream",
     "text": [
      "  9%|9         |9/100[00:01<00:11, 8.22it/s]\n",
      "  9%|9         |9/100[00:01<00:10, 8.60it/s]\n",
      "  0%|          |0/100[00:00<?,?it/s]"
     ]
    },
    {
     "name": "stdout",
     "output_type": "stream",
     "text": [
      "57\n"
     ]
    },
    {
     "name": "stderr",
     "output_type": "stream",
     "text": [
      "  9%|9         |9/100[00:01<00:10, 8.84it/s]\n",
      "  9%|9         |9/100[00:01<00:10, 8.82it/s]\n",
      "  9%|9         |9/100[00:01<00:10, 8.87it/s]\n",
      "  0%|          |0/100[00:00<?,?it/s]"
     ]
    },
    {
     "name": "stdout",
     "output_type": "stream",
     "text": [
      "58\n"
     ]
    },
    {
     "name": "stderr",
     "output_type": "stream",
     "text": [
      "  9%|9         |9/100[00:01<00:10, 8.88it/s]\n",
      "  9%|9         |9/100[00:01<00:10, 8.89it/s]\n",
      "  0%|          |0/100[00:00<?,?it/s]"
     ]
    },
    {
     "name": "stdout",
     "output_type": "stream",
     "text": [
      "59\n",
      "60\n"
     ]
    },
    {
     "name": "stderr",
     "output_type": "stream",
     "text": [
      "  9%|9         |9/100[00:01<00:10, 8.90it/s]\n",
      "  9%|9         |9/100[00:01<00:10, 8.92it/s]\n",
      "  9%|9         |9/100[00:01<00:10, 8.86it/s]\n",
      "  9%|9         |9/100[00:01<00:10, 8.41it/s]\n",
      "  9%|9         |9/100[00:01<00:11, 8.02it/s]\n",
      "  9%|9         |9/100[00:01<00:11, 7.96it/s]\n",
      "  9%|9         |9/100[00:01<00:11, 8.00it/s]\n",
      "  9%|9         |9/100[00:01<00:10, 8.29it/s]\n",
      "  9%|9         |9/100[00:01<00:10, 8.71it/s]\n",
      "  0%|          |0/100[00:00<?,?it/s]"
     ]
    },
    {
     "name": "stdout",
     "output_type": "stream",
     "text": [
      "61\n",
      "62\n"
     ]
    },
    {
     "name": "stderr",
     "output_type": "stream",
     "text": [
      "  9%|9         |9/100[00:01<00:10, 8.40it/s]\n",
      "  9%|9         |9/100[00:01<00:10, 8.89it/s]\n",
      "  9%|9         |9/100[00:01<00:10, 8.82it/s]\n",
      "  0%|          |0/100[00:00<?,?it/s]"
     ]
    },
    {
     "name": "stdout",
     "output_type": "stream",
     "text": [
      "63\n"
     ]
    },
    {
     "name": "stderr",
     "output_type": "stream",
     "text": [
      "  9%|9         |9/100[00:01<00:10, 8.88it/s]\n",
      "  9%|9         |9/100[00:01<00:10, 8.91it/s]\n",
      "  9%|9         |9/100[00:01<00:11, 7.82it/s]\n",
      "  9%|9         |9/100[00:01<00:10, 8.90it/s]\n",
      "  9%|9         |9/100[00:01<00:10, 8.87it/s]\n",
      "  9%|9         |9/100[00:01<00:10, 8.87it/s]\n",
      "  9%|9         |9/100[00:01<00:10, 8.66it/s]\n",
      "  9%|9         |9/100[00:01<00:10, 8.86it/s]\n",
      "  9%|9         |9/100[00:01<00:10, 8.84it/s]\n",
      "  9%|9         |9/100[00:01<00:10, 8.87it/s]\n",
      "  0%|          |0/100[00:00<?,?it/s]"
     ]
    },
    {
     "name": "stdout",
     "output_type": "stream",
     "text": [
      "64\n"
     ]
    },
    {
     "name": "stderr",
     "output_type": "stream",
     "text": [
      "  9%|9         |9/100[00:01<00:10, 8.88it/s]\n",
      "  0%|          |0/100[00:00<?,?it/s]"
     ]
    },
    {
     "name": "stdout",
     "output_type": "stream",
     "text": [
      "65\n"
     ]
    },
    {
     "name": "stderr",
     "output_type": "stream",
     "text": [
      "  9%|9         |9/100[00:01<00:10, 8.89it/s]\n",
      "  0%|          |0/100[00:00<?,?it/s]"
     ]
    },
    {
     "name": "stdout",
     "output_type": "stream",
     "text": [
      "66\n"
     ]
    },
    {
     "name": "stderr",
     "output_type": "stream",
     "text": [
      "  9%|9         |9/100[00:01<00:10, 8.69it/s]\n",
      "  0%|          |0/100[00:00<?,?it/s]"
     ]
    },
    {
     "name": "stdout",
     "output_type": "stream",
     "text": [
      "67\n"
     ]
    },
    {
     "name": "stderr",
     "output_type": "stream",
     "text": [
      "  9%|9         |9/100[00:01<00:10, 8.92it/s]\n",
      "  9%|9         |9/100[00:01<00:10, 8.42it/s]\n",
      "  0%|          |0/100[00:00<?,?it/s]"
     ]
    },
    {
     "name": "stdout",
     "output_type": "stream",
     "text": [
      "68\n"
     ]
    },
    {
     "name": "stderr",
     "output_type": "stream",
     "text": [
      "  9%|9         |9/100[00:01<00:10, 8.43it/s]\n",
      "  9%|9         |9/100[00:01<00:10, 8.85it/s]\n",
      "  9%|9         |9/100[00:01<00:11, 7.83it/s]\n",
      "  9%|9         |9/100[00:01<00:10, 8.88it/s]\n",
      "  9%|9         |9/100[00:01<00:10, 8.81it/s]\n",
      "  9%|9         |9/100[00:01<00:10, 8.88it/s]\n",
      "  0%|          |0/100[00:00<?,?it/s]"
     ]
    },
    {
     "name": "stdout",
     "output_type": "stream",
     "text": [
      "69\n"
     ]
    },
    {
     "name": "stderr",
     "output_type": "stream",
     "text": [
      "  9%|9         |9/100[00:01<00:10, 8.58it/s]\n",
      "  9%|9         |9/100[00:01<00:10, 8.35it/s]\n",
      "  0%|          |0/100[00:00<?,?it/s]"
     ]
    },
    {
     "name": "stdout",
     "output_type": "stream",
     "text": [
      "70\n"
     ]
    },
    {
     "name": "stderr",
     "output_type": "stream",
     "text": [
      "  9%|9         |9/100[00:01<00:11, 8.22it/s]\n",
      "  0%|          |0/100[00:00<?,?it/s]"
     ]
    },
    {
     "name": "stdout",
     "output_type": "stream",
     "text": [
      "71\n"
     ]
    },
    {
     "name": "stderr",
     "output_type": "stream",
     "text": [
      "  9%|9         |9/100[00:01<00:10, 8.77it/s]\n",
      "  9%|9         |9/100[00:01<00:10, 8.91it/s]\n",
      "  0%|          |0/100[00:00<?,?it/s]"
     ]
    },
    {
     "name": "stdout",
     "output_type": "stream",
     "text": [
      "72\n"
     ]
    },
    {
     "name": "stderr",
     "output_type": "stream",
     "text": [
      "  9%|9         |9/100[00:01<00:10, 8.89it/s]\n",
      "  0%|          |0/100[00:00<?,?it/s]"
     ]
    },
    {
     "name": "stdout",
     "output_type": "stream",
     "text": [
      "73\n"
     ]
    },
    {
     "name": "stderr",
     "output_type": "stream",
     "text": [
      "  9%|9         |9/100[00:01<00:10, 8.88it/s]\n",
      "  0%|          |0/100[00:00<?,?it/s]"
     ]
    },
    {
     "name": "stdout",
     "output_type": "stream",
     "text": [
      "74\n",
      "75\n"
     ]
    },
    {
     "name": "stderr",
     "output_type": "stream",
     "text": [
      "  9%|9         |9/100[00:01<00:10, 8.33it/s]\n",
      "  9%|9         |9/100[00:01<00:10, 8.89it/s]\n",
      "  0%|          |0/100[00:00<?,?it/s]"
     ]
    },
    {
     "name": "stdout",
     "output_type": "stream",
     "text": [
      "76\n"
     ]
    },
    {
     "name": "stderr",
     "output_type": "stream",
     "text": [
      "  9%|9         |9/100[00:01<00:10, 8.51it/s]\n",
      "  9%|9         |9/100[00:01<00:10, 8.87it/s]\n",
      "  9%|9         |9/100[00:01<00:10, 8.74it/s]\n",
      "  0%|          |0/100[00:00<?,?it/s]"
     ]
    },
    {
     "name": "stdout",
     "output_type": "stream",
     "text": [
      "77\n"
     ]
    },
    {
     "name": "stderr",
     "output_type": "stream",
     "text": [
      "  9%|9         |9/100[00:01<00:10, 8.83it/s]\n",
      "  0%|          |0/100[00:00<?,?it/s]"
     ]
    },
    {
     "name": "stdout",
     "output_type": "stream",
     "text": [
      "78\n"
     ]
    },
    {
     "name": "stderr",
     "output_type": "stream",
     "text": [
      "  9%|9         |9/100[00:01<00:10, 8.89it/s]\n",
      "  9%|9         |9/100[00:01<00:10, 8.91it/s]\n",
      "  0%|          |0/100[00:00<?,?it/s]"
     ]
    },
    {
     "name": "stdout",
     "output_type": "stream",
     "text": [
      "79\n"
     ]
    },
    {
     "name": "stderr",
     "output_type": "stream",
     "text": [
      "  9%|9         |9/100[00:01<00:11, 8.18it/s]\n",
      "  0%|          |0/100[00:00<?,?it/s]"
     ]
    },
    {
     "name": "stdout",
     "output_type": "stream",
     "text": [
      "80\n"
     ]
    },
    {
     "name": "stderr",
     "output_type": "stream",
     "text": [
      "  9%|9         |9/100[00:01<00:10, 8.83it/s]\n",
      "  9%|9         |9/100[00:01<00:10, 8.88it/s]\n",
      "  0%|          |0/100[00:00<?,?it/s]"
     ]
    },
    {
     "name": "stdout",
     "output_type": "stream",
     "text": [
      "81\n",
      "82\n"
     ]
    },
    {
     "name": "stderr",
     "output_type": "stream",
     "text": [
      "  9%|9         |9/100[00:01<00:11, 8.23it/s]\n",
      "  9%|9         |9/100[00:01<00:10, 8.86it/s]\n",
      "  0%|          |0/100[00:00<?,?it/s]"
     ]
    },
    {
     "name": "stdout",
     "output_type": "stream",
     "text": [
      "83\n",
      "84\n"
     ]
    },
    {
     "name": "stderr",
     "output_type": "stream",
     "text": [
      "  9%|9         |9/100[00:01<00:10, 8.66it/s]\n",
      "  9%|9         |9/100[00:01<00:10, 8.91it/s]\n",
      "  9%|9         |9/100[00:00<00:09, 9.11it/s]\n",
      "  9%|9         |9/100[00:00<00:09, 9.13it/s]\n",
      "  9%|9         |9/100[00:00<00:10, 9.03it/s]\n",
      "  9%|9         |9/100[00:00<00:10, 9.07it/s]\n",
      "  0%|          |0/100[00:00<?,?it/s]"
     ]
    },
    {
     "name": "stdout",
     "output_type": "stream",
     "text": [
      "85\n",
      "86\n"
     ]
    },
    {
     "name": "stderr",
     "output_type": "stream",
     "text": [
      "  9%|9         |9/100[00:00<00:09, 9.17it/s]\n",
      "  0%|          |0/100[00:00<?,?it/s]"
     ]
    },
    {
     "name": "stdout",
     "output_type": "stream",
     "text": [
      "87\n"
     ]
    },
    {
     "name": "stderr",
     "output_type": "stream",
     "text": [
      "  9%|9         |9/100[00:00<00:09, 9.13it/s]\n",
      "  9%|9         |9/100[00:00<00:10, 9.06it/s]\n",
      "  0%|          |0/100[00:00<?,?it/s]"
     ]
    },
    {
     "name": "stdout",
     "output_type": "stream",
     "text": [
      "88\n"
     ]
    },
    {
     "name": "stderr",
     "output_type": "stream",
     "text": [
      "  9%|9         |9/100[00:01<00:10, 8.88it/s]\n",
      "  9%|9         |9/100[00:01<00:10, 8.75it/s]\n",
      "  9%|9         |9/100[00:01<00:10, 8.88it/s]\n",
      "  0%|          |0/100[00:00<?,?it/s]"
     ]
    },
    {
     "name": "stdout",
     "output_type": "stream",
     "text": [
      "89\n"
     ]
    },
    {
     "name": "stderr",
     "output_type": "stream",
     "text": [
      "  9%|9         |9/100[00:01<00:10, 8.56it/s]\n",
      "  9%|9         |9/100[00:01<00:10, 8.34it/s]\n",
      "  0%|          |0/100[00:00<?,?it/s]"
     ]
    },
    {
     "name": "stdout",
     "output_type": "stream",
     "text": [
      "90\n"
     ]
    },
    {
     "name": "stderr",
     "output_type": "stream",
     "text": [
      "  9%|9         |9/100[00:01<00:10, 8.82it/s]\n",
      "  9%|9         |9/100[00:01<00:12, 7.44it/s]\n",
      "  0%|          |0/100[00:00<?,?it/s]"
     ]
    },
    {
     "name": "stdout",
     "output_type": "stream",
     "text": [
      "91\n"
     ]
    },
    {
     "name": "stderr",
     "output_type": "stream",
     "text": [
      "  9%|9         |9/100[00:01<00:11, 8.12it/s]\n",
      "  9%|9         |9/100[00:01<00:10, 8.89it/s]\n",
      "  0%|          |0/100[00:00<?,?it/s]"
     ]
    },
    {
     "name": "stdout",
     "output_type": "stream",
     "text": [
      "92\n"
     ]
    },
    {
     "name": "stderr",
     "output_type": "stream",
     "text": [
      "  9%|9         |9/100[00:01<00:10, 8.87it/s]\n",
      "  9%|9         |9/100[00:01<00:10, 8.86it/s]\n",
      "  9%|9         |9/100[00:01<00:10, 8.39it/s]\n",
      "  9%|9         |9/100[00:01<00:10, 8.83it/s]\n",
      "  0%|          |0/100[00:00<?,?it/s]"
     ]
    },
    {
     "name": "stdout",
     "output_type": "stream",
     "text": [
      "93\n",
      "94\n"
     ]
    },
    {
     "name": "stderr",
     "output_type": "stream",
     "text": [
      "  9%|9         |9/100[00:01<00:10, 8.66it/s]\n",
      "  9%|9         |9/100[00:01<00:10, 8.89it/s]\n",
      "  9%|9         |9/100[00:01<00:10, 8.91it/s]\n",
      "  9%|9         |9/100[00:01<00:11, 7.89it/s]\n",
      "  9%|9         |9/100[00:01<00:10, 8.97it/s]\n",
      "  9%|9         |9/100[00:01<00:10, 8.49it/s]\n",
      "  9%|9         |9/100[00:01<00:10, 8.88it/s]\n",
      "  9%|9         |9/100[00:01<00:10, 8.86it/s]\n",
      "  9%|9         |9/100[00:01<00:10, 8.78it/s]\n",
      "  9%|9         |9/100[00:01<00:10, 8.92it/s]\n",
      "  0%|          |0/100[00:00<?,?it/s]"
     ]
    },
    {
     "name": "stdout",
     "output_type": "stream",
     "text": [
      "95\n",
      "96\n"
     ]
    },
    {
     "name": "stderr",
     "output_type": "stream",
     "text": [
      "  9%|9         |9/100[00:01<00:10, 8.90it/s]\n",
      "  9%|9         |9/100[00:01<00:10, 8.46it/s]\n",
      "  9%|9         |9/100[00:01<00:10, 8.89it/s]\n",
      "  9%|9         |9/100[00:01<00:11, 8.12it/s]\n",
      "  0%|          |0/100[00:00<?,?it/s]"
     ]
    },
    {
     "name": "stdout",
     "output_type": "stream",
     "text": [
      "97\n",
      "98\n"
     ]
    },
    {
     "name": "stderr",
     "output_type": "stream",
     "text": [
      "  9%|9         |9/100[00:01<00:10, 8.51it/s]\n",
      "  9%|9         |9/100[00:01<00:10, 8.90it/s]\n",
      "  9%|9         |9/100[00:01<00:10, 8.68it/s]\n",
      "  9%|9         |9/100[00:01<00:10, 8.85it/s]\n",
      "  9%|9         |9/100[00:01<00:11, 8.00it/s]\n",
      "  9%|9         |9/100[00:01<00:10, 8.53it/s]\n",
      "  9%|9         |9/100[00:01<00:10, 8.66it/s]\n",
      "  9%|9         |9/100[00:01<00:11, 7.87it/s]\n",
      "  0%|          |0/100[00:00<?,?it/s]"
     ]
    },
    {
     "name": "stdout",
     "output_type": "stream",
     "text": [
      "99\n"
     ]
    },
    {
     "name": "stderr",
     "output_type": "stream",
     "text": [
      "  9%|9         |9/100[00:01<00:11, 8.08it/s]\n",
      "  0%|          |0/100[00:00<?,?it/s]"
     ]
    },
    {
     "name": "stdout",
     "output_type": "stream",
     "text": [
      "100\n",
      "101\n"
     ]
    },
    {
     "name": "stderr",
     "output_type": "stream",
     "text": [
      "  9%|9         |9/100[00:01<00:10, 8.87it/s]\n",
      "  0%|          |0/100[00:00<?,?it/s]"
     ]
    },
    {
     "name": "stdout",
     "output_type": "stream",
     "text": [
      "102\n"
     ]
    },
    {
     "name": "stderr",
     "output_type": "stream",
     "text": [
      "  9%|9         |9/100[00:01<00:10, 8.57it/s]\n",
      "  9%|9         |9/100[00:01<00:10, 8.55it/s]\n",
      "  9%|9         |9/100[00:01<00:10, 8.87it/s]\n",
      "  9%|9         |9/100[00:01<00:10, 8.89it/s]\n",
      "  0%|          |0/100[00:00<?,?it/s]"
     ]
    },
    {
     "name": "stdout",
     "output_type": "stream",
     "text": [
      "103\n",
      "104\n"
     ]
    },
    {
     "name": "stderr",
     "output_type": "stream",
     "text": [
      "  9%|9         |9/100[00:01<00:10, 8.63it/s]\n",
      "  9%|9         |9/100[00:01<00:11, 8.27it/s]\n",
      "  0%|          |0/100[00:00<?,?it/s]"
     ]
    },
    {
     "name": "stdout",
     "output_type": "stream",
     "text": [
      "105\n"
     ]
    },
    {
     "name": "stderr",
     "output_type": "stream",
     "text": [
      "  9%|9         |9/100[00:01<00:10, 8.84it/s]\n",
      "  0%|          |0/100[00:00<?,?it/s]"
     ]
    },
    {
     "name": "stdout",
     "output_type": "stream",
     "text": [
      "106\n"
     ]
    },
    {
     "name": "stderr",
     "output_type": "stream",
     "text": [
      "  9%|9         |9/100[00:01<00:10, 8.85it/s]\n",
      "  0%|          |0/100[00:00<?,?it/s]"
     ]
    },
    {
     "name": "stdout",
     "output_type": "stream",
     "text": [
      "107\n"
     ]
    },
    {
     "name": "stderr",
     "output_type": "stream",
     "text": [
      "  9%|9         |9/100[00:01<00:10, 8.93it/s]\n",
      "  0%|          |0/100[00:00<?,?it/s]"
     ]
    },
    {
     "name": "stdout",
     "output_type": "stream",
     "text": [
      "108\n"
     ]
    },
    {
     "name": "stderr",
     "output_type": "stream",
     "text": [
      "  9%|9         |9/100[00:01<00:10, 8.68it/s]\n",
      "  9%|9         |9/100[00:01<00:12, 7.36it/s]\n",
      "  9%|9         |9/100[00:01<00:11, 7.79it/s]\n",
      "  0%|          |0/100[00:00<?,?it/s]"
     ]
    },
    {
     "name": "stdout",
     "output_type": "stream",
     "text": [
      "109\n"
     ]
    },
    {
     "name": "stderr",
     "output_type": "stream",
     "text": [
      "  9%|9         |9/100[00:01<00:10, 8.93it/s]\n",
      "  0%|          |0/100[00:00<?,?it/s]"
     ]
    },
    {
     "name": "stdout",
     "output_type": "stream",
     "text": [
      "110\n"
     ]
    },
    {
     "name": "stderr",
     "output_type": "stream",
     "text": [
      "  9%|9         |9/100[00:01<00:10, 8.90it/s]\n",
      "  9%|9         |9/100[00:01<00:10, 8.85it/s]\n",
      "  9%|9         |9/100[00:01<00:10, 8.69it/s]\n",
      "  0%|          |0/100[00:00<?,?it/s]"
     ]
    },
    {
     "name": "stdout",
     "output_type": "stream",
     "text": [
      "111\n"
     ]
    },
    {
     "name": "stderr",
     "output_type": "stream",
     "text": [
      "  9%|9         |9/100[00:01<00:11, 8.19it/s]\n",
      "  9%|9         |9/100[00:01<00:11, 8.13it/s]\n",
      "  9%|9         |9/100[00:01<00:12, 7.44it/s]\n",
      "  9%|9         |9/100[00:01<00:12, 7.25it/s]\n",
      "  9%|9         |9/100[00:01<00:12, 7.57it/s]\n",
      "  9%|9         |9/100[00:01<00:12, 7.22it/s]\n",
      "  9%|9         |9/100[00:01<00:11, 8.05it/s]\n",
      "  0%|          |0/100[00:00<?,?it/s]"
     ]
    },
    {
     "name": "stdout",
     "output_type": "stream",
     "text": [
      "112\n"
     ]
    },
    {
     "name": "stderr",
     "output_type": "stream",
     "text": [
      "  9%|9         |9/100[00:01<00:11, 7.63it/s]\n",
      "  0%|          |0/100[00:00<?,?it/s]"
     ]
    },
    {
     "name": "stdout",
     "output_type": "stream",
     "text": [
      "113\n"
     ]
    },
    {
     "name": "stderr",
     "output_type": "stream",
     "text": [
      "  9%|9         |9/100[00:01<00:12, 7.30it/s]\n",
      "  0%|          |0/100[00:00<?,?it/s]"
     ]
    },
    {
     "name": "stdout",
     "output_type": "stream",
     "text": [
      "114\n"
     ]
    },
    {
     "name": "stderr",
     "output_type": "stream",
     "text": [
      "  9%|9         |9/100[00:01<00:12, 7.16it/s]\n",
      "  0%|          |0/100[00:00<?,?it/s]"
     ]
    },
    {
     "name": "stdout",
     "output_type": "stream",
     "text": [
      "115\n"
     ]
    },
    {
     "name": "stderr",
     "output_type": "stream",
     "text": [
      "  9%|9         |9/100[00:01<00:11, 8.11it/s]\n",
      "  9%|9         |9/100[00:00<00:09, 9.35it/s]\n",
      "  9%|9         |9/100[00:01<00:10, 8.61it/s]\n",
      "  9%|9         |9/100[00:01<00:10, 8.91it/s]\n",
      "  9%|9         |9/100[00:01<00:10, 8.76it/s]\n",
      "  9%|9         |9/100[00:01<00:10, 8.80it/s]\n",
      "  9%|9         |9/100[00:01<00:10, 8.92it/s]\n",
      "  9%|9         |9/100[00:00<00:09, 9.19it/s]\n",
      "  9%|9         |9/100[00:01<00:10, 8.82it/s]\n",
      "  9%|9         |9/100[00:01<00:10, 8.89it/s]\n",
      "  0%|          |0/100[00:00<?,?it/s]"
     ]
    },
    {
     "name": "stdout",
     "output_type": "stream",
     "text": [
      "116\n",
      "117\n"
     ]
    },
    {
     "name": "stderr",
     "output_type": "stream",
     "text": [
      "  9%|9         |9/100[00:01<00:10, 8.78it/s]\n",
      "  9%|9         |9/100[00:01<00:10, 8.97it/s]\n",
      "  9%|9         |9/100[00:01<00:10, 8.90it/s]\n",
      "  0%|          |0/100[00:00<?,?it/s]"
     ]
    },
    {
     "name": "stdout",
     "output_type": "stream",
     "text": [
      "118\n"
     ]
    },
    {
     "name": "stderr",
     "output_type": "stream",
     "text": [
      "  9%|9         |9/100[00:01<00:10, 8.76it/s]\n",
      "  0%|          |0/100[00:00<?,?it/s]"
     ]
    },
    {
     "name": "stdout",
     "output_type": "stream",
     "text": [
      "119\n"
     ]
    },
    {
     "name": "stderr",
     "output_type": "stream",
     "text": [
      "  9%|9         |9/100[00:00<00:09, 9.30it/s]\n",
      "  0%|          |0/100[00:00<?,?it/s]"
     ]
    },
    {
     "name": "stdout",
     "output_type": "stream",
     "text": [
      "120\n"
     ]
    },
    {
     "name": "stderr",
     "output_type": "stream",
     "text": [
      "  9%|9         |9/100[00:01<00:10, 8.90it/s]\n",
      "  9%|9         |9/100[00:01<00:10, 8.43it/s]\n",
      "  0%|          |0/100[00:00<?,?it/s]"
     ]
    },
    {
     "name": "stdout",
     "output_type": "stream",
     "text": [
      "121\n"
     ]
    },
    {
     "name": "stderr",
     "output_type": "stream",
     "text": [
      "  9%|9         |9/100[00:01<00:11, 7.97it/s]\n",
      "  9%|9         |9/100[00:01<00:11, 7.82it/s]\n",
      "  9%|9         |9/100[00:01<00:11, 8.08it/s]\n",
      "  9%|9         |9/100[00:01<00:11, 8.26it/s]\n",
      "  9%|9         |9/100[00:01<00:10, 8.92it/s]\n",
      "  0%|          |0/100[00:00<?,?it/s]"
     ]
    },
    {
     "name": "stdout",
     "output_type": "stream",
     "text": [
      "122\n"
     ]
    },
    {
     "name": "stderr",
     "output_type": "stream",
     "text": [
      "  9%|9         |9/100[00:01<00:10, 8.65it/s]\n",
      "  0%|          |0/100[00:00<?,?it/s]"
     ]
    },
    {
     "name": "stdout",
     "output_type": "stream",
     "text": [
      "123\n"
     ]
    },
    {
     "name": "stderr",
     "output_type": "stream",
     "text": [
      "  9%|9         |9/100[00:01<00:10, 8.88it/s]\n",
      "  0%|          |0/100[00:00<?,?it/s]"
     ]
    },
    {
     "name": "stdout",
     "output_type": "stream",
     "text": [
      "124\n"
     ]
    },
    {
     "name": "stderr",
     "output_type": "stream",
     "text": [
      "  9%|9         |9/100[00:01<00:10, 8.88it/s]\n",
      "  9%|9         |9/100[00:01<00:10, 8.91it/s]\n",
      "  9%|9         |9/100[00:01<00:10, 8.89it/s]\n",
      "  0%|          |0/100[00:00<?,?it/s]"
     ]
    },
    {
     "name": "stdout",
     "output_type": "stream",
     "text": [
      "125\n"
     ]
    },
    {
     "name": "stderr",
     "output_type": "stream",
     "text": [
      "  9%|9         |9/100[00:01<00:10, 8.88it/s]\n",
      "  9%|9         |9/100[00:01<00:10, 8.55it/s]\n",
      "  9%|9         |9/100[00:01<00:10, 8.64it/s]\n",
      "  9%|9         |9/100[00:01<00:10, 8.88it/s]\n",
      "  9%|9         |9/100[00:01<00:10, 8.86it/s]\n",
      "  9%|9         |9/100[00:01<00:10, 8.40it/s]\n",
      "  9%|9         |9/100[00:01<00:10, 8.83it/s]\n",
      "  9%|9         |9/100[00:01<00:10, 8.58it/s]\n",
      "  0%|          |0/100[00:00<?,?it/s]"
     ]
    },
    {
     "name": "stdout",
     "output_type": "stream",
     "text": [
      "126\n"
     ]
    },
    {
     "name": "stderr",
     "output_type": "stream",
     "text": [
      "  9%|9         |9/100[00:01<00:10, 8.85it/s]\n",
      "  0%|          |0/100[00:00<?,?it/s]"
     ]
    },
    {
     "name": "stdout",
     "output_type": "stream",
     "text": [
      "127\n"
     ]
    },
    {
     "name": "stderr",
     "output_type": "stream",
     "text": [
      "  9%|9         |9/100[00:01<00:10, 8.39it/s]\n",
      "  9%|9         |9/100[00:01<00:10, 8.93it/s]\n",
      "  9%|9         |9/100[00:01<00:10, 8.35it/s]\n",
      "  9%|9         |9/100[00:01<00:10, 8.63it/s]\n",
      "  9%|9         |9/100[00:01<00:10, 8.90it/s]\n",
      "  9%|9         |9/100[00:01<00:10, 8.86it/s]\n",
      "  9%|9         |9/100[00:01<00:10, 8.84it/s]\n",
      "  9%|9         |9/100[00:01<00:10, 8.90it/s]\n",
      "  0%|          |0/100[00:00<?,?it/s]"
     ]
    },
    {
     "name": "stdout",
     "output_type": "stream",
     "text": [
      "128\n"
     ]
    },
    {
     "name": "stderr",
     "output_type": "stream",
     "text": [
      "  9%|9         |9/100[00:01<00:10, 8.32it/s]\n",
      "  9%|9         |9/100[00:01<00:10, 8.93it/s]\n",
      "  0%|          |0/100[00:00<?,?it/s]"
     ]
    },
    {
     "name": "stdout",
     "output_type": "stream",
     "text": [
      "129\n"
     ]
    },
    {
     "name": "stderr",
     "output_type": "stream",
     "text": [
      "  9%|9         |9/100[00:01<00:11, 8.27it/s]\n",
      "  9%|9         |9/100[00:01<00:10, 8.83it/s]\n",
      "  0%|          |0/100[00:00<?,?it/s]"
     ]
    },
    {
     "name": "stdout",
     "output_type": "stream",
     "text": [
      "130\n"
     ]
    },
    {
     "name": "stderr",
     "output_type": "stream",
     "text": [
      "  9%|9         |9/100[00:01<00:10, 8.91it/s]\n",
      "  9%|9         |9/100[00:01<00:10, 8.93it/s]\n",
      "  0%|          |0/100[00:00<?,?it/s]"
     ]
    },
    {
     "name": "stdout",
     "output_type": "stream",
     "text": [
      "131\n"
     ]
    },
    {
     "name": "stderr",
     "output_type": "stream",
     "text": [
      "  9%|9         |9/100[00:01<00:12, 7.45it/s]\n",
      "  0%|          |0/100[00:00<?,?it/s]"
     ]
    },
    {
     "name": "stdout",
     "output_type": "stream",
     "text": [
      "132\n"
     ]
    },
    {
     "name": "stderr",
     "output_type": "stream",
     "text": [
      "  9%|9         |9/100[00:01<00:11, 7.90it/s]\n",
      "  0%|          |0/100[00:00<?,?it/s]"
     ]
    },
    {
     "name": "stdout",
     "output_type": "stream",
     "text": [
      "133\n",
      "134\n",
      "135\n"
     ]
    },
    {
     "name": "stderr",
     "output_type": "stream",
     "text": [
      "  9%|9         |9/100[00:01<00:10, 8.87it/s]\n",
      "  0%|          |0/100[00:00<?,?it/s]"
     ]
    },
    {
     "name": "stdout",
     "output_type": "stream",
     "text": [
      "136\n"
     ]
    },
    {
     "name": "stderr",
     "output_type": "stream",
     "text": [
      "  9%|9         |9/100[00:01<00:10, 8.88it/s]\n",
      "  0%|          |0/100[00:00<?,?it/s]"
     ]
    },
    {
     "name": "stdout",
     "output_type": "stream",
     "text": [
      "137\n"
     ]
    },
    {
     "name": "stderr",
     "output_type": "stream",
     "text": [
      "  9%|9         |9/100[00:01<00:10, 8.29it/s]\n",
      "  0%|          |0/100[00:00<?,?it/s]"
     ]
    },
    {
     "name": "stdout",
     "output_type": "stream",
     "text": [
      "138\n"
     ]
    },
    {
     "name": "stderr",
     "output_type": "stream",
     "text": [
      "  9%|9         |9/100[00:01<00:10, 8.85it/s]\n",
      "  9%|9         |9/100[00:01<00:10, 8.88it/s]\n",
      "  0%|          |0/100[00:00<?,?it/s]"
     ]
    },
    {
     "name": "stdout",
     "output_type": "stream",
     "text": [
      "139\n"
     ]
    },
    {
     "name": "stderr",
     "output_type": "stream",
     "text": [
      "  9%|9         |9/100[00:01<00:10, 8.92it/s]\n",
      "  9%|9         |9/100[00:01<00:10, 8.87it/s]\n",
      "  9%|9         |9/100[00:01<00:10, 8.89it/s]\n",
      "  9%|9         |9/100[00:01<00:10, 8.88it/s]\n",
      "  0%|          |0/100[00:00<?,?it/s]"
     ]
    },
    {
     "name": "stdout",
     "output_type": "stream",
     "text": [
      "140\n"
     ]
    },
    {
     "name": "stderr",
     "output_type": "stream",
     "text": [
      "  9%|9         |9/100[00:01<00:10, 8.89it/s]\n",
      "  0%|          |0/100[00:00<?,?it/s]"
     ]
    },
    {
     "name": "stdout",
     "output_type": "stream",
     "text": [
      "141\n"
     ]
    },
    {
     "name": "stderr",
     "output_type": "stream",
     "text": [
      "  9%|9         |9/100[00:01<00:11, 8.25it/s]\n",
      "  9%|9         |9/100[00:01<00:11, 8.12it/s]\n",
      "  9%|9         |9/100[00:01<00:10, 8.89it/s]\n",
      "  9%|9         |9/100[00:01<00:10, 8.90it/s]\n",
      "  9%|9         |9/100[00:01<00:12, 7.38it/s]\n",
      "  9%|9         |9/100[00:01<00:10, 8.68it/s]\n",
      "  9%|9         |9/100[00:01<00:10, 8.28it/s]\n",
      "  0%|          |0/100[00:00<?,?it/s]"
     ]
    },
    {
     "name": "stdout",
     "output_type": "stream",
     "text": [
      "142\n"
     ]
    },
    {
     "name": "stderr",
     "output_type": "stream",
     "text": [
      "  9%|9         |9/100[00:01<00:10, 8.50it/s]\n",
      "  0%|          |0/100[00:00<?,?it/s]"
     ]
    },
    {
     "name": "stdout",
     "output_type": "stream",
     "text": [
      "143\n"
     ]
    },
    {
     "name": "stderr",
     "output_type": "stream",
     "text": [
      "  9%|9         |9/100[00:01<00:10, 8.94it/s]\n",
      "  9%|9         |9/100[00:01<00:11, 8.17it/s]\n",
      "  9%|9         |9/100[00:01<00:10, 8.33it/s]\n",
      "  0%|          |0/100[00:00<?,?it/s]"
     ]
    },
    {
     "name": "stdout",
     "output_type": "stream",
     "text": [
      "144\n"
     ]
    },
    {
     "name": "stderr",
     "output_type": "stream",
     "text": [
      "  9%|9         |9/100[00:01<00:10, 8.91it/s]\n",
      "  9%|9         |9/100[00:01<00:11, 7.87it/s]\n",
      "  9%|9         |9/100[00:01<00:11, 8.11it/s]\n",
      "  0%|          |0/100[00:00<?,?it/s]"
     ]
    },
    {
     "name": "stdout",
     "output_type": "stream",
     "text": [
      "145\n"
     ]
    },
    {
     "name": "stderr",
     "output_type": "stream",
     "text": [
      "  9%|9         |9/100[00:01<00:10, 8.69it/s]\n",
      "  9%|9         |9/100[00:01<00:10, 8.37it/s]\n",
      "  9%|9         |9/100[00:01<00:10, 8.65it/s]\n",
      "  9%|9         |9/100[00:01<00:10, 8.29it/s]\n",
      "  9%|9         |9/100[00:01<00:10, 8.46it/s]\n",
      "  0%|          |0/100[00:00<?,?it/s]"
     ]
    },
    {
     "name": "stdout",
     "output_type": "stream",
     "text": [
      "146\n"
     ]
    },
    {
     "name": "stderr",
     "output_type": "stream",
     "text": [
      "  9%|9         |9/100[00:01<00:10, 8.90it/s]\n",
      "  0%|          |0/100[00:00<?,?it/s]"
     ]
    },
    {
     "name": "stdout",
     "output_type": "stream",
     "text": [
      "147\n"
     ]
    },
    {
     "name": "stderr",
     "output_type": "stream",
     "text": [
      "  9%|9         |9/100[00:01<00:10, 8.89it/s]\n",
      "  9%|9         |9/100[00:01<00:10, 8.88it/s]\n",
      "  0%|          |0/100[00:00<?,?it/s]"
     ]
    },
    {
     "name": "stdout",
     "output_type": "stream",
     "text": [
      "148\n"
     ]
    },
    {
     "name": "stderr",
     "output_type": "stream",
     "text": [
      "  9%|9         |9/100[00:01<00:10, 8.35it/s]\n",
      "  0%|          |0/100[00:00<?,?it/s]"
     ]
    },
    {
     "name": "stdout",
     "output_type": "stream",
     "text": [
      "149\n"
     ]
    },
    {
     "name": "stderr",
     "output_type": "stream",
     "text": [
      "  9%|9         |9/100[00:01<00:10, 8.87it/s]\n",
      "  9%|9         |9/100[00:01<00:10, 8.85it/s]\n",
      "  9%|9         |9/100[00:01<00:10, 8.92it/s]\n",
      "  9%|9         |9/100[00:01<00:10, 8.59it/s]\n",
      "  9%|9         |9/100[00:01<00:10, 8.87it/s]\n",
      "  0%|          |0/100[00:00<?,?it/s]"
     ]
    },
    {
     "name": "stdout",
     "output_type": "stream",
     "text": [
      "150\n"
     ]
    },
    {
     "name": "stderr",
     "output_type": "stream",
     "text": [
      "  9%|9         |9/100[00:01<00:10, 8.87it/s]\n",
      "  0%|          |0/100[00:00<?,?it/s]"
     ]
    },
    {
     "name": "stdout",
     "output_type": "stream",
     "text": [
      "151\n",
      "152\n"
     ]
    },
    {
     "name": "stderr",
     "output_type": "stream",
     "text": [
      "  9%|9         |9/100[00:01<00:11, 8.12it/s]\n",
      "  9%|9         |9/100[00:01<00:10, 8.90it/s]\n",
      "  9%|9         |9/100[00:01<00:10, 8.78it/s]\n",
      "  0%|          |0/100[00:00<?,?it/s]"
     ]
    },
    {
     "name": "stdout",
     "output_type": "stream",
     "text": [
      "153\n"
     ]
    },
    {
     "name": "stderr",
     "output_type": "stream",
     "text": [
      "  9%|9         |9/100[00:01<00:10, 8.88it/s]\n",
      "  9%|9         |9/100[00:01<00:10, 8.49it/s]\n",
      "  0%|          |0/100[00:00<?,?it/s]"
     ]
    },
    {
     "name": "stdout",
     "output_type": "stream",
     "text": [
      "154\n",
      "155\n"
     ]
    },
    {
     "name": "stderr",
     "output_type": "stream",
     "text": [
      "  9%|9         |9/100[00:01<00:10, 8.92it/s]\n",
      "  9%|9         |9/100[00:01<00:10, 8.32it/s]\n",
      "  9%|9         |9/100[00:01<00:10, 8.88it/s]\n",
      "  9%|9         |9/100[00:01<00:12, 7.23it/s]\n",
      "  9%|9         |9/100[00:01<00:11, 7.89it/s]\n",
      "  9%|9         |9/100[00:01<00:10, 8.87it/s]\n",
      "  9%|9         |9/100[00:01<00:10, 8.70it/s]\n",
      "  9%|9         |9/100[00:01<00:10, 8.91it/s]\n",
      "  9%|9         |9/100[00:01<00:10, 8.88it/s]\n",
      "  0%|          |0/100[00:00<?,?it/s]"
     ]
    },
    {
     "name": "stdout",
     "output_type": "stream",
     "text": [
      "156\n"
     ]
    },
    {
     "name": "stderr",
     "output_type": "stream",
     "text": [
      "  9%|9         |9/100[00:01<00:11, 7.98it/s]\n",
      "  9%|9         |9/100[00:01<00:10, 8.65it/s]\n",
      "  0%|          |0/100[00:00<?,?it/s]"
     ]
    },
    {
     "name": "stdout",
     "output_type": "stream",
     "text": [
      "157\n"
     ]
    },
    {
     "name": "stderr",
     "output_type": "stream",
     "text": [
      "  9%|9         |9/100[00:01<00:10, 8.51it/s]\n",
      "  9%|9         |9/100[00:01<00:10, 8.89it/s]\n",
      "  0%|          |0/100[00:00<?,?it/s]"
     ]
    },
    {
     "name": "stdout",
     "output_type": "stream",
     "text": [
      "158\n",
      "159\n"
     ]
    },
    {
     "name": "stderr",
     "output_type": "stream",
     "text": [
      "  9%|9         |9/100[00:01<00:10, 8.85it/s]\n",
      "  9%|9         |9/100[00:01<00:10, 8.80it/s]\n",
      "  9%|9         |9/100[00:01<00:10, 8.57it/s]\n",
      "  9%|9         |9/100[00:01<00:10, 8.31it/s]\n",
      "  9%|9         |9/100[00:01<00:10, 8.88it/s]\n",
      "  9%|9         |9/100[00:01<00:11, 8.21it/s]\n",
      "  9%|9         |9/100[00:01<00:10, 8.83it/s]\n",
      "  9%|9         |9/100[00:01<00:10, 8.89it/s]\n",
      "  9%|9         |9/100[00:01<00:10, 8.91it/s]\n",
      "  9%|9         |9/100[00:01<00:10, 8.86it/s]\n",
      "  9%|9         |9/100[00:01<00:10, 8.88it/s]\n",
      "  0%|          |0/100[00:00<?,?it/s]"
     ]
    },
    {
     "name": "stdout",
     "output_type": "stream",
     "text": [
      "160\n"
     ]
    },
    {
     "name": "stderr",
     "output_type": "stream",
     "text": [
      "  9%|9         |9/100[00:01<00:10, 8.90it/s]\n",
      "  0%|          |0/100[00:00<?,?it/s]"
     ]
    },
    {
     "name": "stdout",
     "output_type": "stream",
     "text": [
      "161\n"
     ]
    },
    {
     "name": "stderr",
     "output_type": "stream",
     "text": [
      "  9%|9         |9/100[00:01<00:10, 8.81it/s]\n",
      "  0%|          |0/100[00:00<?,?it/s]"
     ]
    },
    {
     "name": "stdout",
     "output_type": "stream",
     "text": [
      "162\n",
      "163\n"
     ]
    },
    {
     "name": "stderr",
     "output_type": "stream",
     "text": [
      "  9%|9         |9/100[00:01<00:10, 8.86it/s]\n",
      "  9%|9         |9/100[00:01<00:11, 8.25it/s]\n",
      "  9%|9         |9/100[00:01<00:11, 7.85it/s]\n",
      "  9%|9         |9/100[00:01<00:10, 8.66it/s]\n",
      "  0%|          |0/100[00:00<?,?it/s]"
     ]
    },
    {
     "name": "stdout",
     "output_type": "stream",
     "text": [
      "164\n"
     ]
    },
    {
     "name": "stderr",
     "output_type": "stream",
     "text": [
      "  9%|9         |9/100[00:01<00:10, 8.86it/s]\n",
      "  0%|          |0/100[00:00<?,?it/s]"
     ]
    },
    {
     "name": "stdout",
     "output_type": "stream",
     "text": [
      "165\n"
     ]
    },
    {
     "name": "stderr",
     "output_type": "stream",
     "text": [
      "  9%|9         |9/100[00:01<00:10, 8.55it/s]\n",
      "  9%|9         |9/100[00:01<00:10, 8.59it/s]\n",
      "  9%|9         |9/100[00:01<00:10, 8.93it/s]\n",
      "  9%|9         |9/100[00:01<00:10, 8.89it/s]\n",
      "  0%|          |0/100[00:00<?,?it/s]"
     ]
    },
    {
     "name": "stdout",
     "output_type": "stream",
     "text": [
      "166\n",
      "167\n"
     ]
    },
    {
     "name": "stderr",
     "output_type": "stream",
     "text": [
      "  9%|9         |9/100[00:01<00:10, 8.96it/s]\n",
      "  9%|9         |9/100[00:01<00:10, 8.65it/s]\n",
      "  9%|9         |9/100[00:01<00:11, 7.88it/s]\n",
      "  0%|          |0/100[00:00<?,?it/s]"
     ]
    },
    {
     "name": "stdout",
     "output_type": "stream",
     "text": [
      "168\n"
     ]
    },
    {
     "name": "stderr",
     "output_type": "stream",
     "text": [
      "  9%|9         |9/100[00:01<00:10, 8.92it/s]\n",
      "  9%|9         |9/100[00:01<00:10, 8.60it/s]\n",
      "  9%|9         |9/100[00:01<00:12, 7.18it/s]\n",
      "  9%|9         |9/100[00:01<00:10, 8.93it/s]\n",
      "  9%|9         |9/100[00:01<00:10, 8.87it/s]\n",
      "  9%|9         |9/100[00:01<00:10, 8.89it/s]\n",
      "  9%|9         |9/100[00:01<00:10, 8.90it/s]\n",
      "  9%|9         |9/100[00:01<00:10, 8.38it/s]\n",
      "  9%|9         |9/100[00:01<00:11, 8.12it/s]\n",
      "  9%|9         |9/100[00:01<00:10, 8.88it/s]\n",
      "  9%|9         |9/100[00:01<00:10, 8.89it/s]\n",
      "  0%|          |0/100[00:00<?,?it/s]"
     ]
    },
    {
     "name": "stdout",
     "output_type": "stream",
     "text": [
      "169\n"
     ]
    },
    {
     "name": "stderr",
     "output_type": "stream",
     "text": [
      "  9%|9         |9/100[00:01<00:10, 8.90it/s]\n",
      "  9%|9         |9/100[00:01<00:10, 8.43it/s]\n",
      "  9%|9         |9/100[00:01<00:10, 8.47it/s]\n",
      "  9%|9         |9/100[00:01<00:11, 7.74it/s]\n",
      "  0%|          |0/100[00:00<?,?it/s]"
     ]
    },
    {
     "name": "stdout",
     "output_type": "stream",
     "text": [
      "170\n"
     ]
    },
    {
     "name": "stderr",
     "output_type": "stream",
     "text": [
      "  9%|9         |9/100[00:01<00:10, 8.52it/s]\n",
      "  0%|          |0/100[00:00<?,?it/s]"
     ]
    },
    {
     "name": "stdout",
     "output_type": "stream",
     "text": [
      "171\n"
     ]
    },
    {
     "name": "stderr",
     "output_type": "stream",
     "text": [
      "  9%|9         |9/100[00:01<00:10, 8.69it/s]\n",
      "  9%|9         |9/100[00:01<00:10, 8.91it/s]\n",
      "  9%|9         |9/100[00:01<00:10, 8.77it/s]\n",
      "  9%|9         |9/100[00:01<00:10, 8.91it/s]\n",
      "  9%|9         |9/100[00:01<00:15, 5.76it/s]\n",
      "  9%|9         |9/100[00:01<00:10, 8.54it/s]\n",
      "  9%|9         |9/100[00:01<00:10, 8.59it/s]\n",
      "  9%|9         |9/100[00:01<00:10, 8.88it/s]\n",
      "  9%|9         |9/100[00:01<00:10, 8.50it/s]\n",
      "  0%|          |0/100[00:00<?,?it/s]"
     ]
    },
    {
     "name": "stdout",
     "output_type": "stream",
     "text": [
      "172\n"
     ]
    },
    {
     "name": "stderr",
     "output_type": "stream",
     "text": [
      "  9%|9         |9/100[00:01<00:10, 8.89it/s]\n",
      "  9%|9         |9/100[00:01<00:11, 8.23it/s]\n",
      "  9%|9         |9/100[00:01<00:10, 8.85it/s]\n",
      "  9%|9         |9/100[00:01<00:10, 8.93it/s]\n",
      "  9%|9         |9/100[00:01<00:10, 8.68it/s]\n",
      "  9%|9         |9/100[00:01<00:10, 8.64it/s]\n",
      "  9%|9         |9/100[00:01<00:10, 8.40it/s]\n",
      "  0%|          |0/100[00:00<?,?it/s]"
     ]
    },
    {
     "name": "stdout",
     "output_type": "stream",
     "text": [
      "173\n"
     ]
    },
    {
     "name": "stderr",
     "output_type": "stream",
     "text": [
      "  9%|9         |9/100[00:01<00:10, 8.82it/s]\n",
      "  9%|9         |9/100[00:01<00:10, 8.81it/s]\n",
      "  9%|9         |9/100[00:01<00:10, 8.47it/s]\n",
      "  9%|9         |9/100[00:01<00:10, 8.85it/s]\n",
      "  0%|          |0/100[00:00<?,?it/s]"
     ]
    },
    {
     "name": "stdout",
     "output_type": "stream",
     "text": [
      "174\n",
      "175\n"
     ]
    },
    {
     "name": "stderr",
     "output_type": "stream",
     "text": [
      "  9%|9         |9/100[00:01<00:10, 8.76it/s]\n",
      "  9%|9         |9/100[00:01<00:11, 8.18it/s]\n",
      "  0%|          |0/100[00:00<?,?it/s]"
     ]
    },
    {
     "name": "stdout",
     "output_type": "stream",
     "text": [
      "176\n"
     ]
    },
    {
     "name": "stderr",
     "output_type": "stream",
     "text": [
      "  9%|9         |9/100[00:01<00:10, 8.89it/s]\n",
      "  9%|9         |9/100[00:01<00:10, 8.92it/s]\n",
      "  9%|9         |9/100[00:01<00:10, 8.62it/s]\n",
      "  0%|          |0/100[00:00<?,?it/s]"
     ]
    },
    {
     "name": "stdout",
     "output_type": "stream",
     "text": [
      "177\n"
     ]
    },
    {
     "name": "stderr",
     "output_type": "stream",
     "text": [
      "  9%|9         |9/100[00:01<00:10, 8.87it/s]\n",
      "  9%|9         |9/100[00:01<00:12, 7.38it/s]\n",
      "  0%|          |0/100[00:00<?,?it/s]"
     ]
    },
    {
     "name": "stdout",
     "output_type": "stream",
     "text": [
      "178\n"
     ]
    },
    {
     "name": "stderr",
     "output_type": "stream",
     "text": [
      "  9%|9         |9/100[00:01<00:10, 8.35it/s]\n",
      "  9%|9         |9/100[00:01<00:10, 8.33it/s]\n",
      "  0%|          |0/100[00:00<?,?it/s]"
     ]
    },
    {
     "name": "stdout",
     "output_type": "stream",
     "text": [
      "179\n"
     ]
    },
    {
     "name": "stderr",
     "output_type": "stream",
     "text": [
      "  9%|9         |9/100[00:01<00:11, 8.09it/s]\n",
      "  9%|9         |9/100[00:01<00:10, 8.88it/s]\n",
      "  9%|9         |9/100[00:01<00:10, 8.87it/s]\n",
      "  9%|9         |9/100[00:01<00:10, 8.78it/s]\n",
      "  9%|9         |9/100[00:01<00:10, 8.87it/s]\n",
      "  0%|          |0/100[00:00<?,?it/s]"
     ]
    },
    {
     "name": "stdout",
     "output_type": "stream",
     "text": [
      "180\n"
     ]
    },
    {
     "name": "stderr",
     "output_type": "stream",
     "text": [
      "  9%|9         |9/100[00:01<00:10, 8.88it/s]\n",
      "  9%|9         |9/100[00:01<00:10, 8.66it/s]\n",
      "  0%|          |0/100[00:00<?,?it/s]"
     ]
    },
    {
     "name": "stdout",
     "output_type": "stream",
     "text": [
      "181\n"
     ]
    },
    {
     "name": "stderr",
     "output_type": "stream",
     "text": [
      "  9%|9         |9/100[00:01<00:10, 8.51it/s]\n",
      "  0%|          |0/100[00:00<?,?it/s]"
     ]
    },
    {
     "name": "stdout",
     "output_type": "stream",
     "text": [
      "182\n"
     ]
    },
    {
     "name": "stderr",
     "output_type": "stream",
     "text": [
      "  9%|9         |9/100[00:01<00:11, 8.16it/s]\n",
      "  0%|          |0/100[00:00<?,?it/s]"
     ]
    },
    {
     "name": "stdout",
     "output_type": "stream",
     "text": [
      "183\n",
      "184\n"
     ]
    },
    {
     "name": "stderr",
     "output_type": "stream",
     "text": [
      "  9%|9         |9/100[00:01<00:10, 8.34it/s]\n",
      "  9%|9         |9/100[00:01<00:10, 8.91it/s]\n",
      "  9%|9         |9/100[00:01<00:10, 8.72it/s]\n",
      "  9%|9         |9/100[00:01<00:10, 8.87it/s]\n",
      "  0%|          |0/100[00:00<?,?it/s]"
     ]
    },
    {
     "name": "stdout",
     "output_type": "stream",
     "text": [
      "185\n"
     ]
    },
    {
     "name": "stderr",
     "output_type": "stream",
     "text": [
      "  9%|9         |9/100[00:01<00:11, 8.18it/s]\n",
      "  9%|9         |9/100[00:01<00:10, 8.86it/s]\n",
      "  9%|9         |9/100[00:01<00:10, 8.90it/s]\n",
      "  0%|          |0/100[00:00<?,?it/s]"
     ]
    },
    {
     "name": "stdout",
     "output_type": "stream",
     "text": [
      "186\n"
     ]
    },
    {
     "name": "stderr",
     "output_type": "stream",
     "text": [
      "  9%|9         |9/100[00:01<00:10, 8.47it/s]\n",
      "  0%|          |0/100[00:00<?,?it/s]"
     ]
    },
    {
     "name": "stdout",
     "output_type": "stream",
     "text": [
      "187\n"
     ]
    },
    {
     "name": "stderr",
     "output_type": "stream",
     "text": [
      "  9%|9         |9/100[00:01<00:10, 8.49it/s]\n",
      "  9%|9         |9/100[00:01<00:10, 8.87it/s]\n",
      "  9%|9         |9/100[00:01<00:10, 8.76it/s]\n",
      "  9%|9         |9/100[00:01<00:10, 8.29it/s]\n",
      "  9%|9         |9/100[00:01<00:10, 8.34it/s]\n",
      "  9%|9         |9/100[00:01<00:10, 8.78it/s]\n",
      "  0%|          |0/100[00:00<?,?it/s]"
     ]
    },
    {
     "name": "stdout",
     "output_type": "stream",
     "text": [
      "188\n"
     ]
    },
    {
     "name": "stderr",
     "output_type": "stream",
     "text": [
      "  9%|9         |9/100[00:01<00:10, 8.48it/s]\n",
      "  0%|          |0/100[00:00<?,?it/s]"
     ]
    },
    {
     "name": "stdout",
     "output_type": "stream",
     "text": [
      "189\n",
      "190\n"
     ]
    },
    {
     "name": "stderr",
     "output_type": "stream",
     "text": [
      "  9%|9         |9/100[00:01<00:10, 8.29it/s]\n",
      "  9%|9         |9/100[00:01<00:11, 8.25it/s]\n",
      "  9%|9         |9/100[00:01<00:10, 8.34it/s]\n",
      "  9%|9         |9/100[00:01<00:10, 8.79it/s]\n",
      "  9%|9         |9/100[00:01<00:10, 8.90it/s]\n",
      "  9%|9         |9/100[00:01<00:10, 8.78it/s]\n",
      "  9%|9         |9/100[00:01<00:10, 8.80it/s]\n",
      "  9%|9         |9/100[00:01<00:10, 8.88it/s]\n",
      "  9%|9         |9/100[00:01<00:10, 8.91it/s]\n",
      "  9%|9         |9/100[00:01<00:10, 8.58it/s]\n",
      "  9%|9         |9/100[00:01<00:10, 8.86it/s]\n",
      "  9%|9         |9/100[00:01<00:10, 8.69it/s]\n",
      "  0%|          |0/100[00:00<?,?it/s]"
     ]
    },
    {
     "name": "stdout",
     "output_type": "stream",
     "text": [
      "191\n"
     ]
    },
    {
     "name": "stderr",
     "output_type": "stream",
     "text": [
      "  9%|9         |9/100[00:01<00:10, 8.36it/s]\n",
      "  0%|          |0/100[00:00<?,?it/s]"
     ]
    },
    {
     "name": "stdout",
     "output_type": "stream",
     "text": [
      "192\n"
     ]
    },
    {
     "name": "stderr",
     "output_type": "stream",
     "text": [
      "  9%|9         |9/100[00:01<00:10, 8.87it/s]\n",
      "  9%|9         |9/100[00:01<00:10, 8.92it/s]\n",
      "  9%|9         |9/100[00:01<00:10, 8.92it/s]\n",
      "  0%|          |0/100[00:00<?,?it/s]"
     ]
    },
    {
     "name": "stdout",
     "output_type": "stream",
     "text": [
      "193\n"
     ]
    },
    {
     "name": "stderr",
     "output_type": "stream",
     "text": [
      "  9%|9         |9/100[00:01<00:10, 8.86it/s]\n",
      "  0%|          |0/100[00:00<?,?it/s]"
     ]
    },
    {
     "name": "stdout",
     "output_type": "stream",
     "text": [
      "194\n"
     ]
    },
    {
     "name": "stderr",
     "output_type": "stream",
     "text": [
      "  9%|9         |9/100[00:01<00:10, 8.28it/s]\n",
      "  0%|          |0/100[00:00<?,?it/s]"
     ]
    },
    {
     "name": "stdout",
     "output_type": "stream",
     "text": [
      "195\n"
     ]
    },
    {
     "name": "stderr",
     "output_type": "stream",
     "text": [
      "  9%|9         |9/100[00:01<00:10, 8.92it/s]\n",
      "  9%|9         |9/100[00:01<00:10, 8.39it/s]\n",
      "  0%|          |0/100[00:00<?,?it/s]"
     ]
    },
    {
     "name": "stdout",
     "output_type": "stream",
     "text": [
      "196\n"
     ]
    },
    {
     "name": "stderr",
     "output_type": "stream",
     "text": [
      "  9%|9         |9/100[00:01<00:10, 8.38it/s]\n",
      "  9%|9         |9/100[00:01<00:10, 8.62it/s]\n",
      "  9%|9         |9/100[00:01<00:10, 8.78it/s]\n",
      "  9%|9         |9/100[00:01<00:10, 8.59it/s]\n",
      "  9%|9         |9/100[00:01<00:10, 8.91it/s]\n",
      "  0%|          |0/100[00:00<?,?it/s]"
     ]
    },
    {
     "name": "stdout",
     "output_type": "stream",
     "text": [
      "197\n"
     ]
    },
    {
     "name": "stderr",
     "output_type": "stream",
     "text": [
      "  9%|9         |9/100[00:01<00:10, 8.87it/s]\n",
      "  0%|          |0/100[00:00<?,?it/s]"
     ]
    },
    {
     "name": "stdout",
     "output_type": "stream",
     "text": [
      "198\n"
     ]
    },
    {
     "name": "stderr",
     "output_type": "stream",
     "text": [
      "  9%|9         |9/100[00:01<00:10, 8.62it/s]\n",
      "  9%|9         |9/100[00:01<00:10, 8.68it/s]\n",
      "  9%|9         |9/100[00:01<00:10, 8.91it/s]\n",
      "  0%|          |0/100[00:00<?,?it/s]"
     ]
    },
    {
     "name": "stdout",
     "output_type": "stream",
     "text": [
      "199\n",
      "200\n",
      "201\n"
     ]
    },
    {
     "name": "stderr",
     "output_type": "stream",
     "text": [
      "  9%|9         |9/100[00:01<00:10, 8.88it/s]\n",
      "  0%|          |0/100[00:00<?,?it/s]"
     ]
    },
    {
     "name": "stdout",
     "output_type": "stream",
     "text": [
      "202\n"
     ]
    },
    {
     "name": "stderr",
     "output_type": "stream",
     "text": [
      "  9%|9         |9/100[00:01<00:10, 8.87it/s]\n",
      "  0%|          |0/100[00:00<?,?it/s]"
     ]
    },
    {
     "name": "stdout",
     "output_type": "stream",
     "text": [
      "203\n"
     ]
    },
    {
     "name": "stderr",
     "output_type": "stream",
     "text": [
      "  9%|9         |9/100[00:01<00:10, 8.89it/s]\n",
      "  9%|9         |9/100[00:01<00:10, 8.86it/s]\n",
      "  0%|          |0/100[00:00<?,?it/s]"
     ]
    },
    {
     "name": "stdout",
     "output_type": "stream",
     "text": [
      "204\n"
     ]
    },
    {
     "name": "stderr",
     "output_type": "stream",
     "text": [
      "  9%|9         |9/100[00:01<00:10, 8.74it/s]\n",
      "  9%|9         |9/100[00:01<00:11, 7.99it/s]\n",
      "  9%|9         |9/100[00:01<00:10, 8.89it/s]\n",
      "  9%|9         |9/100[00:01<00:10, 8.55it/s]\n",
      "  9%|9         |9/100[00:01<00:10, 8.81it/s]\n",
      "  0%|          |0/100[00:00<?,?it/s]"
     ]
    },
    {
     "name": "stdout",
     "output_type": "stream",
     "text": [
      "205\n",
      "206\n",
      "207\n"
     ]
    },
    {
     "name": "stderr",
     "output_type": "stream",
     "text": [
      "  9%|9         |9/100[00:01<00:10, 8.92it/s]\n",
      "  9%|9         |9/100[00:01<00:10, 8.72it/s]\n",
      "  9%|9         |9/100[00:01<00:10, 8.94it/s]\n",
      "  9%|9         |9/100[00:01<00:10, 8.64it/s]\n",
      "  9%|9         |9/100[00:01<00:10, 8.89it/s]\n",
      "  9%|9         |9/100[00:01<00:10, 8.47it/s]\n",
      "  0%|          |0/100[00:00<?,?it/s]"
     ]
    },
    {
     "name": "stdout",
     "output_type": "stream",
     "text": [
      "208\n"
     ]
    },
    {
     "name": "stderr",
     "output_type": "stream",
     "text": [
      "  9%|9         |9/100[00:01<00:10, 8.87it/s]\n",
      "  0%|          |0/100[00:00<?,?it/s]"
     ]
    },
    {
     "name": "stdout",
     "output_type": "stream",
     "text": [
      "209\n",
      "210\n"
     ]
    },
    {
     "name": "stderr",
     "output_type": "stream",
     "text": [
      "  9%|9         |9/100[00:01<00:11, 8.08it/s]\n",
      "  0%|          |0/100[00:00<?,?it/s]"
     ]
    },
    {
     "name": "stdout",
     "output_type": "stream",
     "text": [
      "211\n"
     ]
    },
    {
     "name": "stderr",
     "output_type": "stream",
     "text": [
      "  9%|9         |9/100[00:01<00:10, 8.86it/s]\n",
      "  0%|          |0/100[00:00<?,?it/s]"
     ]
    },
    {
     "name": "stdout",
     "output_type": "stream",
     "text": [
      "212\n"
     ]
    },
    {
     "name": "stderr",
     "output_type": "stream",
     "text": [
      "  9%|9         |9/100[00:01<00:11, 8.19it/s]\n",
      "  0%|          |0/100[00:00<?,?it/s]"
     ]
    },
    {
     "name": "stdout",
     "output_type": "stream",
     "text": [
      "213\n"
     ]
    },
    {
     "name": "stderr",
     "output_type": "stream",
     "text": [
      "  9%|9         |9/100[00:01<00:10, 8.43it/s]\n",
      "  9%|9         |9/100[00:01<00:10, 8.43it/s]\n",
      "  9%|9         |9/100[00:01<00:10, 8.62it/s]\n",
      "  0%|          |0/100[00:00<?,?it/s]"
     ]
    }
   ],
   "source": [
    "print(\"Samples needed: {}\".format(needed_minus2))\n",
    "synth_minus2 = sample_needed_label(needed_minus2, '-2')"
   ]
  },
  {
   "cell_type": "code",
   "execution_count": null,
   "metadata": {
    "ExecuteTime": {
     "start_time": "2019-08-11T06:04:47.385Z"
    },
    "scrolled": true
   },
   "outputs": [],
   "source": [
    "print(\"Samples needed: {}\".format(needed_1))\n",
    "synth_1 = sample_needed_label(needed_1, '1')"
   ]
  },
  {
   "cell_type": "code",
   "execution_count": null,
   "metadata": {
    "ExecuteTime": {
     "start_time": "2019-08-11T06:04:48.172Z"
    },
    "scrolled": true
   },
   "outputs": [],
   "source": [
    "print(\"Samples needed: {}\".format(needed_2))\n",
    "synth_2 = sample_needed_label(needed_2, '2')"
   ]
  },
  {
   "cell_type": "code",
   "execution_count": null,
   "metadata": {
    "ExecuteTime": {
     "start_time": "2019-08-11T06:04:52.254Z"
    }
   },
   "outputs": [],
   "source": [
    "# df_synth = pd.concat([synth_0, synth_minus1, synth_minus2, synth_1, synth_2], ignore_index=True)\n",
    "df_synth = pd.concat([synth_minus1, synth_minus2, synth_1, synth_2], ignore_index=True)\n",
    "df_synth['Discrete Thermal Comfort_TA'] = pd.to_numeric(df_synth['Discrete Thermal Comfort_TA'])\n",
    "print(df_synth['Discrete Thermal Comfort_TA'].value_counts())\n",
    "df_synth_train_balanced = pd.concat([df_synth, df_feature1_train], ignore_index=True)\n",
    "print(df_synth_train_balanced['Discrete Thermal Comfort_TA'].value_counts())\n",
    "print(df_synth_train_balanced)\n",
    "\n",
    "# approximate to 2 decimal points, as original dataset\n",
    "df_synth_train_balanced = df_synth_train_balanced.round(2)\n",
    "\n",
    "print(df_synth_train_balanced)"
   ]
  },
  {
   "cell_type": "markdown",
   "metadata": {},
   "source": [
    "## Train: train set + synth"
   ]
  },
  {
   "cell_type": "code",
   "execution_count": null,
   "metadata": {
    "ExecuteTime": {
     "start_time": "2019-08-11T06:05:01.021Z"
    },
    "scrolled": true
   },
   "outputs": [],
   "source": [
    "# load best models NB, KNN, SVM, MLP\n",
    "acc_nb_synth_train_balanced, nb_optimal_synth_train_balanced = buildTrainNB(df_synth_train_balanced, test_size_percentage=test_size_percentage)\n",
    "acc_knn_synth_train_balanced, knn_optimal_synth_train_balanced = buildTrainKNN(df_synth_train_balanced, test_size_percentage=test_size_percentage)\n",
    "acc_svm_synth_train_balanced, svm_optimal_synth_train_balanced = buildTrainSVM(df_synth_train_balanced, test_size_percentage=test_size_percentage)\n",
    "\n",
    "# using the optimal model. re-train in whole train split and test in unseen test split\n",
    "acc_nb_synth_train_balanced_corr, _ = trainTest_tunedModel(df_feature1_test, nb_optimal_synth_train_balanced)\n",
    "acc_knn_synth_train_balanced_corr, _ = trainTest_tunedModel(df_feature1_test, knn_optimal_synth_train_balanced)\n",
    "acc_svm_synth_train_balanced_corr, _ = trainTest_tunedModel(df_feature1_test, svm_optimal_synth_train_balanced)\n",
    "\n",
    "print(\"original train\")\n",
    "print(acc_holistic_knn_1)\n",
    "print(acc_holistic_nb_1)\n",
    "print(acc_holistic_svm_1)\n",
    "print(\"\\n\")\n",
    "\n",
    "print(\"more balanced train\")\n",
    "print(acc_nb_synth_train_balanced_corr)\n",
    "print(acc_knn_synth_train_balanced_corr)\n",
    "print(acc_svm_synth_train_balanced_corr)\n"
   ]
  },
  {
   "cell_type": "code",
   "execution_count": null,
   "metadata": {
    "ExecuteTime": {
     "end_time": "2019-08-11T03:59:01.838116Z",
     "start_time": "2019-08-11T02:35:54.793Z"
    }
   },
   "outputs": [],
   "source": [
    "\"\"\"\n",
    "original train\n",
    "0.5885509838998211\n",
    "0.5974955277280859\n",
    "0.5974955277280859\n",
    "\n",
    "# same size synth\n",
    "more balanced train\n",
    "0.5974955277280859\n",
    "0.42397137745974955\n",
    "0.26654740608228983\n",
    "\n",
    "# twice synth\n",
    "0.5974955277280859\n",
    "0.4525939177101968\n",
    "0.007155635062611807\n",
    "\n",
    "# three times synth\n",
    "0.5974955277280859\n",
    "0.4203935599284436\n",
    "0.08050089445438283\n",
    "\n",
    "\"\"\""
   ]
  },
  {
   "cell_type": "markdown",
   "metadata": {
    "ExecuteTime": {
     "end_time": "2019-08-03T10:44:01.551743Z",
     "start_time": "2019-08-03T10:44:01.549943Z"
    }
   },
   "source": [
    "## Train: synth"
   ]
  },
  {
   "cell_type": "code",
   "execution_count": null,
   "metadata": {
    "ExecuteTime": {
     "start_time": "2019-08-11T06:05:04.660Z"
    }
   },
   "outputs": [],
   "source": [
    "df_synth = pd.concat([synth_0, synth_minus1, synth_minus2, synth_1, synth_2], ignore_index=True)\n",
    "df_synth['Discrete Thermal Comfort_TA'] = pd.to_numeric(df_synth['Discrete Thermal Comfort_TA'])\n",
    "print(df_synth['Discrete Thermal Comfort_TA'].value_counts())\n",
    "df_synth = df_synth.round(2)\n",
    "\n",
    "print(df_synth)\n",
    "\n",
    "# load best models NB, KNN, SVM, MLP\n",
    "acc_nb_synth, nb_optimal_synth = buildTrainNB(df_synth, test_size_percentage=test_size_percentage)\n",
    "acc_knn_synth, knn_optimal_synth = buildTrainKNN(df_synth, test_size_percentage=test_size_percentage)\n",
    "acc_svm_synth, svm_optimal_synth = buildTrainSVM(df_synth, test_size_percentage=test_size_percentage)\n",
    "\n",
    "# using the optimal model. re-train in whole train split and test in unseen test split\n",
    "acc_nb_synth, _ = trainTest_tunedModel(df_feature1_test, nb_optimal_synth)\n",
    "acc_knn_synth, _ = trainTest_tunedModel(df_feature1_test, knn_optimal_synth)\n",
    "acc_svm_synth, _ = trainTest_tunedModel(df_feature1_test, svm_optimal_synth)\n",
    "\n",
    "print(\"original train\")\n",
    "print(acc_holistic_knn_1)\n",
    "print(acc_holistic_nb_1)\n",
    "print(acc_holistic_svm_1)\n",
    "print(\"\\n\")\n",
    "\n",
    "print(\"more balanced train\")\n",
    "print(acc_nb_synth)\n",
    "print(acc_knn_synth)\n",
    "print(acc_svm_synth)"
   ]
  },
  {
   "cell_type": "code",
   "execution_count": null,
   "metadata": {
    "ExecuteTime": {
     "end_time": "2019-08-11T03:59:01.840283Z",
     "start_time": "2019-08-11T02:35:54.800Z"
    }
   },
   "outputs": [],
   "source": [
    "\"\"\"\n",
    "original train\n",
    "0.5885509838998211\n",
    "0.5974955277280859\n",
    "0.5974955277280859\n",
    "\n",
    "# same size synth # CHANGE\n",
    "0.5974955277280859\n",
    "0.5116279069767442\n",
    "0.5974955277280859\n",
    "\n",
    "# twice synth # CHANGE\n",
    "0.007155635062611807\n",
    "0.2772808586762075\n",
    "0.007155635062611807\n",
    "\n",
    "# three times synth\n",
    "0.007155635062611807\n",
    "0.3023255813953488\n",
    "0.007155635062611807\n",
    "\n",
    "\"\"\"\n"
   ]
  },
  {
   "cell_type": "code",
   "execution_count": null,
   "metadata": {
    "ExecuteTime": {
     "end_time": "2019-08-11T03:59:01.841379Z",
     "start_time": "2019-08-11T02:35:54.804Z"
    }
   },
   "outputs": [],
   "source": [
    "all_datasets = pd.DataFrame([\n",
    "                            # train\n",
    "                            ['KNN', 'Train', 0.59],\n",
    "                            ['SVM', 'Train', 0.60],\n",
    "                            ['NB', 'Train', 0.60],\n",
    "                            \n",
    "                            # train + synth1 \n",
    "                            ['KNN', 'Train+Synth1-TGAN', 0.6],\n",
    "                            ['SVM', 'Train+Synth1-TGAN', 0.42],\n",
    "                            ['NB', 'Train+Synth1-TGAN', 0.27],\n",
    "\n",
    "                            ['KNN', 'Train+Synth1-GANCorr', 0.49],\n",
    "                            ['SVM', 'Train+Synth1-GANCorr', 0.45],\n",
    "                            ['NB', 'Train+Synth1-GANCorr', 0.60],\n",
    "\n",
    "                            ['KNN', 'Train+Synth1-GAN', 0.08],\n",
    "                            ['SVM', 'Train+Synth1-GAN', 0.49],\n",
    "                            ['NB', 'Train+Synth1-GAN', 0.60],\n",
    "    \n",
    "                            # synth1\n",
    "                            ['KNN', 'Synth1-TGAN', 0.60],\n",
    "                            ['SVM', 'Synth1-TGAN', 0.51],\n",
    "                            ['NB', 'Synth1-TGAN', 0.60],\n",
    "                            \n",
    "                            ['KNN', 'Synth1-GANCorr', 0.02],\n",
    "                            ['SVM', 'Synth1-GANCorr', 0.61],\n",
    "                            ['NB', 'Synth1-GANCorr', 0.60],\n",
    "    \n",
    "                            ['KNN', 'Synth1-GAN', 0.08],\n",
    "                            ['SVM', 'Synth1-GAN', 0.63],\n",
    "                            ['NB', 'Synth1-GAN', 0.60],\n",
    "    \n",
    "                            # train + synth2\n",
    "                            ['KNN', 'Train+Synth2-TGAN', 0.6],\n",
    "                            ['SVM', 'Train+Synth2-TGAN', 0.45],\n",
    "                            ['NB', 'Train+Synth2-TGAN', 0.01],\n",
    "                            \n",
    "                            ['KNN', 'Train+Synth2-GANCorr', 0.49],\n",
    "                            ['SVM', 'Train+Synth2-GANCorr', 0.42],\n",
    "                            ['NB', 'Train+Synth2-GANCorr', 0.6],\n",
    "    \n",
    "                            ['KNN', 'Train+Synth2-GAN', 0.08],\n",
    "                            ['SVM', 'Train+Synth2-GAN', 0.42],\n",
    "                            ['NB', 'Train+Synth2-GAN', 0.08],\n",
    "    \n",
    "                            # synth2\n",
    "                            ['KNN', 'Synth2-TGAN', 0.01],\n",
    "                            ['SVM', 'Synth2-TGAN', 0.28],\n",
    "                            ['NB', 'Synth2-TGAN', 0.01],                                                \n",
    "                            \n",
    "                            ['KNN', 'Synth2-GANCorr', 0.64],\n",
    "                            ['SVM', 'Synth2-GANCorr', 0.48],\n",
    "                            ['NB', 'Synth2-GANCorr', 0.60],  \n",
    "                            \n",
    "                            ['KNN', 'Synth2-GAN', 0.08],\n",
    "                            ['SVM', 'Synth2-GAN', 0.57],\n",
    "                            ['NB', 'Synth2-GAN', 0.60],  \n",
    "    \n",
    "                            # train + synth3\n",
    "                            ['KNN', 'Train+Synth3-TGAN', 0.60],\n",
    "                            ['SVM', 'Train+Synth3-TGAN', 0.42],\n",
    "                            ['NB', 'Train+Synth3-TGAN', 0.08],\n",
    "\n",
    "                            ['KNN', 'Train+Synth3-GANCorr', 0.28],\n",
    "                            ['SVM', 'Train+Synth3-GANCorr', 0.37],\n",
    "                            ['NB', 'Train+Synth3-GANCorr', 0.6],\n",
    "    \n",
    "                            ['KNN', 'Train+Synth3-GAN', 0.08],\n",
    "                            ['SVM', 'Train+Synth3-GAN', 0.46],\n",
    "                            ['NB', 'Train+Synth3-GAN', 0.08],\n",
    "    \n",
    "                            # synth3\n",
    "                            ['KNN', 'Synth3-TGAN', 0.01],\n",
    "                            ['SVM', 'Synth3-TGAN', 0.30],\n",
    "                            ['NB', 'Synth3-TGAN', 0.01],\n",
    "    \n",
    "                            ['KNN', 'Synth3-GANCorr', 0.24],\n",
    "                            ['SVM', 'Synth3-GANCorr', 0.4],\n",
    "                            ['NB', 'Synth3-GANCorr', 0.27],  \n",
    "    \n",
    "                            ['KNN', 'Synth3-GAN', 0.08],\n",
    "                            ['SVM', 'Synth3-GAN', 0.51],\n",
    "                            ['NB', 'Synth3-GAN', 0.08] \n",
    "\n",
    "                            ], columns = ['Model', 'Training Set and GAN', 'Accuracy'])\n",
    "\n",
    "# plot heatmap\n",
    "print(\"Metric: F1-score micro\")\n",
    "print(\"Data Split: 20% Test, 70% Train\")\n",
    "all_datasets = all_datasets.pivot(\"Training Set and GAN\", \"Model\", \"Accuracy\")\n",
    "fig = plt.figure(figsize=(12, 10))\n",
    "sns.set(font_scale=1.5)\n",
    "ax = sns.heatmap(all_datasets, linewidths = 0.5, annot = True, vmax = 1, cmap = \"YlGnBu\")\n",
    "plt.tight_layout()\n",
    "plt.show()"
   ]
  },
  {
   "cell_type": "code",
   "execution_count": null,
   "metadata": {},
   "outputs": [],
   "source": []
  }
 ],
 "metadata": {
  "kernelspec": {
   "display_name": "Python3 (tGAN)",
   "language": "python",
   "name": "tgan"
  },
  "language_info": {
   "codemirror_mode": {
    "name": "ipython",
    "version": 3
   },
   "file_extension": ".py",
   "mimetype": "text/x-python",
   "name": "python",
   "nbconvert_exporter": "python",
   "pygments_lexer": "ipython3",
   "version": "3.7.3"
  },
  "toc": {
   "base_numbering": 1,
   "nav_menu": {},
   "number_sections": true,
   "sideBar": true,
   "skip_h1_title": false,
   "title_cell": "Table of Contents",
   "title_sidebar": "Contents",
   "toc_cell": false,
   "toc_position": {
    "height": "calc(100% - 180px)",
    "left": "10px",
    "top": "150px",
    "width": "216px"
   },
   "toc_section_display": true,
   "toc_window_display": true
  },
  "varInspector": {
   "cols": {
    "lenName": 16,
    "lenType": 16,
    "lenVar": 40
   },
   "kernels_config": {
    "python": {
     "delete_cmd_postfix": "",
     "delete_cmd_prefix": "del ",
     "library": "var_list.py",
     "varRefreshCmd": "print(var_dic_list())"
    },
    "r": {
     "delete_cmd_postfix": ") ",
     "delete_cmd_prefix": "rm(",
     "library": "var_list.r",
     "varRefreshCmd": "cat(var_dic_list()) "
    }
   },
   "position": {
    "height": "395.85px",
    "left": "-1536px",
    "right": "20px",
    "top": "365px",
    "width": "576px"
   },
   "types_to_exclude": [
    "module",
    "function",
    "builtin_function_or_method",
    "instance",
    "_Feature"
   ],
   "window_display": true
  }
 },
 "nbformat": 4,
 "nbformat_minor": 2
}
