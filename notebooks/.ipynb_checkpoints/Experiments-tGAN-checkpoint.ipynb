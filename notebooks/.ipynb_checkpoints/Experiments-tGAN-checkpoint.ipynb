{
 "cells": [
  {
   "cell_type": "markdown",
   "metadata": {},
   "source": [
    "# Load Files"
   ]
  },
  {
   "cell_type": "code",
   "execution_count": 1,
   "metadata": {
    "ExecuteTime": {
     "end_time": "2019-08-11T02:35:47.025702Z",
     "start_time": "2019-08-11T02:35:45.250362Z"
    }
   },
   "outputs": [
    {
     "name": "stdout",
     "output_type": "stream",
     "text": [
      "Importing Jupyter notebook from Utils.ipynb\n",
      "Importing Jupyter notebook from GAN.ipynb\n",
      "Importing Jupyter notebook from Functions.ipynb\n"
     ]
    }
   ],
   "source": [
    "from __future__ import absolute_import, division, print_function, unicode_literals\n",
    "\n",
    "# Notebooks\n",
    "import nbimporter\n",
    "import os\n",
    "import sys\n",
    "\n",
    "module_path = os.path.abspath(os.path.join('..'))\n",
    "if module_path not in sys.path:\n",
    "    sys.path.append(module_path)\n",
    "\n",
    "# Functions Notebook\n",
    "from Utils import build_GAN, batch_build_GAN, corr_matrix\n",
    "from Functions import holisticsTrainTest\n",
    "from Functions import comfPMV, ppv, selectModelParameters, trainTest_tunedModel, buildTrainRF, buildTrainKNN\n",
    "from Functions import buildTrainSVM, buildTrainNB, buildMLP, getClfMetrics, saveModel\n",
    "\n",
    "# Pandas, matplotlib, pickle, seaborn\n",
    "import pickle\n",
    "import numpy as np\n",
    "import pandas as pd\n",
    "import seaborn as sns\n",
    "import matplotlib.pyplot as plt\n",
    "# from collections import Counter\n",
    "\n",
    "# Sklearn\n",
    "from sklearn.manifold import TSNE\n",
    "from sklearn import preprocessing\n",
    "\n",
    "# Tensorflow\n",
    "import tensorflow as tf"
   ]
  },
  {
   "cell_type": "code",
   "execution_count": 2,
   "metadata": {
    "ExecuteTime": {
     "end_time": "2019-08-11T02:35:47.031752Z",
     "start_time": "2019-08-11T02:35:47.027499Z"
    }
   },
   "outputs": [],
   "source": [
    "# Run the pre-processing notebook first to make sure the pickle files exist\n",
    "\n",
    "df_feature1 = pd.read_pickle(\"df_feature1.pkl\")\n",
    "# df_feature2 = pd.read_pickle(\"df_feature2.pkl\")\n",
    "# df_feature3 = pd.read_pickle(\"df_feature3.pkl\")\n",
    "# df_feature4 = pd.read_pickle(\"df_feature4.pkl\")\n",
    "# df_feature5 = pd.read_pickle(\"df_feature5.pkl\")\n"
   ]
  },
  {
   "cell_type": "code",
   "execution_count": 3,
   "metadata": {
    "ExecuteTime": {
     "end_time": "2019-08-11T02:35:47.048292Z",
     "start_time": "2019-08-11T02:35:47.033700Z"
    }
   },
   "outputs": [],
   "source": [
    "test_size_percentage = 0.2 # for CV within train split\n",
    "train_test_split = 0.8 # for main train/validation split\n",
    "\n",
    "user_split = False #split train and test user-based or completely stratfied\n",
    "\n",
    "use_heuristics_participants = False\n"
   ]
  },
  {
   "cell_type": "code",
   "execution_count": 4,
   "metadata": {
    "ExecuteTime": {
     "end_time": "2019-08-11T02:35:47.101801Z",
     "start_time": "2019-08-11T02:35:47.049964Z"
    }
   },
   "outputs": [
    {
     "name": "stdout",
     "output_type": "stream",
     "text": [
      "Complete Participants: [1, 2, 4, 5, 6, 7, 8, 11, 12, 14, 15, 16, 17, 18, 19, 20, 21, 22, 23, 24, 25, 27, 29, 30, 31, 32, 33, 34, 35, 40, 41, 42, 43, 44, 45, 46, 49, 50, 51, 52, 54, 55, 57, 58, 59, 60, 61, 62, 63, 64, 65, 66, 67, 68, 70, 71, 72, 73, 74, 75, 76, 77, 78, 79, 80]\n",
      "Total number of complete participants: 65\n"
     ]
    }
   ],
   "source": [
    "df_aux_65 = pd.read_csv(\"../data/TCS_65_participants_outsideData.csv\", delimiter = \",\")\n",
    "\n",
    "list_complete_participants = list(df_aux_65['Participant_No'].unique())\n",
    "\n",
    "if use_heuristics_participants:\n",
    "    list_complete_participants.append(10)\n",
    "    list_complete_participants.append(26)\n",
    "    list_complete_participants.append(28)\n",
    "    list_complete_participants.append(36)\n",
    "    list_complete_participants.append(37)\n",
    "    list_complete_participants.append(39)\n",
    "    list_complete_participants.append(47)\n",
    "    list_complete_participants.append(48)\n",
    "    list_complete_participants.append(53)\n",
    "\n",
    "num_complete_participants = len(list_complete_participants)\n",
    "print(\"Complete Participants: {}\".format(list_complete_participants))\n",
    "print(\"Total number of complete participants: {}\".format(num_complete_participants))"
   ]
  },
  {
   "cell_type": "code",
   "execution_count": 20,
   "metadata": {
    "ExecuteTime": {
     "end_time": "2019-08-11T04:00:42.439837Z",
     "start_time": "2019-08-11T04:00:42.423476Z"
    }
   },
   "outputs": [
    {
     "name": "stdout",
     "output_type": "stream",
     "text": [
      "Total number of instances: 2067\n",
      " 0    1152\n",
      "-1     452\n",
      "-2     217\n",
      " 1     198\n",
      " 2      48\n",
      "Name: Discrete Thermal Comfort_TA, dtype: int64\n",
      "Number of training instances: 1653\n",
      "Number of testing (validation) instances: 414\n"
     ]
    }
   ],
   "source": [
    "\n",
    "df_feature1_train, df_feature1_test, df_feature1_train_binary, df_feature1_test_binary = holisticsTrainTest(df_feature1, \n",
    "                                                                                                            list_complete_participants,\n",
    "                                                                                                            user_split = user_split,\n",
    "                                                                                                            train_test_split = train_test_split)\n",
    "\n",
    "\n",
    "# df_feature2_train, df_feature2_test, df_feature2_train_binary, df_feature2_test_binary  = holisticsTrainTest(df_feature2, \n",
    "#                                                                                                              list_complete_participants,\n",
    "#                                                                                                             user_split = user_split,\n",
    "#                                                                                                             train_test_split=train_test_split)\n",
    "\n",
    "# df_feature3_train, df_feature3_test, df_feature3_train_binary, df_feature3_test_binary = holisticsTrainTest(df_feature3,\n",
    "#                                                                                                            list_complete_participants,\n",
    "#                                                                                                            user_split = user_split,\n",
    "#                                                                                                            train_test_split=train_test_split)\n",
    "\n",
    "# df_feature4_train, df_feature4_test, df_feature4_train_binary, df_feature4_test_binary = holisticsTrainTest(df_feature4,\n",
    "#                                                                                                            list_complete_participants,\n",
    "#                                                                                                            user_split = user_split,\n",
    "#                                                                                                            train_test_split=train_test_split)\n",
    "\n",
    "# df_feature5_train, df_feature5_test, df_feature5_train_binary, df_feature5_test_binary = holisticsTrainTest(df_feature5,\n",
    "#                                                                                                             list_complete_participants,\n",
    "#                                                                                                            user_split = user_split,\n",
    "#                                                                                                            train_test_split=train_test_split)\n",
    "\n",
    "print(\"Total number of instances: {}\".format(df_feature1.shape[0]))\n",
    "print(df_feature1['Discrete Thermal Comfort_TA'].value_counts())\n",
    "print(\"Number of training instances: {}\".format(df_feature1_train.shape[0]))\n",
    "print(\"Number of testing (validation) instances: {}\".format(df_feature1_test.shape[0]))"
   ]
  },
  {
   "cell_type": "markdown",
   "metadata": {},
   "source": [
    "# Preparing data"
   ]
  },
  {
   "cell_type": "code",
   "execution_count": 6,
   "metadata": {
    "ExecuteTime": {
     "end_time": "2019-08-11T02:35:47.124307Z",
     "start_time": "2019-08-11T02:35:47.117016Z"
    }
   },
   "outputs": [
    {
     "name": "stdout",
     "output_type": "stream",
     "text": [
      " 0    918\n",
      "-1    372\n",
      "-2    173\n",
      " 1    157\n",
      " 2     33\n",
      "Name: Discrete Thermal Comfort_TA, dtype: int64\n",
      " 0    234\n",
      "-1     80\n",
      "-2     44\n",
      " 1     41\n",
      " 2     15\n",
      "Name: Discrete Thermal Comfort_TA, dtype: int64\n"
     ]
    }
   ],
   "source": [
    "print(df_feature1_train['Discrete Thermal Comfort_TA'].value_counts())\n",
    "print(df_feature1_test['Discrete Thermal Comfort_TA'].value_counts())\n",
    "# df_feature1_train.to_csv('df_feature1_train.csv', index=False)"
   ]
  },
  {
   "cell_type": "code",
   "execution_count": 7,
   "metadata": {
    "ExecuteTime": {
     "end_time": "2019-08-11T02:35:47.138939Z",
     "start_time": "2019-08-11T02:35:47.125510Z"
    }
   },
   "outputs": [
    {
     "name": "stdout",
     "output_type": "stream",
     "text": [
      "353\n",
      "190\n",
      "176\n",
      "44\n"
     ]
    }
   ],
   "source": [
    "# needed datapoints per label\n",
    "needed_0 = 950\n",
    "needed_minus1 = 353 * 2\n",
    "needed_minus2 = 190 * 2\n",
    "needed_1 = 176 * 2\n",
    "needed_2 = 44 * 2\n",
    "\n",
    "print(needed_minus1)\n",
    "print(needed_minus2)\n",
    "print(needed_1)\n",
    "print(needed_2)"
   ]
  },
  {
   "cell_type": "markdown",
   "metadata": {},
   "source": [
    "## Occutherm thermal comfort models"
   ]
  },
  {
   "cell_type": "code",
   "execution_count": 8,
   "metadata": {
    "ExecuteTime": {
     "end_time": "2019-08-11T02:37:57.266770Z",
     "start_time": "2019-08-11T02:35:47.140695Z"
    }
   },
   "outputs": [
    {
     "name": "stdout",
     "output_type": "stream",
     "text": [
      "Features: ['Temperature (Fahrenheit)' 'SkinTemperature' 'ClothingInsulation'\n",
      " 'Height(cm)' 'Shoulder Circumference(cm)' 'Weight(lbs)' 'Gender'\n",
      " 'Temperature_outside' 'Humidity_outside']\n",
      "Expected accuracy (f1 micro) based on Cross-Validation:  0.5266228621517893\n",
      "GaussianNB(priors=None, var_smoothing=1e-09)\n",
      "Accuracy (f1 micro) on test set:  0.513595166163142\n",
      "F1 micro on test set:  0.513595166163142\n",
      "F1 macro on test set:  0.44454532230737226\n",
      "Confusion Matrix: \n",
      "[[ 21   9   5   0   0]\n",
      " [ 19  28  27   0   0]\n",
      " [ 19  34 107  21   3]\n",
      " [  1   0  18  11   1]\n",
      " [  0   0   3   1   3]]\n",
      "Classification Metrics: \n",
      "              precision    recall  f1-score   support\n",
      "\n",
      "          -2       0.35      0.60      0.44        35\n",
      "          -1       0.39      0.38      0.39        74\n",
      "           0       0.67      0.58      0.62       184\n",
      "           1       0.33      0.35      0.34        31\n",
      "           2       0.43      0.43      0.43         7\n",
      "\n",
      "   micro avg       0.51      0.51      0.51       331\n",
      "   macro avg       0.44      0.47      0.44       331\n",
      "weighted avg       0.54      0.51      0.52       331\n",
      "\n",
      "Features: ['Temperature (Fahrenheit)' 'SkinTemperature' 'ClothingInsulation'\n",
      " 'Height(cm)' 'Shoulder Circumference(cm)' 'Weight(lbs)' 'Gender'\n",
      " 'Temperature_outside' 'Humidity_outside']\n",
      "Number of folds: 10\n"
     ]
    },
    {
     "name": "stderr",
     "output_type": "stream",
     "text": [
      "/home/matias/anaconda3/envs/tGAN/lib/python3.7/site-packages/sklearn/model_selection/_search.py:841: DeprecationWarning: The default of the `iid` parameter will change from True to False in version 0.22 and will be removed in 0.24. This will change numeric results when test-set sizes are unequal.\n",
      "  DeprecationWarning)\n"
     ]
    },
    {
     "name": "stdout",
     "output_type": "stream",
     "text": [
      "Best parameters set found on development set:\n",
      "{'algorithm': 'brute', 'metric': 'seuclidean', 'n_neighbors': 3, 'weights': 'distance'}\n",
      "KNeighborsClassifier(algorithm='brute', leaf_size=30, metric='seuclidean',\n",
      "           metric_params=None, n_jobs=None, n_neighbors=3, p=2,\n",
      "           weights='distance')\n",
      "Accuracy (f1 micro) on test set:  0.6858006042296072\n",
      "F1 micro on test set:  0.6858006042296072\n",
      "F1 macro on test set:  0.5602459224188084\n",
      "Confusion Matrix: \n",
      "[[ 24   8   3   0   0]\n",
      " [ 12  38  24   0   0]\n",
      " [  3  26 147   7   1]\n",
      " [  0   0  11  16   4]\n",
      " [  0   0   1   4   2]]\n",
      "Classification Metrics: \n",
      "              precision    recall  f1-score   support\n",
      "\n",
      "          -2       0.62      0.69      0.65        35\n",
      "          -1       0.53      0.51      0.52        74\n",
      "           0       0.79      0.80      0.79       184\n",
      "           1       0.59      0.52      0.55        31\n",
      "           2       0.29      0.29      0.29         7\n",
      "\n",
      "   micro avg       0.69      0.69      0.69       331\n",
      "   macro avg       0.56      0.56      0.56       331\n",
      "weighted avg       0.68      0.69      0.68       331\n",
      "\n",
      "Features: ['Temperature (Fahrenheit)' 'SkinTemperature' 'ClothingInsulation'\n",
      " 'Height(cm)' 'Shoulder Circumference(cm)' 'Weight(lbs)' 'Gender'\n",
      " 'Temperature_outside' 'Humidity_outside']\n",
      "Number of folds: 10\n"
     ]
    },
    {
     "name": "stderr",
     "output_type": "stream",
     "text": [
      "/home/matias/anaconda3/envs/tGAN/lib/python3.7/site-packages/sklearn/model_selection/_search.py:841: DeprecationWarning: The default of the `iid` parameter will change from True to False in version 0.22 and will be removed in 0.24. This will change numeric results when test-set sizes are unequal.\n",
      "  DeprecationWarning)\n"
     ]
    },
    {
     "name": "stdout",
     "output_type": "stream",
     "text": [
      "Best parameters set found on development set:\n",
      "{'C': 1000, 'class_weight': 'balanced', 'gamma': 0.1, 'kernel': 'rbf'}\n",
      "SVC(C=1000, cache_size=200, class_weight='balanced', coef0=0.0,\n",
      "  decision_function_shape='ovr', degree=3, gamma=0.1, kernel='rbf',\n",
      "  max_iter=-1, probability=False, random_state=100, shrinking=True,\n",
      "  tol=0.001, verbose=False)\n",
      "Accuracy (f1 micro) on test set:  0.6827794561933535\n",
      "F1 micro on test set:  0.6827794561933535\n",
      "F1 macro on test set:  0.5749621346395539\n",
      "Confusion Matrix: \n",
      "[[ 25  10   0   0   0]\n",
      " [ 11  47  15   1   0]\n",
      " [  6  35 134   8   1]\n",
      " [  1   2   7  18   3]\n",
      " [  0   0   1   4   2]]\n",
      "Classification Metrics: \n",
      "              precision    recall  f1-score   support\n",
      "\n",
      "          -2       0.58      0.71      0.64        35\n",
      "          -1       0.50      0.64      0.56        74\n",
      "           0       0.85      0.73      0.79       184\n",
      "           1       0.58      0.58      0.58        31\n",
      "           2       0.33      0.29      0.31         7\n",
      "\n",
      "   micro avg       0.68      0.68      0.68       331\n",
      "   macro avg       0.57      0.59      0.57       331\n",
      "weighted avg       0.71      0.68      0.69       331\n",
      "\n",
      "Accuracy (f1 micro) on test set:  0.6666666666666666\n",
      "F1 micro on test set:  0.6666666666666666\n",
      "F1 macro on test set:  0.5482283464651171\n",
      "Confusion Matrix: \n",
      "[[ 21  19   2   2   0]\n",
      " [ 14  47  18   1   0]\n",
      " [  6  32 181  11   4]\n",
      " [  0   0  16  21   4]\n",
      " [  0   0   2   7   6]]\n",
      "Classification Metrics: \n",
      "              precision    recall  f1-score   support\n",
      "\n",
      "          -2       0.51      0.48      0.49        44\n",
      "          -1       0.48      0.59      0.53        80\n",
      "           0       0.83      0.77      0.80       234\n",
      "           1       0.50      0.51      0.51        41\n",
      "           2       0.43      0.40      0.41        15\n",
      "\n",
      "   micro avg       0.67      0.67      0.67       414\n",
      "   macro avg       0.55      0.55      0.55       414\n",
      "weighted avg       0.68      0.67      0.67       414\n",
      "\n",
      "Accuracy (f1 micro) on test set:  0.5652173913043478\n",
      "F1 micro on test set:  0.5652173913043478\n",
      "F1 macro on test set:  0.14444444444444443\n",
      "Confusion Matrix: \n",
      "[[  0   0  44   0   0]\n",
      " [  0   0  80   0   0]\n",
      " [  0   0 234   0   0]\n",
      " [  0   0  41   0   0]\n",
      " [  0   0  15   0   0]]\n",
      "Classification Metrics: \n",
      "              precision    recall  f1-score   support\n",
      "\n",
      "          -2       0.00      0.00      0.00        44\n",
      "          -1       0.00      0.00      0.00        80\n",
      "           0       0.57      1.00      0.72       234\n",
      "           1       0.00      0.00      0.00        41\n",
      "           2       0.00      0.00      0.00        15\n",
      "\n",
      "   micro avg       0.57      0.57      0.57       414\n",
      "   macro avg       0.11      0.20      0.14       414\n",
      "weighted avg       0.32      0.57      0.41       414\n",
      "\n",
      "Accuracy (f1 micro) on test set:  0.5652173913043478\n",
      "F1 micro on test set:  0.5652173913043478\n",
      "F1 macro on test set:  0.14444444444444443\n",
      "Confusion Matrix: \n",
      "[[  0   0  44   0   0]\n",
      " [  0   0  80   0   0]\n",
      " [  0   0 234   0   0]\n",
      " [  0   0  41   0   0]\n",
      " [  0   0  15   0   0]]\n",
      "Classification Metrics: \n",
      "              precision    recall  f1-score   support\n",
      "\n",
      "          -2       0.00      0.00      0.00        44\n",
      "          -1       0.00      0.00      0.00        80\n",
      "           0       0.57      1.00      0.72       234\n",
      "           1       0.00      0.00      0.00        41\n",
      "           2       0.00      0.00      0.00        15\n",
      "\n",
      "   micro avg       0.57      0.57      0.57       414\n",
      "   macro avg       0.11      0.20      0.14       414\n",
      "weighted avg       0.32      0.57      0.41       414\n",
      "\n",
      "0.6666666666666666\n",
      "0.5652173913043478\n",
      "0.5652173913043478\n"
     ]
    },
    {
     "name": "stderr",
     "output_type": "stream",
     "text": [
      "/home/matias/anaconda3/envs/tGAN/lib/python3.7/site-packages/sklearn/metrics/classification.py:1143: UndefinedMetricWarning: F-score is ill-defined and being set to 0.0 in labels with no predicted samples.\n",
      "  'precision', 'predicted', average, warn_for)\n",
      "/home/matias/anaconda3/envs/tGAN/lib/python3.7/site-packages/sklearn/metrics/classification.py:1143: UndefinedMetricWarning: Precision and F-score are ill-defined and being set to 0.0 in labels with no predicted samples.\n",
      "  'precision', 'predicted', average, warn_for)\n",
      "/home/matias/anaconda3/envs/tGAN/lib/python3.7/site-packages/sklearn/metrics/classification.py:1143: UndefinedMetricWarning: Precision and F-score are ill-defined and being set to 0.0 in labels with no predicted samples.\n",
      "  'precision', 'predicted', average, warn_for)\n",
      "/home/matias/anaconda3/envs/tGAN/lib/python3.7/site-packages/sklearn/metrics/classification.py:1143: UndefinedMetricWarning: Precision and F-score are ill-defined and being set to 0.0 in labels with no predicted samples.\n",
      "  'precision', 'predicted', average, warn_for)\n",
      "/home/matias/anaconda3/envs/tGAN/lib/python3.7/site-packages/sklearn/metrics/classification.py:1143: UndefinedMetricWarning: F-score is ill-defined and being set to 0.0 in labels with no predicted samples.\n",
      "  'precision', 'predicted', average, warn_for)\n",
      "/home/matias/anaconda3/envs/tGAN/lib/python3.7/site-packages/sklearn/metrics/classification.py:1143: UndefinedMetricWarning: Precision and F-score are ill-defined and being set to 0.0 in labels with no predicted samples.\n",
      "  'precision', 'predicted', average, warn_for)\n",
      "/home/matias/anaconda3/envs/tGAN/lib/python3.7/site-packages/sklearn/metrics/classification.py:1143: UndefinedMetricWarning: Precision and F-score are ill-defined and being set to 0.0 in labels with no predicted samples.\n",
      "  'precision', 'predicted', average, warn_for)\n",
      "/home/matias/anaconda3/envs/tGAN/lib/python3.7/site-packages/sklearn/metrics/classification.py:1143: UndefinedMetricWarning: Precision and F-score are ill-defined and being set to 0.0 in labels with no predicted samples.\n",
      "  'precision', 'predicted', average, warn_for)\n"
     ]
    }
   ],
   "source": [
    "# load best models NB and KNN\n",
    "acc_nb_1_train, nb_optimal_1 = buildTrainNB(df_feature1_train, test_size_percentage=test_size_percentage)\n",
    "acc_knn_1_train, knn_optimal_1 = buildTrainKNN(df_feature1_train,test_size_percentage=test_size_percentage)\n",
    "acc_svm_1_train, svm_optimal_1 = buildTrainSVM(df_feature1_train, test_size_percentage=test_size_percentage)\n",
    "\n",
    "# using the optimal model. re-train in whole train split and test in unseen test split\n",
    "acc_holistic_knn_1, _ = trainTest_tunedModel(df_feature1_test, knn_optimal_1)\n",
    "acc_holistic_nb_1, _ = trainTest_tunedModel(df_feature1_test, nb_optimal_1)\n",
    "acc_holistic_svm_1, _= trainTest_tunedModel(df_feature1_test, svm_optimal_1)\n",
    "\n",
    "print(acc_holistic_knn_1)\n",
    "print(acc_holistic_nb_1)\n",
    "print(acc_holistic_svm_1)\n"
   ]
  },
  {
   "cell_type": "markdown",
   "metadata": {},
   "source": [
    "# tGAN "
   ]
  },
  {
   "cell_type": "code",
   "execution_count": 9,
   "metadata": {
    "ExecuteTime": {
     "end_time": "2019-08-11T02:37:57.384705Z",
     "start_time": "2019-08-11T02:37:57.268705Z"
    }
   },
   "outputs": [
    {
     "name": "stderr",
     "output_type": "stream",
     "text": [
      "WARNING: Logging before flag parsing goes to stderr.\n",
      "W0811 10:37:57.360398 139778422806336 module_wrapper.py:136] From /home/matias/anaconda3/envs/tGAN/lib/python3.7/site-packages/tensorflow_core/python/util/module_wrapper.py:163: The name tf.train.SessionRunHook is deprecated. Please use tf.estimator.SessionRunHook instead.\n",
      "\n"
     ]
    }
   ],
   "source": [
    "from tgan.model import TGANModel\n",
    "# continuous_columns, that will contain a list with the indices of continuous columns.\n",
    "# df_feature1_train.to_csv(\"../data/df_feature1_train.csv\", index=False)\n",
    "# print(df_feature1_train)\n",
    "continuous_columns = [0, 1, 2, 3, 4, 5, 7, 8]\n"
   ]
  },
  {
   "cell_type": "code",
   "execution_count": 10,
   "metadata": {
    "ExecuteTime": {
     "end_time": "2019-08-11T02:37:57.390456Z",
     "start_time": "2019-08-11T02:37:57.386109Z"
    }
   },
   "outputs": [
    {
     "data": {
      "text/plain": [
       "'best architecture based on TGAN architecture search\\n{\\n\"batch_size\": 100, \\n\"z_dim\": 100, \\n\"num_gen_rnn\": 400, \\n\"num_gen_feature\": 100, \\n\"num_dis_layers\": 5, \\n\"num_dis_hidden\": 200, \\n\"learning_rate\": 0.0002, \\n\"noise\": 0.1, \\n\"max_epoch\": 5, \\n\"steps_per_epoch\": 1000, \\n\"score\": 0.5043731778425656\\n}\\n'"
      ]
     },
     "execution_count": 10,
     "metadata": {},
     "output_type": "execute_result"
    }
   ],
   "source": [
    "\"\"\"best architecture based on TGAN architecture search\n",
    "{\n",
    "\"batch_size\": 100, \n",
    "\"z_dim\": 100, \n",
    "\"num_gen_rnn\": 400, \n",
    "\"num_gen_feature\": 100, \n",
    "\"num_dis_layers\": 5, \n",
    "\"num_dis_hidden\": 200, \n",
    "\"learning_rate\": 0.0002, \n",
    "\"noise\": 0.1, \n",
    "\"max_epoch\": 5, \n",
    "\"steps_per_epoch\": 1000, \n",
    "\"score\": 0.5043731778425656\n",
    "}\n",
    "\"\"\""
   ]
  },
  {
   "cell_type": "code",
   "execution_count": 11,
   "metadata": {
    "ExecuteTime": {
     "end_time": "2019-08-11T03:12:43.854894Z",
     "start_time": "2019-08-11T02:37:57.391902Z"
    },
    "scrolled": true
   },
   "outputs": [
    {
     "name": "stderr",
     "output_type": "stream",
     "text": [
      "W0811 10:37:57.511141 139778422806336 module_wrapper.py:136] From /home/matias/anaconda3/envs/tGAN/lib/python3.7/site-packages/tensorflow_core/python/util/module_wrapper.py:163: The name tf.get_default_graph is deprecated. Please use tf.compat.v1.get_default_graph instead.\n",
      "\n"
     ]
    },
    {
     "name": "stdout",
     "output_type": "stream",
     "text": [
      "\u001b[32m[0811 10:37:57 @input_source.py:222]\u001b[0m Setting up the queue 'QueueInput/input_queue' for CPU prefetching ...\n"
     ]
    },
    {
     "name": "stderr",
     "output_type": "stream",
     "text": [
      "W0811 10:37:57.543535 139778422806336 module_wrapper.py:136] From /home/matias/anaconda3/envs/tGAN/lib/python3.7/site-packages/tensorflow_core/python/util/module_wrapper.py:163: The name tf.summary.scalar is deprecated. Please use tf.compat.v1.summary.scalar instead.\n",
      "\n",
      "W0811 10:37:57.550619 139778422806336 deprecation.py:323] From /home/matias/anaconda3/envs/tGAN/lib/python3.7/site-packages/tgan/model.py:259: LSTMCell.__init__ (from tensorflow.python.ops.rnn_cell_impl) is deprecated and will be removed in a future version.\n",
      "Instructions for updating:\n",
      "This class is equivalent as tf.keras.layers.LSTMCell, and will be replaced by that in Tensorflow 2.0.\n",
      "W0811 10:37:57.572559 139778422806336 deprecation.py:323] From /home/matias/anaconda3/envs/tGAN/lib/python3.7/site-packages/tensorflow_core/python/ops/rnn_cell_impl.py:957: Layer.add_variable (from tensorflow.python.keras.engine.base_layer) is deprecated and will be removed in a future version.\n",
      "Instructions for updating:\n",
      "Please use `layer.add_weight` method instead.\n",
      "W0811 10:37:57.580392 139778422806336 deprecation.py:506] From /home/matias/anaconda3/envs/tGAN/lib/python3.7/site-packages/tensorflow_core/python/ops/rnn_cell_impl.py:961: calling Zeros.__init__ (from tensorflow.python.ops.init_ops) with dtype is deprecated and will be removed in a future version.\n",
      "Instructions for updating:\n",
      "Call initializer instance with the dtype argument instead of passing it to the constructor\n"
     ]
    },
    {
     "name": "stdout",
     "output_type": "stream",
     "text": [
      "\u001b[32m[0811 10:37:57 @registry.py:126]\u001b[0m gen/LSTM/00/FC input: [100, 400]\n"
     ]
    },
    {
     "name": "stderr",
     "output_type": "stream",
     "text": [
      "W0811 10:37:57.597186 139778422806336 module_wrapper.py:136] From /home/matias/anaconda3/envs/tGAN/lib/python3.7/site-packages/tensorflow_core/python/util/module_wrapper.py:163: The name tf.layers.Dense is deprecated. Please use tf.compat.v1.layers.Dense instead.\n",
      "\n",
      "W0811 10:37:57.597885 139778422806336 deprecation.py:323] From /home/matias/anaconda3/envs/tGAN/lib/python3.7/site-packages/tensorpack/models/fc.py:67: Layer.apply (from tensorflow.python.keras.engine.base_layer) is deprecated and will be removed in a future version.\n",
      "Instructions for updating:\n",
      "Please use `layer.__call__` method instead.\n"
     ]
    },
    {
     "name": "stdout",
     "output_type": "stream",
     "text": [
      "\u001b[32m[0811 10:37:57 @registry.py:134]\u001b[0m gen/LSTM/00/FC output: [100, 100]\n",
      "\u001b[32m[0811 10:37:57 @registry.py:126]\u001b[0m gen/LSTM/00/FC2 input: [100, 100]\n",
      "\u001b[32m[0811 10:37:57 @registry.py:134]\u001b[0m gen/LSTM/00/FC2 output: [100, 1]\n",
      "\u001b[32m[0811 10:37:57 @registry.py:126]\u001b[0m gen/LSTM/01/FC input: [100, 400]\n",
      "\u001b[32m[0811 10:37:57 @registry.py:134]\u001b[0m gen/LSTM/01/FC output: [100, 100]\n",
      "\u001b[32m[0811 10:37:57 @registry.py:126]\u001b[0m gen/LSTM/01/FC2 input: [100, 100]\n",
      "\u001b[32m[0811 10:37:57 @registry.py:134]\u001b[0m gen/LSTM/01/FC2 output: [100, 5]\n",
      "\u001b[32m[0811 10:37:57 @registry.py:126]\u001b[0m gen/LSTM/01/FC3 input: [100, 5]\n",
      "\u001b[32m[0811 10:37:57 @registry.py:134]\u001b[0m gen/LSTM/01/FC3 output: [100, 100]\n",
      "\u001b[32m[0811 10:37:57 @registry.py:126]\u001b[0m gen/LSTM/02/FC input: [100, 400]\n",
      "\u001b[32m[0811 10:37:57 @registry.py:134]\u001b[0m gen/LSTM/02/FC output: [100, 100]\n",
      "\u001b[32m[0811 10:37:57 @registry.py:126]\u001b[0m gen/LSTM/02/FC2 input: [100, 100]\n",
      "\u001b[32m[0811 10:37:57 @registry.py:134]\u001b[0m gen/LSTM/02/FC2 output: [100, 1]\n",
      "\u001b[32m[0811 10:37:57 @registry.py:126]\u001b[0m gen/LSTM/03/FC input: [100, 400]\n",
      "\u001b[32m[0811 10:37:57 @registry.py:134]\u001b[0m gen/LSTM/03/FC output: [100, 100]\n",
      "\u001b[32m[0811 10:37:57 @registry.py:126]\u001b[0m gen/LSTM/03/FC2 input: [100, 100]\n",
      "\u001b[32m[0811 10:37:57 @registry.py:134]\u001b[0m gen/LSTM/03/FC2 output: [100, 5]\n",
      "\u001b[32m[0811 10:37:57 @registry.py:126]\u001b[0m gen/LSTM/03/FC3 input: [100, 5]\n",
      "\u001b[32m[0811 10:37:57 @registry.py:134]\u001b[0m gen/LSTM/03/FC3 output: [100, 100]\n",
      "\u001b[32m[0811 10:37:57 @registry.py:126]\u001b[0m gen/LSTM/04/FC input: [100, 400]\n",
      "\u001b[32m[0811 10:37:57 @registry.py:134]\u001b[0m gen/LSTM/04/FC output: [100, 100]\n",
      "\u001b[32m[0811 10:37:57 @registry.py:126]\u001b[0m gen/LSTM/04/FC2 input: [100, 100]\n",
      "\u001b[32m[0811 10:37:57 @registry.py:134]\u001b[0m gen/LSTM/04/FC2 output: [100, 1]\n",
      "\u001b[32m[0811 10:37:57 @registry.py:126]\u001b[0m gen/LSTM/05/FC input: [100, 400]\n",
      "\u001b[32m[0811 10:37:57 @registry.py:134]\u001b[0m gen/LSTM/05/FC output: [100, 100]\n",
      "\u001b[32m[0811 10:37:57 @registry.py:126]\u001b[0m gen/LSTM/05/FC2 input: [100, 100]\n",
      "\u001b[32m[0811 10:37:57 @registry.py:134]\u001b[0m gen/LSTM/05/FC2 output: [100, 5]\n",
      "\u001b[32m[0811 10:37:57 @registry.py:126]\u001b[0m gen/LSTM/05/FC3 input: [100, 5]\n",
      "\u001b[32m[0811 10:37:57 @registry.py:134]\u001b[0m gen/LSTM/05/FC3 output: [100, 100]\n",
      "\u001b[32m[0811 10:37:58 @registry.py:126]\u001b[0m gen/LSTM/06/FC input: [100, 400]\n",
      "\u001b[32m[0811 10:37:58 @registry.py:134]\u001b[0m gen/LSTM/06/FC output: [100, 100]\n",
      "\u001b[32m[0811 10:37:58 @registry.py:126]\u001b[0m gen/LSTM/06/FC2 input: [100, 100]\n",
      "\u001b[32m[0811 10:37:58 @registry.py:134]\u001b[0m gen/LSTM/06/FC2 output: [100, 1]\n",
      "\u001b[32m[0811 10:37:58 @registry.py:126]\u001b[0m gen/LSTM/07/FC input: [100, 400]\n",
      "\u001b[32m[0811 10:37:58 @registry.py:134]\u001b[0m gen/LSTM/07/FC output: [100, 100]\n",
      "\u001b[32m[0811 10:37:58 @registry.py:126]\u001b[0m gen/LSTM/07/FC2 input: [100, 100]\n",
      "\u001b[32m[0811 10:37:58 @registry.py:134]\u001b[0m gen/LSTM/07/FC2 output: [100, 5]\n",
      "\u001b[32m[0811 10:37:58 @registry.py:126]\u001b[0m gen/LSTM/07/FC3 input: [100, 5]\n",
      "\u001b[32m[0811 10:37:58 @registry.py:134]\u001b[0m gen/LSTM/07/FC3 output: [100, 100]\n",
      "\u001b[32m[0811 10:37:58 @registry.py:126]\u001b[0m gen/LSTM/08/FC input: [100, 400]\n",
      "\u001b[32m[0811 10:37:58 @registry.py:134]\u001b[0m gen/LSTM/08/FC output: [100, 100]\n",
      "\u001b[32m[0811 10:37:58 @registry.py:126]\u001b[0m gen/LSTM/08/FC2 input: [100, 100]\n",
      "\u001b[32m[0811 10:37:58 @registry.py:134]\u001b[0m gen/LSTM/08/FC2 output: [100, 1]\n",
      "\u001b[32m[0811 10:37:58 @registry.py:126]\u001b[0m gen/LSTM/09/FC input: [100, 400]\n",
      "\u001b[32m[0811 10:37:58 @registry.py:134]\u001b[0m gen/LSTM/09/FC output: [100, 100]\n",
      "\u001b[32m[0811 10:37:58 @registry.py:126]\u001b[0m gen/LSTM/09/FC2 input: [100, 100]\n",
      "\u001b[32m[0811 10:37:58 @registry.py:134]\u001b[0m gen/LSTM/09/FC2 output: [100, 5]\n",
      "\u001b[32m[0811 10:37:58 @registry.py:126]\u001b[0m gen/LSTM/09/FC3 input: [100, 5]\n",
      "\u001b[32m[0811 10:37:58 @registry.py:134]\u001b[0m gen/LSTM/09/FC3 output: [100, 100]\n",
      "\u001b[32m[0811 10:37:58 @registry.py:126]\u001b[0m gen/LSTM/10/FC input: [100, 400]\n",
      "\u001b[32m[0811 10:37:58 @registry.py:134]\u001b[0m gen/LSTM/10/FC output: [100, 100]\n",
      "\u001b[32m[0811 10:37:58 @registry.py:126]\u001b[0m gen/LSTM/10/FC2 input: [100, 100]\n",
      "\u001b[32m[0811 10:37:58 @registry.py:134]\u001b[0m gen/LSTM/10/FC2 output: [100, 1]\n",
      "\u001b[32m[0811 10:37:58 @registry.py:126]\u001b[0m gen/LSTM/11/FC input: [100, 400]\n",
      "\u001b[32m[0811 10:37:58 @registry.py:134]\u001b[0m gen/LSTM/11/FC output: [100, 100]\n",
      "\u001b[32m[0811 10:37:58 @registry.py:126]\u001b[0m gen/LSTM/11/FC2 input: [100, 100]\n",
      "\u001b[32m[0811 10:37:58 @registry.py:134]\u001b[0m gen/LSTM/11/FC2 output: [100, 5]\n",
      "\u001b[32m[0811 10:37:58 @registry.py:126]\u001b[0m gen/LSTM/11/FC3 input: [100, 5]\n",
      "\u001b[32m[0811 10:37:58 @registry.py:134]\u001b[0m gen/LSTM/11/FC3 output: [100, 100]\n",
      "\u001b[32m[0811 10:37:58 @registry.py:126]\u001b[0m gen/LSTM/12/FC input: [100, 400]\n",
      "\u001b[32m[0811 10:37:58 @registry.py:134]\u001b[0m gen/LSTM/12/FC output: [100, 100]\n",
      "\u001b[32m[0811 10:37:58 @registry.py:126]\u001b[0m gen/LSTM/12/FC2 input: [100, 100]\n",
      "\u001b[32m[0811 10:37:58 @registry.py:134]\u001b[0m gen/LSTM/12/FC2 output: [100, 2]\n",
      "\u001b[32m[0811 10:37:58 @registry.py:126]\u001b[0m gen/LSTM/12/FC3 input: [100, 2]\n",
      "\u001b[32m[0811 10:37:58 @registry.py:134]\u001b[0m gen/LSTM/12/FC3 output: [100, 100]\n",
      "\u001b[32m[0811 10:37:58 @registry.py:126]\u001b[0m gen/LSTM/13/FC input: [100, 400]\n",
      "\u001b[32m[0811 10:37:58 @registry.py:134]\u001b[0m gen/LSTM/13/FC output: [100, 100]\n",
      "\u001b[32m[0811 10:37:58 @registry.py:126]\u001b[0m gen/LSTM/13/FC2 input: [100, 100]\n",
      "\u001b[32m[0811 10:37:58 @registry.py:134]\u001b[0m gen/LSTM/13/FC2 output: [100, 1]\n",
      "\u001b[32m[0811 10:37:58 @registry.py:126]\u001b[0m gen/LSTM/14/FC input: [100, 400]\n",
      "\u001b[32m[0811 10:37:58 @registry.py:134]\u001b[0m gen/LSTM/14/FC output: [100, 100]\n",
      "\u001b[32m[0811 10:37:58 @registry.py:126]\u001b[0m gen/LSTM/14/FC2 input: [100, 100]\n",
      "\u001b[32m[0811 10:37:58 @registry.py:134]\u001b[0m gen/LSTM/14/FC2 output: [100, 5]\n",
      "\u001b[32m[0811 10:37:58 @registry.py:126]\u001b[0m gen/LSTM/14/FC3 input: [100, 5]\n",
      "\u001b[32m[0811 10:37:58 @registry.py:134]\u001b[0m gen/LSTM/14/FC3 output: [100, 100]\n",
      "\u001b[32m[0811 10:37:58 @registry.py:126]\u001b[0m gen/LSTM/15/FC input: [100, 400]\n",
      "\u001b[32m[0811 10:37:58 @registry.py:134]\u001b[0m gen/LSTM/15/FC output: [100, 100]\n",
      "\u001b[32m[0811 10:37:58 @registry.py:126]\u001b[0m gen/LSTM/15/FC2 input: [100, 100]\n",
      "\u001b[32m[0811 10:37:58 @registry.py:134]\u001b[0m gen/LSTM/15/FC2 output: [100, 1]\n",
      "\u001b[32m[0811 10:37:58 @registry.py:126]\u001b[0m gen/LSTM/16/FC input: [100, 400]\n",
      "\u001b[32m[0811 10:37:58 @registry.py:134]\u001b[0m gen/LSTM/16/FC output: [100, 100]\n",
      "\u001b[32m[0811 10:37:58 @registry.py:126]\u001b[0m gen/LSTM/16/FC2 input: [100, 100]\n",
      "\u001b[32m[0811 10:37:58 @registry.py:134]\u001b[0m gen/LSTM/16/FC2 output: [100, 5]\n",
      "\u001b[32m[0811 10:37:58 @registry.py:126]\u001b[0m gen/LSTM/16/FC3 input: [100, 5]\n",
      "\u001b[32m[0811 10:37:58 @registry.py:134]\u001b[0m gen/LSTM/16/FC3 output: [100, 100]\n",
      "\u001b[32m[0811 10:37:58 @registry.py:126]\u001b[0m gen/LSTM/17/FC input: [100, 400]\n",
      "\u001b[32m[0811 10:37:58 @registry.py:134]\u001b[0m gen/LSTM/17/FC output: [100, 100]\n",
      "\u001b[32m[0811 10:37:58 @registry.py:126]\u001b[0m gen/LSTM/17/FC2 input: [100, 100]\n",
      "\u001b[32m[0811 10:37:58 @registry.py:134]\u001b[0m gen/LSTM/17/FC2 output: [100, 5]\n",
      "\u001b[32m[0811 10:37:58 @registry.py:126]\u001b[0m gen/LSTM/17/FC3 input: [100, 5]\n",
      "\u001b[32m[0811 10:37:58 @registry.py:134]\u001b[0m gen/LSTM/17/FC3 output: [100, 100]\n",
      "\u001b[32m[0811 10:37:59 @registry.py:126]\u001b[0m discrim/dis_fc0/fc input: [100, 55]\n",
      "\u001b[32m[0811 10:37:59 @registry.py:134]\u001b[0m discrim/dis_fc0/fc output: [100, 200]\n",
      "\u001b[32m[0811 10:37:59 @registry.py:126]\u001b[0m discrim/dis_fc0/fc_diversity input: [100, 200]\n",
      "\u001b[32m[0811 10:37:59 @registry.py:134]\u001b[0m discrim/dis_fc0/fc_diversity output: [100, 100]\n",
      "\u001b[32m[0811 10:37:59 @registry.py:126]\u001b[0m discrim/dis_fc1/fc input: [100, 210]\n",
      "\u001b[32m[0811 10:37:59 @registry.py:134]\u001b[0m discrim/dis_fc1/fc output: [100, 200]\n",
      "\u001b[32m[0811 10:37:59 @registry.py:126]\u001b[0m discrim/dis_fc1/fc_diversity input: [100, 200]\n",
      "\u001b[32m[0811 10:37:59 @registry.py:134]\u001b[0m discrim/dis_fc1/fc_diversity output: [100, 100]\n",
      "\u001b[32m[0811 10:37:59 @registry.py:126]\u001b[0m discrim/dis_fc2/fc input: [100, 210]\n",
      "\u001b[32m[0811 10:37:59 @registry.py:134]\u001b[0m discrim/dis_fc2/fc output: [100, 200]\n",
      "\u001b[32m[0811 10:37:59 @registry.py:126]\u001b[0m discrim/dis_fc2/fc_diversity input: [100, 200]\n",
      "\u001b[32m[0811 10:37:59 @registry.py:134]\u001b[0m discrim/dis_fc2/fc_diversity output: [100, 100]\n",
      "\u001b[32m[0811 10:37:59 @registry.py:126]\u001b[0m discrim/dis_fc3/fc input: [100, 210]\n",
      "\u001b[32m[0811 10:37:59 @registry.py:134]\u001b[0m discrim/dis_fc3/fc output: [100, 200]\n",
      "\u001b[32m[0811 10:37:59 @registry.py:126]\u001b[0m discrim/dis_fc3/fc_diversity input: [100, 200]\n",
      "\u001b[32m[0811 10:37:59 @registry.py:134]\u001b[0m discrim/dis_fc3/fc_diversity output: [100, 100]\n"
     ]
    },
    {
     "name": "stdout",
     "output_type": "stream",
     "text": [
      "\u001b[32m[0811 10:37:59 @registry.py:126]\u001b[0m discrim/dis_fc4/fc input: [100, 210]\n",
      "\u001b[32m[0811 10:37:59 @registry.py:134]\u001b[0m discrim/dis_fc4/fc output: [100, 200]\n",
      "\u001b[32m[0811 10:37:59 @registry.py:126]\u001b[0m discrim/dis_fc4/fc_diversity input: [100, 200]\n",
      "\u001b[32m[0811 10:37:59 @registry.py:134]\u001b[0m discrim/dis_fc4/fc_diversity output: [100, 100]\n",
      "\u001b[32m[0811 10:37:59 @registry.py:126]\u001b[0m discrim/dis_fc_top input: [100, 210]\n",
      "\u001b[32m[0811 10:37:59 @registry.py:134]\u001b[0m discrim/dis_fc_top output: [100, 1]\n"
     ]
    },
    {
     "name": "stderr",
     "output_type": "stream",
     "text": [
      "W0811 10:37:59.719285 139778422806336 deprecation.py:323] From /home/matias/anaconda3/envs/tGAN/lib/python3.7/site-packages/tensorflow_core/python/ops/nn_impl.py:183: where (from tensorflow.python.ops.array_ops) is deprecated and will be removed in a future version.\n",
      "Instructions for updating:\n",
      "Use tf.where in 2.0, which has the same broadcast rule as np.where\n",
      "W0811 10:37:59.740694 139778422806336 lazy_loader.py:50] \n",
      "The TensorFlow contrib module will not be included in TensorFlow 2.0.\n",
      "For more information, please see:\n",
      "  * https://github.com/tensorflow/community/blob/master/rfcs/20180907-contrib-sunset.md\n",
      "  * https://github.com/tensorflow/addons\n",
      "  * https://github.com/tensorflow/io (for I/O related ops)\n",
      "If you depend on functionality not listed there, please file an issue.\n",
      "\n"
     ]
    },
    {
     "name": "stdout",
     "output_type": "stream",
     "text": [
      "\u001b[32m[0811 10:38:06 @logger.py:90]\u001b[0m Argv: /home/matias/anaconda3/envs/tGAN/lib/python3.7/site-packages/ipykernel_launcher.py -f /run/user/1000/jupyter/kernel-cf0327a3-c69f-4ffd-bf91-0d4982bee916.json\n"
     ]
    },
    {
     "name": "stderr",
     "output_type": "stream",
     "text": [
      "W0811 10:38:06.255463 139778422806336 module_wrapper.py:136] From /home/matias/anaconda3/envs/tGAN/lib/python3.7/site-packages/tensorflow_core/python/util/module_wrapper.py:163: The name tf.gfile.IsDirectory is deprecated. Please use tf.io.gfile.isdir instead.\n",
      "\n"
     ]
    },
    {
     "name": "stdout",
     "output_type": "stream",
     "text": [
      "\u001b[32m[0811 10:38:06 @model_utils.py:67]\u001b[0m \u001b[36mList of Trainable Variables: \n",
      "\u001b[0mname                              shape           #elements\n",
      "--------------------------------  ------------  -----------\n",
      "gen/LSTM/go:0                     [1, 100]              100\n",
      "gen/LSTM/lstm_cell/kernel:0       [1000, 1600]      1600000\n",
      "gen/LSTM/lstm_cell/bias:0         [1600]               1600\n",
      "gen/LSTM/00/FC/W:0                [400, 100]          40000\n",
      "gen/LSTM/00/FC/b:0                [100]                 100\n",
      "gen/LSTM/00/FC2/W:0               [100, 1]              100\n",
      "gen/LSTM/00/FC2/b:0               [1]                     1\n",
      "gen/LSTM/00/attw:0                [1, 1, 1]               1\n",
      "gen/LSTM/01/FC/W:0                [400, 100]          40000\n",
      "gen/LSTM/01/FC/b:0                [100]                 100\n",
      "gen/LSTM/01/FC2/W:0               [100, 5]              500\n",
      "gen/LSTM/01/FC2/b:0               [5]                     5\n",
      "gen/LSTM/01/FC3/W:0               [5, 100]              500\n",
      "gen/LSTM/01/FC3/b:0               [100]                 100\n",
      "gen/LSTM/01/attw:0                [2, 1, 1]               2\n",
      "gen/LSTM/02/FC/W:0                [400, 100]          40000\n",
      "gen/LSTM/02/FC/b:0                [100]                 100\n",
      "gen/LSTM/02/FC2/W:0               [100, 1]              100\n",
      "gen/LSTM/02/FC2/b:0               [1]                     1\n",
      "gen/LSTM/02/attw:0                [3, 1, 1]               3\n",
      "gen/LSTM/03/FC/W:0                [400, 100]          40000\n",
      "gen/LSTM/03/FC/b:0                [100]                 100\n",
      "gen/LSTM/03/FC2/W:0               [100, 5]              500\n",
      "gen/LSTM/03/FC2/b:0               [5]                     5\n",
      "gen/LSTM/03/FC3/W:0               [5, 100]              500\n",
      "gen/LSTM/03/FC3/b:0               [100]                 100\n",
      "gen/LSTM/03/attw:0                [4, 1, 1]               4\n",
      "gen/LSTM/04/FC/W:0                [400, 100]          40000\n",
      "gen/LSTM/04/FC/b:0                [100]                 100\n",
      "gen/LSTM/04/FC2/W:0               [100, 1]              100\n",
      "gen/LSTM/04/FC2/b:0               [1]                     1\n",
      "gen/LSTM/04/attw:0                [5, 1, 1]               5\n",
      "gen/LSTM/05/FC/W:0                [400, 100]          40000\n",
      "gen/LSTM/05/FC/b:0                [100]                 100\n",
      "gen/LSTM/05/FC2/W:0               [100, 5]              500\n",
      "gen/LSTM/05/FC2/b:0               [5]                     5\n",
      "gen/LSTM/05/FC3/W:0               [5, 100]              500\n",
      "gen/LSTM/05/FC3/b:0               [100]                 100\n",
      "gen/LSTM/05/attw:0                [6, 1, 1]               6\n",
      "gen/LSTM/06/FC/W:0                [400, 100]          40000\n",
      "gen/LSTM/06/FC/b:0                [100]                 100\n",
      "gen/LSTM/06/FC2/W:0               [100, 1]              100\n",
      "gen/LSTM/06/FC2/b:0               [1]                     1\n",
      "gen/LSTM/06/attw:0                [7, 1, 1]               7\n",
      "gen/LSTM/07/FC/W:0                [400, 100]          40000\n",
      "gen/LSTM/07/FC/b:0                [100]                 100\n",
      "gen/LSTM/07/FC2/W:0               [100, 5]              500\n",
      "gen/LSTM/07/FC2/b:0               [5]                     5\n",
      "gen/LSTM/07/FC3/W:0               [5, 100]              500\n",
      "gen/LSTM/07/FC3/b:0               [100]                 100\n",
      "gen/LSTM/07/attw:0                [8, 1, 1]               8\n",
      "gen/LSTM/08/FC/W:0                [400, 100]          40000\n",
      "gen/LSTM/08/FC/b:0                [100]                 100\n",
      "gen/LSTM/08/FC2/W:0               [100, 1]              100\n",
      "gen/LSTM/08/FC2/b:0               [1]                     1\n",
      "gen/LSTM/08/attw:0                [9, 1, 1]               9\n",
      "gen/LSTM/09/FC/W:0                [400, 100]          40000\n",
      "gen/LSTM/09/FC/b:0                [100]                 100\n",
      "gen/LSTM/09/FC2/W:0               [100, 5]              500\n",
      "gen/LSTM/09/FC2/b:0               [5]                     5\n",
      "gen/LSTM/09/FC3/W:0               [5, 100]              500\n",
      "gen/LSTM/09/FC3/b:0               [100]                 100\n",
      "gen/LSTM/09/attw:0                [10, 1, 1]             10\n",
      "gen/LSTM/10/FC/W:0                [400, 100]          40000\n",
      "gen/LSTM/10/FC/b:0                [100]                 100\n",
      "gen/LSTM/10/FC2/W:0               [100, 1]              100\n",
      "gen/LSTM/10/FC2/b:0               [1]                     1\n",
      "gen/LSTM/10/attw:0                [11, 1, 1]             11\n",
      "gen/LSTM/11/FC/W:0                [400, 100]          40000\n",
      "gen/LSTM/11/FC/b:0                [100]                 100\n",
      "gen/LSTM/11/FC2/W:0               [100, 5]              500\n",
      "gen/LSTM/11/FC2/b:0               [5]                     5\n",
      "gen/LSTM/11/FC3/W:0               [5, 100]              500\n",
      "gen/LSTM/11/FC3/b:0               [100]                 100\n",
      "gen/LSTM/11/attw:0                [12, 1, 1]             12\n",
      "gen/LSTM/12/FC/W:0                [400, 100]          40000\n",
      "gen/LSTM/12/FC/b:0                [100]                 100\n",
      "gen/LSTM/12/FC2/W:0               [100, 2]              200\n",
      "gen/LSTM/12/FC2/b:0               [2]                     2\n",
      "gen/LSTM/12/FC3/W:0               [2, 100]              200\n",
      "gen/LSTM/12/FC3/b:0               [100]                 100\n",
      "gen/LSTM/12/attw:0                [13, 1, 1]             13\n",
      "gen/LSTM/13/FC/W:0                [400, 100]          40000\n",
      "gen/LSTM/13/FC/b:0                [100]                 100\n",
      "gen/LSTM/13/FC2/W:0               [100, 1]              100\n",
      "gen/LSTM/13/FC2/b:0               [1]                     1\n",
      "gen/LSTM/13/attw:0                [14, 1, 1]             14\n",
      "gen/LSTM/14/FC/W:0                [400, 100]          40000\n",
      "gen/LSTM/14/FC/b:0                [100]                 100\n",
      "gen/LSTM/14/FC2/W:0               [100, 5]              500\n",
      "gen/LSTM/14/FC2/b:0               [5]                     5\n",
      "gen/LSTM/14/FC3/W:0               [5, 100]              500\n",
      "gen/LSTM/14/FC3/b:0               [100]                 100\n",
      "gen/LSTM/14/attw:0                [15, 1, 1]             15\n",
      "gen/LSTM/15/FC/W:0                [400, 100]          40000\n",
      "gen/LSTM/15/FC/b:0                [100]                 100\n",
      "gen/LSTM/15/FC2/W:0               [100, 1]              100\n",
      "gen/LSTM/15/FC2/b:0               [1]                     1\n",
      "gen/LSTM/15/attw:0                [16, 1, 1]             16\n",
      "gen/LSTM/16/FC/W:0                [400, 100]          40000\n",
      "gen/LSTM/16/FC/b:0                [100]                 100\n",
      "gen/LSTM/16/FC2/W:0               [100, 5]              500\n",
      "gen/LSTM/16/FC2/b:0               [5]                     5\n",
      "gen/LSTM/16/FC3/W:0               [5, 100]              500\n",
      "gen/LSTM/16/FC3/b:0               [100]                 100\n",
      "gen/LSTM/16/attw:0                [17, 1, 1]             17\n",
      "gen/LSTM/17/FC/W:0                [400, 100]          40000\n",
      "gen/LSTM/17/FC/b:0                [100]                 100\n",
      "gen/LSTM/17/FC2/W:0               [100, 5]              500\n",
      "gen/LSTM/17/FC2/b:0               [5]                     5\n",
      "gen/LSTM/17/FC3/W:0               [5, 100]              500\n",
      "gen/LSTM/17/FC3/b:0               [100]                 100\n",
      "gen/LSTM/17/attw:0                [18, 1, 1]             18\n",
      "discrim/dis_fc0/fc/W:0            [55, 200]           11000\n",
      "discrim/dis_fc0/fc/b:0            [200]                 200\n",
      "discrim/dis_fc0/fc_diversity/W:0  [200, 100]          20000\n",
      "discrim/dis_fc0/fc_diversity/b:0  [100]                 100\n",
      "discrim/dis_fc0/bn/beta:0         [210]                 210\n",
      "discrim/dis_fc1/fc/W:0            [210, 200]          42000\n",
      "discrim/dis_fc1/fc/b:0            [200]                 200\n",
      "discrim/dis_fc1/fc_diversity/W:0  [200, 100]          20000\n",
      "discrim/dis_fc1/fc_diversity/b:0  [100]                 100\n",
      "discrim/dis_fc1/bn/beta:0         [210]                 210\n",
      "discrim/dis_fc2/fc/W:0            [210, 200]          42000\n",
      "discrim/dis_fc2/fc/b:0            [200]                 200\n",
      "discrim/dis_fc2/fc_diversity/W:0  [200, 100]          20000\n",
      "discrim/dis_fc2/fc_diversity/b:0  [100]                 100\n",
      "discrim/dis_fc2/bn/beta:0         [210]                 210\n",
      "discrim/dis_fc3/fc/W:0            [210, 200]          42000\n",
      "discrim/dis_fc3/fc/b:0            [200]                 200\n",
      "discrim/dis_fc3/fc_diversity/W:0  [200, 100]          20000\n",
      "discrim/dis_fc3/fc_diversity/b:0  [100]                 100\n",
      "discrim/dis_fc3/bn/beta:0         [210]                 210\n",
      "discrim/dis_fc4/fc/W:0            [210, 200]          42000\n",
      "discrim/dis_fc4/fc/b:0            [200]                 200\n",
      "discrim/dis_fc4/fc_diversity/W:0  [200, 100]          20000\n",
      "discrim/dis_fc4/fc_diversity/b:0  [100]                 100\n",
      "discrim/dis_fc4/bn/beta:0         [210]                 210\n",
      "discrim/dis_fc_top/W:0            [210, 1]              210\n",
      "discrim/dis_fc_top/b:0            [1]                     1\u001b[36m\n",
      "Number of trainable variables: 140\n",
      "Number of parameters (elements): 2616687\n",
      "Storage space needed for all trainable variables: 9.98MB\u001b[0m\n"
     ]
    },
    {
     "name": "stdout",
     "output_type": "stream",
     "text": [
      "\u001b[32m[0811 10:38:06 @base.py:209]\u001b[0m Setup callbacks graph ...\n",
      "\u001b[32m[0811 10:38:06 @summary.py:46]\u001b[0m [MovingAverageSummary] 6 operations in collection 'MOVING_SUMMARY_OPS' will be run with session hooks.\n",
      "\u001b[32m[0811 10:38:06 @summary.py:93]\u001b[0m Summarizing collection 'summaries' of size 9.\n",
      "\u001b[32m[0811 10:38:06 @graph.py:98]\u001b[0m Applying collection UPDATE_OPS of 20 ops.\n",
      "\u001b[32m[0811 10:38:07 @base.py:230]\u001b[0m Creating the session ...\n"
     ]
    },
    {
     "name": "stderr",
     "output_type": "stream",
     "text": [
      "W0811 10:38:07.844897 139778422806336 deprecation.py:323] From /home/matias/anaconda3/envs/tGAN/lib/python3.7/site-packages/tensorpack/tfutils/sesscreate.py:62: get_backward_walk_ops (from tensorflow.contrib.graph_editor.select) is deprecated and will be removed after 2019-06-06.\n",
      "Instructions for updating:\n",
      "Please use tensorflow.python.ops.op_selector.get_backward_walk_ops.\n"
     ]
    },
    {
     "name": "stdout",
     "output_type": "stream",
     "text": [
      "\u001b[32m[0811 10:38:09 @base.py:236]\u001b[0m Initializing the session ...\n",
      "\u001b[32m[0811 10:38:09 @base.py:243]\u001b[0m Graph Finalized.\n",
      "\u001b[32m[0811 10:38:10 @concurrency.py:38]\u001b[0m Starting EnqueueThread QueueInput/input_queue ...\n",
      "\u001b[32m[0811 10:38:10 @base.py:275]\u001b[0m Start Epoch 1 ...\n"
     ]
    },
    {
     "name": "stderr",
     "output_type": "stream",
     "text": [
      "100%|##########|1000/1000[07:00<00:00, 2.38it/s]"
     ]
    },
    {
     "name": "stdout",
     "output_type": "stream",
     "text": [
      "\u001b[32m[0811 10:45:11 @base.py:285]\u001b[0m Epoch 1 (global_step 1000) finished, time:7 minutes.\n"
     ]
    },
    {
     "name": "stderr",
     "output_type": "stream",
     "text": [
      "\n"
     ]
    },
    {
     "name": "stdout",
     "output_type": "stream",
     "text": [
      "\u001b[32m[0811 10:45:11 @saver.py:79]\u001b[0m Model saved to output/model/model-1000.\n",
      "\u001b[32m[0811 10:45:11 @monitor.py:467]\u001b[0m GAN_loss/discrim/accuracy_fake: 0.83\n",
      "\u001b[32m[0811 10:45:11 @monitor.py:467]\u001b[0m GAN_loss/discrim/accuracy_real: 0.14\n",
      "\u001b[32m[0811 10:45:11 @monitor.py:467]\u001b[0m GAN_loss/discrim/loss: 0.68736\n",
      "\u001b[32m[0811 10:45:11 @monitor.py:467]\u001b[0m GAN_loss/gen/final-g-loss: 1.0303\n",
      "\u001b[32m[0811 10:45:11 @monitor.py:467]\u001b[0m GAN_loss/gen/klloss: 0.076447\n",
      "\u001b[32m[0811 10:45:11 @monitor.py:467]\u001b[0m GAN_loss/gen/loss: 0.95384\n",
      "\u001b[32m[0811 10:45:11 @monitor.py:467]\u001b[0m QueueInput/queue_size: 50\n",
      "\u001b[32m[0811 10:45:11 @base.py:275]\u001b[0m Start Epoch 2 ...\n"
     ]
    },
    {
     "name": "stderr",
     "output_type": "stream",
     "text": [
      "100%|##########|1000/1000[06:52<00:00, 2.43it/s]"
     ]
    },
    {
     "name": "stdout",
     "output_type": "stream",
     "text": [
      "\u001b[32m[0811 10:52:03 @base.py:285]\u001b[0m Epoch 2 (global_step 2000) finished, time:6 minutes 52 seconds.\n",
      "\u001b[32m[0811 10:52:04 @saver.py:79]\u001b[0m Model saved to output/model/model-2000.\n",
      "\u001b[32m[0811 10:52:04 @monitor.py:467]\u001b[0m GAN_loss/discrim/accuracy_fake: 0.94\n",
      "\u001b[32m[0811 10:52:04 @monitor.py:467]\u001b[0m GAN_loss/discrim/accuracy_real: 0.04\n",
      "\u001b[32m[0811 10:52:04 @monitor.py:467]\u001b[0m GAN_loss/discrim/loss: 0.67641\n",
      "\u001b[32m[0811 10:52:04 @monitor.py:467]\u001b[0m GAN_loss/gen/final-g-loss: 1.0694\n",
      "\u001b[32m[0811 10:52:04 @monitor.py:467]\u001b[0m GAN_loss/gen/klloss: 0.15584\n",
      "\u001b[32m[0811 10:52:04 @monitor.py:467]\u001b[0m GAN_loss/gen/loss: 0.91359\n",
      "\u001b[32m[0811 10:52:04 @monitor.py:467]\u001b[0m QueueInput/queue_size: 50\n",
      "\u001b[32m[0811 10:52:04 @base.py:275]\u001b[0m Start Epoch 3 ...\n"
     ]
    },
    {
     "name": "stderr",
     "output_type": "stream",
     "text": [
      "\n",
      "100%|##########|1000/1000[06:52<00:00, 2.42it/s]"
     ]
    },
    {
     "name": "stdout",
     "output_type": "stream",
     "text": [
      "\u001b[32m[0811 10:58:56 @base.py:285]\u001b[0m Epoch 3 (global_step 3000) finished, time:6 minutes 52 seconds.\n",
      "\u001b[32m[0811 10:58:56 @saver.py:79]\u001b[0m Model saved to output/model/model-3000.\n",
      "\u001b[32m[0811 10:58:56 @monitor.py:467]\u001b[0m GAN_loss/discrim/accuracy_fake: 1\n",
      "\u001b[32m[0811 10:58:56 @monitor.py:467]\u001b[0m GAN_loss/discrim/accuracy_real: 0\n",
      "\u001b[32m[0811 10:58:56 @monitor.py:467]\u001b[0m GAN_loss/discrim/loss: 0.66683\n",
      "\u001b[32m[0811 10:58:56 @monitor.py:467]\u001b[0m GAN_loss/gen/final-g-loss: 1.0455\n",
      "\u001b[32m[0811 10:58:56 @monitor.py:467]\u001b[0m GAN_loss/gen/klloss: 0.13362\n",
      "\u001b[32m[0811 10:58:56 @monitor.py:467]\u001b[0m GAN_loss/gen/loss: 0.9119\n",
      "\u001b[32m[0811 10:58:56 @monitor.py:467]\u001b[0m QueueInput/queue_size: 50\n",
      "\u001b[32m[0811 10:58:56 @base.py:275]\u001b[0m Start Epoch 4 ...\n"
     ]
    },
    {
     "name": "stderr",
     "output_type": "stream",
     "text": [
      "\n",
      "100%|##########|1000/1000[06:52<00:00, 2.43it/s]"
     ]
    },
    {
     "name": "stdout",
     "output_type": "stream",
     "text": [
      "\u001b[32m[0811 11:05:48 @base.py:285]\u001b[0m Epoch 4 (global_step 4000) finished, time:6 minutes 52 seconds.\n",
      "\u001b[32m[0811 11:05:48 @saver.py:79]\u001b[0m Model saved to output/model/model-4000.\n",
      "\u001b[32m[0811 11:05:48 @monitor.py:467]\u001b[0m GAN_loss/discrim/accuracy_fake: 1\n",
      "\u001b[32m[0811 11:05:48 @monitor.py:467]\u001b[0m GAN_loss/discrim/accuracy_real: 0\n",
      "\u001b[32m[0811 11:05:48 @monitor.py:467]\u001b[0m GAN_loss/discrim/loss: 0.67072\n",
      "\u001b[32m[0811 11:05:48 @monitor.py:467]\u001b[0m GAN_loss/gen/final-g-loss: 1.1488\n",
      "\u001b[32m[0811 11:05:48 @monitor.py:467]\u001b[0m GAN_loss/gen/klloss: 0.23303\n",
      "\u001b[32m[0811 11:05:48 @monitor.py:467]\u001b[0m GAN_loss/gen/loss: 0.91579\n",
      "\u001b[32m[0811 11:05:48 @monitor.py:467]\u001b[0m QueueInput/queue_size: 50\n",
      "\u001b[32m[0811 11:05:48 @base.py:275]\u001b[0m Start Epoch 5 ...\n"
     ]
    },
    {
     "name": "stderr",
     "output_type": "stream",
     "text": [
      "\n",
      "100%|##########|1000/1000[06:52<00:00, 2.43it/s]"
     ]
    },
    {
     "name": "stdout",
     "output_type": "stream",
     "text": [
      "\u001b[32m[0811 11:12:40 @base.py:285]\u001b[0m Epoch 5 (global_step 5000) finished, time:6 minutes 52 seconds.\n",
      "\u001b[32m[0811 11:12:40 @saver.py:79]\u001b[0m Model saved to output/model/model-5000.\n",
      "\u001b[32m[0811 11:12:40 @monitor.py:467]\u001b[0m GAN_loss/discrim/accuracy_fake: 1\n",
      "\u001b[32m[0811 11:12:40 @monitor.py:467]\u001b[0m GAN_loss/discrim/accuracy_real: 0\n",
      "\u001b[32m[0811 11:12:40 @monitor.py:467]\u001b[0m GAN_loss/discrim/loss: 0.67062\n",
      "\u001b[32m[0811 11:12:40 @monitor.py:467]\u001b[0m GAN_loss/gen/final-g-loss: 1.0985\n",
      "\u001b[32m[0811 11:12:40 @monitor.py:467]\u001b[0m GAN_loss/gen/klloss: 0.18\n",
      "\u001b[32m[0811 11:12:40 @monitor.py:467]\u001b[0m GAN_loss/gen/loss: 0.91853\n",
      "\u001b[32m[0811 11:12:40 @monitor.py:467]\u001b[0m QueueInput/queue_size: 50\n",
      "\u001b[32m[0811 11:12:40 @base.py:289]\u001b[0m Training has finished!\n"
     ]
    },
    {
     "name": "stderr",
     "output_type": "stream",
     "text": [
      "\n"
     ]
    },
    {
     "name": "stdout",
     "output_type": "stream",
     "text": [
      "\u001b[32m[0811 11:12:40 @input_source.py:178]\u001b[0m EnqueueThread QueueInput/input_queue Exited.\n",
      "\u001b[32m[0811 11:12:42 @collection.py:146]\u001b[0m New collections created in tower : tf.GraphKeys.REGULARIZATION_LOSSES\n",
      "\u001b[32m[0811 11:12:42 @collection.py:165]\u001b[0m These collections were modified but restored in : (tf.GraphKeys.SUMMARIES: 0->2)\n",
      "\u001b[32m[0811 11:12:42 @sessinit.py:87]\u001b[0m \u001b[5m\u001b[31mWRN\u001b[0m The following variables are in the checkpoint, but not found in the graph: global_step, optimize/beta1_power, optimize/beta2_power\n",
      "\u001b[32m[0811 11:12:43 @sessinit.py:114]\u001b[0m Restoring checkpoint from output/model/model-5000 ...\n"
     ]
    }
   ],
   "source": [
    "tgan = TGANModel(\n",
    "    continuous_columns,\n",
    "    output='output',\n",
    "    max_epoch=5,\n",
    "    steps_per_epoch=1000,\n",
    "    save_checkpoints=True,\n",
    "    restore_session=True,\n",
    "    batch_size=100,\n",
    "    z_dim=100,\n",
    "    noise=0.1,\n",
    "    learning_rate=0.0002,\n",
    "    num_gen_rnn=400,\n",
    "    num_gen_feature=100,\n",
    "    num_dis_layers=5,\n",
    "    num_dis_hidden=200,\n",
    "    )\n",
    "\n",
    "tgan.fit(df_feature1_train) # "
   ]
  },
  {
   "cell_type": "markdown",
   "metadata": {},
   "source": [
    "## Generate samples"
   ]
  },
  {
   "cell_type": "code",
   "execution_count": 12,
   "metadata": {
    "ExecuteTime": {
     "end_time": "2019-08-11T03:12:43.860823Z",
     "start_time": "2019-08-11T03:12:43.856382Z"
    }
   },
   "outputs": [],
   "source": [
    "def sample_needed_label(num_samples, label):\n",
    "    synth_df = pd.DataFrame(columns=df_feature1.columns.values[1:])\n",
    "    count = 0\n",
    "    finish_loop = False\n",
    "    # generate as many sampels of label 0 as needed\n",
    "    while True:\n",
    "        if finish_loop:\n",
    "            break\n",
    "\n",
    "        # sample a bunch of points\n",
    "        curr_df = tgan.sample(1000)\n",
    "        # iterate through all\n",
    "        for index, row in curr_df.iterrows():\n",
    "            if row['Discrete Thermal Comfort_TA'] == label:\n",
    "                synth_df = synth_df.append(row)\n",
    "                count += 1\n",
    "                print(count)\n",
    "                if count == num_samples:\n",
    "                    finish_loop = True\n",
    "                    break\n",
    "    return synth_df\n"
   ]
  },
  {
   "cell_type": "code",
   "execution_count": 13,
   "metadata": {
    "ExecuteTime": {
     "end_time": "2019-08-11T03:12:48.225528Z",
     "start_time": "2019-08-11T03:12:43.862198Z"
    }
   },
   "outputs": [
    {
     "name": "stderr",
     "output_type": "stream",
     "text": [
      "\r",
      "  0%|          |0/100[00:00<?,?it/s]"
     ]
    },
    {
     "name": "stdout",
     "output_type": "stream",
     "text": [
      "Samples needed: 950\n"
     ]
    },
    {
     "name": "stderr",
     "output_type": "stream",
     "text": [
      "  9%|9         |9/100[00:01<00:13, 6.86it/s]\n"
     ]
    },
    {
     "name": "stdout",
     "output_type": "stream",
     "text": [
      "1\n",
      "2\n",
      "3\n",
      "4\n",
      "5\n",
      "6\n",
      "7\n",
      "8\n",
      "9\n",
      "10\n",
      "11\n",
      "12\n",
      "13\n",
      "14\n",
      "15\n",
      "16\n",
      "17\n",
      "18\n",
      "19\n",
      "20\n",
      "21\n",
      "22\n",
      "23\n",
      "24\n",
      "25\n",
      "26\n",
      "27\n",
      "28\n",
      "29\n",
      "30\n",
      "31\n",
      "32\n",
      "33\n",
      "34\n",
      "35\n",
      "36\n",
      "37\n",
      "38\n",
      "39\n",
      "40\n",
      "41\n",
      "42\n",
      "43\n",
      "44\n",
      "45\n",
      "46\n",
      "47\n",
      "48\n",
      "49\n",
      "50\n",
      "51\n",
      "52\n",
      "53\n",
      "54\n",
      "55\n",
      "56\n",
      "57\n",
      "58\n",
      "59\n",
      "60\n",
      "61\n",
      "62\n",
      "63\n",
      "64\n",
      "65\n",
      "66\n",
      "67\n",
      "68\n",
      "69\n",
      "70\n",
      "71\n",
      "72\n",
      "73\n",
      "74\n",
      "75\n",
      "76\n",
      "77\n",
      "78\n",
      "79\n",
      "80\n",
      "81\n",
      "82\n",
      "83\n",
      "84\n",
      "85\n",
      "86\n",
      "87\n",
      "88\n",
      "89\n",
      "90\n",
      "91\n",
      "92\n",
      "93\n",
      "94\n",
      "95\n",
      "96\n",
      "97\n",
      "98\n",
      "99\n",
      "100\n",
      "101\n",
      "102\n",
      "103\n",
      "104\n",
      "105\n",
      "106\n",
      "107\n",
      "108\n",
      "109\n",
      "110\n",
      "111\n",
      "112\n",
      "113\n",
      "114\n",
      "115\n",
      "116\n",
      "117\n",
      "118\n",
      "119\n",
      "120\n",
      "121\n",
      "122\n",
      "123\n",
      "124\n",
      "125\n",
      "126\n",
      "127\n",
      "128\n",
      "129\n",
      "130\n",
      "131\n",
      "132\n",
      "133\n",
      "134\n",
      "135\n",
      "136\n",
      "137\n",
      "138\n",
      "139\n",
      "140\n",
      "141\n",
      "142\n",
      "143\n",
      "144\n",
      "145\n",
      "146\n",
      "147\n",
      "148\n",
      "149\n",
      "150\n",
      "151\n",
      "152\n",
      "153\n",
      "154\n",
      "155\n",
      "156\n",
      "157\n",
      "158\n",
      "159\n",
      "160\n",
      "161\n",
      "162\n",
      "163\n",
      "164\n",
      "165\n",
      "166\n",
      "167\n",
      "168\n",
      "169\n",
      "170\n",
      "171\n",
      "172\n",
      "173\n",
      "174\n",
      "175\n",
      "176\n",
      "177\n",
      "178\n",
      "179\n",
      "180\n",
      "181\n",
      "182\n",
      "183\n",
      "184\n",
      "185\n",
      "186\n",
      "187\n",
      "188\n",
      "189\n",
      "190\n",
      "191\n",
      "192\n",
      "193\n",
      "194\n",
      "195\n",
      "196\n",
      "197\n",
      "198\n",
      "199\n",
      "200\n",
      "201\n",
      "202\n",
      "203\n",
      "204\n",
      "205\n",
      "206\n",
      "207\n",
      "208\n",
      "209\n",
      "210\n",
      "211\n",
      "212\n",
      "213\n",
      "214\n",
      "215\n",
      "216\n",
      "217\n",
      "218\n",
      "219\n",
      "220\n",
      "221\n",
      "222\n",
      "223\n",
      "224\n",
      "225\n",
      "226\n",
      "227\n",
      "228\n",
      "229\n",
      "230\n",
      "231\n",
      "232\n",
      "233\n",
      "234\n",
      "235\n",
      "236\n",
      "237\n",
      "238\n",
      "239\n",
      "240\n",
      "241\n",
      "242\n",
      "243\n",
      "244\n",
      "245\n",
      "246\n",
      "247\n",
      "248\n",
      "249\n",
      "250\n",
      "251\n",
      "252\n",
      "253\n",
      "254\n",
      "255\n",
      "256\n",
      "257\n",
      "258\n",
      "259\n",
      "260\n",
      "261\n",
      "262\n",
      "263\n",
      "264\n",
      "265\n",
      "266\n",
      "267\n",
      "268\n",
      "269\n",
      "270\n",
      "271\n",
      "272\n",
      "273\n",
      "274\n",
      "275\n",
      "276\n",
      "277\n",
      "278\n",
      "279\n",
      "280\n",
      "281\n",
      "282\n",
      "283\n",
      "284\n",
      "285\n",
      "286\n",
      "287\n",
      "288\n",
      "289\n",
      "290\n",
      "291\n",
      "292\n",
      "293\n",
      "294\n",
      "295\n",
      "296\n",
      "297\n",
      "298\n",
      "299\n",
      "300\n",
      "301\n",
      "302\n",
      "303\n",
      "304\n",
      "305\n",
      "306\n",
      "307\n",
      "308\n",
      "309\n",
      "310\n",
      "311\n",
      "312\n",
      "313\n",
      "314\n",
      "315\n",
      "316\n",
      "317\n",
      "318\n",
      "319\n",
      "320\n",
      "321\n",
      "322\n",
      "323\n",
      "324\n",
      "325\n",
      "326\n",
      "327\n",
      "328\n",
      "329\n",
      "330\n",
      "331\n",
      "332\n",
      "333\n",
      "334\n",
      "335\n",
      "336\n",
      "337\n",
      "338\n",
      "339\n",
      "340\n",
      "341\n",
      "342\n",
      "343\n",
      "344\n",
      "345\n",
      "346\n",
      "347\n",
      "348\n",
      "349\n",
      "350\n",
      "351\n",
      "352\n",
      "353\n",
      "354\n",
      "355\n",
      "356\n",
      "357\n",
      "358\n",
      "359\n",
      "360\n",
      "361\n",
      "362\n",
      "363\n",
      "364\n",
      "365\n",
      "366\n",
      "367\n",
      "368\n",
      "369\n",
      "370\n",
      "371\n",
      "372\n",
      "373\n",
      "374\n",
      "375\n",
      "376\n",
      "377\n",
      "378\n",
      "379\n",
      "380\n",
      "381\n",
      "382\n",
      "383\n",
      "384\n",
      "385\n",
      "386\n",
      "387\n",
      "388\n",
      "389\n",
      "390\n",
      "391\n",
      "392\n",
      "393\n",
      "394\n",
      "395\n",
      "396\n",
      "397\n",
      "398\n",
      "399\n",
      "400\n",
      "401\n",
      "402\n",
      "403\n",
      "404\n",
      "405\n",
      "406\n",
      "407\n",
      "408\n",
      "409\n",
      "410\n",
      "411\n",
      "412\n",
      "413\n",
      "414\n",
      "415\n",
      "416\n",
      "417\n",
      "418\n",
      "419\n",
      "420\n",
      "421\n",
      "422\n",
      "423\n",
      "424\n",
      "425\n",
      "426\n",
      "427\n",
      "428\n",
      "429\n",
      "430\n",
      "431\n",
      "432\n",
      "433\n",
      "434\n",
      "435\n",
      "436\n",
      "437\n",
      "438\n",
      "439\n",
      "440\n",
      "441\n",
      "442\n",
      "443\n",
      "444\n",
      "445\n",
      "446\n",
      "447\n",
      "448\n",
      "449\n",
      "450\n",
      "451\n",
      "452\n",
      "453\n",
      "454\n",
      "455\n",
      "456\n",
      "457\n",
      "458\n",
      "459\n",
      "460\n",
      "461\n",
      "462\n",
      "463\n",
      "464\n",
      "465\n",
      "466\n",
      "467\n",
      "468\n",
      "469\n",
      "470\n",
      "471\n",
      "472\n",
      "473\n",
      "474\n",
      "475\n",
      "476\n",
      "477\n",
      "478\n",
      "479\n",
      "480\n",
      "481\n",
      "482\n",
      "483\n",
      "484\n",
      "485\n",
      "486\n",
      "487\n",
      "488\n",
      "489\n",
      "490\n",
      "491\n",
      "492\n",
      "493\n",
      "494\n",
      "495\n",
      "496\n",
      "497\n",
      "498\n",
      "499\n",
      "500\n",
      "501\n",
      "502\n",
      "503\n",
      "504\n",
      "505\n",
      "506\n",
      "507\n",
      "508\n",
      "509\n",
      "510\n",
      "511\n",
      "512\n",
      "513\n",
      "514\n",
      "515\n",
      "516\n",
      "517\n",
      "518\n",
      "519\n",
      "520\n",
      "521\n",
      "522\n",
      "523\n",
      "524\n",
      "525\n",
      "526\n",
      "527\n",
      "528\n",
      "529\n",
      "530\n",
      "531\n",
      "532\n",
      "533\n",
      "534\n",
      "535\n",
      "536\n",
      "537\n",
      "538\n",
      "539\n",
      "540\n",
      "541\n",
      "542\n",
      "543\n",
      "544\n",
      "545\n",
      "546\n",
      "547\n",
      "548\n",
      "549\n",
      "550\n",
      "551\n",
      "552\n",
      "553\n",
      "554\n",
      "555\n",
      "556\n",
      "557\n",
      "558\n",
      "559\n",
      "560\n",
      "561\n",
      "562\n",
      "563\n",
      "564\n",
      "565\n",
      "566\n",
      "567\n",
      "568\n",
      "569\n",
      "570\n",
      "571\n",
      "572\n",
      "573\n",
      "574\n",
      "575\n",
      "576\n",
      "577\n",
      "578\n",
      "579\n",
      "580\n",
      "581\n",
      "582\n",
      "583\n",
      "584\n",
      "585\n",
      "586\n",
      "587\n",
      "588\n",
      "589\n",
      "590\n",
      "591\n",
      "592\n",
      "593\n",
      "594\n",
      "595\n",
      "596\n",
      "597\n",
      "598\n",
      "599\n",
      "600\n",
      "601\n",
      "602\n",
      "603\n",
      "604\n",
      "605\n",
      "606\n",
      "607\n",
      "608\n",
      "609\n",
      "610\n",
      "611\n",
      "612\n",
      "613\n",
      "614\n",
      "615\n",
      "616\n",
      "617\n",
      "618\n",
      "619\n",
      "620\n",
      "621\n",
      "622\n",
      "623\n",
      "624\n",
      "625\n",
      "626\n",
      "627\n",
      "628\n",
      "629\n",
      "630\n",
      "631\n",
      "632\n",
      "633\n",
      "634\n",
      "635\n",
      "636\n",
      "637\n",
      "638\n",
      "639\n",
      "640\n",
      "641\n",
      "642\n",
      "643\n",
      "644\n",
      "645\n",
      "646\n",
      "647\n",
      "648\n",
      "649\n",
      "650\n",
      "651\n",
      "652\n",
      "653\n",
      "654\n",
      "655\n",
      "656\n",
      "657\n",
      "658\n",
      "659\n",
      "660\n",
      "661\n",
      "662\n",
      "663\n",
      "664\n",
      "665\n",
      "666\n",
      "667\n",
      "668\n",
      "669\n",
      "670\n",
      "671\n",
      "672\n",
      "673\n",
      "674\n",
      "675\n",
      "676\n",
      "677\n",
      "678\n",
      "679\n",
      "680\n",
      "681\n",
      "682\n",
      "683\n",
      "684\n",
      "685\n",
      "686\n",
      "687\n",
      "688\n",
      "689\n",
      "690\n",
      "691\n",
      "692\n",
      "693\n",
      "694\n",
      "695\n",
      "696\n",
      "697\n",
      "698\n",
      "699\n",
      "700\n",
      "701\n",
      "702\n",
      "703\n",
      "704\n",
      "705\n",
      "706\n",
      "707\n",
      "708\n",
      "709\n",
      "710\n",
      "711\n",
      "712\n",
      "713\n",
      "714\n",
      "715\n",
      "716\n",
      "717\n",
      "718\n",
      "719\n",
      "720\n",
      "721\n",
      "722\n",
      "723\n",
      "724\n",
      "725\n",
      "726\n",
      "727\n",
      "728\n",
      "729\n",
      "730\n",
      "731\n",
      "732\n",
      "733\n",
      "734\n",
      "735\n",
      "736\n",
      "737\n",
      "738\n",
      "739\n",
      "740\n",
      "741\n",
      "742\n",
      "743\n",
      "744\n",
      "745\n",
      "746\n",
      "747\n",
      "748\n",
      "749\n",
      "750\n",
      "751\n",
      "752\n",
      "753\n",
      "754\n",
      "755\n",
      "756\n",
      "757\n",
      "758\n",
      "759\n",
      "760\n",
      "761\n",
      "762\n",
      "763\n",
      "764\n",
      "765\n",
      "766\n",
      "767\n",
      "768\n",
      "769\n",
      "770\n",
      "771\n",
      "772\n",
      "773\n",
      "774\n",
      "775\n",
      "776\n",
      "777\n",
      "778\n",
      "779\n",
      "780\n",
      "781\n",
      "782\n",
      "783\n",
      "784\n",
      "785\n",
      "786\n",
      "787\n",
      "788\n",
      "789\n",
      "790\n",
      "791\n",
      "792\n",
      "793\n",
      "794\n",
      "795\n",
      "796\n",
      "797\n",
      "798\n",
      "799\n",
      "800\n",
      "801\n",
      "802\n",
      "803\n",
      "804\n",
      "805\n",
      "806\n",
      "807\n",
      "808\n",
      "809\n",
      "810\n",
      "811\n",
      "812\n",
      "813\n",
      "814\n",
      "815\n",
      "816\n",
      "817\n",
      "818\n",
      "819\n",
      "820\n",
      "821\n",
      "822\n",
      "823\n",
      "824\n",
      "825\n",
      "826\n",
      "827\n",
      "828\n",
      "829\n",
      "830\n",
      "831\n",
      "832\n",
      "833\n",
      "834\n",
      "835\n",
      "836\n",
      "837\n",
      "838\n",
      "839\n",
      "840\n",
      "841\n",
      "842\n",
      "843\n",
      "844\n",
      "845\n",
      "846\n",
      "847\n",
      "848\n",
      "849\n",
      "850\n",
      "851\n",
      "852\n",
      "853\n",
      "854\n",
      "855\n",
      "856\n",
      "857\n",
      "858\n",
      "859\n",
      "860\n",
      "861\n",
      "862\n",
      "863\n",
      "864\n",
      "865\n",
      "866\n",
      "867\n",
      "868\n",
      "869\n",
      "870\n",
      "871\n",
      "872\n",
      "873\n",
      "874\n",
      "875\n",
      "876\n",
      "877\n",
      "878\n",
      "879\n",
      "880\n",
      "881\n",
      "882\n",
      "883\n",
      "884\n",
      "885\n",
      "886\n",
      "887\n",
      "888\n",
      "889\n",
      "890\n",
      "891\n",
      "892\n",
      "893\n",
      "894\n",
      "895\n",
      "896\n",
      "897\n",
      "898\n",
      "899\n",
      "900\n",
      "901\n",
      "902\n",
      "903\n",
      "904\n",
      "905\n",
      "906\n",
      "907\n",
      "908\n",
      "909\n",
      "910\n",
      "911\n",
      "912\n",
      "913\n",
      "914\n",
      "915\n",
      "916\n",
      "917\n",
      "918\n",
      "919\n",
      "920\n",
      "921\n",
      "922\n",
      "923\n",
      "924\n",
      "925\n",
      "926\n",
      "927\n",
      "928\n",
      "929\n",
      "930\n",
      "931\n",
      "932\n",
      "933\n",
      "934\n",
      "935\n",
      "936\n",
      "937\n",
      "938\n",
      "939\n",
      "940\n",
      "941\n",
      "942\n",
      "943\n",
      "944\n",
      "945\n",
      "946\n",
      "947\n",
      "948\n",
      "949\n",
      "950\n"
     ]
    }
   ],
   "source": [
    "print(\"Samples needed: {}\".format(needed_0))\n",
    "synth_0 = sample_needed_label(needed_0, '0')\n"
   ]
  },
  {
   "cell_type": "code",
   "execution_count": 14,
   "metadata": {
    "ExecuteTime": {
     "end_time": "2019-08-11T03:13:01.619578Z",
     "start_time": "2019-08-11T03:12:48.227155Z"
    },
    "scrolled": true
   },
   "outputs": [
    {
     "name": "stderr",
     "output_type": "stream",
     "text": [
      "\r",
      "  0%|          |0/100[00:00<?,?it/s]"
     ]
    },
    {
     "name": "stdout",
     "output_type": "stream",
     "text": [
      "Samples needed: 353\n"
     ]
    },
    {
     "name": "stderr",
     "output_type": "stream",
     "text": [
      "  9%|9         |9/100[00:01<00:10, 8.80it/s]\n",
      "  0%|          |0/100[00:00<?,?it/s]"
     ]
    },
    {
     "name": "stdout",
     "output_type": "stream",
     "text": [
      "1\n",
      "2\n",
      "3\n",
      "4\n",
      "5\n",
      "6\n",
      "7\n",
      "8\n",
      "9\n",
      "10\n",
      "11\n",
      "12\n",
      "13\n",
      "14\n",
      "15\n",
      "16\n",
      "17\n",
      "18\n",
      "19\n",
      "20\n",
      "21\n",
      "22\n",
      "23\n",
      "24\n",
      "25\n",
      "26\n",
      "27\n",
      "28\n",
      "29\n",
      "30\n",
      "31\n",
      "32\n",
      "33\n",
      "34\n",
      "35\n",
      "36\n",
      "37\n",
      "38\n",
      "39\n",
      "40\n"
     ]
    },
    {
     "name": "stderr",
     "output_type": "stream",
     "text": [
      "  9%|9         |9/100[00:01<00:10, 8.31it/s]\n",
      "  0%|          |0/100[00:00<?,?it/s]"
     ]
    },
    {
     "name": "stdout",
     "output_type": "stream",
     "text": [
      "41\n",
      "42\n",
      "43\n",
      "44\n",
      "45\n",
      "46\n",
      "47\n",
      "48\n",
      "49\n",
      "50\n",
      "51\n",
      "52\n",
      "53\n",
      "54\n",
      "55\n",
      "56\n",
      "57\n",
      "58\n",
      "59\n",
      "60\n",
      "61\n",
      "62\n",
      "63\n",
      "64\n",
      "65\n",
      "66\n",
      "67\n",
      "68\n"
     ]
    },
    {
     "name": "stderr",
     "output_type": "stream",
     "text": [
      "  9%|9         |9/100[00:01<00:10, 8.82it/s]\n",
      "  0%|          |0/100[00:00<?,?it/s]"
     ]
    },
    {
     "name": "stdout",
     "output_type": "stream",
     "text": [
      "69\n",
      "70\n",
      "71\n",
      "72\n",
      "73\n",
      "74\n",
      "75\n",
      "76\n",
      "77\n",
      "78\n",
      "79\n",
      "80\n",
      "81\n",
      "82\n",
      "83\n",
      "84\n",
      "85\n",
      "86\n",
      "87\n",
      "88\n",
      "89\n",
      "90\n",
      "91\n",
      "92\n",
      "93\n"
     ]
    },
    {
     "name": "stderr",
     "output_type": "stream",
     "text": [
      "  9%|9         |9/100[00:01<00:10, 8.86it/s]\n",
      "  0%|          |0/100[00:00<?,?it/s]"
     ]
    },
    {
     "name": "stdout",
     "output_type": "stream",
     "text": [
      "94\n",
      "95\n",
      "96\n",
      "97\n",
      "98\n",
      "99\n",
      "100\n",
      "101\n",
      "102\n",
      "103\n",
      "104\n",
      "105\n",
      "106\n",
      "107\n",
      "108\n",
      "109\n",
      "110\n",
      "111\n",
      "112\n",
      "113\n",
      "114\n",
      "115\n",
      "116\n",
      "117\n",
      "118\n",
      "119\n",
      "120\n",
      "121\n",
      "122\n",
      "123\n",
      "124\n",
      "125\n",
      "126\n",
      "127\n",
      "128\n",
      "129\n",
      "130\n",
      "131\n",
      "132\n",
      "133\n",
      "134\n"
     ]
    },
    {
     "name": "stderr",
     "output_type": "stream",
     "text": [
      "  9%|9         |9/100[00:01<00:10, 8.49it/s]\n",
      "  0%|          |0/100[00:00<?,?it/s]"
     ]
    },
    {
     "name": "stdout",
     "output_type": "stream",
     "text": [
      "135\n",
      "136\n",
      "137\n",
      "138\n",
      "139\n",
      "140\n",
      "141\n",
      "142\n",
      "143\n",
      "144\n",
      "145\n",
      "146\n",
      "147\n",
      "148\n",
      "149\n",
      "150\n",
      "151\n",
      "152\n",
      "153\n",
      "154\n",
      "155\n",
      "156\n",
      "157\n",
      "158\n",
      "159\n",
      "160\n",
      "161\n",
      "162\n",
      "163\n",
      "164\n",
      "165\n",
      "166\n",
      "167\n",
      "168\n",
      "169\n",
      "170\n",
      "171\n"
     ]
    },
    {
     "name": "stderr",
     "output_type": "stream",
     "text": [
      "  9%|9         |9/100[00:01<00:10, 8.30it/s]\n",
      "  0%|          |0/100[00:00<?,?it/s]"
     ]
    },
    {
     "name": "stdout",
     "output_type": "stream",
     "text": [
      "172\n",
      "173\n",
      "174\n",
      "175\n",
      "176\n",
      "177\n",
      "178\n",
      "179\n",
      "180\n",
      "181\n",
      "182\n",
      "183\n",
      "184\n",
      "185\n",
      "186\n",
      "187\n",
      "188\n",
      "189\n",
      "190\n",
      "191\n",
      "192\n",
      "193\n",
      "194\n",
      "195\n",
      "196\n",
      "197\n",
      "198\n",
      "199\n",
      "200\n",
      "201\n",
      "202\n",
      "203\n",
      "204\n",
      "205\n",
      "206\n",
      "207\n",
      "208\n",
      "209\n",
      "210\n",
      "211\n",
      "212\n"
     ]
    },
    {
     "name": "stderr",
     "output_type": "stream",
     "text": [
      "  9%|9         |9/100[00:01<00:10, 8.90it/s]\n",
      "  0%|          |0/100[00:00<?,?it/s]"
     ]
    },
    {
     "name": "stdout",
     "output_type": "stream",
     "text": [
      "213\n",
      "214\n",
      "215\n",
      "216\n",
      "217\n",
      "218\n",
      "219\n",
      "220\n",
      "221\n",
      "222\n",
      "223\n",
      "224\n",
      "225\n",
      "226\n",
      "227\n",
      "228\n",
      "229\n",
      "230\n",
      "231\n",
      "232\n",
      "233\n",
      "234\n",
      "235\n",
      "236\n",
      "237\n"
     ]
    },
    {
     "name": "stderr",
     "output_type": "stream",
     "text": [
      "  9%|9         |9/100[00:01<00:10, 8.77it/s]\n",
      "  0%|          |0/100[00:00<?,?it/s]"
     ]
    },
    {
     "name": "stdout",
     "output_type": "stream",
     "text": [
      "238\n",
      "239\n",
      "240\n",
      "241\n",
      "242\n",
      "243\n",
      "244\n",
      "245\n",
      "246\n",
      "247\n",
      "248\n",
      "249\n",
      "250\n",
      "251\n",
      "252\n",
      "253\n",
      "254\n",
      "255\n",
      "256\n",
      "257\n",
      "258\n",
      "259\n",
      "260\n"
     ]
    },
    {
     "name": "stderr",
     "output_type": "stream",
     "text": [
      "  9%|9         |9/100[00:01<00:10, 8.66it/s]\n",
      "  0%|          |0/100[00:00<?,?it/s]"
     ]
    },
    {
     "name": "stdout",
     "output_type": "stream",
     "text": [
      "261\n",
      "262\n",
      "263\n",
      "264\n",
      "265\n",
      "266\n",
      "267\n",
      "268\n",
      "269\n",
      "270\n",
      "271\n",
      "272\n",
      "273\n",
      "274\n",
      "275\n",
      "276\n",
      "277\n",
      "278\n",
      "279\n",
      "280\n",
      "281\n",
      "282\n",
      "283\n",
      "284\n",
      "285\n",
      "286\n",
      "287\n",
      "288\n",
      "289\n",
      "290\n",
      "291\n",
      "292\n",
      "293\n"
     ]
    },
    {
     "name": "stderr",
     "output_type": "stream",
     "text": [
      "  9%|9         |9/100[00:01<00:10, 8.87it/s]\n",
      "  0%|          |0/100[00:00<?,?it/s]"
     ]
    },
    {
     "name": "stdout",
     "output_type": "stream",
     "text": [
      "294\n",
      "295\n",
      "296\n",
      "297\n",
      "298\n",
      "299\n",
      "300\n",
      "301\n",
      "302\n",
      "303\n",
      "304\n",
      "305\n",
      "306\n",
      "307\n",
      "308\n",
      "309\n",
      "310\n",
      "311\n",
      "312\n",
      "313\n",
      "314\n",
      "315\n",
      "316\n",
      "317\n",
      "318\n",
      "319\n",
      "320\n",
      "321\n",
      "322\n",
      "323\n",
      "324\n",
      "325\n",
      "326\n"
     ]
    },
    {
     "name": "stderr",
     "output_type": "stream",
     "text": [
      "  9%|9         |9/100[00:01<00:10, 8.51it/s]"
     ]
    },
    {
     "name": "stdout",
     "output_type": "stream",
     "text": [
      "327\n",
      "328\n",
      "329\n",
      "330\n",
      "331\n",
      "332\n",
      "333\n",
      "334\n",
      "335\n",
      "336\n",
      "337\n",
      "338\n",
      "339\n",
      "340\n",
      "341\n",
      "342\n",
      "343\n",
      "344\n",
      "345\n",
      "346\n",
      "347\n",
      "348\n",
      "349\n",
      "350\n",
      "351\n",
      "352\n",
      "353\n"
     ]
    },
    {
     "name": "stderr",
     "output_type": "stream",
     "text": [
      "\n"
     ]
    }
   ],
   "source": [
    "print(\"Samples needed: {}\".format(needed_minus1))\n",
    "synth_minus1 = sample_needed_label(needed_minus1, '-1')"
   ]
  },
  {
   "cell_type": "code",
   "execution_count": 15,
   "metadata": {
    "ExecuteTime": {
     "end_time": "2019-08-11T03:22:21.668184Z",
     "start_time": "2019-08-11T03:13:01.621109Z"
    },
    "scrolled": true
   },
   "outputs": [
    {
     "name": "stderr",
     "output_type": "stream",
     "text": [
      "\r",
      "  0%|          |0/100[00:00<?,?it/s]"
     ]
    },
    {
     "name": "stdout",
     "output_type": "stream",
     "text": [
      "Samples needed: 190\n"
     ]
    },
    {
     "name": "stderr",
     "output_type": "stream",
     "text": [
      "  9%|9         |9/100[00:01<00:10, 8.50it/s]\n",
      "  9%|9         |9/100[00:01<00:10, 8.84it/s]\n",
      "  9%|9         |9/100[00:01<00:10, 8.85it/s]\n",
      "  0%|          |0/100[00:00<?,?it/s]"
     ]
    },
    {
     "name": "stdout",
     "output_type": "stream",
     "text": [
      "1\n"
     ]
    },
    {
     "name": "stderr",
     "output_type": "stream",
     "text": [
      "  9%|9         |9/100[00:01<00:10, 8.78it/s]\n",
      "  0%|          |0/100[00:00<?,?it/s]"
     ]
    },
    {
     "name": "stdout",
     "output_type": "stream",
     "text": [
      "2\n"
     ]
    },
    {
     "name": "stderr",
     "output_type": "stream",
     "text": [
      "  9%|9         |9/100[00:01<00:11, 7.97it/s]\n",
      "  9%|9         |9/100[00:01<00:10, 8.89it/s]\n",
      "  0%|          |0/100[00:00<?,?it/s]"
     ]
    },
    {
     "name": "stdout",
     "output_type": "stream",
     "text": [
      "3\n"
     ]
    },
    {
     "name": "stderr",
     "output_type": "stream",
     "text": [
      "  9%|9         |9/100[00:01<00:10, 8.86it/s]\n",
      "  0%|          |0/100[00:00<?,?it/s]"
     ]
    },
    {
     "name": "stdout",
     "output_type": "stream",
     "text": [
      "4\n",
      "5\n"
     ]
    },
    {
     "name": "stderr",
     "output_type": "stream",
     "text": [
      "  9%|9         |9/100[00:01<00:10, 8.70it/s]\n",
      "  9%|9         |9/100[00:01<00:10, 8.85it/s]\n",
      "  9%|9         |9/100[00:01<00:10, 8.51it/s]\n",
      "  0%|          |0/100[00:00<?,?it/s]"
     ]
    },
    {
     "name": "stdout",
     "output_type": "stream",
     "text": [
      "6\n"
     ]
    },
    {
     "name": "stderr",
     "output_type": "stream",
     "text": [
      "  9%|9         |9/100[00:01<00:10, 8.82it/s]\n",
      "  0%|          |0/100[00:00<?,?it/s]"
     ]
    },
    {
     "name": "stdout",
     "output_type": "stream",
     "text": [
      "7\n",
      "8\n"
     ]
    },
    {
     "name": "stderr",
     "output_type": "stream",
     "text": [
      "  9%|9         |9/100[00:01<00:10, 8.70it/s]\n",
      "  9%|9         |9/100[00:01<00:10, 8.87it/s]\n",
      "  9%|9         |9/100[00:01<00:10, 8.78it/s]\n",
      "  0%|          |0/100[00:00<?,?it/s]"
     ]
    },
    {
     "name": "stdout",
     "output_type": "stream",
     "text": [
      "9\n"
     ]
    },
    {
     "name": "stderr",
     "output_type": "stream",
     "text": [
      "  9%|9         |9/100[00:01<00:10, 8.86it/s]\n",
      "  0%|          |0/100[00:00<?,?it/s]"
     ]
    },
    {
     "name": "stdout",
     "output_type": "stream",
     "text": [
      "10\n"
     ]
    },
    {
     "name": "stderr",
     "output_type": "stream",
     "text": [
      "  9%|9         |9/100[00:01<00:10, 8.89it/s]\n",
      "  0%|          |0/100[00:00<?,?it/s]"
     ]
    },
    {
     "name": "stdout",
     "output_type": "stream",
     "text": [
      "11\n"
     ]
    },
    {
     "name": "stderr",
     "output_type": "stream",
     "text": [
      "  9%|9         |9/100[00:01<00:10, 8.88it/s]\n",
      "  9%|9         |9/100[00:01<00:10, 8.86it/s]\n",
      "  9%|9         |9/100[00:01<00:10, 8.89it/s]\n",
      "  9%|9         |9/100[00:01<00:10, 8.90it/s]\n",
      "  0%|          |0/100[00:00<?,?it/s]"
     ]
    },
    {
     "name": "stdout",
     "output_type": "stream",
     "text": [
      "12\n"
     ]
    },
    {
     "name": "stderr",
     "output_type": "stream",
     "text": [
      "  9%|9         |9/100[00:01<00:10, 8.75it/s]\n",
      "  9%|9         |9/100[00:01<00:15, 5.97it/s]\n",
      "  9%|9         |9/100[00:01<00:10, 8.67it/s]\n",
      "  9%|9         |9/100[00:01<00:10, 8.33it/s]\n",
      "  9%|9         |9/100[00:01<00:10, 8.87it/s]\n",
      "  9%|9         |9/100[00:01<00:10, 8.44it/s]\n",
      "  0%|          |0/100[00:00<?,?it/s]"
     ]
    },
    {
     "name": "stdout",
     "output_type": "stream",
     "text": [
      "13\n"
     ]
    },
    {
     "name": "stderr",
     "output_type": "stream",
     "text": [
      "  9%|9         |9/100[00:01<00:11, 7.70it/s]\n",
      "  9%|9         |9/100[00:01<00:10, 8.89it/s]\n",
      "  9%|9         |9/100[00:01<00:12, 7.52it/s]\n",
      "  9%|9         |9/100[00:01<00:11, 8.17it/s]\n",
      "  9%|9         |9/100[00:01<00:11, 8.23it/s]\n",
      "  9%|9         |9/100[00:01<00:11, 8.15it/s]\n",
      "  9%|9         |9/100[00:01<00:10, 8.87it/s]\n",
      "  9%|9         |9/100[00:01<00:10, 8.86it/s]\n",
      "  9%|9         |9/100[00:01<00:10, 8.71it/s]\n",
      "  9%|9         |9/100[00:01<00:10, 8.40it/s]\n",
      "  9%|9         |9/100[00:01<00:10, 8.86it/s]\n",
      "  0%|          |0/100[00:00<?,?it/s]"
     ]
    },
    {
     "name": "stdout",
     "output_type": "stream",
     "text": [
      "14\n"
     ]
    },
    {
     "name": "stderr",
     "output_type": "stream",
     "text": [
      "  9%|9         |9/100[00:01<00:10, 8.60it/s]\n",
      "  9%|9         |9/100[00:01<00:10, 8.90it/s]\n",
      "  9%|9         |9/100[00:01<00:10, 8.87it/s]\n",
      "  9%|9         |9/100[00:01<00:10, 8.54it/s]\n",
      "  9%|9         |9/100[00:01<00:10, 8.87it/s]\n",
      "  0%|          |0/100[00:00<?,?it/s]"
     ]
    },
    {
     "name": "stdout",
     "output_type": "stream",
     "text": [
      "15\n"
     ]
    },
    {
     "name": "stderr",
     "output_type": "stream",
     "text": [
      "  9%|9         |9/100[00:01<00:10, 8.89it/s]\n",
      "  9%|9         |9/100[00:01<00:11, 8.27it/s]\n",
      "  0%|          |0/100[00:00<?,?it/s]"
     ]
    },
    {
     "name": "stdout",
     "output_type": "stream",
     "text": [
      "16\n"
     ]
    },
    {
     "name": "stderr",
     "output_type": "stream",
     "text": [
      "  9%|9         |9/100[00:01<00:10, 8.89it/s]\n",
      "  9%|9         |9/100[00:01<00:10, 8.86it/s]\n",
      "  9%|9         |9/100[00:01<00:10, 8.49it/s]\n",
      "  9%|9         |9/100[00:01<00:10, 8.82it/s]\n",
      "  0%|          |0/100[00:00<?,?it/s]"
     ]
    },
    {
     "name": "stdout",
     "output_type": "stream",
     "text": [
      "17\n"
     ]
    },
    {
     "name": "stderr",
     "output_type": "stream",
     "text": [
      "  9%|9         |9/100[00:01<00:10, 8.31it/s]\n",
      "  0%|          |0/100[00:00<?,?it/s]"
     ]
    },
    {
     "name": "stdout",
     "output_type": "stream",
     "text": [
      "18\n"
     ]
    },
    {
     "name": "stderr",
     "output_type": "stream",
     "text": [
      "  9%|9         |9/100[00:01<00:10, 8.39it/s]\n",
      "  9%|9         |9/100[00:01<00:10, 8.87it/s]\n",
      "  9%|9         |9/100[00:01<00:10, 8.85it/s]\n",
      "  9%|9         |9/100[00:01<00:10, 8.89it/s]\n",
      "  9%|9         |9/100[00:01<00:10, 8.88it/s]\n",
      "  0%|          |0/100[00:00<?,?it/s]"
     ]
    },
    {
     "name": "stdout",
     "output_type": "stream",
     "text": [
      "19\n",
      "20\n"
     ]
    },
    {
     "name": "stderr",
     "output_type": "stream",
     "text": [
      "  9%|9         |9/100[00:01<00:10, 8.85it/s]\n",
      "  9%|9         |9/100[00:01<00:10, 8.52it/s]\n",
      "  9%|9         |9/100[00:01<00:10, 8.52it/s]\n",
      "  9%|9         |9/100[00:01<00:11, 8.02it/s]\n",
      "  0%|          |0/100[00:00<?,?it/s]"
     ]
    },
    {
     "name": "stdout",
     "output_type": "stream",
     "text": [
      "21\n"
     ]
    },
    {
     "name": "stderr",
     "output_type": "stream",
     "text": [
      "  9%|9         |9/100[00:01<00:10, 8.90it/s]\n",
      "  0%|          |0/100[00:00<?,?it/s]"
     ]
    },
    {
     "name": "stdout",
     "output_type": "stream",
     "text": [
      "22\n"
     ]
    },
    {
     "name": "stderr",
     "output_type": "stream",
     "text": [
      "  9%|9         |9/100[00:01<00:11, 8.16it/s]\n",
      "  0%|          |0/100[00:00<?,?it/s]"
     ]
    },
    {
     "name": "stdout",
     "output_type": "stream",
     "text": [
      "23\n"
     ]
    },
    {
     "name": "stderr",
     "output_type": "stream",
     "text": [
      "  9%|9         |9/100[00:01<00:10, 8.64it/s]\n",
      "  9%|9         |9/100[00:01<00:13, 6.67it/s]\n",
      "  0%|          |0/100[00:00<?,?it/s]"
     ]
    },
    {
     "name": "stdout",
     "output_type": "stream",
     "text": [
      "24\n"
     ]
    },
    {
     "name": "stderr",
     "output_type": "stream",
     "text": [
      "  9%|9         |9/100[00:01<00:10, 8.83it/s]\n",
      "  0%|          |0/100[00:00<?,?it/s]"
     ]
    },
    {
     "name": "stdout",
     "output_type": "stream",
     "text": [
      "25\n",
      "26\n"
     ]
    },
    {
     "name": "stderr",
     "output_type": "stream",
     "text": [
      "  9%|9         |9/100[00:01<00:15, 5.72it/s]\n",
      "  9%|9         |9/100[00:01<00:11, 7.81it/s]\n",
      "  9%|9         |9/100[00:01<00:10, 8.86it/s]\n",
      "  9%|9         |9/100[00:01<00:10, 8.91it/s]\n",
      "  9%|9         |9/100[00:01<00:10, 8.88it/s]\n",
      "  0%|          |0/100[00:00<?,?it/s]"
     ]
    },
    {
     "name": "stdout",
     "output_type": "stream",
     "text": [
      "27\n"
     ]
    },
    {
     "name": "stderr",
     "output_type": "stream",
     "text": [
      "  9%|9         |9/100[00:01<00:10, 8.83it/s]\n",
      "  0%|          |0/100[00:00<?,?it/s]"
     ]
    },
    {
     "name": "stdout",
     "output_type": "stream",
     "text": [
      "28\n",
      "29\n",
      "30\n"
     ]
    },
    {
     "name": "stderr",
     "output_type": "stream",
     "text": [
      "  9%|9         |9/100[00:01<00:10, 8.80it/s]\n",
      "  9%|9         |9/100[00:01<00:13, 6.99it/s]\n",
      "  0%|          |0/100[00:00<?,?it/s]"
     ]
    },
    {
     "name": "stdout",
     "output_type": "stream",
     "text": [
      "31\n"
     ]
    },
    {
     "name": "stderr",
     "output_type": "stream",
     "text": [
      "  9%|9         |9/100[00:01<00:10, 8.91it/s]\n",
      "  0%|          |0/100[00:00<?,?it/s]"
     ]
    },
    {
     "name": "stdout",
     "output_type": "stream",
     "text": [
      "32\n"
     ]
    },
    {
     "name": "stderr",
     "output_type": "stream",
     "text": [
      "  9%|9         |9/100[00:01<00:10, 8.76it/s]\n",
      "  0%|          |0/100[00:00<?,?it/s]"
     ]
    },
    {
     "name": "stdout",
     "output_type": "stream",
     "text": [
      "33\n"
     ]
    },
    {
     "name": "stderr",
     "output_type": "stream",
     "text": [
      "  9%|9         |9/100[00:01<00:10, 8.89it/s]\n",
      "  0%|          |0/100[00:00<?,?it/s]"
     ]
    },
    {
     "name": "stdout",
     "output_type": "stream",
     "text": [
      "34\n"
     ]
    },
    {
     "name": "stderr",
     "output_type": "stream",
     "text": [
      "  9%|9         |9/100[00:01<00:10, 8.29it/s]\n",
      "  9%|9         |9/100[00:01<00:10, 8.86it/s]\n",
      "  0%|          |0/100[00:00<?,?it/s]"
     ]
    },
    {
     "name": "stdout",
     "output_type": "stream",
     "text": [
      "35\n",
      "36\n"
     ]
    },
    {
     "name": "stderr",
     "output_type": "stream",
     "text": [
      "  9%|9         |9/100[00:01<00:10, 8.62it/s]\n",
      "  0%|          |0/100[00:00<?,?it/s]"
     ]
    },
    {
     "name": "stdout",
     "output_type": "stream",
     "text": [
      "37\n",
      "38\n"
     ]
    },
    {
     "name": "stderr",
     "output_type": "stream",
     "text": [
      "  9%|9         |9/100[00:01<00:10, 8.88it/s]\n",
      "  9%|9         |9/100[00:01<00:10, 8.42it/s]\n",
      "  0%|          |0/100[00:00<?,?it/s]"
     ]
    },
    {
     "name": "stdout",
     "output_type": "stream",
     "text": [
      "39\n"
     ]
    },
    {
     "name": "stderr",
     "output_type": "stream",
     "text": [
      "  9%|9         |9/100[00:01<00:10, 8.85it/s]\n",
      "  9%|9         |9/100[00:01<00:10, 8.88it/s]\n",
      "  9%|9         |9/100[00:01<00:10, 8.59it/s]\n",
      "  9%|9         |9/100[00:01<00:10, 8.89it/s]\n",
      "  9%|9         |9/100[00:01<00:10, 8.88it/s]\n",
      "  9%|9         |9/100[00:01<00:11, 8.19it/s]\n",
      "  9%|9         |9/100[00:01<00:10, 8.91it/s]\n",
      "  9%|9         |9/100[00:01<00:10, 8.89it/s]\n",
      "  9%|9         |9/100[00:01<00:10, 8.84it/s]\n",
      "  9%|9         |9/100[00:01<00:10, 8.89it/s]\n",
      "  9%|9         |9/100[00:01<00:10, 8.88it/s]\n",
      "  9%|9         |9/100[00:01<00:10, 8.90it/s]\n",
      "  9%|9         |9/100[00:01<00:10, 8.88it/s]\n",
      "  9%|9         |9/100[00:01<00:10, 8.45it/s]\n",
      "  0%|          |0/100[00:00<?,?it/s]"
     ]
    },
    {
     "name": "stdout",
     "output_type": "stream",
     "text": [
      "40\n",
      "41\n"
     ]
    },
    {
     "name": "stderr",
     "output_type": "stream",
     "text": [
      "  9%|9         |9/100[00:01<00:10, 8.57it/s]\n",
      "  0%|          |0/100[00:00<?,?it/s]"
     ]
    },
    {
     "name": "stdout",
     "output_type": "stream",
     "text": [
      "42\n"
     ]
    },
    {
     "name": "stderr",
     "output_type": "stream",
     "text": [
      "  9%|9         |9/100[00:01<00:10, 8.91it/s]\n",
      "  9%|9         |9/100[00:01<00:10, 8.89it/s]\n",
      "  9%|9         |9/100[00:01<00:10, 8.89it/s]\n",
      "  9%|9         |9/100[00:01<00:11, 7.92it/s]\n",
      "  9%|9         |9/100[00:01<00:10, 8.92it/s]\n",
      "  9%|9         |9/100[00:01<00:11, 8.07it/s]\n",
      "  9%|9         |9/100[00:01<00:13, 6.69it/s]\n",
      "  0%|          |0/100[00:00<?,?it/s]"
     ]
    },
    {
     "name": "stdout",
     "output_type": "stream",
     "text": [
      "43\n"
     ]
    },
    {
     "name": "stderr",
     "output_type": "stream",
     "text": [
      "  9%|9         |9/100[00:01<00:10, 8.83it/s]\n",
      "  9%|9         |9/100[00:01<00:11, 8.15it/s]\n",
      "  9%|9         |9/100[00:01<00:10, 8.55it/s]\n",
      "  9%|9         |9/100[00:01<00:10, 8.52it/s]\n",
      "  9%|9         |9/100[00:01<00:11, 7.96it/s]\n",
      "  0%|          |0/100[00:00<?,?it/s]"
     ]
    },
    {
     "name": "stdout",
     "output_type": "stream",
     "text": [
      "44\n"
     ]
    },
    {
     "name": "stderr",
     "output_type": "stream",
     "text": [
      "  9%|9         |9/100[00:01<00:10, 8.38it/s]\n",
      "  9%|9         |9/100[00:01<00:10, 8.87it/s]\n",
      "  9%|9         |9/100[00:01<00:10, 8.78it/s]\n",
      "  9%|9         |9/100[00:01<00:10, 8.76it/s]\n",
      "  9%|9         |9/100[00:01<00:10, 8.87it/s]\n",
      "  0%|          |0/100[00:00<?,?it/s]"
     ]
    },
    {
     "name": "stdout",
     "output_type": "stream",
     "text": [
      "45\n"
     ]
    },
    {
     "name": "stderr",
     "output_type": "stream",
     "text": [
      "  9%|9         |9/100[00:01<00:11, 7.75it/s]\n",
      "  0%|          |0/100[00:00<?,?it/s]"
     ]
    },
    {
     "name": "stdout",
     "output_type": "stream",
     "text": [
      "46\n"
     ]
    },
    {
     "name": "stderr",
     "output_type": "stream",
     "text": [
      "  9%|9         |9/100[00:01<00:10, 8.46it/s]\n",
      "  9%|9         |9/100[00:01<00:11, 7.94it/s]\n",
      "  9%|9         |9/100[00:01<00:10, 8.90it/s]\n",
      "  9%|9         |9/100[00:01<00:10, 8.90it/s]\n",
      "  0%|          |0/100[00:00<?,?it/s]"
     ]
    },
    {
     "name": "stdout",
     "output_type": "stream",
     "text": [
      "47\n"
     ]
    },
    {
     "name": "stderr",
     "output_type": "stream",
     "text": [
      "  9%|9         |9/100[00:01<00:11, 8.22it/s]\n",
      "  9%|9         |9/100[00:01<00:10, 8.92it/s]\n",
      "  0%|          |0/100[00:00<?,?it/s]"
     ]
    },
    {
     "name": "stdout",
     "output_type": "stream",
     "text": [
      "48\n"
     ]
    },
    {
     "name": "stderr",
     "output_type": "stream",
     "text": [
      "  9%|9         |9/100[00:01<00:14, 6.42it/s]\n",
      "  0%|          |0/100[00:00<?,?it/s]"
     ]
    },
    {
     "name": "stdout",
     "output_type": "stream",
     "text": [
      "49\n",
      "50\n",
      "51\n"
     ]
    },
    {
     "name": "stderr",
     "output_type": "stream",
     "text": [
      "  9%|9         |9/100[00:01<00:10, 8.88it/s]\n",
      "  0%|          |0/100[00:00<?,?it/s]"
     ]
    },
    {
     "name": "stdout",
     "output_type": "stream",
     "text": [
      "52\n"
     ]
    },
    {
     "name": "stderr",
     "output_type": "stream",
     "text": [
      "  9%|9         |9/100[00:01<00:11, 8.19it/s]\n",
      "  0%|          |0/100[00:00<?,?it/s]"
     ]
    },
    {
     "name": "stdout",
     "output_type": "stream",
     "text": [
      "53\n"
     ]
    },
    {
     "name": "stderr",
     "output_type": "stream",
     "text": [
      "  9%|9         |9/100[00:01<00:10, 8.84it/s]\n",
      "  9%|9         |9/100[00:01<00:14, 6.32it/s]\n",
      "  0%|          |0/100[00:00<?,?it/s]"
     ]
    },
    {
     "name": "stdout",
     "output_type": "stream",
     "text": [
      "54\n"
     ]
    },
    {
     "name": "stderr",
     "output_type": "stream",
     "text": [
      "  9%|9         |9/100[00:01<00:10, 8.32it/s]\n",
      "  0%|          |0/100[00:00<?,?it/s]"
     ]
    },
    {
     "name": "stdout",
     "output_type": "stream",
     "text": [
      "55\n"
     ]
    },
    {
     "name": "stderr",
     "output_type": "stream",
     "text": [
      "  9%|9         |9/100[00:01<00:10, 8.35it/s]\n",
      "  0%|          |0/100[00:00<?,?it/s]"
     ]
    },
    {
     "name": "stdout",
     "output_type": "stream",
     "text": [
      "56\n"
     ]
    },
    {
     "name": "stderr",
     "output_type": "stream",
     "text": [
      "  9%|9         |9/100[00:01<00:10, 8.56it/s]\n",
      "  0%|          |0/100[00:00<?,?it/s]"
     ]
    },
    {
     "name": "stdout",
     "output_type": "stream",
     "text": [
      "57\n"
     ]
    },
    {
     "name": "stderr",
     "output_type": "stream",
     "text": [
      "  9%|9         |9/100[00:01<00:11, 8.23it/s]\n",
      "  9%|9         |9/100[00:01<00:10, 8.86it/s]\n",
      "  9%|9         |9/100[00:01<00:10, 8.90it/s]\n",
      "  0%|          |0/100[00:00<?,?it/s]"
     ]
    },
    {
     "name": "stdout",
     "output_type": "stream",
     "text": [
      "58\n",
      "59\n"
     ]
    },
    {
     "name": "stderr",
     "output_type": "stream",
     "text": [
      "  9%|9         |9/100[00:01<00:10, 8.88it/s]\n",
      "  9%|9         |9/100[00:01<00:11, 8.04it/s]\n",
      "  0%|          |0/100[00:00<?,?it/s]"
     ]
    },
    {
     "name": "stdout",
     "output_type": "stream",
     "text": [
      "60\n"
     ]
    },
    {
     "name": "stderr",
     "output_type": "stream",
     "text": [
      "  9%|9         |9/100[00:01<00:11, 8.18it/s]\n",
      "  9%|9         |9/100[00:01<00:10, 8.60it/s]\n",
      "  9%|9         |9/100[00:01<00:10, 8.90it/s]\n",
      "  0%|          |0/100[00:00<?,?it/s]"
     ]
    },
    {
     "name": "stdout",
     "output_type": "stream",
     "text": [
      "61\n",
      "62\n"
     ]
    },
    {
     "name": "stderr",
     "output_type": "stream",
     "text": [
      "  9%|9         |9/100[00:01<00:10, 8.86it/s]\n",
      "  0%|          |0/100[00:00<?,?it/s]"
     ]
    },
    {
     "name": "stdout",
     "output_type": "stream",
     "text": [
      "63\n"
     ]
    },
    {
     "name": "stderr",
     "output_type": "stream",
     "text": [
      "  9%|9         |9/100[00:01<00:10, 8.87it/s]\n",
      "  9%|9         |9/100[00:01<00:10, 8.43it/s]\n",
      "  0%|          |0/100[00:00<?,?it/s]"
     ]
    },
    {
     "name": "stdout",
     "output_type": "stream",
     "text": [
      "64\n"
     ]
    },
    {
     "name": "stderr",
     "output_type": "stream",
     "text": [
      "  9%|9         |9/100[00:01<00:10, 8.88it/s]\n",
      "  9%|9         |9/100[00:01<00:10, 8.88it/s]\n",
      "  9%|9         |9/100[00:01<00:11, 7.92it/s]\n",
      "  9%|9         |9/100[00:01<00:11, 7.87it/s]\n",
      "  0%|          |0/100[00:00<?,?it/s]"
     ]
    },
    {
     "name": "stdout",
     "output_type": "stream",
     "text": [
      "65\n"
     ]
    },
    {
     "name": "stderr",
     "output_type": "stream",
     "text": [
      "  9%|9         |9/100[00:01<00:10, 8.48it/s]\n",
      "  9%|9         |9/100[00:01<00:10, 8.89it/s]\n",
      "  0%|          |0/100[00:00<?,?it/s]"
     ]
    },
    {
     "name": "stdout",
     "output_type": "stream",
     "text": [
      "66\n"
     ]
    },
    {
     "name": "stderr",
     "output_type": "stream",
     "text": [
      "  9%|9         |9/100[00:01<00:10, 8.57it/s]\n",
      "  9%|9         |9/100[00:01<00:10, 8.47it/s]\n",
      "  9%|9         |9/100[00:01<00:10, 8.90it/s]\n",
      "  9%|9         |9/100[00:01<00:10, 8.91it/s]\n",
      "  9%|9         |9/100[00:01<00:10, 8.90it/s]\n",
      "  9%|9         |9/100[00:01<00:10, 8.84it/s]\n",
      "  9%|9         |9/100[00:01<00:10, 8.92it/s]\n",
      "  0%|          |0/100[00:00<?,?it/s]"
     ]
    },
    {
     "name": "stdout",
     "output_type": "stream",
     "text": [
      "67\n"
     ]
    },
    {
     "name": "stderr",
     "output_type": "stream",
     "text": [
      "  9%|9         |9/100[00:01<00:10, 8.87it/s]\n",
      "  0%|          |0/100[00:00<?,?it/s]"
     ]
    },
    {
     "name": "stdout",
     "output_type": "stream",
     "text": [
      "68\n",
      "69\n"
     ]
    },
    {
     "name": "stderr",
     "output_type": "stream",
     "text": [
      "  9%|9         |9/100[00:01<00:11, 8.17it/s]\n",
      "  0%|          |0/100[00:00<?,?it/s]"
     ]
    },
    {
     "name": "stdout",
     "output_type": "stream",
     "text": [
      "70\n"
     ]
    },
    {
     "name": "stderr",
     "output_type": "stream",
     "text": [
      "  9%|9         |9/100[00:01<00:10, 8.87it/s]\n",
      "  9%|9         |9/100[00:01<00:11, 7.74it/s]\n",
      "  9%|9         |9/100[00:01<00:10, 8.77it/s]\n",
      "  9%|9         |9/100[00:01<00:10, 8.53it/s]\n",
      "  9%|9         |9/100[00:01<00:10, 8.87it/s]\n",
      "  9%|9         |9/100[00:01<00:10, 8.89it/s]\n",
      "  0%|          |0/100[00:00<?,?it/s]"
     ]
    },
    {
     "name": "stdout",
     "output_type": "stream",
     "text": [
      "71\n"
     ]
    },
    {
     "name": "stderr",
     "output_type": "stream",
     "text": [
      "  9%|9         |9/100[00:01<00:10, 8.57it/s]\n",
      "  0%|          |0/100[00:00<?,?it/s]"
     ]
    },
    {
     "name": "stdout",
     "output_type": "stream",
     "text": [
      "72\n",
      "73\n"
     ]
    },
    {
     "name": "stderr",
     "output_type": "stream",
     "text": [
      "  9%|9         |9/100[00:01<00:10, 8.91it/s]\n",
      "  9%|9         |9/100[00:01<00:10, 8.55it/s]\n",
      "  0%|          |0/100[00:00<?,?it/s]"
     ]
    },
    {
     "name": "stdout",
     "output_type": "stream",
     "text": [
      "74\n"
     ]
    },
    {
     "name": "stderr",
     "output_type": "stream",
     "text": [
      "  9%|9         |9/100[00:01<00:11, 7.72it/s]\n",
      "  9%|9         |9/100[00:01<00:10, 8.86it/s]\n",
      "  9%|9         |9/100[00:01<00:10, 8.88it/s]\n",
      "  0%|          |0/100[00:00<?,?it/s]"
     ]
    },
    {
     "name": "stdout",
     "output_type": "stream",
     "text": [
      "75\n"
     ]
    },
    {
     "name": "stderr",
     "output_type": "stream",
     "text": [
      "  9%|9         |9/100[00:01<00:11, 8.13it/s]\n",
      "  9%|9         |9/100[00:01<00:10, 8.91it/s]\n",
      "  9%|9         |9/100[00:01<00:10, 8.90it/s]\n",
      "  9%|9         |9/100[00:01<00:11, 7.73it/s]\n",
      "  9%|9         |9/100[00:01<00:10, 8.88it/s]\n",
      "  0%|          |0/100[00:00<?,?it/s]"
     ]
    },
    {
     "name": "stdout",
     "output_type": "stream",
     "text": [
      "76\n"
     ]
    },
    {
     "name": "stderr",
     "output_type": "stream",
     "text": [
      "  9%|9         |9/100[00:01<00:10, 8.84it/s]\n",
      "  9%|9         |9/100[00:01<00:10, 8.45it/s]\n",
      "  9%|9         |9/100[00:01<00:11, 8.19it/s]\n",
      "  9%|9         |9/100[00:01<00:12, 7.16it/s]\n",
      "  0%|          |0/100[00:00<?,?it/s]"
     ]
    },
    {
     "name": "stdout",
     "output_type": "stream",
     "text": [
      "77\n"
     ]
    },
    {
     "name": "stderr",
     "output_type": "stream",
     "text": [
      "  9%|9         |9/100[00:01<00:10, 8.89it/s]\n",
      "  9%|9         |9/100[00:01<00:10, 8.86it/s]\n",
      "  9%|9         |9/100[00:01<00:10, 8.91it/s]\n",
      "  9%|9         |9/100[00:01<00:10, 8.92it/s]\n",
      "  0%|          |0/100[00:00<?,?it/s]"
     ]
    },
    {
     "name": "stdout",
     "output_type": "stream",
     "text": [
      "78\n"
     ]
    },
    {
     "name": "stderr",
     "output_type": "stream",
     "text": [
      "  9%|9         |9/100[00:01<00:10, 8.72it/s]\n",
      "  9%|9         |9/100[00:01<00:10, 8.87it/s]\n",
      "  0%|          |0/100[00:00<?,?it/s]"
     ]
    },
    {
     "name": "stdout",
     "output_type": "stream",
     "text": [
      "79\n"
     ]
    },
    {
     "name": "stderr",
     "output_type": "stream",
     "text": [
      "  9%|9         |9/100[00:01<00:10, 8.85it/s]\n",
      "  9%|9         |9/100[00:01<00:10, 8.49it/s]\n",
      "  9%|9         |9/100[00:01<00:11, 8.23it/s]\n",
      "  9%|9         |9/100[00:01<00:10, 8.88it/s]\n",
      "  9%|9         |9/100[00:01<00:10, 8.91it/s]\n",
      "  9%|9         |9/100[00:01<00:10, 8.74it/s]\n",
      "  0%|          |0/100[00:00<?,?it/s]"
     ]
    },
    {
     "name": "stdout",
     "output_type": "stream",
     "text": [
      "80\n"
     ]
    },
    {
     "name": "stderr",
     "output_type": "stream",
     "text": [
      "  9%|9         |9/100[00:01<00:10, 8.43it/s]\n",
      "  9%|9         |9/100[00:01<00:10, 8.45it/s]\n",
      "  9%|9         |9/100[00:01<00:10, 8.85it/s]\n",
      "  9%|9         |9/100[00:01<00:10, 8.62it/s]\n",
      "  9%|9         |9/100[00:01<00:10, 8.86it/s]\n",
      "  0%|          |0/100[00:00<?,?it/s]"
     ]
    },
    {
     "name": "stdout",
     "output_type": "stream",
     "text": [
      "81\n",
      "82\n"
     ]
    },
    {
     "name": "stderr",
     "output_type": "stream",
     "text": [
      "  9%|9         |9/100[00:01<00:10, 8.90it/s]\n",
      "  9%|9         |9/100[00:01<00:10, 8.91it/s]\n",
      "  9%|9         |9/100[00:01<00:12, 7.35it/s]\n",
      "  9%|9         |9/100[00:01<00:10, 8.94it/s]\n",
      "  9%|9         |9/100[00:01<00:10, 8.65it/s]\n",
      "  9%|9         |9/100[00:01<00:10, 8.93it/s]\n",
      "  9%|9         |9/100[00:01<00:10, 8.91it/s]\n",
      "  9%|9         |9/100[00:01<00:10, 8.68it/s]\n",
      "  0%|          |0/100[00:00<?,?it/s]"
     ]
    },
    {
     "name": "stdout",
     "output_type": "stream",
     "text": [
      "83\n"
     ]
    },
    {
     "name": "stderr",
     "output_type": "stream",
     "text": [
      "  9%|9         |9/100[00:01<00:10, 8.83it/s]\n",
      "  9%|9         |9/100[00:01<00:10, 8.71it/s]\n",
      "  0%|          |0/100[00:00<?,?it/s]"
     ]
    },
    {
     "name": "stdout",
     "output_type": "stream",
     "text": [
      "84\n",
      "85\n"
     ]
    },
    {
     "name": "stderr",
     "output_type": "stream",
     "text": [
      "  9%|9         |9/100[00:01<00:10, 8.85it/s]\n",
      "  0%|          |0/100[00:00<?,?it/s]"
     ]
    },
    {
     "name": "stdout",
     "output_type": "stream",
     "text": [
      "86\n"
     ]
    },
    {
     "name": "stderr",
     "output_type": "stream",
     "text": [
      "  9%|9         |9/100[00:01<00:10, 8.36it/s]\n",
      "  9%|9         |9/100[00:01<00:10, 8.90it/s]\n",
      "  9%|9         |9/100[00:01<00:10, 8.39it/s]\n",
      "  0%|          |0/100[00:00<?,?it/s]"
     ]
    },
    {
     "name": "stdout",
     "output_type": "stream",
     "text": [
      "87\n"
     ]
    },
    {
     "name": "stderr",
     "output_type": "stream",
     "text": [
      "  9%|9         |9/100[00:01<00:10, 8.46it/s]\n",
      "  9%|9         |9/100[00:01<00:10, 8.87it/s]\n",
      "  9%|9         |9/100[00:01<00:10, 8.91it/s]\n",
      "  0%|          |0/100[00:00<?,?it/s]"
     ]
    },
    {
     "name": "stdout",
     "output_type": "stream",
     "text": [
      "88\n"
     ]
    },
    {
     "name": "stderr",
     "output_type": "stream",
     "text": [
      "  9%|9         |9/100[00:01<00:10, 8.88it/s]\n",
      "  0%|          |0/100[00:00<?,?it/s]"
     ]
    },
    {
     "name": "stdout",
     "output_type": "stream",
     "text": [
      "89\n"
     ]
    },
    {
     "name": "stderr",
     "output_type": "stream",
     "text": [
      "  9%|9         |9/100[00:01<00:10, 8.84it/s]\n",
      "  0%|          |0/100[00:00<?,?it/s]"
     ]
    },
    {
     "name": "stdout",
     "output_type": "stream",
     "text": [
      "90\n"
     ]
    },
    {
     "name": "stderr",
     "output_type": "stream",
     "text": [
      "  9%|9         |9/100[00:01<00:10, 8.85it/s]\n",
      "  9%|9         |9/100[00:01<00:10, 8.93it/s]\n",
      "  9%|9         |9/100[00:01<00:11, 7.61it/s]\n",
      "  9%|9         |9/100[00:01<00:10, 8.53it/s]\n",
      "  9%|9         |9/100[00:01<00:10, 8.92it/s]\n",
      "  0%|          |0/100[00:00<?,?it/s]"
     ]
    },
    {
     "name": "stdout",
     "output_type": "stream",
     "text": [
      "91\n",
      "92\n",
      "93\n"
     ]
    },
    {
     "name": "stderr",
     "output_type": "stream",
     "text": [
      "  9%|9         |9/100[00:01<00:11, 7.67it/s]\n",
      "  9%|9         |9/100[00:01<00:11, 8.20it/s]\n",
      "  0%|          |0/100[00:00<?,?it/s]"
     ]
    },
    {
     "name": "stdout",
     "output_type": "stream",
     "text": [
      "94\n"
     ]
    },
    {
     "name": "stderr",
     "output_type": "stream",
     "text": [
      "  9%|9         |9/100[00:01<00:10, 8.91it/s]\n",
      "  9%|9         |9/100[00:01<00:10, 8.64it/s]\n",
      "  9%|9         |9/100[00:01<00:10, 8.58it/s]\n",
      "  0%|          |0/100[00:00<?,?it/s]"
     ]
    },
    {
     "name": "stdout",
     "output_type": "stream",
     "text": [
      "95\n"
     ]
    },
    {
     "name": "stderr",
     "output_type": "stream",
     "text": [
      "  9%|9         |9/100[00:01<00:10, 8.88it/s]\n",
      "  9%|9         |9/100[00:01<00:11, 8.03it/s]\n",
      "  0%|          |0/100[00:00<?,?it/s]"
     ]
    },
    {
     "name": "stdout",
     "output_type": "stream",
     "text": [
      "96\n"
     ]
    },
    {
     "name": "stderr",
     "output_type": "stream",
     "text": [
      "  9%|9         |9/100[00:01<00:11, 7.65it/s]\n",
      "  9%|9         |9/100[00:01<00:10, 8.49it/s]\n",
      "  0%|          |0/100[00:00<?,?it/s]"
     ]
    },
    {
     "name": "stdout",
     "output_type": "stream",
     "text": [
      "97\n"
     ]
    },
    {
     "name": "stderr",
     "output_type": "stream",
     "text": [
      "  9%|9         |9/100[00:01<00:10, 8.88it/s]\n",
      "  0%|          |0/100[00:00<?,?it/s]"
     ]
    },
    {
     "name": "stdout",
     "output_type": "stream",
     "text": [
      "98\n"
     ]
    },
    {
     "name": "stderr",
     "output_type": "stream",
     "text": [
      "  9%|9         |9/100[00:01<00:10, 8.34it/s]\n",
      "  9%|9         |9/100[00:01<00:11, 8.18it/s]\n",
      "  9%|9         |9/100[00:01<00:10, 8.88it/s]\n",
      "  9%|9         |9/100[00:01<00:10, 8.84it/s]\n",
      "  9%|9         |9/100[00:01<00:10, 8.88it/s]\n",
      "  9%|9         |9/100[00:01<00:11, 8.26it/s]\n",
      "  9%|9         |9/100[00:01<00:10, 8.45it/s]\n",
      "  9%|9         |9/100[00:01<00:10, 8.84it/s]\n",
      "  9%|9         |9/100[00:01<00:10, 8.89it/s]\n",
      "  0%|          |0/100[00:00<?,?it/s]"
     ]
    },
    {
     "name": "stdout",
     "output_type": "stream",
     "text": [
      "99\n",
      "100\n"
     ]
    },
    {
     "name": "stderr",
     "output_type": "stream",
     "text": [
      "  9%|9         |9/100[00:01<00:10, 8.87it/s]\n",
      "  9%|9         |9/100[00:01<00:10, 8.91it/s]\n",
      "  9%|9         |9/100[00:01<00:10, 8.64it/s]\n",
      "  9%|9         |9/100[00:01<00:10, 8.91it/s]\n",
      "  9%|9         |9/100[00:01<00:10, 8.36it/s]\n",
      "  9%|9         |9/100[00:01<00:10, 8.40it/s]\n",
      "  9%|9         |9/100[00:01<00:10, 8.84it/s]\n",
      "  0%|          |0/100[00:00<?,?it/s]"
     ]
    },
    {
     "name": "stdout",
     "output_type": "stream",
     "text": [
      "101\n",
      "102\n"
     ]
    },
    {
     "name": "stderr",
     "output_type": "stream",
     "text": [
      "  9%|9         |9/100[00:01<00:10, 8.84it/s]\n",
      "  9%|9         |9/100[00:01<00:10, 8.73it/s]\n",
      "  9%|9         |9/100[00:01<00:10, 8.95it/s]\n",
      "  9%|9         |9/100[00:01<00:10, 8.30it/s]\n",
      "  9%|9         |9/100[00:01<00:10, 8.46it/s]\n",
      "  9%|9         |9/100[00:01<00:10, 8.88it/s]\n",
      "  0%|          |0/100[00:00<?,?it/s]"
     ]
    },
    {
     "name": "stdout",
     "output_type": "stream",
     "text": [
      "103\n"
     ]
    },
    {
     "name": "stderr",
     "output_type": "stream",
     "text": [
      "  9%|9         |9/100[00:01<00:10, 8.90it/s]\n",
      "  9%|9         |9/100[00:01<00:10, 8.93it/s]\n",
      "  9%|9         |9/100[00:01<00:10, 8.82it/s]\n",
      "  9%|9         |9/100[00:01<00:10, 8.74it/s]\n",
      "  9%|9         |9/100[00:01<00:11, 8.27it/s]\n",
      "  9%|9         |9/100[00:01<00:10, 8.85it/s]\n",
      "  0%|          |0/100[00:00<?,?it/s]"
     ]
    },
    {
     "name": "stdout",
     "output_type": "stream",
     "text": [
      "104\n"
     ]
    },
    {
     "name": "stderr",
     "output_type": "stream",
     "text": [
      "  9%|9         |9/100[00:01<00:10, 8.61it/s]\n",
      "  9%|9         |9/100[00:01<00:11, 7.95it/s]\n",
      "  0%|          |0/100[00:00<?,?it/s]"
     ]
    },
    {
     "name": "stdout",
     "output_type": "stream",
     "text": [
      "105\n"
     ]
    },
    {
     "name": "stderr",
     "output_type": "stream",
     "text": [
      "  9%|9         |9/100[00:01<00:10, 8.89it/s]\n",
      "  0%|          |0/100[00:00<?,?it/s]"
     ]
    },
    {
     "name": "stdout",
     "output_type": "stream",
     "text": [
      "106\n"
     ]
    },
    {
     "name": "stderr",
     "output_type": "stream",
     "text": [
      "  9%|9         |9/100[00:01<00:10, 8.88it/s]\n",
      "  9%|9         |9/100[00:01<00:10, 8.89it/s]\n",
      "  9%|9         |9/100[00:01<00:11, 7.97it/s]\n",
      "  9%|9         |9/100[00:01<00:10, 8.88it/s]\n",
      "  0%|          |0/100[00:00<?,?it/s]"
     ]
    },
    {
     "name": "stdout",
     "output_type": "stream",
     "text": [
      "107\n"
     ]
    },
    {
     "name": "stderr",
     "output_type": "stream",
     "text": [
      "  9%|9         |9/100[00:01<00:10, 8.89it/s]\n",
      "  9%|9         |9/100[00:01<00:10, 8.86it/s]\n",
      "  0%|          |0/100[00:00<?,?it/s]"
     ]
    },
    {
     "name": "stdout",
     "output_type": "stream",
     "text": [
      "108\n"
     ]
    },
    {
     "name": "stderr",
     "output_type": "stream",
     "text": [
      "  9%|9         |9/100[00:01<00:10, 8.62it/s]\n",
      "  0%|          |0/100[00:00<?,?it/s]"
     ]
    },
    {
     "name": "stdout",
     "output_type": "stream",
     "text": [
      "109\n"
     ]
    },
    {
     "name": "stderr",
     "output_type": "stream",
     "text": [
      "  9%|9         |9/100[00:01<00:10, 8.85it/s]\n",
      "  9%|9         |9/100[00:01<00:10, 8.45it/s]\n",
      "  9%|9         |9/100[00:01<00:10, 8.91it/s]\n",
      "  0%|          |0/100[00:00<?,?it/s]"
     ]
    },
    {
     "name": "stdout",
     "output_type": "stream",
     "text": [
      "110\n"
     ]
    },
    {
     "name": "stderr",
     "output_type": "stream",
     "text": [
      "  9%|9         |9/100[00:01<00:10, 8.34it/s]\n",
      "  9%|9         |9/100[00:01<00:10, 8.85it/s]\n",
      "  9%|9         |9/100[00:01<00:10, 8.61it/s]\n",
      "  0%|          |0/100[00:00<?,?it/s]"
     ]
    },
    {
     "name": "stdout",
     "output_type": "stream",
     "text": [
      "111\n"
     ]
    },
    {
     "name": "stderr",
     "output_type": "stream",
     "text": [
      "  9%|9         |9/100[00:01<00:12, 7.40it/s]\n",
      "  0%|          |0/100[00:00<?,?it/s]"
     ]
    },
    {
     "name": "stdout",
     "output_type": "stream",
     "text": [
      "112\n"
     ]
    },
    {
     "name": "stderr",
     "output_type": "stream",
     "text": [
      "  9%|9         |9/100[00:01<00:10, 8.95it/s]\n",
      "  0%|          |0/100[00:00<?,?it/s]"
     ]
    },
    {
     "name": "stdout",
     "output_type": "stream",
     "text": [
      "113\n"
     ]
    },
    {
     "name": "stderr",
     "output_type": "stream",
     "text": [
      "  9%|9         |9/100[00:01<00:10, 8.93it/s]\n",
      "  9%|9         |9/100[00:01<00:10, 8.91it/s]\n",
      "  0%|          |0/100[00:00<?,?it/s]"
     ]
    },
    {
     "name": "stdout",
     "output_type": "stream",
     "text": [
      "114\n"
     ]
    },
    {
     "name": "stderr",
     "output_type": "stream",
     "text": [
      "  9%|9         |9/100[00:01<00:10, 8.90it/s]\n",
      "  9%|9         |9/100[00:01<00:10, 8.77it/s]\n",
      "  9%|9         |9/100[00:01<00:10, 8.89it/s]\n",
      "  9%|9         |9/100[00:01<00:10, 8.92it/s]\n",
      "  0%|          |0/100[00:00<?,?it/s]"
     ]
    },
    {
     "name": "stdout",
     "output_type": "stream",
     "text": [
      "115\n"
     ]
    },
    {
     "name": "stderr",
     "output_type": "stream",
     "text": [
      "  9%|9         |9/100[00:01<00:10, 8.63it/s]\n",
      "  9%|9         |9/100[00:01<00:10, 8.89it/s]\n",
      "  0%|          |0/100[00:00<?,?it/s]"
     ]
    },
    {
     "name": "stdout",
     "output_type": "stream",
     "text": [
      "116\n"
     ]
    },
    {
     "name": "stderr",
     "output_type": "stream",
     "text": [
      "  9%|9         |9/100[00:01<00:11, 7.99it/s]\n",
      "  9%|9         |9/100[00:01<00:10, 8.83it/s]\n",
      "  9%|9         |9/100[00:01<00:10, 8.89it/s]\n",
      "  9%|9         |9/100[00:01<00:10, 8.33it/s]\n",
      "  9%|9         |9/100[00:01<00:10, 8.90it/s]\n",
      "  9%|9         |9/100[00:01<00:10, 8.85it/s]\n",
      "  9%|9         |9/100[00:01<00:10, 8.87it/s]\n",
      "  9%|9         |9/100[00:01<00:10, 8.87it/s]\n",
      "  9%|9         |9/100[00:01<00:10, 8.54it/s]\n",
      "  9%|9         |9/100[00:01<00:10, 8.92it/s]\n",
      "  0%|          |0/100[00:00<?,?it/s]"
     ]
    },
    {
     "name": "stdout",
     "output_type": "stream",
     "text": [
      "117\n"
     ]
    },
    {
     "name": "stderr",
     "output_type": "stream",
     "text": [
      "  9%|9         |9/100[00:01<00:10, 8.97it/s]\n",
      "  0%|          |0/100[00:00<?,?it/s]"
     ]
    },
    {
     "name": "stdout",
     "output_type": "stream",
     "text": [
      "118\n"
     ]
    },
    {
     "name": "stderr",
     "output_type": "stream",
     "text": [
      "  9%|9         |9/100[00:01<00:10, 8.40it/s]\n",
      "  9%|9         |9/100[00:01<00:11, 7.84it/s]\n",
      "  9%|9         |9/100[00:01<00:10, 8.42it/s]\n",
      "  9%|9         |9/100[00:01<00:12, 7.58it/s]\n",
      "  9%|9         |9/100[00:01<00:10, 8.84it/s]\n",
      "  0%|          |0/100[00:00<?,?it/s]"
     ]
    },
    {
     "name": "stdout",
     "output_type": "stream",
     "text": [
      "119\n"
     ]
    },
    {
     "name": "stderr",
     "output_type": "stream",
     "text": [
      "  9%|9         |9/100[00:01<00:11, 8.10it/s]\n",
      "  9%|9         |9/100[00:01<00:10, 8.91it/s]\n",
      "  9%|9         |9/100[00:01<00:10, 8.86it/s]\n",
      "  0%|          |0/100[00:00<?,?it/s]"
     ]
    },
    {
     "name": "stdout",
     "output_type": "stream",
     "text": [
      "120\n"
     ]
    },
    {
     "name": "stderr",
     "output_type": "stream",
     "text": [
      "  9%|9         |9/100[00:01<00:10, 8.55it/s]\n",
      "  9%|9         |9/100[00:01<00:10, 8.91it/s]\n",
      "  9%|9         |9/100[00:01<00:10, 8.93it/s]\n",
      "  9%|9         |9/100[00:01<00:10, 8.92it/s]\n",
      "  9%|9         |9/100[00:01<00:10, 8.76it/s]\n",
      "  9%|9         |9/100[00:01<00:10, 8.32it/s]\n",
      "  9%|9         |9/100[00:01<00:10, 8.84it/s]\n",
      "  9%|9         |9/100[00:01<00:10, 8.85it/s]\n",
      "  9%|9         |9/100[00:01<00:10, 8.32it/s]\n",
      "  9%|9         |9/100[00:01<00:10, 8.81it/s]\n",
      "  9%|9         |9/100[00:01<00:10, 8.87it/s]\n",
      "  9%|9         |9/100[00:01<00:10, 8.68it/s]\n",
      "  9%|9         |9/100[00:01<00:10, 8.89it/s]\n",
      "  9%|9         |9/100[00:01<00:10, 8.76it/s]\n",
      "  9%|9         |9/100[00:01<00:10, 8.39it/s]\n",
      "  0%|          |0/100[00:00<?,?it/s]"
     ]
    },
    {
     "name": "stdout",
     "output_type": "stream",
     "text": [
      "121\n"
     ]
    },
    {
     "name": "stderr",
     "output_type": "stream",
     "text": [
      "  9%|9         |9/100[00:01<00:10, 8.53it/s]\n",
      "  9%|9         |9/100[00:01<00:11, 7.99it/s]\n",
      "  9%|9         |9/100[00:01<00:10, 8.90it/s]\n",
      "  9%|9         |9/100[00:01<00:10, 8.66it/s]\n",
      "  9%|9         |9/100[00:01<00:10, 8.91it/s]\n",
      "  0%|          |0/100[00:00<?,?it/s]"
     ]
    },
    {
     "name": "stdout",
     "output_type": "stream",
     "text": [
      "122\n",
      "123\n"
     ]
    },
    {
     "name": "stderr",
     "output_type": "stream",
     "text": [
      "  9%|9         |9/100[00:01<00:10, 8.86it/s]\n",
      "  0%|          |0/100[00:00<?,?it/s]"
     ]
    },
    {
     "name": "stdout",
     "output_type": "stream",
     "text": [
      "124\n"
     ]
    },
    {
     "name": "stderr",
     "output_type": "stream",
     "text": [
      "  9%|9         |9/100[00:01<00:10, 8.86it/s]\n",
      "  9%|9         |9/100[00:01<00:11, 8.22it/s]\n",
      "  9%|9         |9/100[00:01<00:11, 7.90it/s]\n",
      "  9%|9         |9/100[00:01<00:10, 8.84it/s]\n",
      "  9%|9         |9/100[00:01<00:10, 8.95it/s]\n",
      "  9%|9         |9/100[00:01<00:10, 8.63it/s]\n",
      "  0%|          |0/100[00:00<?,?it/s]"
     ]
    },
    {
     "name": "stdout",
     "output_type": "stream",
     "text": [
      "125\n"
     ]
    },
    {
     "name": "stderr",
     "output_type": "stream",
     "text": [
      "  9%|9         |9/100[00:01<00:10, 8.70it/s]\n",
      "  9%|9         |9/100[00:01<00:11, 7.92it/s]\n",
      "  9%|9         |9/100[00:01<00:10, 8.38it/s]\n",
      "  9%|9         |9/100[00:01<00:10, 8.86it/s]\n",
      "  0%|          |0/100[00:00<?,?it/s]"
     ]
    },
    {
     "name": "stdout",
     "output_type": "stream",
     "text": [
      "126\n"
     ]
    },
    {
     "name": "stderr",
     "output_type": "stream",
     "text": [
      "  9%|9         |9/100[00:01<00:10, 8.88it/s]\n",
      "  9%|9         |9/100[00:01<00:10, 8.88it/s]\n",
      "  9%|9         |9/100[00:01<00:10, 8.93it/s]\n",
      "  0%|          |0/100[00:00<?,?it/s]"
     ]
    },
    {
     "name": "stdout",
     "output_type": "stream",
     "text": [
      "127\n",
      "128\n"
     ]
    },
    {
     "name": "stderr",
     "output_type": "stream",
     "text": [
      "  9%|9         |9/100[00:01<00:10, 8.89it/s]\n",
      "  9%|9         |9/100[00:01<00:10, 8.91it/s]\n",
      "  0%|          |0/100[00:00<?,?it/s]"
     ]
    },
    {
     "name": "stdout",
     "output_type": "stream",
     "text": [
      "129\n"
     ]
    },
    {
     "name": "stderr",
     "output_type": "stream",
     "text": [
      "  9%|9         |9/100[00:01<00:10, 8.90it/s]\n",
      "  0%|          |0/100[00:00<?,?it/s]"
     ]
    },
    {
     "name": "stdout",
     "output_type": "stream",
     "text": [
      "130\n",
      "131\n"
     ]
    },
    {
     "name": "stderr",
     "output_type": "stream",
     "text": [
      "  9%|9         |9/100[00:01<00:11, 7.98it/s]\n",
      "  9%|9         |9/100[00:01<00:10, 8.56it/s]\n",
      "  9%|9         |9/100[00:01<00:10, 8.89it/s]\n",
      "  9%|9         |9/100[00:01<00:11, 8.12it/s]\n",
      "  9%|9         |9/100[00:01<00:10, 8.89it/s]\n",
      "  0%|          |0/100[00:00<?,?it/s]"
     ]
    },
    {
     "name": "stdout",
     "output_type": "stream",
     "text": [
      "132\n",
      "133\n"
     ]
    },
    {
     "name": "stderr",
     "output_type": "stream",
     "text": [
      "  9%|9         |9/100[00:01<00:10, 8.40it/s]\n",
      "  9%|9         |9/100[00:01<00:10, 8.87it/s]\n",
      "  9%|9         |9/100[00:01<00:10, 8.83it/s]\n",
      "  9%|9         |9/100[00:01<00:10, 8.88it/s]\n",
      "  9%|9         |9/100[00:01<00:10, 8.57it/s]\n",
      "  9%|9         |9/100[00:01<00:10, 8.43it/s]\n",
      "  0%|          |0/100[00:00<?,?it/s]"
     ]
    },
    {
     "name": "stdout",
     "output_type": "stream",
     "text": [
      "134\n"
     ]
    },
    {
     "name": "stderr",
     "output_type": "stream",
     "text": [
      "  9%|9         |9/100[00:01<00:10, 8.55it/s]\n",
      "  9%|9         |9/100[00:01<00:14, 6.11it/s]\n",
      "  9%|9         |9/100[00:01<00:10, 8.78it/s]\n",
      "  0%|          |0/100[00:00<?,?it/s]"
     ]
    },
    {
     "name": "stdout",
     "output_type": "stream",
     "text": [
      "135\n"
     ]
    },
    {
     "name": "stderr",
     "output_type": "stream",
     "text": [
      "  9%|9         |9/100[00:01<00:10, 8.60it/s]\n",
      "  9%|9         |9/100[00:01<00:10, 8.90it/s]\n",
      "  0%|          |0/100[00:00<?,?it/s]"
     ]
    },
    {
     "name": "stdout",
     "output_type": "stream",
     "text": [
      "136\n"
     ]
    },
    {
     "name": "stderr",
     "output_type": "stream",
     "text": [
      "  9%|9         |9/100[00:01<00:10, 8.92it/s]\n",
      "  9%|9         |9/100[00:01<00:10, 8.84it/s]\n",
      "  0%|          |0/100[00:00<?,?it/s]"
     ]
    },
    {
     "name": "stdout",
     "output_type": "stream",
     "text": [
      "137\n"
     ]
    },
    {
     "name": "stderr",
     "output_type": "stream",
     "text": [
      "  9%|9         |9/100[00:01<00:11, 7.94it/s]\n",
      "  9%|9         |9/100[00:01<00:10, 8.70it/s]\n",
      "  9%|9         |9/100[00:01<00:10, 8.43it/s]\n",
      "  0%|          |0/100[00:00<?,?it/s]"
     ]
    },
    {
     "name": "stdout",
     "output_type": "stream",
     "text": [
      "138\n",
      "139\n"
     ]
    },
    {
     "name": "stderr",
     "output_type": "stream",
     "text": [
      "  9%|9         |9/100[00:01<00:10, 8.33it/s]\n",
      "  9%|9         |9/100[00:01<00:11, 8.02it/s]\n",
      "  9%|9         |9/100[00:01<00:13, 6.63it/s]\n",
      "  9%|9         |9/100[00:01<00:11, 7.82it/s]\n",
      "  9%|9         |9/100[00:01<00:10, 8.89it/s]\n",
      "  9%|9         |9/100[00:01<00:10, 8.86it/s]\n",
      "  9%|9         |9/100[00:01<00:10, 8.91it/s]\n",
      "  9%|9         |9/100[00:01<00:10, 8.38it/s]\n",
      "  9%|9         |9/100[00:01<00:11, 8.20it/s]\n",
      "  9%|9         |9/100[00:01<00:10, 8.86it/s]\n",
      "  9%|9         |9/100[00:01<00:11, 8.26it/s]\n",
      "  0%|          |0/100[00:00<?,?it/s]"
     ]
    },
    {
     "name": "stdout",
     "output_type": "stream",
     "text": [
      "140\n",
      "141\n"
     ]
    },
    {
     "name": "stderr",
     "output_type": "stream",
     "text": [
      "  9%|9         |9/100[00:01<00:10, 8.92it/s]\n",
      "  0%|          |0/100[00:00<?,?it/s]"
     ]
    },
    {
     "name": "stdout",
     "output_type": "stream",
     "text": [
      "142\n"
     ]
    },
    {
     "name": "stderr",
     "output_type": "stream",
     "text": [
      "  9%|9         |9/100[00:01<00:10, 8.86it/s]\n",
      "  9%|9         |9/100[00:01<00:10, 8.28it/s]\n",
      "  9%|9         |9/100[00:01<00:10, 8.80it/s]\n",
      "  9%|9         |9/100[00:01<00:10, 8.88it/s]\n",
      "  9%|9         |9/100[00:01<00:11, 7.62it/s]\n",
      "  0%|          |0/100[00:00<?,?it/s]"
     ]
    },
    {
     "name": "stdout",
     "output_type": "stream",
     "text": [
      "143\n"
     ]
    },
    {
     "name": "stderr",
     "output_type": "stream",
     "text": [
      "  9%|9         |9/100[00:01<00:10, 8.84it/s]\n",
      "  9%|9         |9/100[00:01<00:10, 8.61it/s]\n",
      "  9%|9         |9/100[00:01<00:10, 8.87it/s]\n",
      "  9%|9         |9/100[00:01<00:10, 8.87it/s]\n",
      "  9%|9         |9/100[00:01<00:10, 8.90it/s]\n",
      "  9%|9         |9/100[00:01<00:10, 8.86it/s]\n",
      "  0%|          |0/100[00:00<?,?it/s]"
     ]
    },
    {
     "name": "stdout",
     "output_type": "stream",
     "text": [
      "144\n"
     ]
    },
    {
     "name": "stderr",
     "output_type": "stream",
     "text": [
      "  9%|9         |9/100[00:01<00:10, 8.86it/s]\n",
      "  9%|9         |9/100[00:01<00:10, 8.92it/s]\n",
      "  0%|          |0/100[00:00<?,?it/s]"
     ]
    },
    {
     "name": "stdout",
     "output_type": "stream",
     "text": [
      "145\n"
     ]
    },
    {
     "name": "stderr",
     "output_type": "stream",
     "text": [
      "  9%|9         |9/100[00:01<00:10, 8.41it/s]\n",
      "  0%|          |0/100[00:00<?,?it/s]"
     ]
    },
    {
     "name": "stdout",
     "output_type": "stream",
     "text": [
      "146\n",
      "147\n"
     ]
    },
    {
     "name": "stderr",
     "output_type": "stream",
     "text": [
      "  9%|9         |9/100[00:01<00:10, 8.70it/s]\n",
      "  9%|9         |9/100[00:01<00:10, 8.71it/s]\n",
      "  0%|          |0/100[00:00<?,?it/s]"
     ]
    },
    {
     "name": "stdout",
     "output_type": "stream",
     "text": [
      "148\n"
     ]
    },
    {
     "name": "stderr",
     "output_type": "stream",
     "text": [
      "  9%|9         |9/100[00:01<00:10, 8.87it/s]\n",
      "  9%|9         |9/100[00:01<00:10, 8.87it/s]\n",
      "  0%|          |0/100[00:00<?,?it/s]"
     ]
    },
    {
     "name": "stdout",
     "output_type": "stream",
     "text": [
      "149\n"
     ]
    },
    {
     "name": "stderr",
     "output_type": "stream",
     "text": [
      "  9%|9         |9/100[00:01<00:10, 8.90it/s]\n",
      "  9%|9         |9/100[00:01<00:10, 8.89it/s]\n",
      "  9%|9         |9/100[00:01<00:10, 8.88it/s]\n",
      "  0%|          |0/100[00:00<?,?it/s]"
     ]
    },
    {
     "name": "stdout",
     "output_type": "stream",
     "text": [
      "150\n"
     ]
    },
    {
     "name": "stderr",
     "output_type": "stream",
     "text": [
      "  9%|9         |9/100[00:01<00:10, 8.58it/s]\n",
      "  9%|9         |9/100[00:01<00:10, 8.65it/s]\n",
      "  9%|9         |9/100[00:01<00:10, 8.88it/s]\n",
      "  9%|9         |9/100[00:01<00:10, 8.66it/s]\n",
      "  0%|          |0/100[00:00<?,?it/s]"
     ]
    },
    {
     "name": "stdout",
     "output_type": "stream",
     "text": [
      "151\n"
     ]
    },
    {
     "name": "stderr",
     "output_type": "stream",
     "text": [
      "  9%|9         |9/100[00:01<00:10, 8.87it/s]\n",
      "  9%|9         |9/100[00:01<00:10, 8.83it/s]\n",
      "  0%|          |0/100[00:00<?,?it/s]"
     ]
    },
    {
     "name": "stdout",
     "output_type": "stream",
     "text": [
      "152\n"
     ]
    },
    {
     "name": "stderr",
     "output_type": "stream",
     "text": [
      "  9%|9         |9/100[00:01<00:10, 8.92it/s]\n",
      "  0%|          |0/100[00:00<?,?it/s]"
     ]
    },
    {
     "name": "stdout",
     "output_type": "stream",
     "text": [
      "153\n",
      "154\n"
     ]
    },
    {
     "name": "stderr",
     "output_type": "stream",
     "text": [
      "  9%|9         |9/100[00:01<00:11, 8.24it/s]\n",
      "  0%|          |0/100[00:00<?,?it/s]"
     ]
    },
    {
     "name": "stdout",
     "output_type": "stream",
     "text": [
      "155\n"
     ]
    },
    {
     "name": "stderr",
     "output_type": "stream",
     "text": [
      "  9%|9         |9/100[00:01<00:10, 8.90it/s]\n",
      "  0%|          |0/100[00:00<?,?it/s]"
     ]
    },
    {
     "name": "stdout",
     "output_type": "stream",
     "text": [
      "156\n"
     ]
    },
    {
     "name": "stderr",
     "output_type": "stream",
     "text": [
      "  9%|9         |9/100[00:01<00:15, 5.86it/s]\n",
      "  0%|          |0/100[00:00<?,?it/s]"
     ]
    },
    {
     "name": "stdout",
     "output_type": "stream",
     "text": [
      "157\n"
     ]
    },
    {
     "name": "stderr",
     "output_type": "stream",
     "text": [
      "  9%|9         |9/100[00:01<00:10, 8.71it/s]\n",
      "  9%|9         |9/100[00:01<00:11, 8.26it/s]\n",
      "  0%|          |0/100[00:00<?,?it/s]"
     ]
    },
    {
     "name": "stdout",
     "output_type": "stream",
     "text": [
      "158\n"
     ]
    },
    {
     "name": "stderr",
     "output_type": "stream",
     "text": [
      "  9%|9         |9/100[00:01<00:10, 8.86it/s]\n",
      "  9%|9         |9/100[00:01<00:10, 8.43it/s]\n",
      "  9%|9         |9/100[00:01<00:10, 8.88it/s]\n",
      "  9%|9         |9/100[00:01<00:10, 8.87it/s]\n",
      "  0%|          |0/100[00:00<?,?it/s]"
     ]
    },
    {
     "name": "stdout",
     "output_type": "stream",
     "text": [
      "159\n",
      "160\n"
     ]
    },
    {
     "name": "stderr",
     "output_type": "stream",
     "text": [
      "  9%|9         |9/100[00:01<00:10, 8.44it/s]\n",
      "  0%|          |0/100[00:00<?,?it/s]"
     ]
    },
    {
     "name": "stdout",
     "output_type": "stream",
     "text": [
      "161\n",
      "162\n"
     ]
    },
    {
     "name": "stderr",
     "output_type": "stream",
     "text": [
      "  9%|9         |9/100[00:01<00:11, 7.95it/s]\n",
      "  9%|9         |9/100[00:01<00:10, 8.83it/s]\n",
      "  0%|          |0/100[00:00<?,?it/s]"
     ]
    },
    {
     "name": "stdout",
     "output_type": "stream",
     "text": [
      "163\n",
      "164\n"
     ]
    },
    {
     "name": "stderr",
     "output_type": "stream",
     "text": [
      "  9%|9         |9/100[00:01<00:10, 8.87it/s]\n",
      "  0%|          |0/100[00:00<?,?it/s]"
     ]
    },
    {
     "name": "stdout",
     "output_type": "stream",
     "text": [
      "165\n"
     ]
    },
    {
     "name": "stderr",
     "output_type": "stream",
     "text": [
      "  9%|9         |9/100[00:01<00:10, 8.92it/s]\n",
      "  9%|9         |9/100[00:01<00:11, 8.04it/s]\n",
      "  9%|9         |9/100[00:01<00:10, 8.62it/s]\n",
      "  0%|          |0/100[00:00<?,?it/s]"
     ]
    },
    {
     "name": "stdout",
     "output_type": "stream",
     "text": [
      "166\n"
     ]
    },
    {
     "name": "stderr",
     "output_type": "stream",
     "text": [
      "  9%|9         |9/100[00:01<00:11, 8.18it/s]\n",
      "  9%|9         |9/100[00:01<00:10, 8.87it/s]\n",
      "  9%|9         |9/100[00:01<00:10, 8.62it/s]\n",
      "  9%|9         |9/100[00:01<00:12, 7.08it/s]\n",
      "  9%|9         |9/100[00:01<00:10, 8.89it/s]\n",
      "  9%|9         |9/100[00:01<00:10, 8.86it/s]\n",
      "  0%|          |0/100[00:00<?,?it/s]"
     ]
    },
    {
     "name": "stdout",
     "output_type": "stream",
     "text": [
      "167\n"
     ]
    },
    {
     "name": "stderr",
     "output_type": "stream",
     "text": [
      "  9%|9         |9/100[00:01<00:10, 8.87it/s]\n",
      "  9%|9         |9/100[00:01<00:10, 8.45it/s]\n",
      "  0%|          |0/100[00:00<?,?it/s]"
     ]
    },
    {
     "name": "stdout",
     "output_type": "stream",
     "text": [
      "168\n"
     ]
    },
    {
     "name": "stderr",
     "output_type": "stream",
     "text": [
      "  9%|9         |9/100[00:01<00:11, 7.94it/s]\n",
      "  9%|9         |9/100[00:01<00:10, 8.91it/s]\n",
      "  9%|9         |9/100[00:01<00:11, 7.86it/s]\n",
      "  9%|9         |9/100[00:01<00:10, 8.82it/s]\n",
      "  0%|          |0/100[00:00<?,?it/s]"
     ]
    },
    {
     "name": "stdout",
     "output_type": "stream",
     "text": [
      "169\n"
     ]
    },
    {
     "name": "stderr",
     "output_type": "stream",
     "text": [
      "  9%|9         |9/100[00:01<00:10, 8.39it/s]\n",
      "  0%|          |0/100[00:00<?,?it/s]"
     ]
    },
    {
     "name": "stdout",
     "output_type": "stream",
     "text": [
      "170\n"
     ]
    },
    {
     "name": "stderr",
     "output_type": "stream",
     "text": [
      "  9%|9         |9/100[00:01<00:10, 8.75it/s]\n",
      "  9%|9         |9/100[00:01<00:11, 8.11it/s]\n",
      "  9%|9         |9/100[00:01<00:10, 8.85it/s]\n",
      "  9%|9         |9/100[00:01<00:10, 8.43it/s]\n",
      "  9%|9         |9/100[00:01<00:10, 8.86it/s]\n",
      "  9%|9         |9/100[00:01<00:10, 8.92it/s]\n",
      "  9%|9         |9/100[00:01<00:10, 8.89it/s]\n",
      "  9%|9         |9/100[00:01<00:10, 8.86it/s]\n",
      "  9%|9         |9/100[00:01<00:10, 8.85it/s]\n",
      "  0%|          |0/100[00:00<?,?it/s]"
     ]
    },
    {
     "name": "stdout",
     "output_type": "stream",
     "text": [
      "171\n"
     ]
    },
    {
     "name": "stderr",
     "output_type": "stream",
     "text": [
      "  9%|9         |9/100[00:01<00:10, 8.87it/s]\n",
      "  9%|9         |9/100[00:01<00:10, 8.88it/s]\n",
      "  9%|9         |9/100[00:01<00:10, 8.87it/s]\n",
      "  9%|9         |9/100[00:01<00:10, 8.91it/s]\n",
      "  9%|9         |9/100[00:01<00:12, 7.45it/s]\n",
      "  9%|9         |9/100[00:01<00:10, 8.63it/s]\n",
      "  0%|          |0/100[00:00<?,?it/s]"
     ]
    },
    {
     "name": "stdout",
     "output_type": "stream",
     "text": [
      "172\n"
     ]
    },
    {
     "name": "stderr",
     "output_type": "stream",
     "text": [
      "  9%|9         |9/100[00:01<00:10, 8.68it/s]\n",
      "  9%|9         |9/100[00:01<00:10, 8.62it/s]\n",
      "  9%|9         |9/100[00:01<00:10, 8.59it/s]\n",
      "  9%|9         |9/100[00:01<00:10, 8.75it/s]\n",
      "  9%|9         |9/100[00:01<00:10, 8.67it/s]\n",
      "  0%|          |0/100[00:00<?,?it/s]"
     ]
    },
    {
     "name": "stdout",
     "output_type": "stream",
     "text": [
      "173\n"
     ]
    },
    {
     "name": "stderr",
     "output_type": "stream",
     "text": [
      "  9%|9         |9/100[00:01<00:11, 8.14it/s]\n",
      "  9%|9         |9/100[00:01<00:10, 8.90it/s]\n",
      "  9%|9         |9/100[00:01<00:11, 7.78it/s]\n",
      "  9%|9         |9/100[00:01<00:10, 8.36it/s]\n",
      "  9%|9         |9/100[00:01<00:10, 8.28it/s]\n",
      "  9%|9         |9/100[00:01<00:10, 8.92it/s]\n",
      "  9%|9         |9/100[00:01<00:10, 8.89it/s]\n",
      "  9%|9         |9/100[00:01<00:10, 8.82it/s]\n",
      "  9%|9         |9/100[00:01<00:10, 8.87it/s]\n",
      "  0%|          |0/100[00:00<?,?it/s]"
     ]
    },
    {
     "name": "stdout",
     "output_type": "stream",
     "text": [
      "174\n"
     ]
    },
    {
     "name": "stderr",
     "output_type": "stream",
     "text": [
      "  9%|9         |9/100[00:01<00:10, 8.90it/s]\n",
      "  0%|          |0/100[00:00<?,?it/s]"
     ]
    },
    {
     "name": "stdout",
     "output_type": "stream",
     "text": [
      "175\n"
     ]
    },
    {
     "name": "stderr",
     "output_type": "stream",
     "text": [
      "  9%|9         |9/100[00:01<00:10, 8.84it/s]\n",
      "  9%|9         |9/100[00:01<00:10, 8.67it/s]\n",
      "  9%|9         |9/100[00:01<00:10, 8.89it/s]\n",
      "  9%|9         |9/100[00:01<00:11, 8.06it/s]\n",
      "  9%|9         |9/100[00:01<00:10, 8.41it/s]\n",
      "  9%|9         |9/100[00:01<00:10, 8.89it/s]\n",
      "  9%|9         |9/100[00:01<00:14, 6.24it/s]\n",
      "  9%|9         |9/100[00:01<00:10, 8.87it/s]\n",
      "  0%|          |0/100[00:00<?,?it/s]"
     ]
    },
    {
     "name": "stdout",
     "output_type": "stream",
     "text": [
      "176\n",
      "177\n"
     ]
    },
    {
     "name": "stderr",
     "output_type": "stream",
     "text": [
      "  9%|9         |9/100[00:01<00:10, 8.89it/s]\n",
      "  0%|          |0/100[00:00<?,?it/s]"
     ]
    },
    {
     "name": "stdout",
     "output_type": "stream",
     "text": [
      "178\n"
     ]
    },
    {
     "name": "stderr",
     "output_type": "stream",
     "text": [
      "  9%|9         |9/100[00:01<00:10, 8.89it/s]\n",
      "  9%|9         |9/100[00:01<00:10, 8.76it/s]\n",
      "  0%|          |0/100[00:00<?,?it/s]"
     ]
    },
    {
     "name": "stdout",
     "output_type": "stream",
     "text": [
      "179\n",
      "180\n"
     ]
    },
    {
     "name": "stderr",
     "output_type": "stream",
     "text": [
      "  9%|9         |9/100[00:01<00:13, 6.52it/s]\n",
      "  9%|9         |9/100[00:01<00:10, 8.51it/s]\n",
      "  0%|          |0/100[00:00<?,?it/s]"
     ]
    },
    {
     "name": "stdout",
     "output_type": "stream",
     "text": [
      "181\n"
     ]
    },
    {
     "name": "stderr",
     "output_type": "stream",
     "text": [
      "  9%|9         |9/100[00:01<00:10, 8.55it/s]\n",
      "  9%|9         |9/100[00:01<00:11, 8.26it/s]\n",
      "  0%|          |0/100[00:00<?,?it/s]"
     ]
    },
    {
     "name": "stdout",
     "output_type": "stream",
     "text": [
      "182\n"
     ]
    },
    {
     "name": "stderr",
     "output_type": "stream",
     "text": [
      "  9%|9         |9/100[00:01<00:11, 8.00it/s]\n",
      "  0%|          |0/100[00:00<?,?it/s]"
     ]
    },
    {
     "name": "stdout",
     "output_type": "stream",
     "text": [
      "183\n"
     ]
    },
    {
     "name": "stderr",
     "output_type": "stream",
     "text": [
      "  9%|9         |9/100[00:01<00:10, 8.38it/s]\n",
      "  9%|9         |9/100[00:01<00:10, 8.47it/s]\n",
      "  9%|9         |9/100[00:01<00:11, 7.97it/s]\n",
      "  9%|9         |9/100[00:01<00:10, 8.52it/s]\n",
      "  9%|9         |9/100[00:01<00:10, 8.85it/s]\n",
      "  9%|9         |9/100[00:01<00:10, 8.94it/s]\n",
      "  0%|          |0/100[00:00<?,?it/s]"
     ]
    },
    {
     "name": "stdout",
     "output_type": "stream",
     "text": [
      "184\n",
      "185\n"
     ]
    },
    {
     "name": "stderr",
     "output_type": "stream",
     "text": [
      "  9%|9         |9/100[00:01<00:10, 8.81it/s]\n",
      "  9%|9         |9/100[00:01<00:10, 8.76it/s]\n",
      "  9%|9         |9/100[00:01<00:10, 8.86it/s]\n",
      "  9%|9         |9/100[00:01<00:10, 8.34it/s]\n",
      "  9%|9         |9/100[00:01<00:10, 8.46it/s]\n",
      "  9%|9         |9/100[00:01<00:10, 8.91it/s]\n",
      "  9%|9         |9/100[00:01<00:10, 8.53it/s]\n",
      "  0%|          |0/100[00:00<?,?it/s]"
     ]
    },
    {
     "name": "stdout",
     "output_type": "stream",
     "text": [
      "186\n"
     ]
    },
    {
     "name": "stderr",
     "output_type": "stream",
     "text": [
      "  9%|9         |9/100[00:01<00:10, 8.87it/s]\n",
      "  9%|9         |9/100[00:01<00:11, 8.24it/s]\n",
      "  0%|          |0/100[00:00<?,?it/s]"
     ]
    },
    {
     "name": "stdout",
     "output_type": "stream",
     "text": [
      "187\n",
      "188\n"
     ]
    },
    {
     "name": "stderr",
     "output_type": "stream",
     "text": [
      "  9%|9         |9/100[00:01<00:10, 8.51it/s]\n",
      "  9%|9         |9/100[00:01<00:10, 8.92it/s]\n",
      "  0%|          |0/100[00:00<?,?it/s]"
     ]
    },
    {
     "name": "stdout",
     "output_type": "stream",
     "text": [
      "189\n"
     ]
    },
    {
     "name": "stderr",
     "output_type": "stream",
     "text": [
      "  9%|9         |9/100[00:01<00:11, 8.26it/s]\n",
      "  9%|9         |9/100[00:01<00:10, 8.88it/s]"
     ]
    },
    {
     "name": "stdout",
     "output_type": "stream",
     "text": [
      "190\n"
     ]
    },
    {
     "name": "stderr",
     "output_type": "stream",
     "text": [
      "\n"
     ]
    }
   ],
   "source": [
    "print(\"Samples needed: {}\".format(needed_minus2))\n",
    "synth_minus2 = sample_needed_label(needed_minus2, '-2')"
   ]
  },
  {
   "cell_type": "code",
   "execution_count": 16,
   "metadata": {
    "ExecuteTime": {
     "end_time": "2019-08-11T03:36:10.587111Z",
     "start_time": "2019-08-11T03:22:21.669775Z"
    },
    "scrolled": true
   },
   "outputs": [
    {
     "name": "stderr",
     "output_type": "stream",
     "text": [
      "\r",
      "  0%|          |0/100[00:00<?,?it/s]"
     ]
    },
    {
     "name": "stdout",
     "output_type": "stream",
     "text": [
      "Samples needed: 176\n"
     ]
    },
    {
     "name": "stderr",
     "output_type": "stream",
     "text": [
      "  9%|9         |9/100[00:01<00:10, 8.80it/s]\n",
      "  9%|9         |9/100[00:01<00:10, 8.38it/s]\n",
      "  0%|          |0/100[00:00<?,?it/s]"
     ]
    },
    {
     "name": "stdout",
     "output_type": "stream",
     "text": [
      "1\n"
     ]
    },
    {
     "name": "stderr",
     "output_type": "stream",
     "text": [
      "  9%|9         |9/100[00:01<00:10, 8.90it/s]\n",
      "  9%|9         |9/100[00:01<00:10, 8.50it/s]\n",
      "  9%|9         |9/100[00:01<00:10, 8.62it/s]\n",
      "  9%|9         |9/100[00:01<00:10, 8.87it/s]\n",
      "  0%|          |0/100[00:00<?,?it/s]"
     ]
    },
    {
     "name": "stdout",
     "output_type": "stream",
     "text": [
      "2\n"
     ]
    },
    {
     "name": "stderr",
     "output_type": "stream",
     "text": [
      "  9%|9         |9/100[00:01<00:10, 8.89it/s]\n",
      "  0%|          |0/100[00:00<?,?it/s]"
     ]
    },
    {
     "name": "stdout",
     "output_type": "stream",
     "text": [
      "3\n",
      "4\n"
     ]
    },
    {
     "name": "stderr",
     "output_type": "stream",
     "text": [
      "  9%|9         |9/100[00:01<00:10, 8.88it/s]\n",
      "  0%|          |0/100[00:00<?,?it/s]"
     ]
    },
    {
     "name": "stdout",
     "output_type": "stream",
     "text": [
      "5\n"
     ]
    },
    {
     "name": "stderr",
     "output_type": "stream",
     "text": [
      "  9%|9         |9/100[00:01<00:10, 8.87it/s]\n",
      "  0%|          |0/100[00:00<?,?it/s]"
     ]
    },
    {
     "name": "stdout",
     "output_type": "stream",
     "text": [
      "6\n"
     ]
    },
    {
     "name": "stderr",
     "output_type": "stream",
     "text": [
      "  9%|9         |9/100[00:01<00:11, 7.62it/s]\n",
      "  9%|9         |9/100[00:01<00:10, 8.78it/s]\n",
      "  0%|          |0/100[00:00<?,?it/s]"
     ]
    },
    {
     "name": "stdout",
     "output_type": "stream",
     "text": [
      "7\n",
      "8\n"
     ]
    },
    {
     "name": "stderr",
     "output_type": "stream",
     "text": [
      "  9%|9         |9/100[00:01<00:10, 8.85it/s]\n",
      "  9%|9         |9/100[00:01<00:10, 8.59it/s]\n",
      "  9%|9         |9/100[00:01<00:10, 8.89it/s]\n",
      "  0%|          |0/100[00:00<?,?it/s]"
     ]
    },
    {
     "name": "stdout",
     "output_type": "stream",
     "text": [
      "9\n"
     ]
    },
    {
     "name": "stderr",
     "output_type": "stream",
     "text": [
      "  9%|9         |9/100[00:01<00:10, 8.62it/s]\n",
      "  9%|9         |9/100[00:01<00:10, 8.90it/s]\n",
      "  0%|          |0/100[00:00<?,?it/s]"
     ]
    },
    {
     "name": "stdout",
     "output_type": "stream",
     "text": [
      "10\n"
     ]
    },
    {
     "name": "stderr",
     "output_type": "stream",
     "text": [
      "  9%|9         |9/100[00:01<00:10, 8.88it/s]\n",
      "  9%|9         |9/100[00:01<00:10, 8.86it/s]\n",
      "  9%|9         |9/100[00:01<00:11, 8.08it/s]\n",
      "  9%|9         |9/100[00:01<00:10, 8.88it/s]\n",
      "  9%|9         |9/100[00:01<00:14, 6.48it/s]\n",
      "  9%|9         |9/100[00:01<00:10, 8.37it/s]\n",
      "  9%|9         |9/100[00:01<00:10, 8.87it/s]\n",
      "  0%|          |0/100[00:00<?,?it/s]"
     ]
    },
    {
     "name": "stdout",
     "output_type": "stream",
     "text": [
      "11\n"
     ]
    },
    {
     "name": "stderr",
     "output_type": "stream",
     "text": [
      "  9%|9         |9/100[00:01<00:10, 8.63it/s]\n",
      "  9%|9         |9/100[00:01<00:10, 8.89it/s]\n",
      "  9%|9         |9/100[00:01<00:10, 8.45it/s]\n",
      "  9%|9         |9/100[00:01<00:10, 8.61it/s]\n",
      "  9%|9         |9/100[00:01<00:10, 8.28it/s]\n",
      "  9%|9         |9/100[00:01<00:10, 8.89it/s]\n",
      "  0%|          |0/100[00:00<?,?it/s]"
     ]
    },
    {
     "name": "stdout",
     "output_type": "stream",
     "text": [
      "12\n"
     ]
    },
    {
     "name": "stderr",
     "output_type": "stream",
     "text": [
      "  9%|9         |9/100[00:01<00:10, 8.67it/s]\n",
      "  0%|          |0/100[00:00<?,?it/s]"
     ]
    },
    {
     "name": "stdout",
     "output_type": "stream",
     "text": [
      "13\n"
     ]
    },
    {
     "name": "stderr",
     "output_type": "stream",
     "text": [
      "  9%|9         |9/100[00:01<00:10, 8.91it/s]\n",
      "  9%|9         |9/100[00:01<00:10, 8.87it/s]\n",
      "  0%|          |0/100[00:00<?,?it/s]"
     ]
    },
    {
     "name": "stdout",
     "output_type": "stream",
     "text": [
      "14\n"
     ]
    },
    {
     "name": "stderr",
     "output_type": "stream",
     "text": [
      "  9%|9         |9/100[00:01<00:10, 8.89it/s]\n",
      "  9%|9         |9/100[00:01<00:10, 8.88it/s]\n",
      "  9%|9         |9/100[00:01<00:10, 8.55it/s]\n",
      "  9%|9         |9/100[00:01<00:10, 8.90it/s]\n",
      "  9%|9         |9/100[00:01<00:10, 8.88it/s]\n",
      "  9%|9         |9/100[00:01<00:10, 8.59it/s]\n",
      "  9%|9         |9/100[00:01<00:10, 8.38it/s]\n",
      "  9%|9         |9/100[00:01<00:10, 8.88it/s]\n",
      "  9%|9         |9/100[00:01<00:10, 8.89it/s]\n",
      "  9%|9         |9/100[00:01<00:12, 7.34it/s]\n",
      "  9%|9         |9/100[00:01<00:10, 8.56it/s]\n",
      "  0%|          |0/100[00:00<?,?it/s]"
     ]
    },
    {
     "name": "stdout",
     "output_type": "stream",
     "text": [
      "15\n"
     ]
    },
    {
     "name": "stderr",
     "output_type": "stream",
     "text": [
      "  9%|9         |9/100[00:01<00:10, 8.30it/s]\n",
      "  9%|9         |9/100[00:01<00:10, 8.88it/s]\n",
      "  9%|9         |9/100[00:01<00:10, 8.55it/s]\n",
      "  9%|9         |9/100[00:01<00:11, 8.24it/s]\n",
      "  9%|9         |9/100[00:01<00:10, 8.92it/s]\n",
      "  9%|9         |9/100[00:01<00:10, 8.52it/s]\n",
      "  9%|9         |9/100[00:01<00:11, 8.12it/s]\n",
      "  9%|9         |9/100[00:01<00:10, 8.55it/s]\n",
      "  9%|9         |9/100[00:01<00:11, 7.83it/s]\n",
      "  9%|9         |9/100[00:01<00:10, 8.77it/s]\n",
      "  9%|9         |9/100[00:01<00:11, 8.03it/s]\n",
      "  9%|9         |9/100[00:01<00:10, 8.89it/s]\n",
      "  9%|9         |9/100[00:01<00:10, 8.74it/s]\n",
      "  9%|9         |9/100[00:01<00:10, 8.91it/s]\n",
      "  9%|9         |9/100[00:01<00:10, 8.89it/s]\n",
      "  9%|9         |9/100[00:01<00:10, 8.89it/s]\n",
      "  9%|9         |9/100[00:01<00:10, 8.41it/s]\n",
      "  9%|9         |9/100[00:01<00:10, 8.91it/s]\n",
      "  9%|9         |9/100[00:01<00:10, 8.74it/s]\n",
      "  9%|9         |9/100[00:01<00:10, 8.34it/s]\n",
      "  9%|9         |9/100[00:01<00:10, 8.88it/s]\n",
      "  9%|9         |9/100[00:01<00:10, 8.88it/s]\n",
      "  9%|9         |9/100[00:01<00:11, 7.87it/s]\n",
      "  9%|9         |9/100[00:01<00:10, 8.89it/s]\n",
      "  9%|9         |9/100[00:01<00:10, 8.29it/s]\n",
      "  9%|9         |9/100[00:01<00:10, 8.88it/s]\n",
      "  9%|9         |9/100[00:01<00:11, 8.25it/s]\n",
      "  9%|9         |9/100[00:01<00:11, 8.05it/s]\n",
      "  9%|9         |9/100[00:01<00:11, 8.27it/s]\n",
      "  9%|9         |9/100[00:01<00:10, 8.87it/s]\n",
      "  9%|9         |9/100[00:01<00:10, 8.87it/s]\n",
      "  9%|9         |9/100[00:01<00:10, 8.91it/s]\n",
      "  9%|9         |9/100[00:01<00:10, 8.93it/s]\n",
      "  9%|9         |9/100[00:01<00:10, 8.90it/s]\n",
      "  9%|9         |9/100[00:01<00:10, 8.82it/s]\n",
      "  0%|          |0/100[00:00<?,?it/s]"
     ]
    },
    {
     "name": "stdout",
     "output_type": "stream",
     "text": [
      "16\n"
     ]
    },
    {
     "name": "stderr",
     "output_type": "stream",
     "text": [
      "  9%|9         |9/100[00:01<00:10, 8.88it/s]\n",
      "  9%|9         |9/100[00:01<00:11, 8.22it/s]\n",
      "  9%|9         |9/100[00:01<00:10, 8.85it/s]\n",
      "  9%|9         |9/100[00:01<00:10, 8.49it/s]\n",
      "  0%|          |0/100[00:00<?,?it/s]"
     ]
    },
    {
     "name": "stdout",
     "output_type": "stream",
     "text": [
      "17\n"
     ]
    },
    {
     "name": "stderr",
     "output_type": "stream",
     "text": [
      "  9%|9         |9/100[00:01<00:10, 8.91it/s]\n",
      "  9%|9         |9/100[00:01<00:10, 8.82it/s]\n",
      "  9%|9         |9/100[00:01<00:11, 8.16it/s]\n",
      "  0%|          |0/100[00:00<?,?it/s]"
     ]
    },
    {
     "name": "stdout",
     "output_type": "stream",
     "text": [
      "18\n"
     ]
    },
    {
     "name": "stderr",
     "output_type": "stream",
     "text": [
      "  9%|9         |9/100[00:01<00:11, 8.10it/s]\n",
      "  9%|9         |9/100[00:01<00:10, 8.52it/s]\n",
      "  0%|          |0/100[00:00<?,?it/s]"
     ]
    },
    {
     "name": "stdout",
     "output_type": "stream",
     "text": [
      "19\n"
     ]
    },
    {
     "name": "stderr",
     "output_type": "stream",
     "text": [
      "  9%|9         |9/100[00:01<00:10, 8.76it/s]\n",
      "  0%|          |0/100[00:00<?,?it/s]"
     ]
    },
    {
     "name": "stdout",
     "output_type": "stream",
     "text": [
      "20\n"
     ]
    },
    {
     "name": "stderr",
     "output_type": "stream",
     "text": [
      "  9%|9         |9/100[00:01<00:10, 8.70it/s]\n",
      "  9%|9         |9/100[00:01<00:10, 8.49it/s]\n",
      "  9%|9         |9/100[00:01<00:10, 8.91it/s]\n",
      "  9%|9         |9/100[00:01<00:10, 8.85it/s]\n",
      "  9%|9         |9/100[00:01<00:10, 8.87it/s]\n",
      "  9%|9         |9/100[00:01<00:10, 8.93it/s]\n",
      "  9%|9         |9/100[00:01<00:10, 8.89it/s]\n",
      "  9%|9         |9/100[00:01<00:10, 8.90it/s]\n",
      "  9%|9         |9/100[00:01<00:10, 8.89it/s]\n",
      "  9%|9         |9/100[00:01<00:10, 8.89it/s]\n",
      "  9%|9         |9/100[00:01<00:10, 8.50it/s]\n",
      "  9%|9         |9/100[00:01<00:10, 8.90it/s]\n",
      "  9%|9         |9/100[00:01<00:10, 8.87it/s]\n",
      "  9%|9         |9/100[00:01<00:10, 8.55it/s]\n",
      "  9%|9         |9/100[00:01<00:10, 8.89it/s]\n",
      "  9%|9         |9/100[00:01<00:10, 8.89it/s]\n",
      "  9%|9         |9/100[00:01<00:10, 8.89it/s]\n",
      "  9%|9         |9/100[00:01<00:11, 7.99it/s]\n",
      "  9%|9         |9/100[00:01<00:10, 8.66it/s]\n",
      "  9%|9         |9/100[00:01<00:11, 8.09it/s]\n",
      "  9%|9         |9/100[00:01<00:10, 8.51it/s]\n",
      "  9%|9         |9/100[00:01<00:10, 8.88it/s]\n",
      "  9%|9         |9/100[00:01<00:10, 8.59it/s]\n",
      "  9%|9         |9/100[00:01<00:10, 8.84it/s]\n",
      "  9%|9         |9/100[00:01<00:12, 7.53it/s]\n",
      "  9%|9         |9/100[00:01<00:10, 8.82it/s]\n",
      "  9%|9         |9/100[00:01<00:10, 8.79it/s]\n",
      "  0%|          |0/100[00:00<?,?it/s]"
     ]
    },
    {
     "name": "stdout",
     "output_type": "stream",
     "text": [
      "21\n"
     ]
    },
    {
     "name": "stderr",
     "output_type": "stream",
     "text": [
      "  9%|9         |9/100[00:01<00:10, 8.92it/s]\n",
      "  0%|          |0/100[00:00<?,?it/s]"
     ]
    },
    {
     "name": "stdout",
     "output_type": "stream",
     "text": [
      "22\n"
     ]
    },
    {
     "name": "stderr",
     "output_type": "stream",
     "text": [
      "  9%|9         |9/100[00:01<00:10, 8.91it/s]\n",
      "  9%|9         |9/100[00:01<00:10, 8.88it/s]\n",
      "  9%|9         |9/100[00:01<00:10, 8.88it/s]\n",
      "  9%|9         |9/100[00:01<00:10, 8.73it/s]\n",
      "  9%|9         |9/100[00:01<00:10, 8.52it/s]\n",
      "  9%|9         |9/100[00:01<00:10, 8.45it/s]\n",
      "  9%|9         |9/100[00:01<00:10, 8.85it/s]\n",
      "  9%|9         |9/100[00:01<00:10, 8.60it/s]\n",
      "  0%|          |0/100[00:00<?,?it/s]"
     ]
    },
    {
     "name": "stdout",
     "output_type": "stream",
     "text": [
      "23\n"
     ]
    },
    {
     "name": "stderr",
     "output_type": "stream",
     "text": [
      "  9%|9         |9/100[00:01<00:10, 8.36it/s]\n",
      "  9%|9         |9/100[00:01<00:10, 8.86it/s]\n",
      "  0%|          |0/100[00:00<?,?it/s]"
     ]
    },
    {
     "name": "stdout",
     "output_type": "stream",
     "text": [
      "24\n"
     ]
    },
    {
     "name": "stderr",
     "output_type": "stream",
     "text": [
      "  9%|9         |9/100[00:01<00:10, 8.90it/s]\n",
      "  9%|9         |9/100[00:01<00:10, 8.88it/s]\n",
      "  9%|9         |9/100[00:01<00:10, 8.91it/s]\n",
      "  9%|9         |9/100[00:01<00:11, 8.21it/s]\n",
      "  9%|9         |9/100[00:01<00:11, 8.11it/s]\n",
      "  0%|          |0/100[00:00<?,?it/s]"
     ]
    },
    {
     "name": "stdout",
     "output_type": "stream",
     "text": [
      "25\n"
     ]
    },
    {
     "name": "stderr",
     "output_type": "stream",
     "text": [
      "  9%|9         |9/100[00:01<00:11, 8.11it/s]\n",
      "  9%|9         |9/100[00:01<00:10, 8.91it/s]\n",
      "  9%|9         |9/100[00:01<00:10, 8.70it/s]\n",
      "  9%|9         |9/100[00:01<00:10, 8.59it/s]\n",
      "  0%|          |0/100[00:00<?,?it/s]"
     ]
    },
    {
     "name": "stdout",
     "output_type": "stream",
     "text": [
      "26\n"
     ]
    },
    {
     "name": "stderr",
     "output_type": "stream",
     "text": [
      "  9%|9         |9/100[00:01<00:10, 8.88it/s]\n",
      "  9%|9         |9/100[00:01<00:11, 8.16it/s]\n",
      "  9%|9         |9/100[00:01<00:11, 8.23it/s]\n",
      "  9%|9         |9/100[00:01<00:10, 8.88it/s]\n",
      "  9%|9         |9/100[00:01<00:10, 8.91it/s]\n",
      "  9%|9         |9/100[00:01<00:10, 8.89it/s]\n",
      "  9%|9         |9/100[00:01<00:10, 8.73it/s]\n",
      "  9%|9         |9/100[00:01<00:10, 8.95it/s]\n",
      "  9%|9         |9/100[00:01<00:13, 6.60it/s]\n",
      "  9%|9         |9/100[00:01<00:14, 6.46it/s]\n",
      "  9%|9         |9/100[00:01<00:10, 8.89it/s]\n",
      "  9%|9         |9/100[00:01<00:10, 8.29it/s]\n",
      "  9%|9         |9/100[00:01<00:10, 8.88it/s]\n",
      "  0%|          |0/100[00:00<?,?it/s]"
     ]
    },
    {
     "name": "stdout",
     "output_type": "stream",
     "text": [
      "27\n",
      "28\n"
     ]
    },
    {
     "name": "stderr",
     "output_type": "stream",
     "text": [
      "  9%|9         |9/100[00:01<00:10, 8.47it/s]\n",
      "  9%|9         |9/100[00:01<00:11, 7.73it/s]\n",
      "  9%|9         |9/100[00:01<00:10, 8.89it/s]\n",
      "  9%|9         |9/100[00:01<00:10, 8.84it/s]\n",
      "  9%|9         |9/100[00:01<00:10, 8.40it/s]\n",
      "  0%|          |0/100[00:00<?,?it/s]"
     ]
    },
    {
     "name": "stdout",
     "output_type": "stream",
     "text": [
      "29\n"
     ]
    },
    {
     "name": "stderr",
     "output_type": "stream",
     "text": [
      "  9%|9         |9/100[00:01<00:10, 8.87it/s]\n",
      "  0%|          |0/100[00:00<?,?it/s]"
     ]
    },
    {
     "name": "stdout",
     "output_type": "stream",
     "text": [
      "30\n"
     ]
    },
    {
     "name": "stderr",
     "output_type": "stream",
     "text": [
      "  9%|9         |9/100[00:01<00:11, 8.18it/s]\n",
      "  0%|          |0/100[00:00<?,?it/s]"
     ]
    },
    {
     "name": "stdout",
     "output_type": "stream",
     "text": [
      "31\n",
      "32\n"
     ]
    },
    {
     "name": "stderr",
     "output_type": "stream",
     "text": [
      "  9%|9         |9/100[00:01<00:10, 8.82it/s]\n",
      "  9%|9         |9/100[00:01<00:10, 8.54it/s]\n",
      "  9%|9         |9/100[00:01<00:10, 8.75it/s]\n",
      "  0%|          |0/100[00:00<?,?it/s]"
     ]
    },
    {
     "name": "stdout",
     "output_type": "stream",
     "text": [
      "33\n"
     ]
    },
    {
     "name": "stderr",
     "output_type": "stream",
     "text": [
      "  9%|9         |9/100[00:01<00:10, 8.79it/s]\n",
      "  0%|          |0/100[00:00<?,?it/s]"
     ]
    },
    {
     "name": "stdout",
     "output_type": "stream",
     "text": [
      "34\n"
     ]
    },
    {
     "name": "stderr",
     "output_type": "stream",
     "text": [
      "  9%|9         |9/100[00:01<00:11, 8.26it/s]\n",
      "  9%|9         |9/100[00:01<00:10, 8.92it/s]\n",
      "  0%|          |0/100[00:00<?,?it/s]"
     ]
    },
    {
     "name": "stdout",
     "output_type": "stream",
     "text": [
      "35\n"
     ]
    },
    {
     "name": "stderr",
     "output_type": "stream",
     "text": [
      "  9%|9         |9/100[00:01<00:11, 7.98it/s]\n",
      "  9%|9         |9/100[00:01<00:10, 8.45it/s]\n",
      "  9%|9         |9/100[00:01<00:10, 8.59it/s]\n",
      "  9%|9         |9/100[00:01<00:11, 7.86it/s]\n",
      "  9%|9         |9/100[00:01<00:11, 8.23it/s]\n",
      "  0%|          |0/100[00:00<?,?it/s]"
     ]
    },
    {
     "name": "stdout",
     "output_type": "stream",
     "text": [
      "36\n"
     ]
    },
    {
     "name": "stderr",
     "output_type": "stream",
     "text": [
      "  9%|9         |9/100[00:01<00:10, 8.87it/s]\n",
      "  0%|          |0/100[00:00<?,?it/s]"
     ]
    },
    {
     "name": "stdout",
     "output_type": "stream",
     "text": [
      "37\n"
     ]
    },
    {
     "name": "stderr",
     "output_type": "stream",
     "text": [
      "  9%|9         |9/100[00:01<00:10, 8.84it/s]\n",
      "  0%|          |0/100[00:00<?,?it/s]"
     ]
    },
    {
     "name": "stdout",
     "output_type": "stream",
     "text": [
      "38\n"
     ]
    },
    {
     "name": "stderr",
     "output_type": "stream",
     "text": [
      "  9%|9         |9/100[00:01<00:10, 8.88it/s]\n",
      "  9%|9         |9/100[00:01<00:10, 8.41it/s]\n",
      "  9%|9         |9/100[00:01<00:10, 8.64it/s]\n",
      "  9%|9         |9/100[00:01<00:10, 8.87it/s]\n",
      "  9%|9         |9/100[00:01<00:10, 8.64it/s]\n",
      "  9%|9         |9/100[00:01<00:10, 8.39it/s]\n",
      "  0%|          |0/100[00:00<?,?it/s]"
     ]
    },
    {
     "name": "stdout",
     "output_type": "stream",
     "text": [
      "39\n",
      "40\n"
     ]
    },
    {
     "name": "stderr",
     "output_type": "stream",
     "text": [
      "  9%|9         |9/100[00:01<00:10, 8.61it/s]\n",
      "  9%|9         |9/100[00:01<00:10, 8.90it/s]\n",
      "  0%|          |0/100[00:00<?,?it/s]"
     ]
    },
    {
     "name": "stdout",
     "output_type": "stream",
     "text": [
      "41\n",
      "42\n"
     ]
    },
    {
     "name": "stderr",
     "output_type": "stream",
     "text": [
      "  9%|9         |9/100[00:01<00:10, 8.85it/s]\n",
      "  0%|          |0/100[00:00<?,?it/s]"
     ]
    },
    {
     "name": "stdout",
     "output_type": "stream",
     "text": [
      "43\n"
     ]
    },
    {
     "name": "stderr",
     "output_type": "stream",
     "text": [
      "  9%|9         |9/100[00:01<00:10, 8.79it/s]\n",
      "  9%|9         |9/100[00:01<00:11, 8.03it/s]\n",
      "  9%|9         |9/100[00:01<00:10, 8.92it/s]\n",
      "  9%|9         |9/100[00:01<00:10, 8.90it/s]\n",
      "  9%|9         |9/100[00:01<00:10, 8.83it/s]\n",
      "  9%|9         |9/100[00:01<00:10, 8.88it/s]\n",
      "  9%|9         |9/100[00:01<00:10, 8.81it/s]\n",
      "  9%|9         |9/100[00:01<00:10, 8.85it/s]\n",
      "  9%|9         |9/100[00:01<00:10, 8.91it/s]\n",
      "  9%|9         |9/100[00:01<00:10, 8.89it/s]\n",
      "  9%|9         |9/100[00:01<00:10, 8.88it/s]\n",
      "  9%|9         |9/100[00:01<00:10, 8.90it/s]\n",
      "  9%|9         |9/100[00:01<00:10, 8.80it/s]\n",
      "  0%|          |0/100[00:00<?,?it/s]"
     ]
    },
    {
     "name": "stdout",
     "output_type": "stream",
     "text": [
      "44\n"
     ]
    },
    {
     "name": "stderr",
     "output_type": "stream",
     "text": [
      "  9%|9         |9/100[00:01<00:10, 8.90it/s]\n",
      "  0%|          |0/100[00:00<?,?it/s]"
     ]
    },
    {
     "name": "stdout",
     "output_type": "stream",
     "text": [
      "45\n"
     ]
    },
    {
     "name": "stderr",
     "output_type": "stream",
     "text": [
      "  9%|9         |9/100[00:01<00:10, 8.89it/s]\n",
      "  9%|9         |9/100[00:01<00:10, 8.89it/s]\n",
      "  9%|9         |9/100[00:01<00:10, 8.64it/s]\n",
      "  9%|9         |9/100[00:01<00:10, 8.91it/s]\n",
      "  9%|9         |9/100[00:01<00:10, 8.84it/s]\n",
      "  0%|          |0/100[00:00<?,?it/s]"
     ]
    },
    {
     "name": "stdout",
     "output_type": "stream",
     "text": [
      "46\n"
     ]
    },
    {
     "name": "stderr",
     "output_type": "stream",
     "text": [
      "  9%|9         |9/100[00:01<00:10, 8.75it/s]\n",
      "  9%|9         |9/100[00:01<00:10, 8.79it/s]\n",
      "  9%|9         |9/100[00:01<00:10, 8.89it/s]\n",
      "  9%|9         |9/100[00:01<00:10, 8.88it/s]\n",
      "  9%|9         |9/100[00:01<00:13, 6.53it/s]\n",
      "  0%|          |0/100[00:00<?,?it/s]"
     ]
    },
    {
     "name": "stdout",
     "output_type": "stream",
     "text": [
      "47\n"
     ]
    },
    {
     "name": "stderr",
     "output_type": "stream",
     "text": [
      "  9%|9         |9/100[00:01<00:10, 8.87it/s]\n",
      "  9%|9         |9/100[00:01<00:11, 8.18it/s]\n",
      "  0%|          |0/100[00:00<?,?it/s]"
     ]
    },
    {
     "name": "stdout",
     "output_type": "stream",
     "text": [
      "48\n"
     ]
    },
    {
     "name": "stderr",
     "output_type": "stream",
     "text": [
      "  9%|9         |9/100[00:01<00:10, 8.83it/s]\n",
      "  9%|9         |9/100[00:01<00:10, 8.39it/s]\n",
      "  0%|          |0/100[00:00<?,?it/s]"
     ]
    },
    {
     "name": "stdout",
     "output_type": "stream",
     "text": [
      "49\n",
      "50\n"
     ]
    },
    {
     "name": "stderr",
     "output_type": "stream",
     "text": [
      "  9%|9         |9/100[00:01<00:10, 8.87it/s]\n",
      "  0%|          |0/100[00:00<?,?it/s]"
     ]
    },
    {
     "name": "stdout",
     "output_type": "stream",
     "text": [
      "51\n"
     ]
    },
    {
     "name": "stderr",
     "output_type": "stream",
     "text": [
      "  9%|9         |9/100[00:01<00:10, 8.87it/s]\n",
      "  0%|          |0/100[00:00<?,?it/s]"
     ]
    },
    {
     "name": "stdout",
     "output_type": "stream",
     "text": [
      "52\n"
     ]
    },
    {
     "name": "stderr",
     "output_type": "stream",
     "text": [
      "  9%|9         |9/100[00:01<00:10, 8.90it/s]\n",
      "  0%|          |0/100[00:00<?,?it/s]"
     ]
    },
    {
     "name": "stdout",
     "output_type": "stream",
     "text": [
      "53\n"
     ]
    },
    {
     "name": "stderr",
     "output_type": "stream",
     "text": [
      "  9%|9         |9/100[00:01<00:12, 7.40it/s]\n",
      "  9%|9         |9/100[00:01<00:11, 7.76it/s]\n",
      "  0%|          |0/100[00:00<?,?it/s]"
     ]
    },
    {
     "name": "stdout",
     "output_type": "stream",
     "text": [
      "54\n"
     ]
    },
    {
     "name": "stderr",
     "output_type": "stream",
     "text": [
      "  9%|9         |9/100[00:01<00:10, 8.60it/s]\n",
      "  0%|          |0/100[00:00<?,?it/s]"
     ]
    },
    {
     "name": "stdout",
     "output_type": "stream",
     "text": [
      "55\n"
     ]
    },
    {
     "name": "stderr",
     "output_type": "stream",
     "text": [
      "  9%|9         |9/100[00:01<00:10, 8.89it/s]\n",
      "  9%|9         |9/100[00:01<00:10, 8.89it/s]\n",
      "  9%|9         |9/100[00:01<00:10, 8.89it/s]\n",
      "  0%|          |0/100[00:00<?,?it/s]"
     ]
    },
    {
     "name": "stdout",
     "output_type": "stream",
     "text": [
      "56\n"
     ]
    },
    {
     "name": "stderr",
     "output_type": "stream",
     "text": [
      "  9%|9         |9/100[00:01<00:10, 8.87it/s]\n",
      "  9%|9         |9/100[00:01<00:10, 8.43it/s]\n",
      "  9%|9         |9/100[00:01<00:10, 8.52it/s]\n",
      "  0%|          |0/100[00:00<?,?it/s]"
     ]
    },
    {
     "name": "stdout",
     "output_type": "stream",
     "text": [
      "57\n"
     ]
    },
    {
     "name": "stderr",
     "output_type": "stream",
     "text": [
      "  9%|9         |9/100[00:01<00:10, 8.85it/s]\n",
      "  9%|9         |9/100[00:01<00:10, 8.52it/s]\n",
      "  9%|9         |9/100[00:01<00:10, 8.86it/s]\n",
      "  9%|9         |9/100[00:01<00:10, 8.51it/s]\n",
      "  9%|9         |9/100[00:01<00:11, 7.87it/s]\n",
      "  0%|          |0/100[00:00<?,?it/s]"
     ]
    },
    {
     "name": "stdout",
     "output_type": "stream",
     "text": [
      "58\n"
     ]
    },
    {
     "name": "stderr",
     "output_type": "stream",
     "text": [
      "  9%|9         |9/100[00:01<00:10, 8.81it/s]\n",
      "  9%|9         |9/100[00:01<00:10, 8.88it/s]\n",
      "  9%|9         |9/100[00:01<00:10, 8.90it/s]\n",
      "  9%|9         |9/100[00:01<00:10, 8.86it/s]\n",
      "  0%|          |0/100[00:00<?,?it/s]"
     ]
    },
    {
     "name": "stdout",
     "output_type": "stream",
     "text": [
      "59\n"
     ]
    },
    {
     "name": "stderr",
     "output_type": "stream",
     "text": [
      "  9%|9         |9/100[00:01<00:10, 8.35it/s]\n",
      "  9%|9         |9/100[00:01<00:10, 8.88it/s]\n",
      "  0%|          |0/100[00:00<?,?it/s]"
     ]
    },
    {
     "name": "stdout",
     "output_type": "stream",
     "text": [
      "60\n",
      "61\n"
     ]
    },
    {
     "name": "stderr",
     "output_type": "stream",
     "text": [
      "  9%|9         |9/100[00:01<00:10, 8.52it/s]\n",
      "  9%|9         |9/100[00:01<00:10, 8.53it/s]\n",
      "  9%|9         |9/100[00:01<00:10, 8.86it/s]\n",
      "  9%|9         |9/100[00:01<00:10, 8.88it/s]\n",
      "  0%|          |0/100[00:00<?,?it/s]"
     ]
    },
    {
     "name": "stdout",
     "output_type": "stream",
     "text": [
      "62\n"
     ]
    },
    {
     "name": "stderr",
     "output_type": "stream",
     "text": [
      "  9%|9         |9/100[00:01<00:10, 8.39it/s]\n",
      "  0%|          |0/100[00:00<?,?it/s]"
     ]
    },
    {
     "name": "stdout",
     "output_type": "stream",
     "text": [
      "63\n"
     ]
    },
    {
     "name": "stderr",
     "output_type": "stream",
     "text": [
      "  9%|9         |9/100[00:01<00:10, 8.80it/s]\n",
      "  9%|9         |9/100[00:01<00:10, 8.91it/s]\n",
      "  9%|9         |9/100[00:01<00:11, 8.23it/s]\n",
      "  9%|9         |9/100[00:01<00:10, 8.88it/s]\n",
      "  9%|9         |9/100[00:01<00:10, 8.89it/s]\n",
      "  9%|9         |9/100[00:01<00:11, 8.11it/s]\n",
      "  0%|          |0/100[00:00<?,?it/s]"
     ]
    },
    {
     "name": "stdout",
     "output_type": "stream",
     "text": [
      "64\n"
     ]
    },
    {
     "name": "stderr",
     "output_type": "stream",
     "text": [
      "  9%|9         |9/100[00:01<00:12, 7.52it/s]\n",
      "  9%|9         |9/100[00:01<00:10, 8.91it/s]\n",
      "  0%|          |0/100[00:00<?,?it/s]"
     ]
    },
    {
     "name": "stdout",
     "output_type": "stream",
     "text": [
      "65\n"
     ]
    },
    {
     "name": "stderr",
     "output_type": "stream",
     "text": [
      "  9%|9         |9/100[00:01<00:11, 8.15it/s]\n",
      "  0%|          |0/100[00:00<?,?it/s]"
     ]
    },
    {
     "name": "stdout",
     "output_type": "stream",
     "text": [
      "66\n"
     ]
    },
    {
     "name": "stderr",
     "output_type": "stream",
     "text": [
      "  9%|9         |9/100[00:01<00:10, 8.91it/s]\n",
      "  9%|9         |9/100[00:01<00:11, 8.14it/s]\n",
      "  9%|9         |9/100[00:01<00:10, 8.89it/s]\n",
      "  0%|          |0/100[00:00<?,?it/s]"
     ]
    },
    {
     "name": "stdout",
     "output_type": "stream",
     "text": [
      "67\n"
     ]
    },
    {
     "name": "stderr",
     "output_type": "stream",
     "text": [
      "  9%|9         |9/100[00:01<00:10, 8.88it/s]\n",
      "  0%|          |0/100[00:00<?,?it/s]"
     ]
    },
    {
     "name": "stdout",
     "output_type": "stream",
     "text": [
      "68\n"
     ]
    },
    {
     "name": "stderr",
     "output_type": "stream",
     "text": [
      "  9%|9         |9/100[00:01<00:11, 8.06it/s]\n",
      "  9%|9         |9/100[00:01<00:10, 8.90it/s]\n",
      "  9%|9         |9/100[00:01<00:10, 8.81it/s]\n",
      "  9%|9         |9/100[00:01<00:10, 8.49it/s]\n",
      "  9%|9         |9/100[00:01<00:10, 8.88it/s]\n",
      "  9%|9         |9/100[00:01<00:11, 8.17it/s]\n",
      "  9%|9         |9/100[00:01<00:10, 8.91it/s]\n",
      "  9%|9         |9/100[00:01<00:10, 8.90it/s]\n",
      "  9%|9         |9/100[00:01<00:10, 8.93it/s]\n",
      "  9%|9         |9/100[00:01<00:10, 8.90it/s]\n",
      "  9%|9         |9/100[00:01<00:10, 8.47it/s]\n",
      "  0%|          |0/100[00:00<?,?it/s]"
     ]
    },
    {
     "name": "stdout",
     "output_type": "stream",
     "text": [
      "69\n"
     ]
    },
    {
     "name": "stderr",
     "output_type": "stream",
     "text": [
      "  9%|9         |9/100[00:01<00:13, 6.63it/s]\n",
      "  9%|9         |9/100[00:01<00:12, 7.39it/s]\n",
      "  0%|          |0/100[00:00<?,?it/s]"
     ]
    },
    {
     "name": "stdout",
     "output_type": "stream",
     "text": [
      "70\n",
      "71\n"
     ]
    },
    {
     "name": "stderr",
     "output_type": "stream",
     "text": [
      "  9%|9         |9/100[00:01<00:10, 8.80it/s]\n",
      "  9%|9         |9/100[00:01<00:10, 8.41it/s]\n",
      "  9%|9         |9/100[00:01<00:11, 8.08it/s]\n",
      "  0%|          |0/100[00:00<?,?it/s]"
     ]
    },
    {
     "name": "stdout",
     "output_type": "stream",
     "text": [
      "72\n"
     ]
    },
    {
     "name": "stderr",
     "output_type": "stream",
     "text": [
      "  9%|9         |9/100[00:01<00:10, 8.91it/s]\n",
      "  9%|9         |9/100[00:01<00:10, 8.70it/s]\n",
      "  9%|9         |9/100[00:01<00:10, 8.77it/s]\n",
      "  9%|9         |9/100[00:01<00:10, 8.61it/s]\n",
      "  0%|          |0/100[00:00<?,?it/s]"
     ]
    },
    {
     "name": "stdout",
     "output_type": "stream",
     "text": [
      "73\n"
     ]
    },
    {
     "name": "stderr",
     "output_type": "stream",
     "text": [
      "  9%|9         |9/100[00:01<00:11, 8.16it/s]\n",
      "  9%|9         |9/100[00:01<00:10, 8.88it/s]\n",
      "  9%|9         |9/100[00:01<00:10, 8.86it/s]\n",
      "  0%|          |0/100[00:00<?,?it/s]"
     ]
    },
    {
     "name": "stdout",
     "output_type": "stream",
     "text": [
      "74\n"
     ]
    },
    {
     "name": "stderr",
     "output_type": "stream",
     "text": [
      "  9%|9         |9/100[00:01<00:10, 8.87it/s]\n",
      "  9%|9         |9/100[00:01<00:10, 8.30it/s]\n",
      "  9%|9         |9/100[00:01<00:10, 8.70it/s]\n",
      "  9%|9         |9/100[00:01<00:10, 8.92it/s]\n",
      "  9%|9         |9/100[00:01<00:10, 8.27it/s]\n",
      "  0%|          |0/100[00:00<?,?it/s]"
     ]
    },
    {
     "name": "stdout",
     "output_type": "stream",
     "text": [
      "75\n",
      "76\n"
     ]
    },
    {
     "name": "stderr",
     "output_type": "stream",
     "text": [
      "  9%|9         |9/100[00:01<00:13, 6.77it/s]\n",
      "  9%|9         |9/100[00:01<00:10, 8.68it/s]\n",
      "  0%|          |0/100[00:00<?,?it/s]"
     ]
    },
    {
     "name": "stdout",
     "output_type": "stream",
     "text": [
      "77\n"
     ]
    },
    {
     "name": "stderr",
     "output_type": "stream",
     "text": [
      "  9%|9         |9/100[00:01<00:10, 8.92it/s]\n",
      "  9%|9         |9/100[00:01<00:11, 8.25it/s]\n",
      "  9%|9         |9/100[00:01<00:10, 8.49it/s]\n",
      "  9%|9         |9/100[00:01<00:10, 8.93it/s]\n",
      "  9%|9         |9/100[00:01<00:10, 8.85it/s]\n",
      "  9%|9         |9/100[00:01<00:11, 8.02it/s]\n",
      "  0%|          |0/100[00:00<?,?it/s]"
     ]
    },
    {
     "name": "stdout",
     "output_type": "stream",
     "text": [
      "78\n"
     ]
    },
    {
     "name": "stderr",
     "output_type": "stream",
     "text": [
      "  9%|9         |9/100[00:01<00:10, 8.87it/s]\n",
      "  9%|9         |9/100[00:01<00:10, 8.57it/s]\n",
      "  9%|9         |9/100[00:01<00:10, 8.88it/s]\n",
      "  9%|9         |9/100[00:01<00:13, 6.71it/s]\n",
      "  0%|          |0/100[00:00<?,?it/s]"
     ]
    },
    {
     "name": "stdout",
     "output_type": "stream",
     "text": [
      "79\n"
     ]
    },
    {
     "name": "stderr",
     "output_type": "stream",
     "text": [
      "  9%|9         |9/100[00:01<00:10, 8.90it/s]\n",
      "  9%|9         |9/100[00:01<00:10, 8.57it/s]\n",
      "  9%|9         |9/100[00:01<00:10, 8.87it/s]\n",
      "  9%|9         |9/100[00:01<00:11, 8.05it/s]\n",
      "  9%|9         |9/100[00:01<00:10, 8.90it/s]\n",
      "  9%|9         |9/100[00:01<00:10, 8.87it/s]\n",
      "  9%|9         |9/100[00:01<00:10, 8.90it/s]\n",
      "  9%|9         |9/100[00:01<00:10, 8.89it/s]\n",
      "  9%|9         |9/100[00:01<00:10, 8.85it/s]\n",
      "  0%|          |0/100[00:00<?,?it/s]"
     ]
    },
    {
     "name": "stdout",
     "output_type": "stream",
     "text": [
      "80\n"
     ]
    },
    {
     "name": "stderr",
     "output_type": "stream",
     "text": [
      "  9%|9         |9/100[00:01<00:10, 8.87it/s]\n",
      "  9%|9         |9/100[00:01<00:10, 8.89it/s]\n",
      "  9%|9         |9/100[00:01<00:10, 8.82it/s]\n",
      "  9%|9         |9/100[00:01<00:10, 8.88it/s]\n",
      "  9%|9         |9/100[00:01<00:10, 8.94it/s]\n",
      "  9%|9         |9/100[00:01<00:10, 8.95it/s]\n",
      "  9%|9         |9/100[00:01<00:10, 8.57it/s]\n",
      "  9%|9         |9/100[00:01<00:10, 8.92it/s]\n",
      "  9%|9         |9/100[00:01<00:10, 8.71it/s]\n",
      "  0%|          |0/100[00:00<?,?it/s]"
     ]
    },
    {
     "name": "stdout",
     "output_type": "stream",
     "text": [
      "81\n"
     ]
    },
    {
     "name": "stderr",
     "output_type": "stream",
     "text": [
      "  9%|9         |9/100[00:01<00:11, 8.19it/s]\n",
      "  9%|9         |9/100[00:01<00:10, 8.89it/s]\n",
      "  0%|          |0/100[00:00<?,?it/s]"
     ]
    },
    {
     "name": "stdout",
     "output_type": "stream",
     "text": [
      "82\n"
     ]
    },
    {
     "name": "stderr",
     "output_type": "stream",
     "text": [
      "  9%|9         |9/100[00:01<00:10, 8.83it/s]\n",
      "  9%|9         |9/100[00:01<00:10, 8.87it/s]\n",
      "  0%|          |0/100[00:00<?,?it/s]"
     ]
    },
    {
     "name": "stdout",
     "output_type": "stream",
     "text": [
      "83\n"
     ]
    },
    {
     "name": "stderr",
     "output_type": "stream",
     "text": [
      "  9%|9         |9/100[00:01<00:10, 8.87it/s]\n",
      "  9%|9         |9/100[00:01<00:10, 8.93it/s]\n",
      "  9%|9         |9/100[00:01<00:10, 8.58it/s]\n",
      "  0%|          |0/100[00:00<?,?it/s]"
     ]
    },
    {
     "name": "stdout",
     "output_type": "stream",
     "text": [
      "84\n"
     ]
    },
    {
     "name": "stderr",
     "output_type": "stream",
     "text": [
      "  9%|9         |9/100[00:01<00:10, 8.75it/s]\n",
      "  9%|9         |9/100[00:01<00:10, 8.62it/s]\n",
      "  9%|9         |9/100[00:01<00:10, 8.89it/s]\n",
      "  9%|9         |9/100[00:01<00:10, 8.90it/s]\n",
      "  0%|          |0/100[00:00<?,?it/s]"
     ]
    },
    {
     "name": "stdout",
     "output_type": "stream",
     "text": [
      "85\n"
     ]
    },
    {
     "name": "stderr",
     "output_type": "stream",
     "text": [
      "  9%|9         |9/100[00:01<00:10, 8.64it/s]\n",
      "  9%|9         |9/100[00:01<00:10, 8.91it/s]\n",
      "  9%|9         |9/100[00:01<00:10, 8.52it/s]\n",
      "  0%|          |0/100[00:00<?,?it/s]"
     ]
    },
    {
     "name": "stdout",
     "output_type": "stream",
     "text": [
      "86\n",
      "87\n"
     ]
    },
    {
     "name": "stderr",
     "output_type": "stream",
     "text": [
      "  9%|9         |9/100[00:01<00:10, 8.51it/s]\n",
      "  9%|9         |9/100[00:01<00:10, 8.92it/s]\n",
      "  9%|9         |9/100[00:01<00:10, 8.64it/s]\n",
      "  9%|9         |9/100[00:01<00:10, 8.86it/s]\n",
      "  9%|9         |9/100[00:01<00:10, 8.76it/s]\n",
      "  0%|          |0/100[00:00<?,?it/s]"
     ]
    },
    {
     "name": "stdout",
     "output_type": "stream",
     "text": [
      "88\n"
     ]
    },
    {
     "name": "stderr",
     "output_type": "stream",
     "text": [
      "  9%|9         |9/100[00:01<00:10, 8.39it/s]\n",
      "  9%|9         |9/100[00:01<00:11, 8.25it/s]\n",
      "  0%|          |0/100[00:00<?,?it/s]"
     ]
    },
    {
     "name": "stdout",
     "output_type": "stream",
     "text": [
      "89\n"
     ]
    },
    {
     "name": "stderr",
     "output_type": "stream",
     "text": [
      "  9%|9         |9/100[00:01<00:10, 8.72it/s]\n",
      "  9%|9         |9/100[00:01<00:10, 8.29it/s]\n",
      "  9%|9         |9/100[00:01<00:10, 8.84it/s]\n",
      "  9%|9         |9/100[00:01<00:10, 8.63it/s]\n",
      "  0%|          |0/100[00:00<?,?it/s]"
     ]
    },
    {
     "name": "stdout",
     "output_type": "stream",
     "text": [
      "90\n"
     ]
    },
    {
     "name": "stderr",
     "output_type": "stream",
     "text": [
      "  9%|9         |9/100[00:01<00:10, 8.87it/s]\n",
      "  0%|          |0/100[00:00<?,?it/s]"
     ]
    },
    {
     "name": "stdout",
     "output_type": "stream",
     "text": [
      "91\n"
     ]
    },
    {
     "name": "stderr",
     "output_type": "stream",
     "text": [
      "  9%|9         |9/100[00:01<00:10, 8.62it/s]\n",
      "  9%|9         |9/100[00:01<00:10, 8.88it/s]\n",
      "  9%|9         |9/100[00:01<00:10, 8.69it/s]\n",
      "  9%|9         |9/100[00:01<00:10, 8.95it/s]\n",
      "  9%|9         |9/100[00:01<00:10, 8.87it/s]\n",
      "  9%|9         |9/100[00:01<00:10, 8.88it/s]\n",
      "  9%|9         |9/100[00:01<00:10, 8.88it/s]\n",
      "  9%|9         |9/100[00:01<00:10, 8.70it/s]\n",
      "  0%|          |0/100[00:00<?,?it/s]"
     ]
    },
    {
     "name": "stdout",
     "output_type": "stream",
     "text": [
      "92\n"
     ]
    },
    {
     "name": "stderr",
     "output_type": "stream",
     "text": [
      "  9%|9         |9/100[00:01<00:10, 8.86it/s]\n",
      "  9%|9         |9/100[00:01<00:10, 8.87it/s]\n",
      "  9%|9         |9/100[00:01<00:10, 8.88it/s]\n",
      "  9%|9         |9/100[00:01<00:10, 8.30it/s]\n",
      "  0%|          |0/100[00:00<?,?it/s]"
     ]
    },
    {
     "name": "stdout",
     "output_type": "stream",
     "text": [
      "93\n"
     ]
    },
    {
     "name": "stderr",
     "output_type": "stream",
     "text": [
      "  9%|9         |9/100[00:01<00:10, 8.88it/s]\n",
      "  9%|9         |9/100[00:01<00:10, 8.61it/s]\n",
      "  9%|9         |9/100[00:01<00:11, 7.91it/s]\n",
      "  9%|9         |9/100[00:01<00:10, 8.88it/s]\n",
      "  9%|9         |9/100[00:01<00:10, 8.35it/s]\n",
      "  9%|9         |9/100[00:01<00:11, 8.25it/s]\n",
      "  9%|9         |9/100[00:01<00:10, 8.68it/s]\n",
      "  9%|9         |9/100[00:01<00:10, 8.87it/s]\n",
      "  9%|9         |9/100[00:01<00:10, 8.95it/s]\n",
      "  9%|9         |9/100[00:01<00:10, 8.79it/s]\n",
      "  0%|          |0/100[00:00<?,?it/s]"
     ]
    },
    {
     "name": "stdout",
     "output_type": "stream",
     "text": [
      "94\n"
     ]
    },
    {
     "name": "stderr",
     "output_type": "stream",
     "text": [
      "  9%|9         |9/100[00:01<00:12, 7.44it/s]\n",
      "  9%|9         |9/100[00:01<00:10, 8.89it/s]\n",
      "  9%|9         |9/100[00:01<00:10, 8.41it/s]\n",
      "  9%|9         |9/100[00:01<00:10, 8.88it/s]\n",
      "  9%|9         |9/100[00:01<00:10, 8.88it/s]\n",
      "  9%|9         |9/100[00:01<00:10, 8.76it/s]\n",
      "  9%|9         |9/100[00:01<00:13, 6.66it/s]\n",
      "  9%|9         |9/100[00:01<00:10, 8.87it/s]\n",
      "  0%|          |0/100[00:00<?,?it/s]"
     ]
    },
    {
     "name": "stdout",
     "output_type": "stream",
     "text": [
      "95\n"
     ]
    },
    {
     "name": "stderr",
     "output_type": "stream",
     "text": [
      "  9%|9         |9/100[00:01<00:10, 8.55it/s]\n",
      "  9%|9         |9/100[00:01<00:10, 8.87it/s]\n",
      "  9%|9         |9/100[00:01<00:11, 8.04it/s]\n",
      "  0%|          |0/100[00:00<?,?it/s]"
     ]
    },
    {
     "name": "stdout",
     "output_type": "stream",
     "text": [
      "96\n"
     ]
    },
    {
     "name": "stderr",
     "output_type": "stream",
     "text": [
      "  9%|9         |9/100[00:01<00:10, 8.88it/s]\n",
      "  9%|9         |9/100[00:01<00:10, 8.93it/s]\n",
      "  9%|9         |9/100[00:01<00:10, 8.87it/s]\n",
      "  9%|9         |9/100[00:01<00:11, 8.22it/s]\n",
      "  9%|9         |9/100[00:01<00:10, 8.88it/s]\n",
      "  9%|9         |9/100[00:01<00:10, 8.65it/s]\n",
      "  9%|9         |9/100[00:01<00:10, 8.89it/s]\n",
      "  9%|9         |9/100[00:01<00:10, 8.64it/s]\n",
      "  9%|9         |9/100[00:01<00:10, 8.89it/s]\n",
      "  9%|9         |9/100[00:01<00:10, 8.40it/s]\n",
      "  9%|9         |9/100[00:01<00:10, 8.92it/s]\n",
      "  9%|9         |9/100[00:01<00:10, 8.86it/s]\n",
      "  9%|9         |9/100[00:01<00:10, 8.55it/s]\n",
      "  9%|9         |9/100[00:01<00:10, 8.73it/s]\n",
      "  9%|9         |9/100[00:01<00:10, 8.93it/s]\n",
      "  9%|9         |9/100[00:01<00:10, 8.92it/s]\n",
      "  9%|9         |9/100[00:01<00:10, 8.28it/s]\n",
      "  9%|9         |9/100[00:01<00:10, 8.77it/s]\n",
      "  0%|          |0/100[00:00<?,?it/s]"
     ]
    },
    {
     "name": "stdout",
     "output_type": "stream",
     "text": [
      "97\n"
     ]
    },
    {
     "name": "stderr",
     "output_type": "stream",
     "text": [
      "  9%|9         |9/100[00:01<00:10, 8.87it/s]\n",
      "  9%|9         |9/100[00:01<00:10, 8.87it/s]\n",
      "  9%|9         |9/100[00:01<00:10, 8.94it/s]\n",
      "  9%|9         |9/100[00:01<00:10, 8.82it/s]\n",
      "  9%|9         |9/100[00:01<00:10, 8.43it/s]\n",
      "  9%|9         |9/100[00:01<00:10, 8.49it/s]\n",
      "  0%|          |0/100[00:00<?,?it/s]"
     ]
    },
    {
     "name": "stdout",
     "output_type": "stream",
     "text": [
      "98\n"
     ]
    },
    {
     "name": "stderr",
     "output_type": "stream",
     "text": [
      "  9%|9         |9/100[00:01<00:11, 8.13it/s]\n",
      "  9%|9         |9/100[00:01<00:10, 8.56it/s]\n",
      "  9%|9         |9/100[00:01<00:11, 8.15it/s]\n",
      "  9%|9         |9/100[00:01<00:10, 8.91it/s]\n",
      "  9%|9         |9/100[00:01<00:10, 8.68it/s]\n",
      "  9%|9         |9/100[00:01<00:11, 7.98it/s]\n",
      "  9%|9         |9/100[00:01<00:10, 8.54it/s]\n",
      "  0%|          |0/100[00:00<?,?it/s]"
     ]
    },
    {
     "name": "stdout",
     "output_type": "stream",
     "text": [
      "99\n"
     ]
    },
    {
     "name": "stderr",
     "output_type": "stream",
     "text": [
      "  9%|9         |9/100[00:01<00:10, 8.89it/s]\n",
      "  9%|9         |9/100[00:01<00:11, 7.80it/s]\n",
      "  0%|          |0/100[00:00<?,?it/s]"
     ]
    },
    {
     "name": "stdout",
     "output_type": "stream",
     "text": [
      "100\n",
      "101\n"
     ]
    },
    {
     "name": "stderr",
     "output_type": "stream",
     "text": [
      "  9%|9         |9/100[00:01<00:10, 8.82it/s]\n",
      "  0%|          |0/100[00:00<?,?it/s]"
     ]
    },
    {
     "name": "stdout",
     "output_type": "stream",
     "text": [
      "102\n"
     ]
    },
    {
     "name": "stderr",
     "output_type": "stream",
     "text": [
      "  9%|9         |9/100[00:01<00:10, 8.92it/s]\n",
      "  0%|          |0/100[00:00<?,?it/s]"
     ]
    },
    {
     "name": "stdout",
     "output_type": "stream",
     "text": [
      "103\n"
     ]
    },
    {
     "name": "stderr",
     "output_type": "stream",
     "text": [
      "  9%|9         |9/100[00:01<00:10, 8.85it/s]\n",
      "  9%|9         |9/100[00:01<00:10, 8.92it/s]\n",
      "  0%|          |0/100[00:00<?,?it/s]"
     ]
    },
    {
     "name": "stdout",
     "output_type": "stream",
     "text": [
      "104\n"
     ]
    },
    {
     "name": "stderr",
     "output_type": "stream",
     "text": [
      "  9%|9         |9/100[00:01<00:10, 8.56it/s]\n",
      "  9%|9         |9/100[00:01<00:10, 8.59it/s]\n",
      "  9%|9         |9/100[00:01<00:10, 8.96it/s]\n",
      "  9%|9         |9/100[00:01<00:10, 8.81it/s]\n",
      "  0%|          |0/100[00:00<?,?it/s]"
     ]
    },
    {
     "name": "stdout",
     "output_type": "stream",
     "text": [
      "105\n"
     ]
    },
    {
     "name": "stderr",
     "output_type": "stream",
     "text": [
      "  9%|9         |9/100[00:01<00:11, 8.24it/s]\n",
      "  9%|9         |9/100[00:01<00:11, 8.21it/s]\n",
      "  9%|9         |9/100[00:01<00:11, 8.24it/s]\n",
      "  9%|9         |9/100[00:01<00:10, 8.60it/s]\n",
      "  0%|          |0/100[00:00<?,?it/s]"
     ]
    },
    {
     "name": "stdout",
     "output_type": "stream",
     "text": [
      "106\n"
     ]
    },
    {
     "name": "stderr",
     "output_type": "stream",
     "text": [
      "  9%|9         |9/100[00:01<00:11, 8.13it/s]\n",
      "  0%|          |0/100[00:00<?,?it/s]"
     ]
    },
    {
     "name": "stdout",
     "output_type": "stream",
     "text": [
      "107\n"
     ]
    },
    {
     "name": "stderr",
     "output_type": "stream",
     "text": [
      "  9%|9         |9/100[00:01<00:12, 7.48it/s]\n",
      "  9%|9         |9/100[00:01<00:10, 8.89it/s]\n",
      "  9%|9         |9/100[00:01<00:10, 8.77it/s]\n",
      "  9%|9         |9/100[00:01<00:10, 8.95it/s]\n",
      "  0%|          |0/100[00:00<?,?it/s]"
     ]
    },
    {
     "name": "stdout",
     "output_type": "stream",
     "text": [
      "108\n"
     ]
    },
    {
     "name": "stderr",
     "output_type": "stream",
     "text": [
      "  9%|9         |9/100[00:01<00:10, 8.90it/s]\n",
      "  9%|9         |9/100[00:01<00:11, 7.63it/s]\n",
      "  9%|9         |9/100[00:01<00:14, 6.41it/s]\n",
      "  9%|9         |9/100[00:01<00:10, 8.72it/s]\n",
      "  0%|          |0/100[00:00<?,?it/s]"
     ]
    },
    {
     "name": "stdout",
     "output_type": "stream",
     "text": [
      "109\n"
     ]
    },
    {
     "name": "stderr",
     "output_type": "stream",
     "text": [
      "  9%|9         |9/100[00:01<00:10, 8.71it/s]\n",
      "  0%|          |0/100[00:00<?,?it/s]"
     ]
    },
    {
     "name": "stdout",
     "output_type": "stream",
     "text": [
      "110\n"
     ]
    },
    {
     "name": "stderr",
     "output_type": "stream",
     "text": [
      "  9%|9         |9/100[00:01<00:10, 8.58it/s]\n",
      "  9%|9         |9/100[00:01<00:10, 8.90it/s]\n",
      "  9%|9         |9/100[00:01<00:11, 7.93it/s]\n",
      "  9%|9         |9/100[00:01<00:10, 8.94it/s]\n",
      "  9%|9         |9/100[00:01<00:10, 8.60it/s]\n",
      "  9%|9         |9/100[00:01<00:10, 8.45it/s]\n",
      "  9%|9         |9/100[00:01<00:10, 8.37it/s]\n",
      "  0%|          |0/100[00:00<?,?it/s]"
     ]
    },
    {
     "name": "stdout",
     "output_type": "stream",
     "text": [
      "111\n"
     ]
    },
    {
     "name": "stderr",
     "output_type": "stream",
     "text": [
      "  9%|9         |9/100[00:01<00:10, 8.88it/s]\n",
      "  9%|9         |9/100[00:01<00:10, 8.51it/s]\n",
      "  9%|9         |9/100[00:01<00:11, 7.75it/s]\n",
      "  9%|9         |9/100[00:01<00:10, 8.85it/s]\n",
      "  9%|9         |9/100[00:01<00:10, 8.87it/s]\n",
      "  9%|9         |9/100[00:01<00:10, 8.65it/s]\n",
      "  0%|          |0/100[00:00<?,?it/s]"
     ]
    },
    {
     "name": "stdout",
     "output_type": "stream",
     "text": [
      "112\n",
      "113\n"
     ]
    },
    {
     "name": "stderr",
     "output_type": "stream",
     "text": [
      "  9%|9         |9/100[00:01<00:10, 8.88it/s]\n",
      "  9%|9         |9/100[00:01<00:11, 8.10it/s]\n",
      "  0%|          |0/100[00:00<?,?it/s]"
     ]
    },
    {
     "name": "stdout",
     "output_type": "stream",
     "text": [
      "114\n"
     ]
    },
    {
     "name": "stderr",
     "output_type": "stream",
     "text": [
      "  9%|9         |9/100[00:01<00:10, 8.88it/s]\n",
      "  9%|9         |9/100[00:01<00:10, 8.89it/s]\n",
      "  0%|          |0/100[00:00<?,?it/s]"
     ]
    },
    {
     "name": "stdout",
     "output_type": "stream",
     "text": [
      "115\n"
     ]
    },
    {
     "name": "stderr",
     "output_type": "stream",
     "text": [
      "  9%|9         |9/100[00:01<00:10, 8.64it/s]\n",
      "  9%|9         |9/100[00:01<00:10, 8.93it/s]\n",
      "  9%|9         |9/100[00:01<00:11, 8.08it/s]\n",
      "  9%|9         |9/100[00:01<00:10, 8.90it/s]\n",
      "  0%|          |0/100[00:00<?,?it/s]"
     ]
    },
    {
     "name": "stdout",
     "output_type": "stream",
     "text": [
      "116\n"
     ]
    },
    {
     "name": "stderr",
     "output_type": "stream",
     "text": [
      "  9%|9         |9/100[00:01<00:10, 8.86it/s]\n",
      "  9%|9         |9/100[00:01<00:10, 8.86it/s]\n",
      "  9%|9         |9/100[00:01<00:10, 8.47it/s]\n",
      "  9%|9         |9/100[00:01<00:10, 8.52it/s]\n",
      "  9%|9         |9/100[00:01<00:10, 8.91it/s]\n",
      "  9%|9         |9/100[00:01<00:10, 8.86it/s]\n",
      "  9%|9         |9/100[00:01<00:10, 8.91it/s]\n",
      "  9%|9         |9/100[00:01<00:10, 8.67it/s]\n",
      "  0%|          |0/100[00:00<?,?it/s]"
     ]
    },
    {
     "name": "stdout",
     "output_type": "stream",
     "text": [
      "117\n"
     ]
    },
    {
     "name": "stderr",
     "output_type": "stream",
     "text": [
      "  9%|9         |9/100[00:01<00:11, 7.77it/s]\n",
      "  9%|9         |9/100[00:01<00:10, 8.89it/s]\n",
      "  9%|9         |9/100[00:01<00:10, 8.58it/s]\n",
      "  9%|9         |9/100[00:01<00:10, 8.35it/s]\n",
      "  9%|9         |9/100[00:01<00:10, 8.63it/s]\n",
      "  9%|9         |9/100[00:01<00:10, 8.92it/s]\n",
      "  0%|          |0/100[00:00<?,?it/s]"
     ]
    },
    {
     "name": "stdout",
     "output_type": "stream",
     "text": [
      "118\n"
     ]
    },
    {
     "name": "stderr",
     "output_type": "stream",
     "text": [
      "  9%|9         |9/100[00:01<00:10, 8.50it/s]\n",
      "  0%|          |0/100[00:00<?,?it/s]"
     ]
    },
    {
     "name": "stdout",
     "output_type": "stream",
     "text": [
      "119\n"
     ]
    },
    {
     "name": "stderr",
     "output_type": "stream",
     "text": [
      "  9%|9         |9/100[00:01<00:10, 8.62it/s]\n",
      "  0%|          |0/100[00:00<?,?it/s]"
     ]
    },
    {
     "name": "stdout",
     "output_type": "stream",
     "text": [
      "120\n"
     ]
    },
    {
     "name": "stderr",
     "output_type": "stream",
     "text": [
      "  9%|9         |9/100[00:01<00:10, 8.89it/s]\n",
      "  9%|9         |9/100[00:01<00:10, 8.65it/s]\n",
      "  9%|9         |9/100[00:01<00:10, 8.47it/s]\n",
      "  9%|9         |9/100[00:01<00:10, 8.41it/s]\n",
      "  0%|          |0/100[00:00<?,?it/s]"
     ]
    },
    {
     "name": "stdout",
     "output_type": "stream",
     "text": [
      "121\n"
     ]
    },
    {
     "name": "stderr",
     "output_type": "stream",
     "text": [
      "  9%|9         |9/100[00:01<00:10, 8.89it/s]\n",
      "  9%|9         |9/100[00:01<00:12, 7.18it/s]\n",
      "  9%|9         |9/100[00:01<00:10, 8.89it/s]\n",
      "  9%|9         |9/100[00:01<00:10, 8.86it/s]\n",
      "  9%|9         |9/100[00:01<00:11, 8.06it/s]\n",
      "  9%|9         |9/100[00:01<00:11, 7.65it/s]\n",
      "  9%|9         |9/100[00:01<00:10, 8.59it/s]\n",
      "  9%|9         |9/100[00:01<00:10, 8.38it/s]\n",
      "  9%|9         |9/100[00:01<00:11, 8.00it/s]\n",
      "  9%|9         |9/100[00:01<00:11, 7.88it/s]\n",
      "  9%|9         |9/100[00:01<00:10, 8.84it/s]\n",
      "  9%|9         |9/100[00:01<00:10, 8.89it/s]\n",
      "  9%|9         |9/100[00:01<00:10, 8.90it/s]\n",
      "  9%|9         |9/100[00:01<00:10, 8.66it/s]\n",
      "  0%|          |0/100[00:00<?,?it/s]"
     ]
    },
    {
     "name": "stdout",
     "output_type": "stream",
     "text": [
      "122\n"
     ]
    },
    {
     "name": "stderr",
     "output_type": "stream",
     "text": [
      "  9%|9         |9/100[00:01<00:10, 8.60it/s]\n",
      "  9%|9         |9/100[00:01<00:10, 8.89it/s]\n",
      "  0%|          |0/100[00:00<?,?it/s]"
     ]
    },
    {
     "name": "stdout",
     "output_type": "stream",
     "text": [
      "123\n"
     ]
    },
    {
     "name": "stderr",
     "output_type": "stream",
     "text": [
      "  9%|9         |9/100[00:01<00:10, 8.92it/s]\n",
      "  9%|9         |9/100[00:01<00:10, 8.90it/s]\n",
      "  9%|9         |9/100[00:01<00:10, 8.90it/s]\n",
      "  9%|9         |9/100[00:01<00:10, 8.90it/s]\n",
      "  9%|9         |9/100[00:01<00:10, 8.52it/s]\n",
      "  9%|9         |9/100[00:01<00:10, 8.35it/s]\n",
      "  9%|9         |9/100[00:01<00:10, 8.86it/s]\n",
      "  0%|          |0/100[00:00<?,?it/s]"
     ]
    },
    {
     "name": "stdout",
     "output_type": "stream",
     "text": [
      "124\n"
     ]
    },
    {
     "name": "stderr",
     "output_type": "stream",
     "text": [
      "  9%|9         |9/100[00:01<00:10, 8.84it/s]\n",
      "  9%|9         |9/100[00:01<00:10, 8.90it/s]\n",
      "  9%|9         |9/100[00:01<00:10, 8.91it/s]\n",
      "  9%|9         |9/100[00:01<00:10, 8.92it/s]\n",
      "  9%|9         |9/100[00:01<00:10, 8.91it/s]\n",
      "  9%|9         |9/100[00:01<00:10, 8.53it/s]\n",
      "  9%|9         |9/100[00:01<00:10, 8.68it/s]\n",
      "  9%|9         |9/100[00:01<00:10, 8.55it/s]\n",
      "  0%|          |0/100[00:00<?,?it/s]"
     ]
    },
    {
     "name": "stdout",
     "output_type": "stream",
     "text": [
      "125\n",
      "126\n"
     ]
    },
    {
     "name": "stderr",
     "output_type": "stream",
     "text": [
      "  9%|9         |9/100[00:01<00:10, 8.89it/s]\n",
      "  9%|9         |9/100[00:01<00:11, 7.95it/s]\n",
      "  9%|9         |9/100[00:01<00:10, 8.68it/s]\n",
      "  9%|9         |9/100[00:01<00:10, 8.74it/s]\n",
      "  9%|9         |9/100[00:01<00:10, 8.89it/s]\n",
      "  9%|9         |9/100[00:01<00:10, 8.39it/s]\n",
      "  9%|9         |9/100[00:01<00:10, 8.56it/s]\n",
      "  9%|9         |9/100[00:01<00:10, 8.89it/s]\n",
      "  9%|9         |9/100[00:01<00:10, 8.72it/s]\n",
      "  9%|9         |9/100[00:01<00:10, 8.88it/s]\n",
      "  9%|9         |9/100[00:01<00:10, 8.75it/s]\n",
      "  9%|9         |9/100[00:01<00:10, 8.87it/s]\n",
      "  0%|          |0/100[00:00<?,?it/s]"
     ]
    },
    {
     "name": "stdout",
     "output_type": "stream",
     "text": [
      "127\n"
     ]
    },
    {
     "name": "stderr",
     "output_type": "stream",
     "text": [
      "  9%|9         |9/100[00:01<00:10, 8.89it/s]\n",
      "  9%|9         |9/100[00:01<00:11, 7.94it/s]\n",
      "  9%|9         |9/100[00:01<00:10, 8.78it/s]\n",
      "  0%|          |0/100[00:00<?,?it/s]"
     ]
    },
    {
     "name": "stdout",
     "output_type": "stream",
     "text": [
      "128\n"
     ]
    },
    {
     "name": "stderr",
     "output_type": "stream",
     "text": [
      "  9%|9         |9/100[00:01<00:10, 8.38it/s]\n",
      "  0%|          |0/100[00:00<?,?it/s]"
     ]
    },
    {
     "name": "stdout",
     "output_type": "stream",
     "text": [
      "129\n"
     ]
    },
    {
     "name": "stderr",
     "output_type": "stream",
     "text": [
      "  9%|9         |9/100[00:01<00:10, 8.80it/s]\n",
      "  9%|9         |9/100[00:01<00:10, 8.88it/s]\n",
      "  9%|9         |9/100[00:01<00:11, 8.19it/s]\n",
      "  0%|          |0/100[00:00<?,?it/s]"
     ]
    },
    {
     "name": "stdout",
     "output_type": "stream",
     "text": [
      "130\n"
     ]
    },
    {
     "name": "stderr",
     "output_type": "stream",
     "text": [
      "  9%|9         |9/100[00:01<00:11, 7.93it/s]\n",
      "  9%|9         |9/100[00:01<00:10, 8.65it/s]\n",
      "  9%|9         |9/100[00:01<00:10, 8.37it/s]\n",
      "  9%|9         |9/100[00:01<00:13, 6.93it/s]\n",
      "  9%|9         |9/100[00:01<00:10, 8.95it/s]\n",
      "  0%|          |0/100[00:00<?,?it/s]"
     ]
    },
    {
     "name": "stdout",
     "output_type": "stream",
     "text": [
      "131\n"
     ]
    },
    {
     "name": "stderr",
     "output_type": "stream",
     "text": [
      "  9%|9         |9/100[00:01<00:11, 8.02it/s]\n",
      "  9%|9         |9/100[00:01<00:10, 8.89it/s]\n",
      "  9%|9         |9/100[00:01<00:11, 8.23it/s]\n",
      "  9%|9         |9/100[00:01<00:10, 8.88it/s]\n",
      "  0%|          |0/100[00:00<?,?it/s]"
     ]
    },
    {
     "name": "stdout",
     "output_type": "stream",
     "text": [
      "132\n"
     ]
    },
    {
     "name": "stderr",
     "output_type": "stream",
     "text": [
      "  9%|9         |9/100[00:01<00:10, 8.88it/s]\n",
      "  9%|9         |9/100[00:01<00:10, 8.50it/s]\n",
      "  9%|9         |9/100[00:01<00:10, 8.89it/s]\n",
      "  9%|9         |9/100[00:01<00:11, 7.85it/s]\n",
      "  0%|          |0/100[00:00<?,?it/s]"
     ]
    },
    {
     "name": "stdout",
     "output_type": "stream",
     "text": [
      "133\n"
     ]
    },
    {
     "name": "stderr",
     "output_type": "stream",
     "text": [
      "  9%|9         |9/100[00:01<00:10, 8.34it/s]\n",
      "  0%|          |0/100[00:00<?,?it/s]"
     ]
    },
    {
     "name": "stdout",
     "output_type": "stream",
     "text": [
      "134\n",
      "135\n"
     ]
    },
    {
     "name": "stderr",
     "output_type": "stream",
     "text": [
      "  9%|9         |9/100[00:01<00:10, 8.89it/s]\n",
      "  9%|9         |9/100[00:01<00:10, 8.92it/s]\n",
      "  9%|9         |9/100[00:01<00:10, 8.68it/s]\n",
      "  9%|9         |9/100[00:01<00:10, 8.93it/s]\n",
      "  9%|9         |9/100[00:01<00:10, 8.86it/s]\n",
      "  9%|9         |9/100[00:01<00:11, 8.05it/s]\n",
      "  9%|9         |9/100[00:01<00:10, 8.42it/s]\n",
      "  0%|          |0/100[00:00<?,?it/s]"
     ]
    },
    {
     "name": "stdout",
     "output_type": "stream",
     "text": [
      "136\n"
     ]
    },
    {
     "name": "stderr",
     "output_type": "stream",
     "text": [
      "  9%|9         |9/100[00:01<00:10, 8.90it/s]\n",
      "  9%|9         |9/100[00:01<00:10, 8.90it/s]\n",
      "  9%|9         |9/100[00:01<00:10, 8.43it/s]\n",
      "  9%|9         |9/100[00:01<00:10, 8.92it/s]\n",
      "  9%|9         |9/100[00:01<00:11, 8.19it/s]\n",
      "  9%|9         |9/100[00:01<00:10, 8.95it/s]\n",
      "  9%|9         |9/100[00:01<00:10, 8.90it/s]\n",
      "  9%|9         |9/100[00:01<00:10, 8.89it/s]\n",
      "  9%|9         |9/100[00:01<00:10, 8.89it/s]\n",
      "  9%|9         |9/100[00:01<00:10, 8.60it/s]\n",
      "  9%|9         |9/100[00:01<00:10, 8.77it/s]\n",
      "  9%|9         |9/100[00:01<00:10, 8.86it/s]\n",
      "  9%|9         |9/100[00:01<00:10, 8.95it/s]\n",
      "  9%|9         |9/100[00:01<00:10, 8.92it/s]\n",
      "  0%|          |0/100[00:00<?,?it/s]"
     ]
    },
    {
     "name": "stdout",
     "output_type": "stream",
     "text": [
      "137\n"
     ]
    },
    {
     "name": "stderr",
     "output_type": "stream",
     "text": [
      "  9%|9         |9/100[00:01<00:14, 6.49it/s]\n",
      "  9%|9         |9/100[00:01<00:10, 8.87it/s]\n",
      "  9%|9         |9/100[00:01<00:10, 8.87it/s]\n",
      "  9%|9         |9/100[00:01<00:10, 8.84it/s]\n",
      "  0%|          |0/100[00:00<?,?it/s]"
     ]
    },
    {
     "name": "stdout",
     "output_type": "stream",
     "text": [
      "138\n"
     ]
    },
    {
     "name": "stderr",
     "output_type": "stream",
     "text": [
      "  9%|9         |9/100[00:01<00:10, 8.66it/s]\n",
      "  9%|9         |9/100[00:01<00:10, 8.68it/s]\n",
      "  9%|9         |9/100[00:01<00:13, 6.77it/s]\n",
      "  9%|9         |9/100[00:01<00:10, 8.88it/s]\n",
      "  9%|9         |9/100[00:01<00:10, 8.90it/s]\n",
      "  9%|9         |9/100[00:01<00:10, 8.89it/s]\n",
      "  9%|9         |9/100[00:01<00:10, 8.91it/s]\n",
      "  9%|9         |9/100[00:01<00:10, 8.72it/s]\n",
      "  9%|9         |9/100[00:01<00:10, 8.89it/s]\n",
      "  9%|9         |9/100[00:01<00:10, 8.57it/s]\n",
      "  9%|9         |9/100[00:01<00:10, 8.44it/s]\n",
      "  9%|9         |9/100[00:01<00:10, 8.66it/s]\n",
      "  9%|9         |9/100[00:01<00:10, 8.49it/s]\n",
      "  9%|9         |9/100[00:01<00:11, 8.25it/s]\n",
      "  9%|9         |9/100[00:01<00:10, 8.40it/s]\n",
      "  9%|9         |9/100[00:01<00:10, 8.55it/s]\n",
      "  9%|9         |9/100[00:01<00:10, 8.89it/s]\n",
      "  9%|9         |9/100[00:01<00:10, 8.54it/s]\n",
      "  0%|          |0/100[00:00<?,?it/s]"
     ]
    },
    {
     "name": "stdout",
     "output_type": "stream",
     "text": [
      "139\n"
     ]
    },
    {
     "name": "stderr",
     "output_type": "stream",
     "text": [
      "  9%|9         |9/100[00:01<00:10, 8.90it/s]\n",
      "  9%|9         |9/100[00:01<00:10, 8.89it/s]\n",
      "  9%|9         |9/100[00:01<00:11, 8.09it/s]\n",
      "  9%|9         |9/100[00:01<00:10, 8.92it/s]\n",
      "  9%|9         |9/100[00:01<00:10, 8.87it/s]\n",
      "  9%|9         |9/100[00:01<00:10, 8.89it/s]\n",
      "  9%|9         |9/100[00:01<00:10, 8.89it/s]\n",
      "  9%|9         |9/100[00:01<00:10, 8.91it/s]\n",
      "  9%|9         |9/100[00:01<00:10, 8.66it/s]\n",
      "  9%|9         |9/100[00:01<00:10, 8.49it/s]\n",
      "  0%|          |0/100[00:00<?,?it/s]"
     ]
    },
    {
     "name": "stdout",
     "output_type": "stream",
     "text": [
      "140\n"
     ]
    },
    {
     "name": "stderr",
     "output_type": "stream",
     "text": [
      "  9%|9         |9/100[00:01<00:11, 7.72it/s]\n",
      "  9%|9         |9/100[00:01<00:10, 8.92it/s]\n",
      "  9%|9         |9/100[00:01<00:10, 8.71it/s]\n",
      "  9%|9         |9/100[00:01<00:10, 8.86it/s]\n",
      "  9%|9         |9/100[00:01<00:10, 8.92it/s]\n",
      "  9%|9         |9/100[00:01<00:10, 8.33it/s]\n",
      "  0%|          |0/100[00:00<?,?it/s]"
     ]
    },
    {
     "name": "stdout",
     "output_type": "stream",
     "text": [
      "141\n"
     ]
    },
    {
     "name": "stderr",
     "output_type": "stream",
     "text": [
      "  9%|9         |9/100[00:01<00:11, 7.66it/s]\n",
      "  9%|9         |9/100[00:01<00:10, 8.90it/s]\n",
      "  9%|9         |9/100[00:01<00:13, 6.78it/s]\n",
      "  9%|9         |9/100[00:01<00:10, 8.28it/s]\n",
      "  9%|9         |9/100[00:01<00:11, 7.64it/s]\n",
      "  9%|9         |9/100[00:01<00:10, 8.51it/s]\n",
      "  9%|9         |9/100[00:01<00:10, 8.77it/s]\n",
      "  9%|9         |9/100[00:01<00:10, 8.71it/s]\n",
      "  9%|9         |9/100[00:01<00:10, 8.86it/s]\n",
      "  9%|9         |9/100[00:01<00:10, 8.33it/s]\n",
      "  9%|9         |9/100[00:01<00:13, 6.55it/s]\n",
      "  9%|9         |9/100[00:01<00:11, 8.23it/s]\n",
      "  0%|          |0/100[00:00<?,?it/s]"
     ]
    },
    {
     "name": "stdout",
     "output_type": "stream",
     "text": [
      "142\n"
     ]
    },
    {
     "name": "stderr",
     "output_type": "stream",
     "text": [
      "  9%|9         |9/100[00:01<00:10, 8.88it/s]\n",
      "  9%|9         |9/100[00:01<00:10, 8.92it/s]\n",
      "  0%|          |0/100[00:00<?,?it/s]"
     ]
    },
    {
     "name": "stdout",
     "output_type": "stream",
     "text": [
      "143\n",
      "144\n"
     ]
    },
    {
     "name": "stderr",
     "output_type": "stream",
     "text": [
      "  9%|9         |9/100[00:01<00:10, 8.87it/s]\n",
      "  0%|          |0/100[00:00<?,?it/s]"
     ]
    },
    {
     "name": "stdout",
     "output_type": "stream",
     "text": [
      "145\n"
     ]
    },
    {
     "name": "stderr",
     "output_type": "stream",
     "text": [
      "  9%|9         |9/100[00:01<00:10, 8.92it/s]\n",
      "  9%|9         |9/100[00:01<00:10, 8.60it/s]\n",
      "  9%|9         |9/100[00:01<00:12, 7.45it/s]\n",
      "  0%|          |0/100[00:00<?,?it/s]"
     ]
    },
    {
     "name": "stdout",
     "output_type": "stream",
     "text": [
      "146\n",
      "147\n"
     ]
    },
    {
     "name": "stderr",
     "output_type": "stream",
     "text": [
      "  9%|9         |9/100[00:01<00:10, 8.91it/s]\n",
      "  0%|          |0/100[00:00<?,?it/s]"
     ]
    },
    {
     "name": "stdout",
     "output_type": "stream",
     "text": [
      "148\n"
     ]
    },
    {
     "name": "stderr",
     "output_type": "stream",
     "text": [
      "  9%|9         |9/100[00:01<00:10, 8.40it/s]\n",
      "  9%|9         |9/100[00:01<00:10, 8.74it/s]\n",
      "  9%|9         |9/100[00:01<00:10, 8.89it/s]\n",
      "  9%|9         |9/100[00:01<00:10, 8.78it/s]\n",
      "  0%|          |0/100[00:00<?,?it/s]"
     ]
    },
    {
     "name": "stdout",
     "output_type": "stream",
     "text": [
      "149\n"
     ]
    },
    {
     "name": "stderr",
     "output_type": "stream",
     "text": [
      "  9%|9         |9/100[00:01<00:11, 7.59it/s]\n",
      "  9%|9         |9/100[00:01<00:10, 8.44it/s]\n",
      "  9%|9         |9/100[00:01<00:10, 8.39it/s]\n",
      "  9%|9         |9/100[00:01<00:10, 8.90it/s]\n",
      "  0%|          |0/100[00:00<?,?it/s]"
     ]
    },
    {
     "name": "stdout",
     "output_type": "stream",
     "text": [
      "150\n"
     ]
    },
    {
     "name": "stderr",
     "output_type": "stream",
     "text": [
      "  9%|9         |9/100[00:01<00:10, 8.62it/s]\n",
      "  9%|9         |9/100[00:01<00:10, 8.86it/s]\n",
      "  9%|9         |9/100[00:01<00:10, 8.85it/s]\n",
      "  9%|9         |9/100[00:01<00:10, 8.91it/s]\n",
      "  9%|9         |9/100[00:01<00:10, 8.88it/s]\n",
      "  9%|9         |9/100[00:01<00:10, 8.67it/s]\n",
      "  9%|9         |9/100[00:01<00:10, 8.87it/s]\n",
      "  9%|9         |9/100[00:01<00:11, 8.26it/s]\n",
      "  9%|9         |9/100[00:01<00:10, 8.87it/s]\n",
      "  9%|9         |9/100[00:01<00:10, 8.90it/s]\n",
      "  9%|9         |9/100[00:01<00:10, 8.72it/s]\n",
      "  9%|9         |9/100[00:01<00:11, 7.91it/s]\n",
      "  9%|9         |9/100[00:01<00:10, 8.48it/s]\n",
      "  9%|9         |9/100[00:01<00:10, 8.91it/s]\n",
      "  9%|9         |9/100[00:01<00:10, 8.89it/s]\n",
      "  9%|9         |9/100[00:01<00:10, 8.37it/s]\n",
      "  9%|9         |9/100[00:01<00:10, 8.92it/s]\n",
      "  0%|          |0/100[00:00<?,?it/s]"
     ]
    },
    {
     "name": "stdout",
     "output_type": "stream",
     "text": [
      "151\n"
     ]
    },
    {
     "name": "stderr",
     "output_type": "stream",
     "text": [
      "  9%|9         |9/100[00:01<00:11, 7.65it/s]\n",
      "  9%|9         |9/100[00:01<00:10, 8.89it/s]\n",
      "  9%|9         |9/100[00:01<00:10, 8.82it/s]\n",
      "  0%|          |0/100[00:00<?,?it/s]"
     ]
    },
    {
     "name": "stdout",
     "output_type": "stream",
     "text": [
      "152\n"
     ]
    },
    {
     "name": "stderr",
     "output_type": "stream",
     "text": [
      "  9%|9         |9/100[00:01<00:10, 8.47it/s]\n",
      "  9%|9         |9/100[00:01<00:10, 8.88it/s]\n",
      "  9%|9         |9/100[00:01<00:10, 8.38it/s]\n",
      "  9%|9         |9/100[00:01<00:10, 8.42it/s]\n",
      "  9%|9         |9/100[00:01<00:10, 8.80it/s]\n",
      "  9%|9         |9/100[00:01<00:11, 8.18it/s]\n",
      "  9%|9         |9/100[00:01<00:10, 8.75it/s]\n",
      "  0%|          |0/100[00:00<?,?it/s]"
     ]
    },
    {
     "name": "stdout",
     "output_type": "stream",
     "text": [
      "153\n"
     ]
    },
    {
     "name": "stderr",
     "output_type": "stream",
     "text": [
      "  9%|9         |9/100[00:01<00:10, 8.66it/s]\n",
      "  9%|9         |9/100[00:01<00:10, 8.56it/s]\n",
      "  9%|9         |9/100[00:01<00:10, 8.89it/s]\n",
      "  9%|9         |9/100[00:01<00:10, 8.75it/s]\n",
      "  9%|9         |9/100[00:01<00:11, 7.95it/s]\n",
      "  9%|9         |9/100[00:01<00:10, 8.67it/s]\n",
      "  9%|9         |9/100[00:01<00:10, 8.45it/s]\n",
      "  0%|          |0/100[00:00<?,?it/s]"
     ]
    },
    {
     "name": "stdout",
     "output_type": "stream",
     "text": [
      "154\n"
     ]
    },
    {
     "name": "stderr",
     "output_type": "stream",
     "text": [
      "  9%|9         |9/100[00:01<00:10, 8.61it/s]\n",
      "  9%|9         |9/100[00:01<00:10, 8.89it/s]\n",
      "  9%|9         |9/100[00:01<00:10, 8.92it/s]\n",
      "  9%|9         |9/100[00:01<00:10, 8.87it/s]\n",
      "  0%|          |0/100[00:00<?,?it/s]"
     ]
    },
    {
     "name": "stdout",
     "output_type": "stream",
     "text": [
      "155\n"
     ]
    },
    {
     "name": "stderr",
     "output_type": "stream",
     "text": [
      "  9%|9         |9/100[00:01<00:10, 8.90it/s]\n",
      "  9%|9         |9/100[00:01<00:10, 8.92it/s]\n",
      "  9%|9         |9/100[00:01<00:10, 8.83it/s]\n",
      "  9%|9         |9/100[00:01<00:10, 8.88it/s]\n",
      "  0%|          |0/100[00:00<?,?it/s]"
     ]
    },
    {
     "name": "stdout",
     "output_type": "stream",
     "text": [
      "156\n"
     ]
    },
    {
     "name": "stderr",
     "output_type": "stream",
     "text": [
      "  9%|9         |9/100[00:01<00:10, 8.88it/s]\n",
      "  9%|9         |9/100[00:01<00:10, 8.89it/s]\n",
      "  9%|9         |9/100[00:01<00:10, 8.86it/s]\n",
      "  9%|9         |9/100[00:01<00:10, 8.88it/s]\n",
      "  9%|9         |9/100[00:01<00:10, 8.63it/s]\n",
      "  9%|9         |9/100[00:01<00:10, 8.73it/s]\n",
      "  9%|9         |9/100[00:01<00:10, 8.71it/s]\n",
      "  9%|9         |9/100[00:01<00:10, 8.88it/s]\n",
      "  9%|9         |9/100[00:01<00:10, 8.56it/s]\n",
      "  9%|9         |9/100[00:01<00:10, 8.69it/s]\n",
      "  9%|9         |9/100[00:01<00:10, 8.85it/s]\n",
      "  9%|9         |9/100[00:01<00:10, 8.73it/s]\n",
      "  9%|9         |9/100[00:01<00:10, 8.46it/s]\n",
      "  9%|9         |9/100[00:01<00:10, 8.33it/s]\n",
      "  0%|          |0/100[00:00<?,?it/s]"
     ]
    },
    {
     "name": "stdout",
     "output_type": "stream",
     "text": [
      "157\n"
     ]
    },
    {
     "name": "stderr",
     "output_type": "stream",
     "text": [
      "  9%|9         |9/100[00:01<00:11, 8.13it/s]\n",
      "  9%|9         |9/100[00:01<00:10, 8.89it/s]\n",
      "  0%|          |0/100[00:00<?,?it/s]"
     ]
    },
    {
     "name": "stdout",
     "output_type": "stream",
     "text": [
      "158\n"
     ]
    },
    {
     "name": "stderr",
     "output_type": "stream",
     "text": [
      "  9%|9         |9/100[00:01<00:10, 8.74it/s]\n",
      "  9%|9         |9/100[00:01<00:10, 8.78it/s]\n",
      "  9%|9         |9/100[00:01<00:10, 8.88it/s]\n",
      "  0%|          |0/100[00:00<?,?it/s]"
     ]
    },
    {
     "name": "stdout",
     "output_type": "stream",
     "text": [
      "159\n"
     ]
    },
    {
     "name": "stderr",
     "output_type": "stream",
     "text": [
      "  9%|9         |9/100[00:01<00:10, 8.92it/s]\n",
      "  9%|9         |9/100[00:01<00:10, 8.73it/s]\n",
      "  9%|9         |9/100[00:01<00:10, 8.90it/s]\n",
      "  9%|9         |9/100[00:01<00:11, 7.86it/s]\n",
      "  9%|9         |9/100[00:01<00:10, 8.92it/s]\n",
      "  9%|9         |9/100[00:01<00:11, 8.25it/s]\n",
      "  9%|9         |9/100[00:01<00:10, 8.89it/s]\n",
      "  9%|9         |9/100[00:01<00:11, 8.10it/s]\n",
      "  9%|9         |9/100[00:01<00:10, 8.45it/s]\n",
      "  0%|          |0/100[00:00<?,?it/s]"
     ]
    },
    {
     "name": "stdout",
     "output_type": "stream",
     "text": [
      "160\n"
     ]
    },
    {
     "name": "stderr",
     "output_type": "stream",
     "text": [
      "  9%|9         |9/100[00:01<00:10, 8.40it/s]\n",
      "  0%|          |0/100[00:00<?,?it/s]"
     ]
    },
    {
     "name": "stdout",
     "output_type": "stream",
     "text": [
      "161\n"
     ]
    },
    {
     "name": "stderr",
     "output_type": "stream",
     "text": [
      "  9%|9         |9/100[00:01<00:11, 8.11it/s]\n",
      "  9%|9         |9/100[00:01<00:10, 8.88it/s]\n",
      "  9%|9         |9/100[00:01<00:10, 8.84it/s]\n",
      "  0%|          |0/100[00:00<?,?it/s]"
     ]
    },
    {
     "name": "stdout",
     "output_type": "stream",
     "text": [
      "162\n"
     ]
    },
    {
     "name": "stderr",
     "output_type": "stream",
     "text": [
      "  9%|9         |9/100[00:01<00:10, 8.91it/s]\n",
      "  9%|9         |9/100[00:01<00:10, 8.86it/s]\n",
      "  0%|          |0/100[00:00<?,?it/s]"
     ]
    },
    {
     "name": "stdout",
     "output_type": "stream",
     "text": [
      "163\n"
     ]
    },
    {
     "name": "stderr",
     "output_type": "stream",
     "text": [
      "  9%|9         |9/100[00:01<00:10, 8.93it/s]\n",
      "  9%|9         |9/100[00:01<00:11, 8.27it/s]\n",
      "  0%|          |0/100[00:00<?,?it/s]"
     ]
    },
    {
     "name": "stdout",
     "output_type": "stream",
     "text": [
      "164\n"
     ]
    },
    {
     "name": "stderr",
     "output_type": "stream",
     "text": [
      "  9%|9         |9/100[00:01<00:10, 8.89it/s]\n",
      "  9%|9         |9/100[00:01<00:11, 8.25it/s]\n",
      "  0%|          |0/100[00:00<?,?it/s]"
     ]
    },
    {
     "name": "stdout",
     "output_type": "stream",
     "text": [
      "165\n"
     ]
    },
    {
     "name": "stderr",
     "output_type": "stream",
     "text": [
      "  9%|9         |9/100[00:01<00:10, 8.91it/s]\n",
      "  9%|9         |9/100[00:01<00:10, 8.36it/s]\n",
      "  9%|9         |9/100[00:01<00:10, 8.82it/s]\n",
      "  0%|          |0/100[00:00<?,?it/s]"
     ]
    },
    {
     "name": "stdout",
     "output_type": "stream",
     "text": [
      "166\n"
     ]
    },
    {
     "name": "stderr",
     "output_type": "stream",
     "text": [
      "  9%|9         |9/100[00:01<00:10, 8.72it/s]\n",
      "  9%|9         |9/100[00:01<00:10, 8.45it/s]\n",
      "  9%|9         |9/100[00:01<00:10, 8.88it/s]\n",
      "  9%|9         |9/100[00:01<00:11, 8.25it/s]\n",
      "  9%|9         |9/100[00:01<00:10, 8.91it/s]\n",
      "  9%|9         |9/100[00:01<00:10, 8.73it/s]\n",
      "  0%|          |0/100[00:00<?,?it/s]"
     ]
    },
    {
     "name": "stdout",
     "output_type": "stream",
     "text": [
      "167\n"
     ]
    },
    {
     "name": "stderr",
     "output_type": "stream",
     "text": [
      "  9%|9         |9/100[00:01<00:10, 8.67it/s]\n",
      "  9%|9         |9/100[00:01<00:10, 8.86it/s]\n",
      "  0%|          |0/100[00:00<?,?it/s]"
     ]
    },
    {
     "name": "stdout",
     "output_type": "stream",
     "text": [
      "168\n"
     ]
    },
    {
     "name": "stderr",
     "output_type": "stream",
     "text": [
      "  9%|9         |9/100[00:01<00:10, 8.88it/s]\n",
      "  0%|          |0/100[00:00<?,?it/s]"
     ]
    },
    {
     "name": "stdout",
     "output_type": "stream",
     "text": [
      "169\n",
      "170\n"
     ]
    },
    {
     "name": "stderr",
     "output_type": "stream",
     "text": [
      "  9%|9         |9/100[00:01<00:10, 8.45it/s]\n",
      "  9%|9         |9/100[00:01<00:10, 8.81it/s]\n",
      "  9%|9         |9/100[00:01<00:10, 8.88it/s]\n",
      "  9%|9         |9/100[00:01<00:11, 8.06it/s]\n",
      "  9%|9         |9/100[00:01<00:10, 8.38it/s]\n",
      "  9%|9         |9/100[00:01<00:11, 8.03it/s]\n",
      "  9%|9         |9/100[00:01<00:10, 8.90it/s]\n",
      "  9%|9         |9/100[00:01<00:11, 8.06it/s]\n",
      "  9%|9         |9/100[00:01<00:10, 8.50it/s]\n",
      "  9%|9         |9/100[00:01<00:10, 8.93it/s]\n",
      "  9%|9         |9/100[00:01<00:10, 8.91it/s]\n",
      "  9%|9         |9/100[00:01<00:10, 8.89it/s]\n",
      "  9%|9         |9/100[00:01<00:10, 8.84it/s]\n",
      "  9%|9         |9/100[00:01<00:10, 8.93it/s]\n",
      "  9%|9         |9/100[00:01<00:11, 7.97it/s]\n",
      "  0%|          |0/100[00:00<?,?it/s]"
     ]
    },
    {
     "name": "stdout",
     "output_type": "stream",
     "text": [
      "171\n"
     ]
    },
    {
     "name": "stderr",
     "output_type": "stream",
     "text": [
      "  9%|9         |9/100[00:01<00:10, 8.39it/s]\n",
      "  0%|          |0/100[00:00<?,?it/s]"
     ]
    },
    {
     "name": "stdout",
     "output_type": "stream",
     "text": [
      "172\n"
     ]
    },
    {
     "name": "stderr",
     "output_type": "stream",
     "text": [
      "  9%|9         |9/100[00:01<00:10, 8.89it/s]\n",
      "  0%|          |0/100[00:00<?,?it/s]"
     ]
    },
    {
     "name": "stdout",
     "output_type": "stream",
     "text": [
      "173\n"
     ]
    },
    {
     "name": "stderr",
     "output_type": "stream",
     "text": [
      "  9%|9         |9/100[00:01<00:10, 8.86it/s]\n",
      "  0%|          |0/100[00:00<?,?it/s]"
     ]
    },
    {
     "name": "stdout",
     "output_type": "stream",
     "text": [
      "174\n"
     ]
    },
    {
     "name": "stderr",
     "output_type": "stream",
     "text": [
      "  9%|9         |9/100[00:01<00:10, 8.91it/s]\n",
      "  0%|          |0/100[00:00<?,?it/s]"
     ]
    },
    {
     "name": "stdout",
     "output_type": "stream",
     "text": [
      "175\n"
     ]
    },
    {
     "name": "stderr",
     "output_type": "stream",
     "text": [
      "  9%|9         |9/100[00:01<00:10, 8.52it/s]\n",
      "  9%|9         |9/100[00:01<00:10, 8.80it/s]\n",
      "  9%|9         |9/100[00:01<00:10, 8.93it/s]\n",
      "  9%|9         |9/100[00:01<00:10, 8.57it/s]\n",
      "  9%|9         |9/100[00:01<00:11, 7.61it/s]\n",
      "  9%|9         |9/100[00:01<00:10, 8.90it/s]"
     ]
    },
    {
     "name": "stdout",
     "output_type": "stream",
     "text": [
      "176\n"
     ]
    },
    {
     "name": "stderr",
     "output_type": "stream",
     "text": [
      "\n"
     ]
    }
   ],
   "source": [
    "print(\"Samples needed: {}\".format(needed_1))\n",
    "synth_1 = sample_needed_label(needed_1, '1')"
   ]
  },
  {
   "cell_type": "code",
   "execution_count": 17,
   "metadata": {
    "ExecuteTime": {
     "end_time": "2019-08-11T03:59:01.475267Z",
     "start_time": "2019-08-11T03:36:10.588622Z"
    },
    "scrolled": true
   },
   "outputs": [
    {
     "name": "stderr",
     "output_type": "stream",
     "text": [
      "\r",
      "  0%|          |0/100[00:00<?,?it/s]"
     ]
    },
    {
     "name": "stdout",
     "output_type": "stream",
     "text": [
      "Samples needed: 44\n"
     ]
    },
    {
     "name": "stderr",
     "output_type": "stream",
     "text": [
      "  9%|9         |9/100[00:01<00:10, 8.93it/s]\n",
      "  9%|9         |9/100[00:01<00:10, 8.94it/s]\n",
      "  9%|9         |9/100[00:01<00:10, 8.89it/s]\n",
      "  9%|9         |9/100[00:01<00:10, 8.90it/s]\n",
      "  9%|9         |9/100[00:01<00:11, 8.07it/s]\n",
      "  9%|9         |9/100[00:01<00:10, 8.88it/s]\n",
      "  9%|9         |9/100[00:01<00:10, 8.87it/s]\n",
      "  9%|9         |9/100[00:01<00:10, 8.90it/s]\n",
      "  9%|9         |9/100[00:01<00:10, 8.90it/s]\n",
      "  0%|          |0/100[00:00<?,?it/s]"
     ]
    },
    {
     "name": "stdout",
     "output_type": "stream",
     "text": [
      "1\n"
     ]
    },
    {
     "name": "stderr",
     "output_type": "stream",
     "text": [
      "  9%|9         |9/100[00:01<00:10, 8.64it/s]\n",
      "  9%|9         |9/100[00:01<00:11, 8.24it/s]\n",
      "  9%|9         |9/100[00:01<00:10, 8.90it/s]\n",
      "  9%|9         |9/100[00:01<00:10, 8.59it/s]\n",
      "  9%|9         |9/100[00:01<00:10, 8.56it/s]\n",
      "  9%|9         |9/100[00:01<00:11, 8.00it/s]\n",
      "  9%|9         |9/100[00:01<00:10, 8.50it/s]\n",
      "  9%|9         |9/100[00:01<00:11, 8.20it/s]\n",
      "  9%|9         |9/100[00:01<00:10, 8.87it/s]\n",
      "  9%|9         |9/100[00:01<00:10, 8.78it/s]\n",
      "  0%|          |0/100[00:00<?,?it/s]"
     ]
    },
    {
     "name": "stdout",
     "output_type": "stream",
     "text": [
      "2\n"
     ]
    },
    {
     "name": "stderr",
     "output_type": "stream",
     "text": [
      "  9%|9         |9/100[00:01<00:10, 8.37it/s]\n",
      "  9%|9         |9/100[00:01<00:10, 8.91it/s]\n",
      "  0%|          |0/100[00:00<?,?it/s]"
     ]
    },
    {
     "name": "stdout",
     "output_type": "stream",
     "text": [
      "3\n"
     ]
    },
    {
     "name": "stderr",
     "output_type": "stream",
     "text": [
      "  9%|9         |9/100[00:01<00:10, 8.86it/s]\n",
      "  9%|9         |9/100[00:01<00:10, 8.89it/s]\n",
      "  9%|9         |9/100[00:01<00:11, 8.20it/s]\n",
      "  9%|9         |9/100[00:01<00:10, 8.42it/s]\n",
      "  9%|9         |9/100[00:01<00:10, 8.89it/s]\n",
      "  9%|9         |9/100[00:01<00:10, 8.87it/s]\n",
      "  9%|9         |9/100[00:01<00:10, 8.89it/s]\n",
      "  9%|9         |9/100[00:01<00:10, 8.91it/s]\n",
      "  9%|9         |9/100[00:01<00:10, 8.88it/s]\n",
      "  9%|9         |9/100[00:01<00:11, 8.01it/s]\n",
      "  9%|9         |9/100[00:01<00:10, 8.92it/s]\n",
      "  9%|9         |9/100[00:01<00:10, 8.92it/s]\n",
      "  9%|9         |9/100[00:01<00:10, 8.79it/s]\n",
      "  9%|9         |9/100[00:01<00:10, 8.94it/s]\n",
      "  0%|          |0/100[00:00<?,?it/s]"
     ]
    },
    {
     "name": "stdout",
     "output_type": "stream",
     "text": [
      "4\n"
     ]
    },
    {
     "name": "stderr",
     "output_type": "stream",
     "text": [
      "  9%|9         |9/100[00:01<00:10, 8.88it/s]\n",
      "  9%|9         |9/100[00:01<00:10, 8.90it/s]\n",
      "  9%|9         |9/100[00:01<00:10, 8.90it/s]\n",
      "  9%|9         |9/100[00:01<00:11, 8.11it/s]\n",
      "  9%|9         |9/100[00:01<00:11, 7.98it/s]\n",
      "  9%|9         |9/100[00:01<00:10, 8.80it/s]\n",
      "  9%|9         |9/100[00:01<00:12, 7.57it/s]\n",
      "  9%|9         |9/100[00:01<00:11, 7.86it/s]\n",
      "  9%|9         |9/100[00:01<00:10, 8.88it/s]\n",
      "  9%|9         |9/100[00:01<00:10, 8.86it/s]\n",
      "  9%|9         |9/100[00:01<00:10, 8.87it/s]\n",
      "  9%|9         |9/100[00:01<00:10, 8.99it/s]\n",
      "  9%|9         |9/100[00:01<00:10, 8.76it/s]\n",
      "  9%|9         |9/100[00:01<00:10, 8.89it/s]\n",
      "  9%|9         |9/100[00:01<00:10, 8.93it/s]\n",
      "  9%|9         |9/100[00:01<00:10, 8.91it/s]\n",
      "  9%|9         |9/100[00:01<00:10, 8.34it/s]\n",
      "  9%|9         |9/100[00:01<00:10, 8.86it/s]\n",
      "  9%|9         |9/100[00:01<00:10, 8.88it/s]\n",
      "  9%|9         |9/100[00:01<00:10, 8.32it/s]\n",
      "  9%|9         |9/100[00:01<00:11, 7.95it/s]\n",
      "  9%|9         |9/100[00:01<00:10, 8.61it/s]\n",
      "  9%|9         |9/100[00:01<00:10, 8.90it/s]\n",
      "  9%|9         |9/100[00:01<00:10, 8.92it/s]\n",
      "  9%|9         |9/100[00:01<00:10, 8.59it/s]\n",
      "  9%|9         |9/100[00:01<00:10, 8.65it/s]\n",
      "  9%|9         |9/100[00:01<00:10, 8.87it/s]\n",
      "  9%|9         |9/100[00:01<00:10, 8.88it/s]\n",
      "  9%|9         |9/100[00:01<00:10, 8.89it/s]\n",
      "  9%|9         |9/100[00:01<00:10, 8.87it/s]\n",
      "  9%|9         |9/100[00:01<00:10, 8.90it/s]\n",
      "  9%|9         |9/100[00:01<00:10, 8.87it/s]\n",
      "  9%|9         |9/100[00:01<00:10, 8.54it/s]\n",
      "  9%|9         |9/100[00:01<00:10, 8.37it/s]\n",
      "  9%|9         |9/100[00:01<00:10, 8.46it/s]\n",
      "  9%|9         |9/100[00:01<00:10, 8.86it/s]\n",
      "  9%|9         |9/100[00:01<00:10, 8.60it/s]\n",
      "  9%|9         |9/100[00:01<00:10, 8.40it/s]\n",
      "  9%|9         |9/100[00:01<00:11, 7.98it/s]\n",
      "  9%|9         |9/100[00:01<00:10, 8.85it/s]\n",
      "  9%|9         |9/100[00:01<00:11, 8.08it/s]\n",
      "  9%|9         |9/100[00:01<00:10, 8.58it/s]\n",
      "  9%|9         |9/100[00:01<00:10, 8.86it/s]\n",
      "  9%|9         |9/100[00:01<00:10, 8.91it/s]\n",
      "  9%|9         |9/100[00:01<00:10, 8.38it/s]\n",
      "  9%|9         |9/100[00:01<00:11, 7.85it/s]\n",
      "  9%|9         |9/100[00:01<00:11, 8.03it/s]\n",
      "  9%|9         |9/100[00:01<00:10, 8.89it/s]\n",
      "  9%|9         |9/100[00:01<00:10, 8.74it/s]\n",
      "  9%|9         |9/100[00:01<00:10, 8.29it/s]\n",
      "  9%|9         |9/100[00:01<00:11, 8.02it/s]\n",
      "  9%|9         |9/100[00:01<00:10, 8.88it/s]\n",
      "  9%|9         |9/100[00:01<00:10, 8.87it/s]\n",
      "  9%|9         |9/100[00:01<00:10, 8.41it/s]\n",
      "  9%|9         |9/100[00:01<00:10, 8.38it/s]\n",
      "  9%|9         |9/100[00:01<00:10, 8.49it/s]\n",
      "  9%|9         |9/100[00:01<00:10, 8.84it/s]\n",
      "  9%|9         |9/100[00:01<00:10, 8.88it/s]\n",
      "  9%|9         |9/100[00:01<00:10, 8.93it/s]\n",
      "  9%|9         |9/100[00:01<00:10, 8.76it/s]\n",
      "  9%|9         |9/100[00:01<00:10, 8.74it/s]\n",
      "  9%|9         |9/100[00:01<00:10, 8.90it/s]\n",
      "  9%|9         |9/100[00:01<00:10, 8.40it/s]\n",
      "  9%|9         |9/100[00:01<00:10, 8.89it/s]\n",
      "  9%|9         |9/100[00:01<00:11, 8.20it/s]\n",
      "  9%|9         |9/100[00:01<00:10, 8.88it/s]\n",
      "  9%|9         |9/100[00:01<00:10, 8.67it/s]\n",
      "  9%|9         |9/100[00:01<00:10, 8.92it/s]\n",
      "  0%|          |0/100[00:00<?,?it/s]"
     ]
    },
    {
     "name": "stdout",
     "output_type": "stream",
     "text": [
      "5\n"
     ]
    },
    {
     "name": "stderr",
     "output_type": "stream",
     "text": [
      "  9%|9         |9/100[00:01<00:10, 8.91it/s]\n",
      "  9%|9         |9/100[00:01<00:10, 8.93it/s]\n",
      "  9%|9         |9/100[00:01<00:10, 8.87it/s]\n",
      "  9%|9         |9/100[00:01<00:10, 8.58it/s]\n",
      "  9%|9         |9/100[00:01<00:11, 8.18it/s]\n",
      "  9%|9         |9/100[00:01<00:10, 8.36it/s]\n",
      "  9%|9         |9/100[00:01<00:10, 8.55it/s]\n",
      "  9%|9         |9/100[00:01<00:10, 8.38it/s]\n",
      "  9%|9         |9/100[00:01<00:10, 8.92it/s]\n",
      "  0%|          |0/100[00:00<?,?it/s]"
     ]
    },
    {
     "name": "stdout",
     "output_type": "stream",
     "text": [
      "6\n"
     ]
    },
    {
     "name": "stderr",
     "output_type": "stream",
     "text": [
      "  9%|9         |9/100[00:01<00:10, 8.90it/s]\n",
      "  9%|9         |9/100[00:01<00:10, 8.88it/s]\n",
      "  9%|9         |9/100[00:01<00:10, 8.83it/s]\n",
      "  9%|9         |9/100[00:01<00:11, 7.98it/s]\n",
      "  9%|9         |9/100[00:01<00:10, 8.94it/s]\n",
      "  9%|9         |9/100[00:01<00:10, 8.31it/s]\n",
      "  9%|9         |9/100[00:01<00:10, 8.90it/s]\n",
      "  9%|9         |9/100[00:01<00:11, 8.19it/s]\n",
      "  9%|9         |9/100[00:01<00:10, 8.41it/s]\n",
      "  9%|9         |9/100[00:01<00:10, 8.88it/s]\n",
      "  9%|9         |9/100[00:01<00:11, 7.92it/s]\n",
      "  9%|9         |9/100[00:01<00:10, 8.60it/s]\n",
      "  9%|9         |9/100[00:01<00:10, 8.91it/s]\n",
      "  9%|9         |9/100[00:01<00:11, 8.11it/s]\n",
      "  0%|          |0/100[00:00<?,?it/s]"
     ]
    },
    {
     "name": "stdout",
     "output_type": "stream",
     "text": [
      "7\n"
     ]
    },
    {
     "name": "stderr",
     "output_type": "stream",
     "text": [
      "  9%|9         |9/100[00:01<00:10, 8.51it/s]\n",
      "  9%|9         |9/100[00:01<00:10, 8.80it/s]\n",
      "  9%|9         |9/100[00:01<00:10, 8.91it/s]\n",
      "  9%|9         |9/100[00:01<00:10, 8.84it/s]\n",
      "  9%|9         |9/100[00:01<00:10, 8.42it/s]\n",
      "  9%|9         |9/100[00:01<00:10, 8.86it/s]\n",
      "  9%|9         |9/100[00:01<00:11, 8.04it/s]\n",
      "  9%|9         |9/100[00:01<00:10, 8.88it/s]\n",
      "  9%|9         |9/100[00:01<00:10, 8.85it/s]\n",
      "  9%|9         |9/100[00:01<00:10, 8.88it/s]\n",
      "  9%|9         |9/100[00:01<00:11, 8.11it/s]\n",
      "  9%|9         |9/100[00:01<00:10, 8.89it/s]\n",
      "  9%|9         |9/100[00:01<00:10, 8.90it/s]\n",
      "  9%|9         |9/100[00:01<00:10, 8.90it/s]\n",
      "  9%|9         |9/100[00:01<00:10, 8.53it/s]\n",
      "  9%|9         |9/100[00:01<00:10, 8.87it/s]\n",
      "  9%|9         |9/100[00:01<00:11, 7.85it/s]\n",
      "  9%|9         |9/100[00:01<00:11, 8.27it/s]\n",
      "  9%|9         |9/100[00:01<00:11, 8.00it/s]\n",
      "  9%|9         |9/100[00:01<00:10, 8.88it/s]\n",
      "  9%|9         |9/100[00:01<00:11, 7.90it/s]\n",
      "  9%|9         |9/100[00:01<00:10, 8.40it/s]\n",
      "  9%|9         |9/100[00:01<00:10, 8.44it/s]\n",
      "  9%|9         |9/100[00:01<00:10, 8.68it/s]\n",
      "  9%|9         |9/100[00:01<00:10, 8.89it/s]\n",
      "  9%|9         |9/100[00:01<00:10, 8.84it/s]\n",
      "  9%|9         |9/100[00:01<00:12, 7.54it/s]\n",
      "  9%|9         |9/100[00:01<00:10, 8.39it/s]\n",
      "  9%|9         |9/100[00:01<00:10, 8.84it/s]\n",
      "  9%|9         |9/100[00:01<00:11, 7.73it/s]\n",
      "  9%|9         |9/100[00:01<00:10, 8.95it/s]\n",
      "  9%|9         |9/100[00:01<00:10, 8.88it/s]\n",
      "  9%|9         |9/100[00:01<00:10, 8.89it/s]\n",
      "  9%|9         |9/100[00:01<00:10, 8.88it/s]\n",
      "  9%|9         |9/100[00:01<00:11, 8.17it/s]\n",
      "  9%|9         |9/100[00:01<00:10, 8.79it/s]\n",
      "  9%|9         |9/100[00:01<00:10, 8.86it/s]\n",
      "  9%|9         |9/100[00:01<00:10, 8.73it/s]\n",
      "  9%|9         |9/100[00:01<00:10, 8.87it/s]\n",
      "  0%|          |0/100[00:00<?,?it/s]"
     ]
    },
    {
     "name": "stdout",
     "output_type": "stream",
     "text": [
      "8\n"
     ]
    },
    {
     "name": "stderr",
     "output_type": "stream",
     "text": [
      "  9%|9         |9/100[00:01<00:10, 8.92it/s]\n",
      "  9%|9         |9/100[00:01<00:10, 8.29it/s]\n",
      "  9%|9         |9/100[00:01<00:10, 8.72it/s]\n",
      "  9%|9         |9/100[00:01<00:10, 8.54it/s]\n",
      "  9%|9         |9/100[00:01<00:10, 8.78it/s]\n",
      "  9%|9         |9/100[00:01<00:10, 8.89it/s]\n",
      "  9%|9         |9/100[00:01<00:10, 8.29it/s]\n",
      "  9%|9         |9/100[00:01<00:10, 8.92it/s]\n",
      "  9%|9         |9/100[00:01<00:10, 8.76it/s]\n",
      "  9%|9         |9/100[00:01<00:10, 8.59it/s]\n",
      "  9%|9         |9/100[00:01<00:11, 8.14it/s]\n",
      "  9%|9         |9/100[00:01<00:10, 8.43it/s]\n",
      "  9%|9         |9/100[00:01<00:10, 8.38it/s]\n",
      "  9%|9         |9/100[00:01<00:10, 8.66it/s]\n",
      "  9%|9         |9/100[00:01<00:10, 8.30it/s]\n",
      "  9%|9         |9/100[00:01<00:10, 8.36it/s]\n",
      "  9%|9         |9/100[00:01<00:10, 8.87it/s]\n",
      "  9%|9         |9/100[00:01<00:10, 8.91it/s]\n",
      "  9%|9         |9/100[00:01<00:10, 8.88it/s]\n",
      "  9%|9         |9/100[00:01<00:10, 8.92it/s]\n",
      "  9%|9         |9/100[00:01<00:10, 8.86it/s]\n",
      "  9%|9         |9/100[00:01<00:10, 8.89it/s]\n",
      "  9%|9         |9/100[00:01<00:11, 8.22it/s]\n",
      "  9%|9         |9/100[00:01<00:10, 8.92it/s]\n",
      "  9%|9         |9/100[00:01<00:10, 8.70it/s]\n",
      "  9%|9         |9/100[00:01<00:10, 8.88it/s]\n",
      "  9%|9         |9/100[00:01<00:11, 7.96it/s]\n",
      "  9%|9         |9/100[00:01<00:10, 8.81it/s]\n",
      "  9%|9         |9/100[00:01<00:10, 8.84it/s]\n",
      "  9%|9         |9/100[00:01<00:10, 8.89it/s]\n",
      "  9%|9         |9/100[00:01<00:11, 7.84it/s]\n",
      "  9%|9         |9/100[00:01<00:10, 8.70it/s]\n",
      "  9%|9         |9/100[00:01<00:10, 8.49it/s]\n",
      "  9%|9         |9/100[00:01<00:10, 8.89it/s]\n",
      "  9%|9         |9/100[00:01<00:10, 8.90it/s]\n",
      "  9%|9         |9/100[00:01<00:10, 8.28it/s]\n",
      "  9%|9         |9/100[00:01<00:10, 8.88it/s]\n",
      "  9%|9         |9/100[00:01<00:10, 8.87it/s]\n",
      "  9%|9         |9/100[00:01<00:10, 8.37it/s]\n",
      "  9%|9         |9/100[00:01<00:11, 7.85it/s]\n",
      "  9%|9         |9/100[00:01<00:10, 8.41it/s]\n",
      "  9%|9         |9/100[00:01<00:10, 8.87it/s]\n",
      "  9%|9         |9/100[00:01<00:10, 8.87it/s]\n",
      "  9%|9         |9/100[00:01<00:10, 8.89it/s]\n",
      "  9%|9         |9/100[00:01<00:10, 8.89it/s]\n",
      "  9%|9         |9/100[00:01<00:10, 8.66it/s]\n",
      "  9%|9         |9/100[00:01<00:11, 8.18it/s]\n",
      "  9%|9         |9/100[00:01<00:10, 8.49it/s]\n",
      "  0%|          |0/100[00:00<?,?it/s]"
     ]
    },
    {
     "name": "stdout",
     "output_type": "stream",
     "text": [
      "9\n"
     ]
    },
    {
     "name": "stderr",
     "output_type": "stream",
     "text": [
      "  9%|9         |9/100[00:01<00:10, 8.59it/s]\n",
      "  9%|9         |9/100[00:01<00:10, 8.66it/s]\n",
      "  9%|9         |9/100[00:01<00:16, 5.59it/s]\n",
      "  9%|9         |9/100[00:01<00:10, 8.73it/s]\n",
      "  9%|9         |9/100[00:01<00:10, 8.52it/s]\n",
      "  9%|9         |9/100[00:01<00:10, 8.89it/s]\n",
      "  9%|9         |9/100[00:01<00:10, 8.86it/s]\n",
      "  9%|9         |9/100[00:01<00:10, 8.84it/s]\n",
      "  9%|9         |9/100[00:01<00:10, 8.83it/s]\n",
      "  9%|9         |9/100[00:01<00:11, 8.09it/s]\n",
      "  9%|9         |9/100[00:01<00:10, 8.62it/s]\n",
      "  9%|9         |9/100[00:01<00:10, 8.67it/s]\n",
      "  9%|9         |9/100[00:01<00:10, 8.89it/s]\n",
      "  9%|9         |9/100[00:01<00:10, 8.91it/s]\n",
      "  9%|9         |9/100[00:01<00:10, 8.92it/s]\n",
      "  9%|9         |9/100[00:01<00:10, 8.86it/s]\n",
      "  9%|9         |9/100[00:01<00:10, 8.89it/s]\n",
      "  9%|9         |9/100[00:01<00:10, 8.91it/s]\n",
      "  9%|9         |9/100[00:01<00:10, 8.87it/s]\n",
      "  9%|9         |9/100[00:01<00:10, 8.86it/s]\n",
      "  9%|9         |9/100[00:01<00:10, 8.74it/s]\n",
      "  9%|9         |9/100[00:01<00:10, 8.89it/s]\n",
      "  9%|9         |9/100[00:01<00:11, 7.95it/s]\n",
      "  9%|9         |9/100[00:01<00:10, 8.89it/s]\n",
      "  9%|9         |9/100[00:01<00:10, 8.63it/s]\n",
      "  0%|          |0/100[00:00<?,?it/s]"
     ]
    },
    {
     "name": "stdout",
     "output_type": "stream",
     "text": [
      "10\n"
     ]
    },
    {
     "name": "stderr",
     "output_type": "stream",
     "text": [
      "  9%|9         |9/100[00:01<00:10, 8.89it/s]\n",
      "  9%|9         |9/100[00:01<00:10, 8.61it/s]\n",
      "  9%|9         |9/100[00:01<00:10, 8.85it/s]\n",
      "  9%|9         |9/100[00:01<00:10, 8.60it/s]\n",
      "  9%|9         |9/100[00:01<00:10, 8.82it/s]\n",
      "  9%|9         |9/100[00:01<00:10, 8.72it/s]\n",
      "  9%|9         |9/100[00:01<00:10, 8.69it/s]\n",
      "  9%|9         |9/100[00:01<00:11, 8.07it/s]\n",
      "  9%|9         |9/100[00:01<00:10, 8.77it/s]\n",
      "  9%|9         |9/100[00:01<00:10, 8.36it/s]\n",
      "  0%|          |0/100[00:00<?,?it/s]"
     ]
    },
    {
     "name": "stdout",
     "output_type": "stream",
     "text": [
      "11\n"
     ]
    },
    {
     "name": "stderr",
     "output_type": "stream",
     "text": [
      "  9%|9         |9/100[00:01<00:11, 8.12it/s]\n",
      "  9%|9         |9/100[00:01<00:10, 8.93it/s]\n",
      "  9%|9         |9/100[00:01<00:10, 8.54it/s]\n",
      "  9%|9         |9/100[00:01<00:10, 8.91it/s]\n",
      "  9%|9         |9/100[00:01<00:10, 8.61it/s]\n",
      "  9%|9         |9/100[00:01<00:11, 7.91it/s]\n",
      "  9%|9         |9/100[00:01<00:10, 8.88it/s]\n",
      "  9%|9         |9/100[00:01<00:10, 8.93it/s]\n",
      "  9%|9         |9/100[00:01<00:10, 8.62it/s]\n",
      "  9%|9         |9/100[00:01<00:10, 8.90it/s]\n",
      "  9%|9         |9/100[00:01<00:10, 8.90it/s]\n",
      "  0%|          |0/100[00:00<?,?it/s]"
     ]
    },
    {
     "name": "stdout",
     "output_type": "stream",
     "text": [
      "12\n"
     ]
    },
    {
     "name": "stderr",
     "output_type": "stream",
     "text": [
      "  9%|9         |9/100[00:01<00:10, 8.87it/s]\n",
      "  9%|9         |9/100[00:01<00:10, 8.87it/s]\n",
      "  9%|9         |9/100[00:01<00:10, 8.91it/s]\n",
      "  9%|9         |9/100[00:01<00:11, 7.99it/s]\n",
      "  9%|9         |9/100[00:01<00:10, 8.91it/s]\n",
      "  9%|9         |9/100[00:01<00:10, 8.90it/s]\n",
      "  9%|9         |9/100[00:01<00:10, 8.85it/s]\n",
      "  9%|9         |9/100[00:01<00:10, 8.86it/s]\n",
      "  9%|9         |9/100[00:01<00:10, 8.90it/s]\n",
      "  9%|9         |9/100[00:01<00:10, 8.87it/s]\n",
      "  9%|9         |9/100[00:01<00:10, 8.88it/s]\n",
      "  9%|9         |9/100[00:01<00:10, 8.83it/s]\n",
      "  9%|9         |9/100[00:01<00:10, 8.91it/s]\n",
      "  9%|9         |9/100[00:01<00:10, 8.78it/s]\n",
      "  9%|9         |9/100[00:01<00:10, 8.46it/s]\n",
      "  9%|9         |9/100[00:01<00:10, 8.45it/s]\n",
      "  9%|9         |9/100[00:01<00:10, 8.90it/s]\n",
      "  9%|9         |9/100[00:01<00:10, 8.45it/s]\n",
      "  9%|9         |9/100[00:01<00:10, 8.42it/s]\n",
      "  9%|9         |9/100[00:01<00:10, 8.89it/s]\n",
      "  9%|9         |9/100[00:01<00:10, 8.90it/s]\n",
      "  9%|9         |9/100[00:01<00:10, 8.84it/s]\n",
      "  9%|9         |9/100[00:01<00:10, 8.54it/s]\n",
      "  9%|9         |9/100[00:01<00:11, 7.81it/s]\n",
      "  9%|9         |9/100[00:01<00:10, 8.90it/s]\n",
      "  9%|9         |9/100[00:01<00:11, 8.27it/s]\n",
      "  9%|9         |9/100[00:01<00:10, 8.88it/s]\n",
      "  9%|9         |9/100[00:01<00:10, 8.87it/s]\n",
      "  9%|9         |9/100[00:01<00:11, 8.00it/s]\n",
      "  9%|9         |9/100[00:01<00:10, 8.91it/s]\n",
      "  9%|9         |9/100[00:01<00:10, 8.42it/s]\n",
      "  0%|          |0/100[00:00<?,?it/s]"
     ]
    },
    {
     "name": "stdout",
     "output_type": "stream",
     "text": [
      "13\n"
     ]
    },
    {
     "name": "stderr",
     "output_type": "stream",
     "text": [
      "  9%|9         |9/100[00:01<00:10, 8.88it/s]\n",
      "  9%|9         |9/100[00:01<00:10, 8.64it/s]\n",
      "  9%|9         |9/100[00:01<00:10, 8.93it/s]\n",
      "  9%|9         |9/100[00:01<00:10, 8.78it/s]\n",
      "  9%|9         |9/100[00:01<00:10, 8.30it/s]\n",
      "  9%|9         |9/100[00:01<00:10, 8.88it/s]\n",
      "  9%|9         |9/100[00:01<00:11, 8.24it/s]\n",
      "  9%|9         |9/100[00:01<00:10, 8.89it/s]\n",
      "  9%|9         |9/100[00:01<00:10, 8.88it/s]\n",
      "  9%|9         |9/100[00:01<00:12, 7.35it/s]\n",
      "  9%|9         |9/100[00:01<00:13, 6.94it/s]\n",
      "  9%|9         |9/100[00:01<00:10, 8.93it/s]\n",
      "  9%|9         |9/100[00:01<00:11, 8.24it/s]\n",
      "  9%|9         |9/100[00:01<00:10, 8.94it/s]\n",
      "  9%|9         |9/100[00:01<00:10, 8.97it/s]\n",
      "  9%|9         |9/100[00:01<00:10, 8.86it/s]\n",
      "  9%|9         |9/100[00:01<00:10, 8.87it/s]\n",
      "  9%|9         |9/100[00:01<00:10, 8.94it/s]\n",
      "  9%|9         |9/100[00:01<00:10, 8.45it/s]\n",
      "  9%|9         |9/100[00:01<00:10, 8.88it/s]\n",
      "  0%|          |0/100[00:00<?,?it/s]"
     ]
    },
    {
     "name": "stdout",
     "output_type": "stream",
     "text": [
      "14\n"
     ]
    },
    {
     "name": "stderr",
     "output_type": "stream",
     "text": [
      "  9%|9         |9/100[00:01<00:10, 8.53it/s]\n",
      "  9%|9         |9/100[00:01<00:10, 8.91it/s]\n",
      "  9%|9         |9/100[00:01<00:13, 6.70it/s]\n",
      "  9%|9         |9/100[00:01<00:10, 8.81it/s]\n",
      "  9%|9         |9/100[00:01<00:10, 8.67it/s]\n",
      "  9%|9         |9/100[00:01<00:10, 8.87it/s]\n",
      "  9%|9         |9/100[00:01<00:10, 8.35it/s]\n",
      "  9%|9         |9/100[00:01<00:11, 8.27it/s]\n",
      "  9%|9         |9/100[00:01<00:10, 8.66it/s]\n",
      "  9%|9         |9/100[00:01<00:10, 8.86it/s]\n",
      "  0%|          |0/100[00:00<?,?it/s]"
     ]
    },
    {
     "name": "stdout",
     "output_type": "stream",
     "text": [
      "15\n"
     ]
    },
    {
     "name": "stderr",
     "output_type": "stream",
     "text": [
      "  9%|9         |9/100[00:01<00:11, 8.19it/s]\n",
      "  9%|9         |9/100[00:01<00:10, 8.84it/s]\n",
      "  0%|          |0/100[00:00<?,?it/s]"
     ]
    },
    {
     "name": "stdout",
     "output_type": "stream",
     "text": [
      "16\n"
     ]
    },
    {
     "name": "stderr",
     "output_type": "stream",
     "text": [
      "  9%|9         |9/100[00:01<00:11, 8.07it/s]\n",
      "  9%|9         |9/100[00:01<00:10, 8.71it/s]\n",
      "  9%|9         |9/100[00:01<00:10, 8.90it/s]\n",
      "  9%|9         |9/100[00:01<00:11, 7.69it/s]\n",
      "  9%|9         |9/100[00:01<00:10, 8.92it/s]\n",
      "  9%|9         |9/100[00:01<00:10, 8.91it/s]\n",
      "  9%|9         |9/100[00:01<00:11, 8.27it/s]\n",
      "  9%|9         |9/100[00:01<00:11, 7.79it/s]\n",
      "  9%|9         |9/100[00:01<00:10, 8.87it/s]\n",
      "  9%|9         |9/100[00:01<00:10, 8.47it/s]\n",
      "  9%|9         |9/100[00:01<00:11, 7.85it/s]\n",
      "  9%|9         |9/100[00:01<00:10, 8.89it/s]\n",
      "  9%|9         |9/100[00:01<00:10, 8.90it/s]\n",
      "  9%|9         |9/100[00:01<00:11, 8.16it/s]\n",
      "  9%|9         |9/100[00:01<00:10, 8.47it/s]\n",
      "  9%|9         |9/100[00:01<00:10, 8.74it/s]\n",
      "  9%|9         |9/100[00:01<00:10, 8.88it/s]\n",
      "  9%|9         |9/100[00:01<00:10, 8.86it/s]\n",
      "  9%|9         |9/100[00:01<00:10, 8.89it/s]\n",
      "  9%|9         |9/100[00:01<00:10, 8.56it/s]\n",
      "  9%|9         |9/100[00:01<00:10, 8.79it/s]\n",
      "  9%|9         |9/100[00:01<00:10, 8.57it/s]\n",
      "  9%|9         |9/100[00:01<00:10, 8.71it/s]\n",
      "  9%|9         |9/100[00:01<00:10, 8.89it/s]\n",
      "  9%|9         |9/100[00:01<00:10, 8.78it/s]\n",
      "  9%|9         |9/100[00:01<00:10, 8.93it/s]\n",
      "  9%|9         |9/100[00:01<00:10, 8.91it/s]\n",
      "  9%|9         |9/100[00:01<00:10, 8.87it/s]\n",
      "  9%|9         |9/100[00:01<00:10, 8.94it/s]\n",
      "  9%|9         |9/100[00:01<00:10, 8.44it/s]\n",
      "  9%|9         |9/100[00:01<00:10, 8.88it/s]\n",
      "  9%|9         |9/100[00:01<00:10, 8.39it/s]\n",
      "  0%|          |0/100[00:00<?,?it/s]"
     ]
    },
    {
     "name": "stdout",
     "output_type": "stream",
     "text": [
      "17\n"
     ]
    },
    {
     "name": "stderr",
     "output_type": "stream",
     "text": [
      "  9%|9         |9/100[00:01<00:10, 8.51it/s]\n",
      "  9%|9         |9/100[00:01<00:10, 8.87it/s]\n",
      "  9%|9         |9/100[00:01<00:10, 8.67it/s]\n",
      "  9%|9         |9/100[00:01<00:10, 8.84it/s]\n",
      "  9%|9         |9/100[00:01<00:11, 8.22it/s]\n",
      "  9%|9         |9/100[00:01<00:11, 7.70it/s]\n",
      "  9%|9         |9/100[00:01<00:10, 8.88it/s]\n",
      "  9%|9         |9/100[00:01<00:14, 6.44it/s]\n",
      "  9%|9         |9/100[00:01<00:10, 8.92it/s]\n",
      "  9%|9         |9/100[00:01<00:10, 8.40it/s]\n",
      "  9%|9         |9/100[00:01<00:11, 8.10it/s]\n",
      "  9%|9         |9/100[00:01<00:10, 8.88it/s]\n",
      "  9%|9         |9/100[00:01<00:10, 8.70it/s]\n",
      "  9%|9         |9/100[00:01<00:10, 8.58it/s]\n",
      "  9%|9         |9/100[00:01<00:10, 8.54it/s]\n",
      "  9%|9         |9/100[00:01<00:10, 8.32it/s]\n",
      "  9%|9         |9/100[00:01<00:10, 8.89it/s]\n",
      "  9%|9         |9/100[00:01<00:10, 8.43it/s]\n",
      "  9%|9         |9/100[00:01<00:10, 8.79it/s]\n",
      "  9%|9         |9/100[00:01<00:10, 8.52it/s]\n",
      "  9%|9         |9/100[00:01<00:10, 8.31it/s]\n",
      "  9%|9         |9/100[00:01<00:10, 8.65it/s]\n",
      "  9%|9         |9/100[00:01<00:10, 8.88it/s]\n",
      "  9%|9         |9/100[00:01<00:10, 8.87it/s]\n",
      "  9%|9         |9/100[00:01<00:11, 8.19it/s]\n",
      "  9%|9         |9/100[00:01<00:10, 8.45it/s]\n",
      "  9%|9         |9/100[00:01<00:10, 8.82it/s]\n",
      "  9%|9         |9/100[00:01<00:10, 8.75it/s]\n",
      "  9%|9         |9/100[00:01<00:10, 8.87it/s]\n",
      "  9%|9         |9/100[00:01<00:10, 8.89it/s]\n",
      "  9%|9         |9/100[00:01<00:10, 8.57it/s]\n",
      "  9%|9         |9/100[00:01<00:11, 8.26it/s]\n",
      "  9%|9         |9/100[00:01<00:10, 8.70it/s]\n",
      "  0%|          |0/100[00:00<?,?it/s]"
     ]
    },
    {
     "name": "stdout",
     "output_type": "stream",
     "text": [
      "18\n"
     ]
    },
    {
     "name": "stderr",
     "output_type": "stream",
     "text": [
      "  9%|9         |9/100[00:01<00:10, 8.52it/s]\n",
      "  9%|9         |9/100[00:01<00:10, 8.91it/s]\n",
      "  9%|9         |9/100[00:01<00:10, 8.88it/s]\n",
      "  9%|9         |9/100[00:01<00:10, 8.75it/s]\n",
      "  9%|9         |9/100[00:01<00:10, 8.40it/s]\n",
      "  9%|9         |9/100[00:01<00:10, 8.85it/s]\n",
      "  9%|9         |9/100[00:01<00:10, 8.73it/s]\n",
      "  0%|          |0/100[00:00<?,?it/s]"
     ]
    },
    {
     "name": "stdout",
     "output_type": "stream",
     "text": [
      "19\n"
     ]
    },
    {
     "name": "stderr",
     "output_type": "stream",
     "text": [
      "  9%|9         |9/100[00:01<00:10, 8.91it/s]\n",
      "  9%|9         |9/100[00:01<00:10, 8.49it/s]\n",
      "  9%|9         |9/100[00:01<00:10, 8.89it/s]\n",
      "  9%|9         |9/100[00:01<00:11, 8.17it/s]\n",
      "  9%|9         |9/100[00:01<00:10, 8.92it/s]\n",
      "  9%|9         |9/100[00:01<00:10, 8.89it/s]\n",
      "  9%|9         |9/100[00:01<00:10, 8.61it/s]\n",
      "  9%|9         |9/100[00:01<00:10, 8.30it/s]\n",
      "  9%|9         |9/100[00:01<00:10, 8.88it/s]\n",
      "  9%|9         |9/100[00:01<00:10, 8.82it/s]\n",
      "  9%|9         |9/100[00:01<00:10, 8.65it/s]\n",
      "  9%|9         |9/100[00:01<00:10, 8.65it/s]\n",
      "  9%|9         |9/100[00:01<00:10, 8.73it/s]\n",
      "  9%|9         |9/100[00:01<00:11, 8.01it/s]\n",
      "  0%|          |0/100[00:00<?,?it/s]"
     ]
    },
    {
     "name": "stdout",
     "output_type": "stream",
     "text": [
      "20\n"
     ]
    },
    {
     "name": "stderr",
     "output_type": "stream",
     "text": [
      "  9%|9         |9/100[00:01<00:10, 8.65it/s]\n",
      "  9%|9         |9/100[00:01<00:10, 8.56it/s]\n",
      "  9%|9         |9/100[00:01<00:10, 8.83it/s]\n",
      "  9%|9         |9/100[00:01<00:10, 8.67it/s]\n",
      "  9%|9         |9/100[00:01<00:10, 8.90it/s]\n",
      "  0%|          |0/100[00:00<?,?it/s]"
     ]
    },
    {
     "name": "stdout",
     "output_type": "stream",
     "text": [
      "21\n"
     ]
    },
    {
     "name": "stderr",
     "output_type": "stream",
     "text": [
      "  9%|9         |9/100[00:01<00:10, 8.87it/s]\n",
      "  9%|9         |9/100[00:01<00:10, 8.88it/s]\n",
      "  9%|9         |9/100[00:01<00:11, 7.66it/s]\n",
      "  9%|9         |9/100[00:01<00:10, 8.91it/s]\n",
      "  9%|9         |9/100[00:01<00:10, 8.33it/s]\n",
      "  9%|9         |9/100[00:01<00:10, 8.95it/s]\n",
      "  9%|9         |9/100[00:01<00:10, 8.75it/s]\n",
      "  9%|9         |9/100[00:01<00:10, 8.93it/s]\n",
      "  9%|9         |9/100[00:01<00:10, 8.51it/s]\n",
      "  9%|9         |9/100[00:01<00:10, 8.51it/s]\n",
      "  9%|9         |9/100[00:01<00:10, 8.39it/s]\n",
      "  9%|9         |9/100[00:01<00:10, 8.90it/s]\n",
      "  9%|9         |9/100[00:01<00:11, 8.10it/s]\n",
      "  9%|9         |9/100[00:01<00:11, 8.04it/s]\n",
      "  9%|9         |9/100[00:01<00:10, 8.87it/s]\n",
      "  9%|9         |9/100[00:01<00:10, 8.48it/s]\n",
      "  9%|9         |9/100[00:01<00:10, 8.91it/s]\n",
      "  9%|9         |9/100[00:01<00:10, 8.91it/s]\n",
      "  9%|9         |9/100[00:01<00:10, 8.60it/s]\n",
      "  9%|9         |9/100[00:01<00:10, 8.85it/s]\n",
      "  9%|9         |9/100[00:01<00:10, 8.66it/s]\n",
      "  9%|9         |9/100[00:01<00:10, 8.83it/s]\n",
      "  9%|9         |9/100[00:01<00:10, 8.37it/s]\n",
      "  9%|9         |9/100[00:01<00:11, 8.00it/s]\n",
      "  9%|9         |9/100[00:01<00:10, 8.90it/s]\n",
      "  9%|9         |9/100[00:01<00:10, 8.89it/s]\n",
      "  9%|9         |9/100[00:01<00:11, 7.95it/s]\n",
      "  9%|9         |9/100[00:01<00:10, 8.76it/s]\n",
      "  9%|9         |9/100[00:01<00:10, 8.47it/s]\n",
      "  9%|9         |9/100[00:01<00:10, 8.52it/s]\n",
      "  9%|9         |9/100[00:01<00:10, 8.51it/s]\n",
      "  0%|          |0/100[00:00<?,?it/s]"
     ]
    },
    {
     "name": "stdout",
     "output_type": "stream",
     "text": [
      "22\n"
     ]
    },
    {
     "name": "stderr",
     "output_type": "stream",
     "text": [
      "  9%|9         |9/100[00:01<00:12, 7.12it/s]\n",
      "  9%|9         |9/100[00:01<00:10, 8.91it/s]\n",
      "  9%|9         |9/100[00:01<00:10, 8.90it/s]\n",
      "  9%|9         |9/100[00:01<00:10, 8.92it/s]\n",
      "  9%|9         |9/100[00:01<00:10, 8.44it/s]\n",
      "  9%|9         |9/100[00:01<00:10, 8.88it/s]\n",
      "  9%|9         |9/100[00:01<00:10, 8.59it/s]\n",
      "  9%|9         |9/100[00:01<00:10, 8.33it/s]\n",
      "  9%|9         |9/100[00:01<00:10, 8.73it/s]\n",
      "  9%|9         |9/100[00:01<00:10, 8.88it/s]\n",
      "  9%|9         |9/100[00:01<00:10, 8.94it/s]\n",
      "  9%|9         |9/100[00:01<00:10, 8.84it/s]\n",
      "  9%|9         |9/100[00:01<00:10, 8.90it/s]\n",
      "  9%|9         |9/100[00:01<00:10, 8.93it/s]\n",
      "  9%|9         |9/100[00:01<00:10, 8.62it/s]\n",
      "  9%|9         |9/100[00:01<00:10, 8.60it/s]\n",
      "  9%|9         |9/100[00:01<00:10, 8.88it/s]\n",
      "  9%|9         |9/100[00:01<00:10, 8.93it/s]\n",
      "  9%|9         |9/100[00:01<00:10, 8.87it/s]\n",
      "  9%|9         |9/100[00:01<00:11, 7.64it/s]\n",
      "  9%|9         |9/100[00:01<00:10, 8.89it/s]\n",
      "  9%|9         |9/100[00:01<00:10, 8.94it/s]\n",
      "  9%|9         |9/100[00:01<00:10, 8.88it/s]\n",
      "  9%|9         |9/100[00:01<00:11, 8.27it/s]\n",
      "  9%|9         |9/100[00:01<00:10, 8.79it/s]\n",
      "  9%|9         |9/100[00:01<00:12, 7.37it/s]\n",
      "  9%|9         |9/100[00:01<00:10, 8.69it/s]\n",
      "  9%|9         |9/100[00:01<00:10, 8.88it/s]\n",
      "  9%|9         |9/100[00:01<00:10, 8.90it/s]\n",
      "  9%|9         |9/100[00:01<00:10, 8.70it/s]\n",
      "  9%|9         |9/100[00:01<00:10, 8.47it/s]\n",
      "  9%|9         |9/100[00:01<00:10, 8.92it/s]\n",
      "  9%|9         |9/100[00:01<00:10, 8.88it/s]\n",
      "  9%|9         |9/100[00:01<00:10, 8.69it/s]\n",
      "  9%|9         |9/100[00:01<00:10, 8.89it/s]\n",
      "  9%|9         |9/100[00:01<00:10, 8.67it/s]\n",
      "  9%|9         |9/100[00:01<00:10, 8.90it/s]\n",
      "  9%|9         |9/100[00:01<00:10, 8.90it/s]\n",
      "  9%|9         |9/100[00:01<00:10, 8.91it/s]\n",
      "  0%|          |0/100[00:00<?,?it/s]"
     ]
    },
    {
     "name": "stdout",
     "output_type": "stream",
     "text": [
      "23\n"
     ]
    },
    {
     "name": "stderr",
     "output_type": "stream",
     "text": [
      "  9%|9         |9/100[00:01<00:10, 8.51it/s]\n",
      "  9%|9         |9/100[00:01<00:10, 8.90it/s]\n",
      "  9%|9         |9/100[00:01<00:10, 8.88it/s]\n",
      "  9%|9         |9/100[00:01<00:11, 8.09it/s]\n",
      "  9%|9         |9/100[00:01<00:10, 8.73it/s]\n",
      "  9%|9         |9/100[00:01<00:10, 8.87it/s]\n",
      "  9%|9         |9/100[00:01<00:10, 8.77it/s]\n",
      "  9%|9         |9/100[00:01<00:10, 8.86it/s]\n",
      "  9%|9         |9/100[00:01<00:10, 8.48it/s]\n",
      "  9%|9         |9/100[00:01<00:10, 8.92it/s]\n",
      "  0%|          |0/100[00:00<?,?it/s]"
     ]
    },
    {
     "name": "stdout",
     "output_type": "stream",
     "text": [
      "24\n"
     ]
    },
    {
     "name": "stderr",
     "output_type": "stream",
     "text": [
      "  9%|9         |9/100[00:01<00:10, 8.73it/s]\n",
      "  9%|9         |9/100[00:01<00:11, 7.82it/s]\n",
      "  9%|9         |9/100[00:01<00:10, 8.87it/s]\n",
      "  9%|9         |9/100[00:01<00:10, 8.89it/s]\n",
      "  9%|9         |9/100[00:01<00:10, 8.91it/s]\n",
      "  9%|9         |9/100[00:01<00:10, 8.88it/s]\n",
      "  9%|9         |9/100[00:01<00:11, 8.21it/s]\n",
      "  9%|9         |9/100[00:01<00:10, 8.88it/s]\n",
      "  9%|9         |9/100[00:01<00:10, 8.90it/s]\n",
      "  9%|9         |9/100[00:01<00:14, 6.47it/s]\n",
      "  9%|9         |9/100[00:01<00:10, 8.89it/s]\n",
      "  9%|9         |9/100[00:01<00:10, 8.85it/s]\n",
      "  9%|9         |9/100[00:01<00:11, 8.27it/s]\n",
      "  0%|          |0/100[00:00<?,?it/s]"
     ]
    },
    {
     "name": "stdout",
     "output_type": "stream",
     "text": [
      "25\n"
     ]
    },
    {
     "name": "stderr",
     "output_type": "stream",
     "text": [
      "  9%|9         |9/100[00:01<00:11, 8.17it/s]\n",
      "  9%|9         |9/100[00:01<00:11, 8.27it/s]\n",
      "  9%|9         |9/100[00:01<00:10, 8.89it/s]\n",
      "  0%|          |0/100[00:00<?,?it/s]"
     ]
    },
    {
     "name": "stdout",
     "output_type": "stream",
     "text": [
      "26\n"
     ]
    },
    {
     "name": "stderr",
     "output_type": "stream",
     "text": [
      "  9%|9         |9/100[00:01<00:12, 7.57it/s]\n",
      "  9%|9         |9/100[00:01<00:10, 8.87it/s]\n",
      "  9%|9         |9/100[00:01<00:10, 8.71it/s]\n",
      "  9%|9         |9/100[00:01<00:10, 8.90it/s]\n",
      "  9%|9         |9/100[00:01<00:10, 8.88it/s]\n",
      "  9%|9         |9/100[00:01<00:10, 8.54it/s]\n",
      "  9%|9         |9/100[00:01<00:11, 8.18it/s]\n",
      "  9%|9         |9/100[00:01<00:10, 8.87it/s]\n",
      "  9%|9         |9/100[00:01<00:10, 8.39it/s]\n",
      "  9%|9         |9/100[00:01<00:10, 8.92it/s]\n",
      "  9%|9         |9/100[00:01<00:11, 7.64it/s]\n",
      "  9%|9         |9/100[00:01<00:10, 8.89it/s]\n",
      "  9%|9         |9/100[00:01<00:10, 8.90it/s]\n",
      "  9%|9         |9/100[00:01<00:10, 8.92it/s]\n",
      "  9%|9         |9/100[00:01<00:10, 8.38it/s]\n",
      "  9%|9         |9/100[00:01<00:10, 8.87it/s]\n",
      "  9%|9         |9/100[00:01<00:10, 8.39it/s]\n",
      "  9%|9         |9/100[00:01<00:10, 8.92it/s]\n",
      "  9%|9         |9/100[00:01<00:10, 8.68it/s]\n",
      "  9%|9         |9/100[00:01<00:10, 8.88it/s]\n",
      "  9%|9         |9/100[00:01<00:10, 8.89it/s]\n",
      "  0%|          |0/100[00:00<?,?it/s]"
     ]
    },
    {
     "name": "stdout",
     "output_type": "stream",
     "text": [
      "27\n"
     ]
    },
    {
     "name": "stderr",
     "output_type": "stream",
     "text": [
      "  9%|9         |9/100[00:01<00:10, 8.76it/s]\n",
      "  9%|9         |9/100[00:01<00:10, 8.67it/s]\n",
      "  9%|9         |9/100[00:01<00:10, 8.28it/s]\n",
      "  9%|9         |9/100[00:01<00:10, 8.65it/s]\n",
      "  9%|9         |9/100[00:01<00:10, 8.91it/s]\n",
      "  9%|9         |9/100[00:01<00:10, 8.67it/s]\n",
      "  9%|9         |9/100[00:01<00:10, 8.88it/s]\n",
      "  9%|9         |9/100[00:01<00:10, 8.65it/s]\n",
      "  9%|9         |9/100[00:01<00:11, 7.76it/s]\n",
      "  9%|9         |9/100[00:01<00:10, 8.88it/s]\n",
      "  9%|9         |9/100[00:01<00:10, 8.66it/s]\n",
      "  9%|9         |9/100[00:01<00:10, 8.92it/s]\n",
      "  9%|9         |9/100[00:01<00:10, 8.93it/s]\n",
      "  9%|9         |9/100[00:01<00:10, 8.82it/s]\n",
      "  9%|9         |9/100[00:01<00:11, 8.13it/s]\n",
      "  0%|          |0/100[00:00<?,?it/s]"
     ]
    },
    {
     "name": "stdout",
     "output_type": "stream",
     "text": [
      "28\n"
     ]
    },
    {
     "name": "stderr",
     "output_type": "stream",
     "text": [
      "  9%|9         |9/100[00:01<00:10, 8.84it/s]\n",
      "  9%|9         |9/100[00:01<00:10, 8.86it/s]\n",
      "  9%|9         |9/100[00:01<00:10, 8.89it/s]\n",
      "  9%|9         |9/100[00:01<00:10, 8.90it/s]\n",
      "  9%|9         |9/100[00:01<00:10, 8.98it/s]\n",
      "  9%|9         |9/100[00:01<00:10, 8.54it/s]\n",
      "  9%|9         |9/100[00:01<00:10, 8.67it/s]\n",
      "  9%|9         |9/100[00:01<00:10, 8.65it/s]\n",
      "  9%|9         |9/100[00:01<00:10, 8.93it/s]\n",
      "  9%|9         |9/100[00:01<00:10, 8.61it/s]\n",
      "  9%|9         |9/100[00:01<00:11, 7.93it/s]\n",
      "  9%|9         |9/100[00:01<00:10, 8.87it/s]\n",
      "  9%|9         |9/100[00:01<00:10, 8.80it/s]\n",
      "  9%|9         |9/100[00:01<00:10, 8.75it/s]\n",
      "  9%|9         |9/100[00:01<00:10, 8.86it/s]\n",
      "  9%|9         |9/100[00:01<00:10, 8.91it/s]\n",
      "  9%|9         |9/100[00:01<00:10, 8.87it/s]\n",
      "  9%|9         |9/100[00:01<00:10, 8.87it/s]\n",
      "  9%|9         |9/100[00:01<00:10, 8.93it/s]\n",
      "  9%|9         |9/100[00:01<00:11, 8.14it/s]\n",
      "  9%|9         |9/100[00:01<00:10, 8.89it/s]\n",
      "  9%|9         |9/100[00:01<00:10, 8.80it/s]\n",
      "  9%|9         |9/100[00:01<00:10, 8.91it/s]\n",
      "  9%|9         |9/100[00:01<00:11, 8.21it/s]\n",
      "  9%|9         |9/100[00:01<00:10, 8.82it/s]\n",
      "  9%|9         |9/100[00:01<00:10, 8.93it/s]\n",
      "  9%|9         |9/100[00:01<00:10, 8.88it/s]\n",
      "  9%|9         |9/100[00:01<00:10, 8.79it/s]\n",
      "  9%|9         |9/100[00:01<00:10, 8.32it/s]\n",
      "  9%|9         |9/100[00:01<00:10, 8.87it/s]\n",
      "  9%|9         |9/100[00:01<00:10, 8.89it/s]\n",
      "  9%|9         |9/100[00:01<00:10, 8.92it/s]\n",
      "  9%|9         |9/100[00:01<00:11, 8.10it/s]\n",
      "  9%|9         |9/100[00:01<00:10, 8.88it/s]\n",
      "  9%|9         |9/100[00:01<00:10, 8.85it/s]\n",
      "  9%|9         |9/100[00:01<00:12, 7.50it/s]\n",
      "  9%|9         |9/100[00:01<00:10, 8.93it/s]\n",
      "  9%|9         |9/100[00:01<00:10, 8.51it/s]\n",
      "  9%|9         |9/100[00:01<00:10, 8.86it/s]\n",
      "  9%|9         |9/100[00:01<00:10, 8.38it/s]\n",
      "  9%|9         |9/100[00:01<00:10, 8.84it/s]\n",
      "  9%|9         |9/100[00:01<00:11, 8.04it/s]\n",
      "  9%|9         |9/100[00:01<00:11, 7.79it/s]\n",
      "  9%|9         |9/100[00:01<00:10, 8.63it/s]\n",
      "  9%|9         |9/100[00:01<00:10, 8.87it/s]\n",
      "  9%|9         |9/100[00:01<00:10, 8.39it/s]\n",
      "  9%|9         |9/100[00:01<00:12, 7.51it/s]\n",
      "  9%|9         |9/100[00:01<00:10, 8.92it/s]\n",
      "  9%|9         |9/100[00:01<00:10, 8.77it/s]\n",
      "  9%|9         |9/100[00:01<00:10, 8.92it/s]\n",
      "  9%|9         |9/100[00:01<00:10, 8.79it/s]\n",
      "  9%|9         |9/100[00:01<00:11, 8.02it/s]\n",
      "  9%|9         |9/100[00:01<00:10, 8.93it/s]\n",
      "  9%|9         |9/100[00:01<00:10, 8.93it/s]\n",
      "  9%|9         |9/100[00:01<00:10, 8.91it/s]\n",
      "  9%|9         |9/100[00:01<00:11, 7.96it/s]\n",
      "  9%|9         |9/100[00:01<00:10, 8.86it/s]\n",
      "  9%|9         |9/100[00:01<00:10, 8.89it/s]\n",
      "  9%|9         |9/100[00:01<00:10, 8.89it/s]\n",
      "  9%|9         |9/100[00:01<00:14, 6.50it/s]\n",
      "  9%|9         |9/100[00:01<00:10, 8.89it/s]\n",
      "  9%|9         |9/100[00:01<00:10, 8.87it/s]\n",
      "  9%|9         |9/100[00:01<00:10, 8.92it/s]\n",
      "  9%|9         |9/100[00:01<00:10, 8.35it/s]\n",
      "  9%|9         |9/100[00:01<00:10, 8.39it/s]\n",
      "  9%|9         |9/100[00:01<00:10, 8.90it/s]\n",
      "  9%|9         |9/100[00:01<00:11, 8.23it/s]\n",
      "  9%|9         |9/100[00:01<00:10, 8.29it/s]\n",
      "  9%|9         |9/100[00:01<00:10, 8.88it/s]\n",
      "  9%|9         |9/100[00:01<00:10, 8.86it/s]\n",
      "  9%|9         |9/100[00:01<00:10, 8.69it/s]\n",
      "  9%|9         |9/100[00:01<00:10, 8.90it/s]\n",
      "  9%|9         |9/100[00:01<00:10, 8.37it/s]\n",
      "  9%|9         |9/100[00:01<00:10, 8.90it/s]\n",
      "  9%|9         |9/100[00:01<00:10, 8.79it/s]\n",
      "  9%|9         |9/100[00:01<00:11, 8.17it/s]\n",
      "  9%|9         |9/100[00:01<00:10, 8.93it/s]\n",
      "  9%|9         |9/100[00:01<00:10, 8.92it/s]\n",
      "  9%|9         |9/100[00:01<00:10, 8.95it/s]\n",
      "  9%|9         |9/100[00:01<00:10, 8.88it/s]\n",
      "  9%|9         |9/100[00:01<00:10, 8.52it/s]\n",
      "  9%|9         |9/100[00:01<00:10, 8.92it/s]\n",
      "  9%|9         |9/100[00:01<00:10, 8.31it/s]\n",
      "  9%|9         |9/100[00:01<00:10, 8.66it/s]\n",
      "  9%|9         |9/100[00:01<00:11, 8.17it/s]\n",
      "  9%|9         |9/100[00:01<00:10, 8.72it/s]\n",
      "  9%|9         |9/100[00:01<00:10, 8.94it/s]\n",
      "  9%|9         |9/100[00:01<00:10, 8.89it/s]\n",
      "  9%|9         |9/100[00:01<00:10, 8.42it/s]\n",
      "  9%|9         |9/100[00:01<00:10, 8.87it/s]\n",
      "  0%|          |0/100[00:00<?,?it/s]"
     ]
    },
    {
     "name": "stdout",
     "output_type": "stream",
     "text": [
      "29\n"
     ]
    },
    {
     "name": "stderr",
     "output_type": "stream",
     "text": [
      "  9%|9         |9/100[00:01<00:10, 8.86it/s]\n",
      "  9%|9         |9/100[00:01<00:12, 7.48it/s]\n",
      "  9%|9         |9/100[00:01<00:10, 8.90it/s]\n",
      "  9%|9         |9/100[00:01<00:10, 8.87it/s]\n",
      "  9%|9         |9/100[00:01<00:10, 8.86it/s]\n",
      "  9%|9         |9/100[00:01<00:10, 8.54it/s]\n",
      "  9%|9         |9/100[00:01<00:10, 8.89it/s]\n",
      "  9%|9         |9/100[00:01<00:10, 8.71it/s]\n",
      "  9%|9         |9/100[00:01<00:10, 8.88it/s]\n",
      "  9%|9         |9/100[00:01<00:10, 8.84it/s]\n",
      "  9%|9         |9/100[00:01<00:10, 8.59it/s]\n",
      "  9%|9         |9/100[00:01<00:10, 8.86it/s]\n",
      "  9%|9         |9/100[00:01<00:10, 8.91it/s]\n",
      "  9%|9         |9/100[00:01<00:10, 8.35it/s]\n",
      "  9%|9         |9/100[00:01<00:10, 8.80it/s]\n",
      "  9%|9         |9/100[00:01<00:10, 8.86it/s]\n",
      "  9%|9         |9/100[00:01<00:12, 7.38it/s]\n",
      "  9%|9         |9/100[00:01<00:10, 8.34it/s]\n",
      "  9%|9         |9/100[00:01<00:10, 8.30it/s]\n",
      "  9%|9         |9/100[00:01<00:10, 8.75it/s]\n",
      "  9%|9         |9/100[00:01<00:10, 8.44it/s]\n",
      "  9%|9         |9/100[00:01<00:10, 8.88it/s]\n",
      "  9%|9         |9/100[00:01<00:10, 8.71it/s]\n",
      "  9%|9         |9/100[00:01<00:10, 8.89it/s]\n",
      "  9%|9         |9/100[00:01<00:10, 8.86it/s]\n",
      "  9%|9         |9/100[00:01<00:10, 8.86it/s]\n",
      "  9%|9         |9/100[00:01<00:10, 8.39it/s]\n",
      "  9%|9         |9/100[00:01<00:10, 8.92it/s]\n",
      "  9%|9         |9/100[00:01<00:10, 8.91it/s]\n",
      "  9%|9         |9/100[00:01<00:10, 8.90it/s]\n",
      "  9%|9         |9/100[00:01<00:10, 8.28it/s]\n",
      "  9%|9         |9/100[00:01<00:10, 8.42it/s]\n",
      "  9%|9         |9/100[00:01<00:10, 8.85it/s]\n",
      "  9%|9         |9/100[00:01<00:10, 8.88it/s]\n",
      "  9%|9         |9/100[00:01<00:10, 8.65it/s]\n",
      "  9%|9         |9/100[00:01<00:12, 7.55it/s]\n",
      "  9%|9         |9/100[00:01<00:10, 8.73it/s]\n",
      "  9%|9         |9/100[00:01<00:10, 8.77it/s]\n",
      "  9%|9         |9/100[00:01<00:10, 8.90it/s]\n",
      "  9%|9         |9/100[00:01<00:10, 8.59it/s]\n",
      "  9%|9         |9/100[00:01<00:10, 8.91it/s]\n",
      "  0%|          |0/100[00:00<?,?it/s]"
     ]
    },
    {
     "name": "stdout",
     "output_type": "stream",
     "text": [
      "30\n"
     ]
    },
    {
     "name": "stderr",
     "output_type": "stream",
     "text": [
      "  9%|9         |9/100[00:01<00:10, 8.89it/s]\n",
      "  9%|9         |9/100[00:01<00:10, 8.87it/s]\n",
      "  9%|9         |9/100[00:01<00:10, 8.53it/s]\n",
      "  9%|9         |9/100[00:01<00:10, 8.81it/s]\n",
      "  9%|9         |9/100[00:01<00:11, 8.21it/s]\n",
      "  9%|9         |9/100[00:01<00:12, 7.22it/s]\n",
      "  9%|9         |9/100[00:01<00:10, 8.85it/s]\n",
      "  9%|9         |9/100[00:01<00:10, 8.89it/s]\n",
      "  9%|9         |9/100[00:01<00:10, 8.90it/s]\n",
      "  9%|9         |9/100[00:01<00:11, 7.85it/s]\n",
      "  9%|9         |9/100[00:01<00:11, 8.19it/s]\n",
      "  9%|9         |9/100[00:01<00:10, 8.91it/s]\n",
      "  9%|9         |9/100[00:01<00:10, 8.87it/s]\n",
      "  9%|9         |9/100[00:01<00:10, 8.49it/s]\n",
      "  9%|9         |9/100[00:01<00:10, 8.89it/s]\n",
      "  9%|9         |9/100[00:01<00:10, 8.52it/s]\n",
      "  9%|9         |9/100[00:01<00:11, 8.05it/s]\n",
      "  9%|9         |9/100[00:01<00:10, 8.81it/s]\n",
      "  9%|9         |9/100[00:01<00:10, 8.89it/s]\n",
      "  9%|9         |9/100[00:01<00:10, 8.85it/s]\n",
      "  9%|9         |9/100[00:01<00:10, 8.58it/s]\n",
      "  9%|9         |9/100[00:01<00:10, 8.90it/s]\n",
      "  9%|9         |9/100[00:01<00:10, 8.91it/s]\n",
      "  9%|9         |9/100[00:01<00:10, 8.85it/s]\n",
      "  9%|9         |9/100[00:01<00:11, 7.94it/s]\n",
      "  9%|9         |9/100[00:01<00:10, 8.76it/s]\n",
      "  9%|9         |9/100[00:01<00:10, 8.90it/s]\n",
      "  9%|9         |9/100[00:01<00:10, 8.90it/s]\n",
      "  9%|9         |9/100[00:01<00:10, 8.50it/s]\n",
      "  9%|9         |9/100[00:01<00:10, 8.42it/s]\n",
      "  9%|9         |9/100[00:01<00:10, 8.89it/s]\n",
      "  9%|9         |9/100[00:01<00:10, 8.89it/s]\n",
      "  9%|9         |9/100[00:01<00:10, 8.89it/s]\n",
      "  9%|9         |9/100[00:01<00:10, 8.28it/s]\n",
      "  9%|9         |9/100[00:01<00:10, 8.90it/s]\n",
      "  9%|9         |9/100[00:01<00:10, 8.87it/s]\n",
      "  9%|9         |9/100[00:01<00:10, 8.85it/s]\n",
      "  9%|9         |9/100[00:01<00:10, 8.41it/s]\n",
      "  9%|9         |9/100[00:01<00:10, 8.89it/s]\n",
      "  9%|9         |9/100[00:01<00:10, 8.63it/s]\n",
      "  0%|          |0/100[00:00<?,?it/s]"
     ]
    },
    {
     "name": "stdout",
     "output_type": "stream",
     "text": [
      "31\n"
     ]
    },
    {
     "name": "stderr",
     "output_type": "stream",
     "text": [
      "  9%|9         |9/100[00:01<00:10, 8.92it/s]\n",
      "  9%|9         |9/100[00:01<00:10, 8.91it/s]\n",
      "  9%|9         |9/100[00:01<00:10, 8.75it/s]\n",
      "  9%|9         |9/100[00:01<00:10, 8.79it/s]\n",
      "  9%|9         |9/100[00:01<00:10, 8.81it/s]\n",
      "  9%|9         |9/100[00:01<00:10, 8.88it/s]\n",
      "  9%|9         |9/100[00:01<00:10, 8.41it/s]\n",
      "  9%|9         |9/100[00:01<00:11, 8.13it/s]\n",
      "  9%|9         |9/100[00:01<00:10, 8.92it/s]\n",
      "  9%|9         |9/100[00:01<00:10, 8.90it/s]\n",
      "  9%|9         |9/100[00:01<00:12, 7.38it/s]\n",
      "  9%|9         |9/100[00:01<00:10, 8.86it/s]\n",
      "  9%|9         |9/100[00:01<00:10, 8.90it/s]\n",
      "  9%|9         |9/100[00:01<00:10, 8.73it/s]\n",
      "  9%|9         |9/100[00:01<00:10, 8.50it/s]\n",
      "  9%|9         |9/100[00:01<00:11, 8.09it/s]\n",
      "  9%|9         |9/100[00:01<00:10, 8.79it/s]\n",
      "  9%|9         |9/100[00:01<00:10, 8.68it/s]\n",
      "  0%|          |0/100[00:00<?,?it/s]"
     ]
    },
    {
     "name": "stdout",
     "output_type": "stream",
     "text": [
      "32\n"
     ]
    },
    {
     "name": "stderr",
     "output_type": "stream",
     "text": [
      "  9%|9         |9/100[00:01<00:10, 8.44it/s]\n",
      "  9%|9         |9/100[00:01<00:10, 8.67it/s]\n",
      "  9%|9         |9/100[00:01<00:11, 8.27it/s]\n",
      "  9%|9         |9/100[00:01<00:11, 8.17it/s]\n",
      "  9%|9         |9/100[00:01<00:10, 8.87it/s]\n",
      "  9%|9         |9/100[00:01<00:11, 8.27it/s]\n",
      "  9%|9         |9/100[00:01<00:10, 8.89it/s]\n",
      "  9%|9         |9/100[00:01<00:10, 8.90it/s]\n",
      "  9%|9         |9/100[00:01<00:10, 8.88it/s]\n",
      "  9%|9         |9/100[00:01<00:11, 7.86it/s]\n",
      "  9%|9         |9/100[00:01<00:10, 8.93it/s]\n",
      "  9%|9         |9/100[00:01<00:10, 8.84it/s]\n",
      "  9%|9         |9/100[00:01<00:10, 8.92it/s]\n",
      "  9%|9         |9/100[00:01<00:10, 8.34it/s]\n",
      "  9%|9         |9/100[00:01<00:10, 8.88it/s]\n",
      "  9%|9         |9/100[00:01<00:12, 7.56it/s]\n",
      "  9%|9         |9/100[00:01<00:10, 8.88it/s]\n",
      "  9%|9         |9/100[00:01<00:11, 8.12it/s]\n",
      "  9%|9         |9/100[00:01<00:10, 8.94it/s]\n",
      "  9%|9         |9/100[00:01<00:10, 8.89it/s]\n",
      "  9%|9         |9/100[00:01<00:10, 8.59it/s]\n",
      "  9%|9         |9/100[00:01<00:10, 8.72it/s]\n",
      "  9%|9         |9/100[00:01<00:10, 8.84it/s]\n",
      "  9%|9         |9/100[00:01<00:10, 8.69it/s]\n",
      "  9%|9         |9/100[00:01<00:10, 8.88it/s]\n",
      "  9%|9         |9/100[00:01<00:10, 8.90it/s]\n",
      "  9%|9         |9/100[00:01<00:10, 8.73it/s]\n",
      "  9%|9         |9/100[00:01<00:10, 8.43it/s]\n",
      "  9%|9         |9/100[00:01<00:10, 8.88it/s]\n",
      "  9%|9         |9/100[00:01<00:10, 8.44it/s]\n",
      "  9%|9         |9/100[00:01<00:11, 7.91it/s]\n",
      "  9%|9         |9/100[00:01<00:10, 8.91it/s]\n",
      "  9%|9         |9/100[00:01<00:10, 8.44it/s]\n",
      "  9%|9         |9/100[00:01<00:10, 8.88it/s]\n",
      "  9%|9         |9/100[00:01<00:10, 8.93it/s]\n",
      "  9%|9         |9/100[00:01<00:10, 8.80it/s]\n",
      "  9%|9         |9/100[00:01<00:10, 8.90it/s]\n",
      "  9%|9         |9/100[00:01<00:11, 8.18it/s]\n",
      "  9%|9         |9/100[00:01<00:10, 8.94it/s]\n",
      "  9%|9         |9/100[00:01<00:10, 8.41it/s]\n",
      "  9%|9         |9/100[00:01<00:10, 8.64it/s]\n",
      "  9%|9         |9/100[00:01<00:11, 8.01it/s]\n",
      "  9%|9         |9/100[00:01<00:10, 8.38it/s]\n",
      "  9%|9         |9/100[00:01<00:10, 8.88it/s]\n",
      "  9%|9         |9/100[00:01<00:11, 7.83it/s]\n",
      "  9%|9         |9/100[00:01<00:10, 8.41it/s]\n",
      "  9%|9         |9/100[00:01<00:10, 8.39it/s]\n",
      "  9%|9         |9/100[00:01<00:10, 8.88it/s]\n",
      "  9%|9         |9/100[00:01<00:10, 8.92it/s]\n",
      "  9%|9         |9/100[00:01<00:10, 8.47it/s]\n",
      "  9%|9         |9/100[00:01<00:10, 8.61it/s]\n",
      "  9%|9         |9/100[00:01<00:10, 8.43it/s]\n",
      "  9%|9         |9/100[00:01<00:10, 8.45it/s]\n",
      "  9%|9         |9/100[00:01<00:10, 8.81it/s]\n",
      "  9%|9         |9/100[00:01<00:10, 8.52it/s]\n",
      "  9%|9         |9/100[00:01<00:10, 8.91it/s]\n",
      "  9%|9         |9/100[00:01<00:10, 8.87it/s]\n",
      "  9%|9         |9/100[00:01<00:10, 8.84it/s]\n",
      "  9%|9         |9/100[00:01<00:10, 8.90it/s]\n",
      "  9%|9         |9/100[00:01<00:10, 8.89it/s]\n",
      "  9%|9         |9/100[00:01<00:10, 8.76it/s]\n",
      "  9%|9         |9/100[00:01<00:10, 8.90it/s]\n",
      "  9%|9         |9/100[00:01<00:10, 8.28it/s]\n",
      "  9%|9         |9/100[00:01<00:10, 8.64it/s]\n",
      "  9%|9         |9/100[00:01<00:11, 7.78it/s]\n",
      "  9%|9         |9/100[00:01<00:10, 8.92it/s]\n",
      "  9%|9         |9/100[00:01<00:10, 8.88it/s]\n",
      "  0%|          |0/100[00:00<?,?it/s]"
     ]
    },
    {
     "name": "stdout",
     "output_type": "stream",
     "text": [
      "33\n"
     ]
    },
    {
     "name": "stderr",
     "output_type": "stream",
     "text": [
      "  9%|9         |9/100[00:01<00:10, 8.80it/s]\n",
      "  9%|9         |9/100[00:01<00:11, 7.84it/s]\n",
      "  9%|9         |9/100[00:01<00:10, 8.90it/s]\n",
      "  9%|9         |9/100[00:01<00:10, 8.59it/s]\n",
      "  9%|9         |9/100[00:01<00:10, 8.90it/s]\n",
      "  9%|9         |9/100[00:01<00:10, 8.77it/s]\n",
      "  9%|9         |9/100[00:01<00:10, 8.87it/s]\n",
      "  9%|9         |9/100[00:01<00:11, 8.08it/s]\n",
      "  9%|9         |9/100[00:01<00:10, 8.30it/s]\n",
      "  9%|9         |9/100[00:01<00:11, 8.12it/s]\n",
      "  9%|9         |9/100[00:01<00:10, 8.71it/s]\n",
      "  9%|9         |9/100[00:01<00:10, 8.89it/s]\n",
      "  9%|9         |9/100[00:01<00:10, 8.92it/s]\n",
      "  9%|9         |9/100[00:01<00:10, 8.92it/s]\n",
      "  9%|9         |9/100[00:01<00:10, 8.92it/s]\n",
      "  9%|9         |9/100[00:01<00:10, 8.89it/s]\n",
      "  9%|9         |9/100[00:01<00:10, 8.59it/s]\n",
      "  9%|9         |9/100[00:01<00:10, 8.87it/s]\n",
      "  9%|9         |9/100[00:01<00:10, 8.91it/s]\n",
      "  9%|9         |9/100[00:01<00:10, 8.84it/s]\n",
      "  9%|9         |9/100[00:01<00:10, 8.43it/s]\n",
      "  9%|9         |9/100[00:01<00:10, 8.67it/s]\n",
      "  9%|9         |9/100[00:01<00:10, 8.88it/s]\n",
      "  9%|9         |9/100[00:01<00:10, 8.30it/s]\n",
      "  9%|9         |9/100[00:01<00:10, 8.57it/s]\n",
      "  9%|9         |9/100[00:01<00:10, 8.59it/s]\n",
      "  9%|9         |9/100[00:01<00:10, 8.85it/s]\n",
      "  9%|9         |9/100[00:01<00:10, 8.87it/s]\n",
      "  9%|9         |9/100[00:01<00:10, 8.46it/s]\n",
      "  9%|9         |9/100[00:01<00:10, 8.89it/s]\n",
      "  9%|9         |9/100[00:01<00:10, 8.91it/s]\n",
      "  9%|9         |9/100[00:01<00:10, 8.92it/s]\n",
      "  9%|9         |9/100[00:01<00:10, 8.89it/s]\n",
      "  9%|9         |9/100[00:01<00:11, 7.83it/s]\n",
      "  9%|9         |9/100[00:01<00:11, 8.17it/s]\n",
      "  9%|9         |9/100[00:01<00:10, 8.80it/s]\n",
      "  0%|          |0/100[00:00<?,?it/s]"
     ]
    },
    {
     "name": "stdout",
     "output_type": "stream",
     "text": [
      "34\n"
     ]
    },
    {
     "name": "stderr",
     "output_type": "stream",
     "text": [
      "  9%|9         |9/100[00:01<00:10, 8.83it/s]\n",
      "  9%|9         |9/100[00:01<00:10, 8.87it/s]\n",
      "  9%|9         |9/100[00:01<00:10, 8.58it/s]\n",
      "  9%|9         |9/100[00:01<00:10, 8.92it/s]\n",
      "  9%|9         |9/100[00:01<00:10, 8.86it/s]\n",
      "  9%|9         |9/100[00:01<00:10, 8.87it/s]\n",
      "  9%|9         |9/100[00:01<00:10, 8.92it/s]\n",
      "  9%|9         |9/100[00:01<00:10, 8.40it/s]\n",
      "  9%|9         |9/100[00:01<00:11, 7.62it/s]\n",
      "  9%|9         |9/100[00:01<00:10, 8.91it/s]\n",
      "  9%|9         |9/100[00:01<00:10, 8.72it/s]\n",
      "  9%|9         |9/100[00:01<00:10, 8.87it/s]\n",
      "  9%|9         |9/100[00:01<00:10, 8.87it/s]\n",
      "  9%|9         |9/100[00:01<00:10, 8.92it/s]\n",
      "  9%|9         |9/100[00:01<00:10, 8.50it/s]\n",
      "  9%|9         |9/100[00:01<00:10, 8.92it/s]\n",
      "  9%|9         |9/100[00:01<00:10, 8.33it/s]\n",
      "  9%|9         |9/100[00:01<00:10, 8.88it/s]\n",
      "  9%|9         |9/100[00:01<00:10, 8.50it/s]\n",
      "  9%|9         |9/100[00:01<00:10, 8.88it/s]\n",
      "  9%|9         |9/100[00:01<00:10, 8.65it/s]\n",
      "  9%|9         |9/100[00:01<00:10, 8.91it/s]\n",
      "  9%|9         |9/100[00:01<00:10, 8.46it/s]\n",
      "  9%|9         |9/100[00:01<00:10, 8.88it/s]\n",
      "  9%|9         |9/100[00:01<00:10, 8.70it/s]\n",
      "  9%|9         |9/100[00:01<00:10, 8.90it/s]\n",
      "  9%|9         |9/100[00:01<00:10, 8.93it/s]\n",
      "  9%|9         |9/100[00:01<00:10, 8.86it/s]\n",
      "  9%|9         |9/100[00:01<00:10, 8.88it/s]\n",
      "  9%|9         |9/100[00:01<00:10, 8.87it/s]\n",
      "  9%|9         |9/100[00:01<00:10, 8.56it/s]\n",
      "  9%|9         |9/100[00:01<00:10, 8.84it/s]\n",
      "  9%|9         |9/100[00:01<00:10, 8.49it/s]\n",
      "  9%|9         |9/100[00:01<00:10, 8.69it/s]\n",
      "  9%|9         |9/100[00:01<00:10, 8.87it/s]\n",
      "  9%|9         |9/100[00:01<00:10, 8.81it/s]\n",
      "  9%|9         |9/100[00:01<00:10, 8.88it/s]\n",
      "  9%|9         |9/100[00:01<00:10, 8.90it/s]\n",
      "  9%|9         |9/100[00:01<00:10, 8.85it/s]\n",
      "  9%|9         |9/100[00:01<00:10, 8.69it/s]\n",
      "  9%|9         |9/100[00:01<00:10, 8.59it/s]\n",
      "  9%|9         |9/100[00:01<00:10, 8.54it/s]\n",
      "  9%|9         |9/100[00:01<00:10, 8.89it/s]\n",
      "  9%|9         |9/100[00:01<00:10, 8.62it/s]\n",
      "  9%|9         |9/100[00:01<00:11, 8.12it/s]\n",
      "  9%|9         |9/100[00:01<00:10, 8.31it/s]\n",
      "  9%|9         |9/100[00:01<00:11, 8.03it/s]\n",
      "  9%|9         |9/100[00:01<00:10, 8.66it/s]\n",
      "  9%|9         |9/100[00:01<00:10, 8.91it/s]\n",
      "  9%|9         |9/100[00:01<00:10, 8.84it/s]\n",
      "  9%|9         |9/100[00:01<00:10, 8.89it/s]\n",
      "  9%|9         |9/100[00:01<00:10, 8.89it/s]\n",
      "  9%|9         |9/100[00:01<00:10, 8.89it/s]\n",
      "  9%|9         |9/100[00:01<00:10, 8.88it/s]\n",
      "  9%|9         |9/100[00:01<00:10, 8.37it/s]\n",
      "  9%|9         |9/100[00:01<00:10, 8.89it/s]\n",
      "  9%|9         |9/100[00:01<00:10, 8.89it/s]\n",
      "  0%|          |0/100[00:00<?,?it/s]"
     ]
    },
    {
     "name": "stdout",
     "output_type": "stream",
     "text": [
      "35\n"
     ]
    },
    {
     "name": "stderr",
     "output_type": "stream",
     "text": [
      "  9%|9         |9/100[00:01<00:10, 8.80it/s]\n",
      "  9%|9         |9/100[00:01<00:11, 7.80it/s]\n",
      "  9%|9         |9/100[00:01<00:10, 8.85it/s]\n",
      "  9%|9         |9/100[00:01<00:10, 8.91it/s]\n",
      "  9%|9         |9/100[00:01<00:10, 8.91it/s]\n",
      "  9%|9         |9/100[00:01<00:10, 8.89it/s]\n",
      "  9%|9         |9/100[00:01<00:10, 8.66it/s]\n",
      "  9%|9         |9/100[00:01<00:11, 7.79it/s]\n",
      "  9%|9         |9/100[00:01<00:10, 8.40it/s]\n",
      "  9%|9         |9/100[00:01<00:10, 8.70it/s]\n",
      "  9%|9         |9/100[00:01<00:10, 8.58it/s]\n",
      "  9%|9         |9/100[00:01<00:10, 8.56it/s]\n",
      "  9%|9         |9/100[00:01<00:12, 7.50it/s]\n",
      "  9%|9         |9/100[00:01<00:10, 8.91it/s]\n",
      "  9%|9         |9/100[00:01<00:10, 8.90it/s]\n",
      "  9%|9         |9/100[00:01<00:10, 8.91it/s]\n",
      "  9%|9         |9/100[00:01<00:10, 8.60it/s]\n",
      "  9%|9         |9/100[00:01<00:10, 8.90it/s]\n",
      "  9%|9         |9/100[00:01<00:10, 8.84it/s]\n",
      "  9%|9         |9/100[00:01<00:10, 8.36it/s]\n",
      "  9%|9         |9/100[00:01<00:10, 8.33it/s]\n",
      "  9%|9         |9/100[00:01<00:10, 8.86it/s]\n",
      "  9%|9         |9/100[00:01<00:11, 7.72it/s]\n",
      "  9%|9         |9/100[00:01<00:10, 8.60it/s]\n",
      "  9%|9         |9/100[00:01<00:11, 7.70it/s]\n",
      "  9%|9         |9/100[00:01<00:10, 8.67it/s]\n",
      "  9%|9         |9/100[00:01<00:13, 6.70it/s]\n",
      "  9%|9         |9/100[00:01<00:12, 7.49it/s]\n",
      "  9%|9         |9/100[00:01<00:10, 8.82it/s]\n",
      "  9%|9         |9/100[00:01<00:10, 8.39it/s]\n",
      "  9%|9         |9/100[00:01<00:10, 8.92it/s]\n",
      "  9%|9         |9/100[00:01<00:11, 7.81it/s]\n",
      "  9%|9         |9/100[00:01<00:10, 8.77it/s]\n",
      "  9%|9         |9/100[00:01<00:10, 8.40it/s]\n",
      "  0%|          |0/100[00:00<?,?it/s]"
     ]
    },
    {
     "name": "stdout",
     "output_type": "stream",
     "text": [
      "36\n"
     ]
    },
    {
     "name": "stderr",
     "output_type": "stream",
     "text": [
      "  9%|9         |9/100[00:01<00:10, 8.90it/s]\n",
      "  9%|9         |9/100[00:01<00:11, 8.15it/s]\n",
      "  9%|9         |9/100[00:01<00:10, 8.89it/s]\n",
      "  9%|9         |9/100[00:01<00:10, 8.87it/s]\n",
      "  9%|9         |9/100[00:01<00:10, 8.86it/s]\n",
      "  9%|9         |9/100[00:01<00:10, 8.91it/s]\n",
      "  9%|9         |9/100[00:01<00:10, 8.85it/s]\n",
      "  9%|9         |9/100[00:01<00:10, 8.87it/s]\n",
      "  9%|9         |9/100[00:01<00:10, 8.91it/s]\n",
      "  9%|9         |9/100[00:01<00:11, 7.80it/s]\n",
      "  9%|9         |9/100[00:01<00:10, 8.52it/s]\n",
      "  9%|9         |9/100[00:01<00:12, 7.50it/s]\n",
      "  9%|9         |9/100[00:01<00:10, 8.83it/s]\n",
      "  9%|9         |9/100[00:01<00:10, 8.94it/s]\n",
      "  9%|9         |9/100[00:01<00:10, 8.88it/s]\n",
      "  9%|9         |9/100[00:01<00:11, 8.15it/s]\n",
      "  9%|9         |9/100[00:01<00:10, 8.91it/s]\n",
      "  0%|          |0/100[00:00<?,?it/s]"
     ]
    },
    {
     "name": "stdout",
     "output_type": "stream",
     "text": [
      "37\n"
     ]
    },
    {
     "name": "stderr",
     "output_type": "stream",
     "text": [
      "  9%|9         |9/100[00:01<00:10, 8.90it/s]\n",
      "  9%|9         |9/100[00:01<00:11, 7.98it/s]\n",
      "  9%|9         |9/100[00:01<00:10, 8.43it/s]\n",
      "  0%|          |0/100[00:00<?,?it/s]"
     ]
    },
    {
     "name": "stdout",
     "output_type": "stream",
     "text": [
      "38\n"
     ]
    },
    {
     "name": "stderr",
     "output_type": "stream",
     "text": [
      "  9%|9         |9/100[00:01<00:10, 8.32it/s]\n",
      "  9%|9         |9/100[00:01<00:10, 8.48it/s]\n",
      "  9%|9         |9/100[00:01<00:10, 8.84it/s]\n",
      "  9%|9         |9/100[00:01<00:10, 8.89it/s]\n",
      "  9%|9         |9/100[00:01<00:10, 8.29it/s]\n",
      "  9%|9         |9/100[00:01<00:10, 8.84it/s]\n",
      "  9%|9         |9/100[00:01<00:10, 8.86it/s]\n",
      "  9%|9         |9/100[00:01<00:10, 8.95it/s]\n",
      "  9%|9         |9/100[00:01<00:10, 8.89it/s]\n",
      "  9%|9         |9/100[00:01<00:10, 8.85it/s]\n",
      "  9%|9         |9/100[00:01<00:11, 7.79it/s]\n",
      "  9%|9         |9/100[00:01<00:10, 8.85it/s]\n",
      "  9%|9         |9/100[00:01<00:10, 8.89it/s]\n",
      "  9%|9         |9/100[00:01<00:10, 8.88it/s]\n",
      "  9%|9         |9/100[00:01<00:10, 8.55it/s]\n",
      "  9%|9         |9/100[00:01<00:10, 8.87it/s]\n",
      "  9%|9         |9/100[00:01<00:10, 8.60it/s]\n",
      "  9%|9         |9/100[00:01<00:10, 8.46it/s]\n",
      "  9%|9         |9/100[00:01<00:10, 8.32it/s]\n",
      "  9%|9         |9/100[00:01<00:11, 7.87it/s]\n",
      "  9%|9         |9/100[00:01<00:10, 8.52it/s]\n",
      "  9%|9         |9/100[00:01<00:10, 8.88it/s]\n",
      "  9%|9         |9/100[00:01<00:11, 8.27it/s]\n",
      "  9%|9         |9/100[00:01<00:10, 8.92it/s]\n",
      "  9%|9         |9/100[00:01<00:11, 8.25it/s]\n",
      "  9%|9         |9/100[00:01<00:10, 8.85it/s]\n",
      "  9%|9         |9/100[00:01<00:10, 8.83it/s]\n",
      "  9%|9         |9/100[00:01<00:11, 8.23it/s]\n",
      "  9%|9         |9/100[00:01<00:10, 8.91it/s]\n",
      "  9%|9         |9/100[00:01<00:10, 8.74it/s]\n",
      "  9%|9         |9/100[00:01<00:10, 8.89it/s]\n",
      "  9%|9         |9/100[00:01<00:10, 8.62it/s]\n",
      "  9%|9         |9/100[00:01<00:10, 8.46it/s]\n",
      "  9%|9         |9/100[00:01<00:10, 8.89it/s]\n",
      "  9%|9         |9/100[00:01<00:10, 8.52it/s]\n",
      "  9%|9         |9/100[00:01<00:10, 8.90it/s]\n",
      "  9%|9         |9/100[00:01<00:10, 8.90it/s]\n",
      "  9%|9         |9/100[00:01<00:10, 8.88it/s]\n",
      "  9%|9         |9/100[00:01<00:10, 8.66it/s]\n",
      "  9%|9         |9/100[00:01<00:11, 8.07it/s]\n",
      "  9%|9         |9/100[00:01<00:10, 8.83it/s]\n",
      "  9%|9         |9/100[00:01<00:10, 8.86it/s]\n",
      "  9%|9         |9/100[00:01<00:10, 8.86it/s]\n",
      "  9%|9         |9/100[00:01<00:10, 8.71it/s]\n",
      "  9%|9         |9/100[00:01<00:10, 8.62it/s]\n",
      "  9%|9         |9/100[00:01<00:11, 8.21it/s]\n",
      "  9%|9         |9/100[00:01<00:10, 8.89it/s]\n",
      "  9%|9         |9/100[00:01<00:10, 8.88it/s]\n",
      "  9%|9         |9/100[00:01<00:11, 7.98it/s]\n",
      "  9%|9         |9/100[00:01<00:10, 8.87it/s]\n",
      "  9%|9         |9/100[00:01<00:10, 8.52it/s]\n",
      "  9%|9         |9/100[00:01<00:10, 8.89it/s]\n",
      "  9%|9         |9/100[00:01<00:11, 7.73it/s]\n",
      "  9%|9         |9/100[00:01<00:11, 8.12it/s]\n",
      "  9%|9         |9/100[00:01<00:10, 8.43it/s]\n",
      "  9%|9         |9/100[00:01<00:10, 8.89it/s]\n",
      "  9%|9         |9/100[00:01<00:10, 8.88it/s]\n",
      "  9%|9         |9/100[00:01<00:10, 8.93it/s]\n",
      "  9%|9         |9/100[00:01<00:10, 8.42it/s]\n",
      "  9%|9         |9/100[00:01<00:10, 8.89it/s]\n",
      "  9%|9         |9/100[00:01<00:10, 8.57it/s]\n",
      "  9%|9         |9/100[00:01<00:10, 8.92it/s]\n",
      "  9%|9         |9/100[00:01<00:10, 8.90it/s]\n",
      "  9%|9         |9/100[00:01<00:10, 8.38it/s]\n",
      "  9%|9         |9/100[00:01<00:10, 8.32it/s]\n",
      "  9%|9         |9/100[00:01<00:10, 8.76it/s]\n",
      "  9%|9         |9/100[00:01<00:10, 8.47it/s]\n",
      "  9%|9         |9/100[00:01<00:10, 8.47it/s]\n",
      "  9%|9         |9/100[00:01<00:10, 8.87it/s]\n",
      "  9%|9         |9/100[00:01<00:12, 7.35it/s]\n",
      "  9%|9         |9/100[00:01<00:10, 8.69it/s]\n",
      "  9%|9         |9/100[00:01<00:10, 8.92it/s]\n",
      "  9%|9         |9/100[00:01<00:10, 8.46it/s]\n",
      "  9%|9         |9/100[00:01<00:10, 8.90it/s]\n",
      "  9%|9         |9/100[00:01<00:10, 8.89it/s]\n",
      "  9%|9         |9/100[00:01<00:10, 8.60it/s]\n",
      "  9%|9         |9/100[00:01<00:10, 8.82it/s]\n",
      "  9%|9         |9/100[00:01<00:10, 8.90it/s]\n",
      "  9%|9         |9/100[00:01<00:10, 8.59it/s]\n",
      "  9%|9         |9/100[00:01<00:10, 8.71it/s]\n",
      "  9%|9         |9/100[00:01<00:10, 8.92it/s]\n",
      "  9%|9         |9/100[00:01<00:10, 8.88it/s]\n",
      "  9%|9         |9/100[00:01<00:10, 8.92it/s]\n",
      "  9%|9         |9/100[00:01<00:11, 8.02it/s]\n",
      "  9%|9         |9/100[00:01<00:10, 8.88it/s]\n",
      "  9%|9         |9/100[00:01<00:10, 8.89it/s]\n",
      "  9%|9         |9/100[00:01<00:10, 8.95it/s]\n",
      "  9%|9         |9/100[00:01<00:10, 8.88it/s]\n",
      "  9%|9         |9/100[00:01<00:10, 8.89it/s]\n",
      "  9%|9         |9/100[00:01<00:10, 8.90it/s]\n",
      "  9%|9         |9/100[00:01<00:10, 8.59it/s]\n",
      "  9%|9         |9/100[00:01<00:10, 8.88it/s]\n",
      "  9%|9         |9/100[00:01<00:10, 8.88it/s]\n",
      "  9%|9         |9/100[00:01<00:10, 8.37it/s]\n",
      "  9%|9         |9/100[00:01<00:10, 8.86it/s]\n",
      "  9%|9         |9/100[00:01<00:11, 8.12it/s]\n",
      "  9%|9         |9/100[00:01<00:10, 8.88it/s]\n",
      "  9%|9         |9/100[00:01<00:10, 8.87it/s]\n",
      "  9%|9         |9/100[00:01<00:11, 8.08it/s]\n",
      "  9%|9         |9/100[00:01<00:10, 8.91it/s]\n",
      "  9%|9         |9/100[00:01<00:10, 8.90it/s]\n",
      "  9%|9         |9/100[00:01<00:10, 8.89it/s]\n",
      "  9%|9         |9/100[00:01<00:10, 8.32it/s]\n",
      "  9%|9         |9/100[00:01<00:10, 8.88it/s]\n",
      "  9%|9         |9/100[00:01<00:10, 8.71it/s]\n",
      "  0%|          |0/100[00:00<?,?it/s]"
     ]
    },
    {
     "name": "stdout",
     "output_type": "stream",
     "text": [
      "39\n"
     ]
    },
    {
     "name": "stderr",
     "output_type": "stream",
     "text": [
      "  9%|9         |9/100[00:01<00:10, 8.66it/s]\n",
      "  9%|9         |9/100[00:01<00:10, 8.88it/s]\n",
      "  9%|9         |9/100[00:01<00:10, 8.58it/s]\n",
      "  9%|9         |9/100[00:01<00:10, 8.66it/s]\n",
      "  9%|9         |9/100[00:01<00:10, 8.36it/s]\n",
      "  9%|9         |9/100[00:01<00:10, 8.88it/s]\n",
      "  9%|9         |9/100[00:01<00:11, 8.13it/s]\n",
      "  9%|9         |9/100[00:01<00:10, 8.60it/s]\n",
      "  9%|9         |9/100[00:01<00:10, 8.88it/s]\n",
      "  9%|9         |9/100[00:01<00:10, 8.90it/s]\n",
      "  9%|9         |9/100[00:01<00:11, 7.96it/s]\n",
      "  9%|9         |9/100[00:01<00:10, 8.86it/s]\n",
      "  9%|9         |9/100[00:01<00:10, 8.44it/s]\n",
      "  9%|9         |9/100[00:01<00:10, 8.86it/s]\n",
      "  9%|9         |9/100[00:01<00:10, 8.84it/s]\n",
      "  9%|9         |9/100[00:01<00:10, 8.86it/s]\n",
      "  9%|9         |9/100[00:01<00:10, 8.87it/s]\n",
      "  9%|9         |9/100[00:01<00:10, 8.85it/s]\n",
      "  9%|9         |9/100[00:01<00:11, 8.14it/s]\n",
      "  9%|9         |9/100[00:01<00:10, 8.90it/s]\n",
      "  9%|9         |9/100[00:01<00:11, 8.15it/s]\n",
      "  9%|9         |9/100[00:01<00:10, 8.92it/s]\n",
      "  9%|9         |9/100[00:01<00:10, 8.85it/s]\n",
      "  9%|9         |9/100[00:01<00:10, 8.91it/s]\n",
      "  9%|9         |9/100[00:01<00:10, 8.91it/s]\n",
      "  9%|9         |9/100[00:01<00:10, 8.87it/s]\n",
      "  9%|9         |9/100[00:01<00:10, 8.90it/s]\n",
      "  9%|9         |9/100[00:01<00:10, 8.88it/s]\n",
      "  9%|9         |9/100[00:01<00:10, 8.87it/s]\n",
      "  9%|9         |9/100[00:01<00:10, 8.85it/s]\n",
      "  9%|9         |9/100[00:01<00:10, 8.90it/s]\n",
      "  9%|9         |9/100[00:01<00:10, 8.41it/s]\n",
      "  9%|9         |9/100[00:01<00:10, 8.68it/s]\n",
      "  9%|9         |9/100[00:01<00:10, 8.89it/s]\n",
      "  9%|9         |9/100[00:01<00:11, 7.60it/s]\n",
      "  0%|          |0/100[00:00<?,?it/s]"
     ]
    },
    {
     "name": "stdout",
     "output_type": "stream",
     "text": [
      "40\n"
     ]
    },
    {
     "name": "stderr",
     "output_type": "stream",
     "text": [
      "  9%|9         |9/100[00:01<00:10, 8.85it/s]\n",
      "  9%|9         |9/100[00:01<00:10, 8.68it/s]\n",
      "  9%|9         |9/100[00:01<00:10, 8.68it/s]\n",
      "  9%|9         |9/100[00:01<00:10, 8.86it/s]\n",
      "  9%|9         |9/100[00:01<00:10, 8.41it/s]\n",
      "  9%|9         |9/100[00:01<00:10, 8.84it/s]\n",
      "  9%|9         |9/100[00:01<00:10, 8.86it/s]\n",
      "  9%|9         |9/100[00:01<00:10, 8.71it/s]\n",
      "  9%|9         |9/100[00:01<00:10, 8.84it/s]\n",
      "  9%|9         |9/100[00:01<00:10, 8.90it/s]\n",
      "  9%|9         |9/100[00:01<00:12, 7.56it/s]\n",
      "  9%|9         |9/100[00:01<00:10, 8.87it/s]\n",
      "  9%|9         |9/100[00:01<00:12, 7.05it/s]\n",
      "  9%|9         |9/100[00:01<00:10, 8.89it/s]\n",
      "  9%|9         |9/100[00:01<00:10, 8.91it/s]\n",
      "  9%|9         |9/100[00:01<00:10, 8.61it/s]\n",
      "  9%|9         |9/100[00:01<00:10, 8.30it/s]\n",
      "  9%|9         |9/100[00:01<00:10, 8.91it/s]\n",
      "  9%|9         |9/100[00:01<00:10, 8.90it/s]\n",
      "  9%|9         |9/100[00:01<00:11, 7.88it/s]\n",
      "  9%|9         |9/100[00:01<00:10, 8.92it/s]\n",
      "  9%|9         |9/100[00:01<00:10, 8.87it/s]\n",
      "  9%|9         |9/100[00:01<00:10, 8.62it/s]\n",
      "  9%|9         |9/100[00:01<00:10, 8.91it/s]\n",
      "  9%|9         |9/100[00:01<00:10, 8.72it/s]\n",
      "  9%|9         |9/100[00:01<00:11, 8.20it/s]\n",
      "  9%|9         |9/100[00:01<00:10, 8.87it/s]\n",
      "  9%|9         |9/100[00:01<00:10, 8.87it/s]\n",
      "  9%|9         |9/100[00:01<00:10, 8.91it/s]\n",
      "  9%|9         |9/100[00:01<00:10, 8.38it/s]\n",
      "  9%|9         |9/100[00:01<00:10, 8.89it/s]\n",
      "  9%|9         |9/100[00:01<00:11, 7.67it/s]\n",
      "  0%|          |0/100[00:00<?,?it/s]"
     ]
    },
    {
     "name": "stdout",
     "output_type": "stream",
     "text": [
      "41\n"
     ]
    },
    {
     "name": "stderr",
     "output_type": "stream",
     "text": [
      "  9%|9         |9/100[00:01<00:13, 6.72it/s]\n",
      "  9%|9         |9/100[00:01<00:10, 8.29it/s]\n",
      "  9%|9         |9/100[00:01<00:10, 8.79it/s]\n",
      "  9%|9         |9/100[00:01<00:10, 8.74it/s]\n",
      "  9%|9         |9/100[00:01<00:10, 8.63it/s]\n",
      "  9%|9         |9/100[00:01<00:11, 8.07it/s]\n",
      "  9%|9         |9/100[00:01<00:10, 8.89it/s]\n",
      "  9%|9         |9/100[00:01<00:10, 8.90it/s]\n",
      "  9%|9         |9/100[00:01<00:10, 8.40it/s]\n",
      "  9%|9         |9/100[00:01<00:10, 8.88it/s]\n",
      "  9%|9         |9/100[00:01<00:10, 8.86it/s]\n",
      "  9%|9         |9/100[00:01<00:10, 8.90it/s]\n",
      "  9%|9         |9/100[00:01<00:10, 8.86it/s]\n",
      "  9%|9         |9/100[00:01<00:10, 8.93it/s]\n",
      "  9%|9         |9/100[00:01<00:11, 8.01it/s]\n",
      "  9%|9         |9/100[00:01<00:10, 8.69it/s]\n",
      "  9%|9         |9/100[00:01<00:10, 8.83it/s]\n",
      "  9%|9         |9/100[00:01<00:10, 8.74it/s]\n",
      "  9%|9         |9/100[00:01<00:10, 8.88it/s]\n",
      "  9%|9         |9/100[00:01<00:10, 8.74it/s]\n",
      "  9%|9         |9/100[00:01<00:10, 8.30it/s]\n",
      "  9%|9         |9/100[00:01<00:10, 8.85it/s]\n",
      "  9%|9         |9/100[00:01<00:12, 7.25it/s]\n",
      "  9%|9         |9/100[00:01<00:10, 8.84it/s]\n",
      "  9%|9         |9/100[00:01<00:10, 8.89it/s]\n",
      "  9%|9         |9/100[00:01<00:10, 8.89it/s]\n",
      "  9%|9         |9/100[00:01<00:10, 8.74it/s]\n",
      "  9%|9         |9/100[00:01<00:10, 8.86it/s]\n",
      "  9%|9         |9/100[00:01<00:10, 8.90it/s]\n",
      "  9%|9         |9/100[00:01<00:10, 8.93it/s]\n",
      "  9%|9         |9/100[00:01<00:11, 8.16it/s]\n",
      "  9%|9         |9/100[00:01<00:10, 8.59it/s]\n",
      "  9%|9         |9/100[00:01<00:10, 8.90it/s]\n",
      "  9%|9         |9/100[00:01<00:10, 8.67it/s]\n",
      "  9%|9         |9/100[00:01<00:10, 8.64it/s]\n",
      "  9%|9         |9/100[00:01<00:10, 8.37it/s]\n",
      "  9%|9         |9/100[00:01<00:11, 8.13it/s]\n",
      "  9%|9         |9/100[00:01<00:10, 8.86it/s]\n",
      "  9%|9         |9/100[00:01<00:11, 7.64it/s]\n",
      "  9%|9         |9/100[00:01<00:10, 8.56it/s]\n",
      "  9%|9         |9/100[00:01<00:10, 8.89it/s]\n",
      "  9%|9         |9/100[00:01<00:10, 8.86it/s]\n",
      "  9%|9         |9/100[00:01<00:10, 8.88it/s]\n",
      "  9%|9         |9/100[00:01<00:10, 8.66it/s]\n",
      "  9%|9         |9/100[00:01<00:11, 8.08it/s]\n",
      "  9%|9         |9/100[00:01<00:10, 8.89it/s]\n",
      "  9%|9         |9/100[00:01<00:10, 8.75it/s]\n",
      "  9%|9         |9/100[00:01<00:10, 8.88it/s]\n",
      "  9%|9         |9/100[00:01<00:10, 8.83it/s]\n",
      "  9%|9         |9/100[00:01<00:10, 8.89it/s]\n",
      "  9%|9         |9/100[00:01<00:10, 8.91it/s]\n",
      "  9%|9         |9/100[00:01<00:11, 8.23it/s]\n",
      "  9%|9         |9/100[00:01<00:10, 8.42it/s]\n",
      "  9%|9         |9/100[00:01<00:10, 8.37it/s]\n",
      "  9%|9         |9/100[00:01<00:10, 8.86it/s]\n",
      "  9%|9         |9/100[00:01<00:10, 8.86it/s]\n",
      "  9%|9         |9/100[00:01<00:10, 8.71it/s]\n",
      "  9%|9         |9/100[00:01<00:10, 8.88it/s]\n",
      "  9%|9         |9/100[00:01<00:10, 8.59it/s]\n",
      "  9%|9         |9/100[00:01<00:10, 8.65it/s]\n",
      "  9%|9         |9/100[00:01<00:10, 8.88it/s]\n",
      "  9%|9         |9/100[00:01<00:11, 8.08it/s]\n",
      "  9%|9         |9/100[00:01<00:11, 7.83it/s]\n",
      "  9%|9         |9/100[00:01<00:10, 8.88it/s]\n",
      "  9%|9         |9/100[00:01<00:10, 8.89it/s]\n",
      "  9%|9         |9/100[00:01<00:10, 8.94it/s]\n",
      "  9%|9         |9/100[00:01<00:10, 8.89it/s]\n",
      "  9%|9         |9/100[00:01<00:11, 7.78it/s]\n",
      "  9%|9         |9/100[00:01<00:11, 8.21it/s]\n",
      "  9%|9         |9/100[00:01<00:10, 8.60it/s]\n",
      "  9%|9         |9/100[00:01<00:10, 8.80it/s]\n",
      "  9%|9         |9/100[00:01<00:10, 8.88it/s]\n",
      "  9%|9         |9/100[00:01<00:10, 8.62it/s]\n",
      "  9%|9         |9/100[00:01<00:10, 8.68it/s]\n",
      "  9%|9         |9/100[00:01<00:11, 8.08it/s]\n",
      "  9%|9         |9/100[00:01<00:10, 8.42it/s]\n",
      "  9%|9         |9/100[00:01<00:10, 8.88it/s]\n",
      "  9%|9         |9/100[00:01<00:10, 8.90it/s]\n",
      "  9%|9         |9/100[00:01<00:12, 7.58it/s]\n",
      "  9%|9         |9/100[00:01<00:10, 8.56it/s]\n",
      "  9%|9         |9/100[00:01<00:12, 7.52it/s]\n",
      "  0%|          |0/100[00:00<?,?it/s]"
     ]
    },
    {
     "name": "stdout",
     "output_type": "stream",
     "text": [
      "42\n"
     ]
    },
    {
     "name": "stderr",
     "output_type": "stream",
     "text": [
      "  9%|9         |9/100[00:01<00:10, 8.87it/s]\n",
      "  0%|          |0/100[00:00<?,?it/s]"
     ]
    },
    {
     "name": "stdout",
     "output_type": "stream",
     "text": [
      "43\n"
     ]
    },
    {
     "name": "stderr",
     "output_type": "stream",
     "text": [
      "  9%|9         |9/100[00:01<00:10, 8.31it/s]\n",
      "  9%|9         |9/100[00:01<00:10, 8.68it/s]\n",
      "  9%|9         |9/100[00:01<00:10, 8.52it/s]\n",
      "  9%|9         |9/100[00:01<00:10, 8.90it/s]"
     ]
    },
    {
     "name": "stdout",
     "output_type": "stream",
     "text": [
      "44\n"
     ]
    },
    {
     "name": "stderr",
     "output_type": "stream",
     "text": [
      "\n"
     ]
    }
   ],
   "source": [
    "print(\"Samples needed: {}\".format(needed_2))\n",
    "synth_2 = sample_needed_label(needed_2, '2')"
   ]
  },
  {
   "cell_type": "code",
   "execution_count": 21,
   "metadata": {
    "ExecuteTime": {
     "end_time": "2019-08-11T04:00:51.402112Z",
     "start_time": "2019-08-11T04:00:51.356792Z"
    }
   },
   "outputs": [
    {
     "name": "stdout",
     "output_type": "stream",
     "text": [
      "-1    353\n",
      "-2    190\n",
      " 1    176\n",
      " 2     44\n",
      "Name: Discrete Thermal Comfort_TA, dtype: int64\n",
      " 0    918\n",
      "-1    725\n",
      "-2    363\n",
      " 1    333\n",
      " 2     77\n",
      "Name: Discrete Thermal Comfort_TA, dtype: int64\n",
      "      Temperature (Fahrenheit)  SkinTemperature  ClothingInsulation  \\\n",
      "0                    65.956941        87.672293            0.396715   \n",
      "1                    64.000551        88.362506            0.285461   \n",
      "2                    64.180900        88.435897            0.418151   \n",
      "3                    64.160899        81.310096            0.287260   \n",
      "4                    65.253963        85.010762            0.529715   \n",
      "5                    78.010290        88.400399            0.570683   \n",
      "6                    64.831942        92.735065            0.592197   \n",
      "7                    64.922850        86.730948            0.590889   \n",
      "8                    64.917783        85.423762            0.231372   \n",
      "9                    66.016974        88.908867            0.575832   \n",
      "10                   64.666414        88.054833            0.554889   \n",
      "11                   66.330308        86.373974            0.397991   \n",
      "12                   67.246981        86.227909            0.350985   \n",
      "13                   66.222046        88.468685            0.318313   \n",
      "14                   64.124544        78.153153            0.394349   \n",
      "15                   65.117921        90.165585            0.271685   \n",
      "16                   66.642680        88.170897            0.592157   \n",
      "17                   66.588273        90.018816            0.590382   \n",
      "18                   67.234102        79.947430            0.395123   \n",
      "19                   64.608909        78.377198            0.313974   \n",
      "20                   65.434873        88.330211            0.690636   \n",
      "21                   66.879896        92.537106            0.296831   \n",
      "22                   63.528497        83.074588            0.666766   \n",
      "23                   65.201672        88.325753            0.585055   \n",
      "24                   64.684485        86.902478            0.244400   \n",
      "25                   79.754962        91.581465            0.592160   \n",
      "26                   78.848320        88.356123            0.853922   \n",
      "27                   63.589396        87.761073            0.388426   \n",
      "28                   64.479479        83.407738            0.636514   \n",
      "29                   63.705358        92.791652            0.398341   \n",
      "...                        ...              ...                 ...   \n",
      "2386                 65.599998        79.692337            0.650000   \n",
      "2387                 75.099998        92.309002            0.930000   \n",
      "2388                 78.599998        87.104000            0.520000   \n",
      "2389                 65.099998        83.209999            0.490000   \n",
      "2390                 65.599998        88.879999            0.400000   \n",
      "2391                 70.500000        81.463999            0.650000   \n",
      "2392                 76.089996        87.757999            0.000000   \n",
      "2393                 76.900002        85.155396            0.450000   \n",
      "2394                 77.900002        81.050000            0.400000   \n",
      "2395                 77.080002        90.068002            0.680000   \n",
      "2396                 78.300003        87.188000            0.770000   \n",
      "2397                 77.900002        85.940000            0.830000   \n",
      "2398                 63.099998        72.923823            0.320000   \n",
      "2399                 70.199997        78.476001            0.760000   \n",
      "2400                 79.099998        87.962000            0.770000   \n",
      "2401                 79.800003        89.414000            0.410000   \n",
      "2402                 72.699997        83.642000            0.330000   \n",
      "2403                 78.660004        88.250000            0.450000   \n",
      "2404                 63.799999        81.500000            0.400000   \n",
      "2405                 77.599998        97.711333            0.580000   \n",
      "2406                 78.300003        88.946000            0.410000   \n",
      "2407                 76.419998        84.737000            0.320000   \n",
      "2408                 76.599998        82.567999            0.400000   \n",
      "2409                 64.199997        87.319999            0.400000   \n",
      "2410                 74.199997        84.608000            0.830000   \n",
      "2411                 66.900002        87.296001            0.400000   \n",
      "2412                 74.839996        86.906000            0.680000   \n",
      "2413                 78.800003        92.498001            0.400000   \n",
      "2414                 67.199997        81.617001            0.410000   \n",
      "2415                 65.599998        87.404000            0.580000   \n",
      "\n",
      "      Height(cm)  Shoulder Circumference(cm)  Weight(lbs) Gender  \\\n",
      "0     161.703137                  109.809275   191.361428      0   \n",
      "1     181.648000                  107.018577   135.171535      1   \n",
      "2     181.657364                  111.088263   193.372531      0   \n",
      "3     169.357569                  107.976645   161.732323      0   \n",
      "4     181.681524                  108.009080   145.535943      0   \n",
      "5     181.698175                  107.964555   113.826368      1   \n",
      "6     181.651969                   94.311994   193.608122      0   \n",
      "7     181.696093                  107.977883   144.270113      0   \n",
      "8     181.689365                  108.007286   144.068083      1   \n",
      "9     169.325930                   93.393052   113.816114      0   \n",
      "10    169.325909                  107.897360   113.812439      1   \n",
      "11    169.367194                  108.004480   134.116437      0   \n",
      "12    169.353275                  105.482633   165.152749      0   \n",
      "13    193.464712                  107.998540   113.818977      1   \n",
      "14    173.097357                  107.905765   144.075734      1   \n",
      "15    193.575105                  108.001603   144.081906      0   \n",
      "16    169.360884                  110.603535   193.415440      0   \n",
      "17    169.271343                  105.881743   144.223363      0   \n",
      "18    169.326176                  110.967340   144.336529      0   \n",
      "19    170.833653                  108.009533   113.983220      0   \n",
      "20    181.657288                  107.805726   193.622456      1   \n",
      "21    169.379861                  111.000045   113.811690      1   \n",
      "22    170.842428                  107.888055   194.056212      0   \n",
      "23    179.686136                  107.740279   189.106015      1   \n",
      "24    165.241916                  104.570813   135.392964      0   \n",
      "25    163.089895                  107.979699   144.483627      0   \n",
      "26    183.657942                  107.981716   175.357894      1   \n",
      "27    181.699058                  107.987594   135.531282      0   \n",
      "28    169.408995                  105.194961   241.928887      1   \n",
      "29    193.574686                  108.004944   189.896337      1   \n",
      "...          ...                         ...          ...    ...   \n",
      "2386  185.000000                  104.000000   115.000000      1   \n",
      "2387  159.000000                   93.000000   112.400000      0   \n",
      "2388  188.000000                  115.000000   165.000000      1   \n",
      "2389  159.000000                   93.000000   112.400000      0   \n",
      "2390  189.000000                  130.000000   236.600000      1   \n",
      "2391  180.000000                  128.000000   190.000000      1   \n",
      "2392  188.100000                  118.200000   185.700000      1   \n",
      "2393  172.000000                  129.000000   173.000000      1   \n",
      "2394  174.000000                  124.400000   195.000000      1   \n",
      "2395  155.200000                   97.800000   130.300000      0   \n",
      "2396  170.000000                  115.000000   145.300000      1   \n",
      "2397  175.000000                  129.000000   172.000000      1   \n",
      "2398  173.000000                  112.000000   176.000000      1   \n",
      "2399  171.600000                  106.700000   138.200000      0   \n",
      "2400  170.000000                  115.000000   145.300000      1   \n",
      "2401  176.700000                  106.200000   161.500000      1   \n",
      "2402  162.000000                   97.000000   126.000000      0   \n",
      "2403  167.500000                  100.200000   160.200000      0   \n",
      "2404  171.000000                  109.000000   134.000000      1   \n",
      "2405  151.000000                  104.000000   125.800000      0   \n",
      "2406  158.000000                   98.000000   120.000000      0   \n",
      "2407  165.100000                  111.600000   200.000000      0   \n",
      "2408  157.500000                   92.000000    90.000000      0   \n",
      "2409  167.000000                  131.000000   205.000000      1   \n",
      "2410  161.000000                   98.000000   109.000000      0   \n",
      "2411  167.000000                  110.000000   160.000000      0   \n",
      "2412  155.200000                   97.800000   130.300000      0   \n",
      "2413  189.000000                  130.000000   236.600000      1   \n",
      "2414  165.900000                  107.400000   149.000000      0   \n",
      "2415  169.000000                  105.000000   125.600000      0   \n",
      "\n",
      "      Temperature_outside  Humidity_outside  Discrete Thermal Comfort_TA  \n",
      "0               27.777615         60.684683                           -1  \n",
      "1               52.944137         31.394787                           -1  \n",
      "2               52.943852         99.999490                           -1  \n",
      "3               52.883562         83.494230                           -1  \n",
      "4               52.944119         75.126358                           -1  \n",
      "5               52.943766         83.832005                           -1  \n",
      "6               52.871697         76.658115                           -1  \n",
      "7               51.503676         76.376520                           -1  \n",
      "8               90.140420         79.748021                           -1  \n",
      "9               88.789589         71.334410                           -1  \n",
      "10              56.545697         72.244675                           -1  \n",
      "11              52.940194         86.702061                           -1  \n",
      "12              25.618608         59.964991                           -1  \n",
      "13              52.935246         64.843994                           -1  \n",
      "14              25.805116         59.992444                           -1  \n",
      "15              52.935887         72.439651                           -1  \n",
      "16              52.944659         86.717443                           -1  \n",
      "17              52.654529         52.139788                           -1  \n",
      "18              43.792168         49.336126                           -1  \n",
      "19              52.923951         72.544460                           -1  \n",
      "20              49.099202         86.488289                           -1  \n",
      "21              52.866508         49.340001                           -1  \n",
      "22              51.158802         76.686402                           -1  \n",
      "23              52.925316         76.578678                           -1  \n",
      "24              25.560062         59.958554                           -1  \n",
      "25              52.943906         73.950472                           -1  \n",
      "26              52.944632         68.635637                           -1  \n",
      "27              59.438014         86.580649                           -1  \n",
      "28              52.908933         68.747017                           -1  \n",
      "29              52.944824         86.729276                           -1  \n",
      "...                   ...               ...                          ...  \n",
      "2386            53.520000         60.099998                            0  \n",
      "2387            18.540001         62.799999                            0  \n",
      "2388            60.689999         60.000000                            0  \n",
      "2389            17.010000         59.799999                           -1  \n",
      "2390            46.299999         84.300003                            0  \n",
      "2391            27.540001         59.200001                            0  \n",
      "2392            80.139999         85.800003                            0  \n",
      "2393            35.590000         51.700001                            0  \n",
      "2394            27.850000         67.400002                            0  \n",
      "2395            84.589996         58.599998                            0  \n",
      "2396            42.160000         86.300003                            1  \n",
      "2397            14.450000         81.900002                            1  \n",
      "2398            55.560001         44.599998                           -1  \n",
      "2399            67.709999         71.199997                            0  \n",
      "2400            42.160000         86.300003                            1  \n",
      "2401            67.370003         75.800003                            0  \n",
      "2402            19.469999         71.900002                            0  \n",
      "2403            81.639999         76.699997                            0  \n",
      "2404            40.389999         75.699997                            0  \n",
      "2405            51.369999         88.800003                            0  \n",
      "2406            30.879999         77.199997                            0  \n",
      "2407            82.440002         62.599998                            0  \n",
      "2408            30.990000         63.299999                            0  \n",
      "2409            54.430000         82.099998                            0  \n",
      "2410            17.540001         62.900002                            0  \n",
      "2411            34.810001         82.300003                           -1  \n",
      "2412            82.889999         58.599998                            0  \n",
      "2413            48.360001         81.599998                            0  \n",
      "2414            40.720001         79.599998                            0  \n",
      "2415            25.090000         53.799999                           -1  \n",
      "\n",
      "[2416 rows x 10 columns]\n",
      "      Temperature (Fahrenheit)  SkinTemperature  ClothingInsulation  \\\n",
      "0                        65.96            87.67                0.40   \n",
      "1                        64.00            88.36                0.29   \n",
      "2                        64.18            88.44                0.42   \n",
      "3                        64.16            81.31                0.29   \n",
      "4                        65.25            85.01                0.53   \n",
      "5                        78.01            88.40                0.57   \n",
      "6                        64.83            92.74                0.59   \n",
      "7                        64.92            86.73                0.59   \n",
      "8                        64.92            85.42                0.23   \n",
      "9                        66.02            88.91                0.58   \n",
      "10                       64.67            88.05                0.55   \n",
      "11                       66.33            86.37                0.40   \n",
      "12                       67.25            86.23                0.35   \n",
      "13                       66.22            88.47                0.32   \n",
      "14                       64.12            78.15                0.39   \n",
      "15                       65.12            90.17                0.27   \n",
      "16                       66.64            88.17                0.59   \n",
      "17                       66.59            90.02                0.59   \n",
      "18                       67.23            79.95                0.40   \n",
      "19                       64.61            78.38                0.31   \n",
      "20                       65.43            88.33                0.69   \n",
      "21                       66.88            92.54                0.30   \n",
      "22                       63.53            83.07                0.67   \n",
      "23                       65.20            88.33                0.59   \n",
      "24                       64.68            86.90                0.24   \n",
      "25                       79.75            91.58                0.59   \n",
      "26                       78.85            88.36                0.85   \n",
      "27                       63.59            87.76                0.39   \n",
      "28                       64.48            83.41                0.64   \n",
      "29                       63.71            92.79                0.40   \n",
      "...                        ...              ...                 ...   \n",
      "2386                     65.60            79.69                0.65   \n",
      "2387                     75.10            92.31                0.93   \n",
      "2388                     78.60            87.10                0.52   \n",
      "2389                     65.10            83.21                0.49   \n",
      "2390                     65.60            88.88                0.40   \n",
      "2391                     70.50            81.46                0.65   \n",
      "2392                     76.09            87.76                0.00   \n",
      "2393                     76.90            85.16                0.45   \n",
      "2394                     77.90            81.05                0.40   \n",
      "2395                     77.08            90.07                0.68   \n",
      "2396                     78.30            87.19                0.77   \n",
      "2397                     77.90            85.94                0.83   \n",
      "2398                     63.10            72.92                0.32   \n",
      "2399                     70.20            78.48                0.76   \n",
      "2400                     79.10            87.96                0.77   \n",
      "2401                     79.80            89.41                0.41   \n",
      "2402                     72.70            83.64                0.33   \n",
      "2403                     78.66            88.25                0.45   \n",
      "2404                     63.80            81.50                0.40   \n",
      "2405                     77.60            97.71                0.58   \n",
      "2406                     78.30            88.95                0.41   \n",
      "2407                     76.42            84.74                0.32   \n",
      "2408                     76.60            82.57                0.40   \n",
      "2409                     64.20            87.32                0.40   \n",
      "2410                     74.20            84.61                0.83   \n",
      "2411                     66.90            87.30                0.40   \n",
      "2412                     74.84            86.91                0.68   \n",
      "2413                     78.80            92.50                0.40   \n",
      "2414                     67.20            81.62                0.41   \n",
      "2415                     65.60            87.40                0.58   \n",
      "\n",
      "      Height(cm)  Shoulder Circumference(cm)  Weight(lbs) Gender  \\\n",
      "0         161.70                      109.81       191.36      0   \n",
      "1         181.65                      107.02       135.17      1   \n",
      "2         181.66                      111.09       193.37      0   \n",
      "3         169.36                      107.98       161.73      0   \n",
      "4         181.68                      108.01       145.54      0   \n",
      "5         181.70                      107.96       113.83      1   \n",
      "6         181.65                       94.31       193.61      0   \n",
      "7         181.70                      107.98       144.27      0   \n",
      "8         181.69                      108.01       144.07      1   \n",
      "9         169.33                       93.39       113.82      0   \n",
      "10        169.33                      107.90       113.81      1   \n",
      "11        169.37                      108.00       134.12      0   \n",
      "12        169.35                      105.48       165.15      0   \n",
      "13        193.46                      108.00       113.82      1   \n",
      "14        173.10                      107.91       144.08      1   \n",
      "15        193.58                      108.00       144.08      0   \n",
      "16        169.36                      110.60       193.42      0   \n",
      "17        169.27                      105.88       144.22      0   \n",
      "18        169.33                      110.97       144.34      0   \n",
      "19        170.83                      108.01       113.98      0   \n",
      "20        181.66                      107.81       193.62      1   \n",
      "21        169.38                      111.00       113.81      1   \n",
      "22        170.84                      107.89       194.06      0   \n",
      "23        179.69                      107.74       189.11      1   \n",
      "24        165.24                      104.57       135.39      0   \n",
      "25        163.09                      107.98       144.48      0   \n",
      "26        183.66                      107.98       175.36      1   \n",
      "27        181.70                      107.99       135.53      0   \n",
      "28        169.41                      105.19       241.93      1   \n",
      "29        193.57                      108.00       189.90      1   \n",
      "...          ...                         ...          ...    ...   \n",
      "2386      185.00                      104.00       115.00      1   \n",
      "2387      159.00                       93.00       112.40      0   \n",
      "2388      188.00                      115.00       165.00      1   \n",
      "2389      159.00                       93.00       112.40      0   \n",
      "2390      189.00                      130.00       236.60      1   \n",
      "2391      180.00                      128.00       190.00      1   \n",
      "2392      188.10                      118.20       185.70      1   \n",
      "2393      172.00                      129.00       173.00      1   \n",
      "2394      174.00                      124.40       195.00      1   \n",
      "2395      155.20                       97.80       130.30      0   \n",
      "2396      170.00                      115.00       145.30      1   \n",
      "2397      175.00                      129.00       172.00      1   \n",
      "2398      173.00                      112.00       176.00      1   \n",
      "2399      171.60                      106.70       138.20      0   \n",
      "2400      170.00                      115.00       145.30      1   \n",
      "2401      176.70                      106.20       161.50      1   \n",
      "2402      162.00                       97.00       126.00      0   \n",
      "2403      167.50                      100.20       160.20      0   \n",
      "2404      171.00                      109.00       134.00      1   \n",
      "2405      151.00                      104.00       125.80      0   \n",
      "2406      158.00                       98.00       120.00      0   \n",
      "2407      165.10                      111.60       200.00      0   \n",
      "2408      157.50                       92.00        90.00      0   \n",
      "2409      167.00                      131.00       205.00      1   \n",
      "2410      161.00                       98.00       109.00      0   \n",
      "2411      167.00                      110.00       160.00      0   \n",
      "2412      155.20                       97.80       130.30      0   \n",
      "2413      189.00                      130.00       236.60      1   \n",
      "2414      165.90                      107.40       149.00      0   \n",
      "2415      169.00                      105.00       125.60      0   \n",
      "\n",
      "      Temperature_outside  Humidity_outside  Discrete Thermal Comfort_TA  \n",
      "0                   27.78             60.68                           -1  \n",
      "1                   52.94             31.39                           -1  \n",
      "2                   52.94            100.00                           -1  \n",
      "3                   52.88             83.49                           -1  \n",
      "4                   52.94             75.13                           -1  \n",
      "5                   52.94             83.83                           -1  \n",
      "6                   52.87             76.66                           -1  \n",
      "7                   51.50             76.38                           -1  \n",
      "8                   90.14             79.75                           -1  \n",
      "9                   88.79             71.33                           -1  \n",
      "10                  56.55             72.24                           -1  \n",
      "11                  52.94             86.70                           -1  \n",
      "12                  25.62             59.96                           -1  \n",
      "13                  52.94             64.84                           -1  \n",
      "14                  25.81             59.99                           -1  \n",
      "15                  52.94             72.44                           -1  \n",
      "16                  52.94             86.72                           -1  \n",
      "17                  52.65             52.14                           -1  \n",
      "18                  43.79             49.34                           -1  \n",
      "19                  52.92             72.54                           -1  \n",
      "20                  49.10             86.49                           -1  \n",
      "21                  52.87             49.34                           -1  \n",
      "22                  51.16             76.69                           -1  \n",
      "23                  52.93             76.58                           -1  \n",
      "24                  25.56             59.96                           -1  \n",
      "25                  52.94             73.95                           -1  \n",
      "26                  52.94             68.64                           -1  \n",
      "27                  59.44             86.58                           -1  \n",
      "28                  52.91             68.75                           -1  \n",
      "29                  52.94             86.73                           -1  \n",
      "...                   ...               ...                          ...  \n",
      "2386                53.52             60.10                            0  \n",
      "2387                18.54             62.80                            0  \n",
      "2388                60.69             60.00                            0  \n",
      "2389                17.01             59.80                           -1  \n",
      "2390                46.30             84.30                            0  \n",
      "2391                27.54             59.20                            0  \n",
      "2392                80.14             85.80                            0  \n",
      "2393                35.59             51.70                            0  \n",
      "2394                27.85             67.40                            0  \n",
      "2395                84.59             58.60                            0  \n",
      "2396                42.16             86.30                            1  \n",
      "2397                14.45             81.90                            1  \n",
      "2398                55.56             44.60                           -1  \n",
      "2399                67.71             71.20                            0  \n",
      "2400                42.16             86.30                            1  \n",
      "2401                67.37             75.80                            0  \n",
      "2402                19.47             71.90                            0  \n",
      "2403                81.64             76.70                            0  \n",
      "2404                40.39             75.70                            0  \n",
      "2405                51.37             88.80                            0  \n",
      "2406                30.88             77.20                            0  \n",
      "2407                82.44             62.60                            0  \n",
      "2408                30.99             63.30                            0  \n",
      "2409                54.43             82.10                            0  \n",
      "2410                17.54             62.90                            0  \n",
      "2411                34.81             82.30                           -1  \n",
      "2412                82.89             58.60                            0  \n",
      "2413                48.36             81.60                            0  \n",
      "2414                40.72             79.60                            0  \n",
      "2415                25.09             53.80                           -1  \n",
      "\n",
      "[2416 rows x 10 columns]\n"
     ]
    }
   ],
   "source": [
    "# df_synth = pd.concat([synth_0, synth_minus1, synth_minus2, synth_1, synth_2], ignore_index=True)\n",
    "df_synth = pd.concat([synth_minus1, synth_minus2, synth_1, synth_2], ignore_index=True)\n",
    "df_synth['Discrete Thermal Comfort_TA'] = pd.to_numeric(df_synth['Discrete Thermal Comfort_TA'])\n",
    "print(df_synth['Discrete Thermal Comfort_TA'].value_counts())\n",
    "df_synth_train_balanced = pd.concat([df_synth, df_feature1_train], ignore_index=True)\n",
    "print(df_synth_train_balanced['Discrete Thermal Comfort_TA'].value_counts())\n",
    "print(df_synth_train_balanced)\n",
    "\n",
    "# approximate to 2 decimal points, as original dataset\n",
    "df_synth_train_balanced = df_synth_train_balanced.round(2)\n",
    "\n",
    "print(df_synth_train_balanced)"
   ]
  },
  {
   "cell_type": "markdown",
   "metadata": {},
   "source": [
    "## Train: train set + synth"
   ]
  },
  {
   "cell_type": "code",
   "execution_count": 22,
   "metadata": {
    "ExecuteTime": {
     "end_time": "2019-08-11T04:07:14.417248Z",
     "start_time": "2019-08-11T04:00:55.012797Z"
    },
    "scrolled": true
   },
   "outputs": [
    {
     "name": "stdout",
     "output_type": "stream",
     "text": [
      "Features: ['Temperature (Fahrenheit)' 'SkinTemperature' 'ClothingInsulation'\n",
      " 'Height(cm)' 'Shoulder Circumference(cm)' 'Weight(lbs)' 'Gender'\n",
      " 'Temperature_outside' 'Humidity_outside']\n",
      "Expected accuracy (f1 micro) based on Cross-Validation:  0.4994145671801446\n",
      "GaussianNB(priors=None, var_smoothing=1e-09)\n",
      "Accuracy (f1 micro) on test set:  0.5247933884297521\n",
      "F1 micro on test set:  0.5247933884297521\n",
      "F1 macro on test set:  0.3957518623605454\n",
      "Confusion Matrix: \n",
      "[[ 27  35   9   2   0]\n",
      " [ 14  94  35   2   0]\n",
      " [ 11  37 118  17   1]\n",
      " [  6  24  23  14   0]\n",
      " [  0   4   7   3   1]]\n",
      "Classification Metrics: \n",
      "              precision    recall  f1-score   support\n",
      "\n",
      "          -2       0.47      0.37      0.41        73\n",
      "          -1       0.48      0.65      0.55       145\n",
      "           0       0.61      0.64      0.63       184\n",
      "           1       0.37      0.21      0.27        67\n",
      "           2       0.50      0.07      0.12        15\n",
      "\n",
      "   micro avg       0.52      0.52      0.52       484\n",
      "   macro avg       0.49      0.39      0.40       484\n",
      "weighted avg       0.52      0.52      0.51       484\n",
      "\n",
      "Features: ['Temperature (Fahrenheit)' 'SkinTemperature' 'ClothingInsulation'\n",
      " 'Height(cm)' 'Shoulder Circumference(cm)' 'Weight(lbs)' 'Gender'\n",
      " 'Temperature_outside' 'Humidity_outside']\n",
      "Number of folds: 10\n"
     ]
    },
    {
     "name": "stderr",
     "output_type": "stream",
     "text": [
      "/home/matias/anaconda3/envs/tGAN/lib/python3.7/site-packages/sklearn/utils/validation.py:595: DataConversionWarning: Data with input dtype object was converted to float64 by StandardScaler.\n",
      "  warnings.warn(msg, DataConversionWarning)\n",
      "/home/matias/anaconda3/envs/tGAN/lib/python3.7/site-packages/sklearn/utils/validation.py:595: DataConversionWarning: Data with input dtype object was converted to float64 by StandardScaler.\n",
      "  warnings.warn(msg, DataConversionWarning)\n"
     ]
    },
    {
     "name": "stdout",
     "output_type": "stream",
     "text": [
      "Best parameters set found on development set:\n",
      "{'algorithm': 'brute', 'metric': 'seuclidean', 'n_neighbors': 7, 'weights': 'distance'}\n",
      "KNeighborsClassifier(algorithm='brute', leaf_size=30, metric='seuclidean',\n",
      "           metric_params=None, n_jobs=None, n_neighbors=7, p=2,\n",
      "           weights='distance')\n",
      "Accuracy (f1 micro) on test set:  0.5971074380165289\n",
      "F1 micro on test set:  0.5971074380165289\n",
      "F1 macro on test set:  0.498683816915345\n",
      "Confusion Matrix: \n",
      "[[ 32  30   6   3   2]\n",
      " [ 19  74  46   6   0]\n",
      " [  1  14 157  12   0]\n",
      " [  7  19  17  22   2]\n",
      " [  0   3   2   6   4]]\n",
      "Classification Metrics: \n",
      "              precision    recall  f1-score   support\n",
      "\n",
      "          -2       0.54      0.44      0.48        73\n",
      "          -1       0.53      0.51      0.52       145\n",
      "           0       0.69      0.85      0.76       184\n",
      "           1       0.45      0.33      0.38        67\n",
      "           2       0.50      0.27      0.35        15\n",
      "\n",
      "   micro avg       0.60      0.60      0.60       484\n",
      "   macro avg       0.54      0.48      0.50       484\n",
      "weighted avg       0.58      0.60      0.58       484\n",
      "\n",
      "Features: ['Temperature (Fahrenheit)' 'SkinTemperature' 'ClothingInsulation'\n",
      " 'Height(cm)' 'Shoulder Circumference(cm)' 'Weight(lbs)' 'Gender'\n",
      " 'Temperature_outside' 'Humidity_outside']\n",
      "Number of folds: 10\n"
     ]
    },
    {
     "name": "stderr",
     "output_type": "stream",
     "text": [
      "/home/matias/anaconda3/envs/tGAN/lib/python3.7/site-packages/sklearn/utils/validation.py:595: DataConversionWarning: Data with input dtype object was converted to float64 by StandardScaler.\n",
      "  warnings.warn(msg, DataConversionWarning)\n",
      "/home/matias/anaconda3/envs/tGAN/lib/python3.7/site-packages/sklearn/utils/validation.py:595: DataConversionWarning: Data with input dtype object was converted to float64 by StandardScaler.\n",
      "  warnings.warn(msg, DataConversionWarning)\n",
      "/home/matias/anaconda3/envs/tGAN/lib/python3.7/site-packages/sklearn/model_selection/_search.py:841: DeprecationWarning: The default of the `iid` parameter will change from True to False in version 0.22 and will be removed in 0.24. This will change numeric results when test-set sizes are unequal.\n",
      "  DeprecationWarning)\n"
     ]
    },
    {
     "name": "stdout",
     "output_type": "stream",
     "text": [
      "Best parameters set found on development set:\n",
      "{'C': 100, 'class_weight': 'balanced', 'gamma': 0.1, 'kernel': 'rbf'}\n",
      "SVC(C=100, cache_size=200, class_weight='balanced', coef0=0.0,\n",
      "  decision_function_shape='ovr', degree=3, gamma=0.1, kernel='rbf',\n",
      "  max_iter=-1, probability=False, random_state=100, shrinking=True,\n",
      "  tol=0.001, verbose=False)\n",
      "Accuracy (f1 micro) on test set:  0.5681818181818182\n",
      "F1 micro on test set:  0.5681818181818182\n",
      "F1 macro on test set:  0.47981093301838396\n",
      "Confusion Matrix: \n",
      "[[ 40  25   2   4   2]\n",
      " [ 32  66  29  18   0]\n",
      " [  5  24 135  20   0]\n",
      " [  7  15   3  30  12]\n",
      " [  2   3   0   6   4]]\n",
      "Classification Metrics: \n",
      "              precision    recall  f1-score   support\n",
      "\n",
      "          -2       0.47      0.55      0.50        73\n",
      "          -1       0.50      0.46      0.47       145\n",
      "           0       0.80      0.73      0.76       184\n",
      "           1       0.38      0.45      0.41        67\n",
      "           2       0.22      0.27      0.24        15\n",
      "\n",
      "   micro avg       0.57      0.57      0.57       484\n",
      "   macro avg       0.47      0.49      0.48       484\n",
      "weighted avg       0.58      0.57      0.57       484\n",
      "\n",
      "Accuracy (f1 micro) on test set:  0.5652173913043478\n",
      "F1 micro on test set:  0.5652173913043478\n",
      "F1 macro on test set:  0.14444444444444443\n",
      "Confusion Matrix: \n",
      "[[  0   0  44   0   0]\n",
      " [  0   0  80   0   0]\n",
      " [  0   0 234   0   0]\n",
      " [  0   0  41   0   0]\n",
      " [  0   0  15   0   0]]\n",
      "Classification Metrics: \n",
      "              precision    recall  f1-score   support\n",
      "\n",
      "          -2       0.00      0.00      0.00        44\n",
      "          -1       0.00      0.00      0.00        80\n",
      "           0       0.57      1.00      0.72       234\n",
      "           1       0.00      0.00      0.00        41\n",
      "           2       0.00      0.00      0.00        15\n",
      "\n",
      "   micro avg       0.57      0.57      0.57       414\n",
      "   macro avg       0.11      0.20      0.14       414\n",
      "weighted avg       0.32      0.57      0.41       414\n",
      "\n",
      "Accuracy (f1 micro) on test set:  0.6763285024154589\n",
      "F1 micro on test set:  0.6763285024154589\n",
      "F1 macro on test set:  0.5829871216876866\n",
      "Confusion Matrix: \n",
      "[[ 22  13   8   1   0]\n",
      " [  8  48  24   0   0]\n",
      " [  6  35 185   8   0]\n",
      " [  0   1  20  19   1]\n",
      " [  1   0   1   7   6]]\n",
      "Classification Metrics: \n",
      "              precision    recall  f1-score   support\n",
      "\n",
      "          -2       0.59      0.50      0.54        44\n",
      "          -1       0.49      0.60      0.54        80\n",
      "           0       0.78      0.79      0.78       234\n",
      "           1       0.54      0.46      0.50        41\n",
      "           2       0.86      0.40      0.55        15\n",
      "\n",
      "   micro avg       0.68      0.68      0.68       414\n",
      "   macro avg       0.65      0.55      0.58       414\n",
      "weighted avg       0.68      0.68      0.67       414\n",
      "\n",
      "Accuracy (f1 micro) on test set:  0.10628019323671498\n",
      "F1 micro on test set:  0.10628019323671498\n",
      "F1 macro on test set:  0.03842794759825328\n",
      "Confusion Matrix: \n",
      "[[ 44   0   0   0   0]\n",
      " [ 80   0   0   0   0]\n",
      " [234   0   0   0   0]\n",
      " [ 41   0   0   0   0]\n",
      " [ 15   0   0   0   0]]\n",
      "Classification Metrics: \n",
      "              precision    recall  f1-score   support\n",
      "\n",
      "          -2       0.11      1.00      0.19        44\n",
      "          -1       0.00      0.00      0.00        80\n",
      "           0       0.00      0.00      0.00       234\n",
      "           1       0.00      0.00      0.00        41\n",
      "           2       0.00      0.00      0.00        15\n",
      "\n",
      "   micro avg       0.11      0.11      0.11       414\n",
      "   macro avg       0.02      0.20      0.04       414\n",
      "weighted avg       0.01      0.11      0.02       414\n",
      "\n",
      "original train\n",
      "0.6666666666666666\n",
      "0.5652173913043478\n",
      "0.5652173913043478\n",
      "\n",
      "\n",
      "more balanced train\n",
      "0.5652173913043478\n",
      "0.6763285024154589\n",
      "0.10628019323671498\n"
     ]
    },
    {
     "name": "stderr",
     "output_type": "stream",
     "text": [
      "/home/matias/anaconda3/envs/tGAN/lib/python3.7/site-packages/sklearn/metrics/classification.py:1143: UndefinedMetricWarning: F-score is ill-defined and being set to 0.0 in labels with no predicted samples.\n",
      "  'precision', 'predicted', average, warn_for)\n",
      "/home/matias/anaconda3/envs/tGAN/lib/python3.7/site-packages/sklearn/metrics/classification.py:1143: UndefinedMetricWarning: Precision and F-score are ill-defined and being set to 0.0 in labels with no predicted samples.\n",
      "  'precision', 'predicted', average, warn_for)\n",
      "/home/matias/anaconda3/envs/tGAN/lib/python3.7/site-packages/sklearn/metrics/classification.py:1143: UndefinedMetricWarning: Precision and F-score are ill-defined and being set to 0.0 in labels with no predicted samples.\n",
      "  'precision', 'predicted', average, warn_for)\n",
      "/home/matias/anaconda3/envs/tGAN/lib/python3.7/site-packages/sklearn/metrics/classification.py:1143: UndefinedMetricWarning: Precision and F-score are ill-defined and being set to 0.0 in labels with no predicted samples.\n",
      "  'precision', 'predicted', average, warn_for)\n",
      "/home/matias/anaconda3/envs/tGAN/lib/python3.7/site-packages/sklearn/metrics/classification.py:1143: UndefinedMetricWarning: F-score is ill-defined and being set to 0.0 in labels with no predicted samples.\n",
      "  'precision', 'predicted', average, warn_for)\n",
      "/home/matias/anaconda3/envs/tGAN/lib/python3.7/site-packages/sklearn/metrics/classification.py:1143: UndefinedMetricWarning: Precision and F-score are ill-defined and being set to 0.0 in labels with no predicted samples.\n",
      "  'precision', 'predicted', average, warn_for)\n",
      "/home/matias/anaconda3/envs/tGAN/lib/python3.7/site-packages/sklearn/metrics/classification.py:1143: UndefinedMetricWarning: Precision and F-score are ill-defined and being set to 0.0 in labels with no predicted samples.\n",
      "  'precision', 'predicted', average, warn_for)\n",
      "/home/matias/anaconda3/envs/tGAN/lib/python3.7/site-packages/sklearn/metrics/classification.py:1143: UndefinedMetricWarning: Precision and F-score are ill-defined and being set to 0.0 in labels with no predicted samples.\n",
      "  'precision', 'predicted', average, warn_for)\n"
     ]
    }
   ],
   "source": [
    "# load best models NB, KNN, SVM, MLP\n",
    "acc_nb_synth_train_balanced, nb_optimal_synth_train_balanced = buildTrainNB(df_synth_train_balanced, test_size_percentage=test_size_percentage)\n",
    "acc_knn_synth_train_balanced, knn_optimal_synth_train_balanced = buildTrainKNN(df_synth_train_balanced, test_size_percentage=test_size_percentage)\n",
    "acc_svm_synth_train_balanced, svm_optimal_synth_train_balanced = buildTrainSVM(df_synth_train_balanced, test_size_percentage=test_size_percentage)\n",
    "\n",
    "# using the optimal model. re-train in whole train split and test in unseen test split\n",
    "acc_nb_synth_train_balanced_corr, _ = trainTest_tunedModel(df_feature1_test, nb_optimal_synth_train_balanced)\n",
    "acc_knn_synth_train_balanced_corr, _ = trainTest_tunedModel(df_feature1_test, knn_optimal_synth_train_balanced)\n",
    "acc_svm_synth_train_balanced_corr, _ = trainTest_tunedModel(df_feature1_test, svm_optimal_synth_train_balanced)\n",
    "\n",
    "print(\"original train\")\n",
    "print(acc_holistic_knn_1)\n",
    "print(acc_holistic_nb_1)\n",
    "print(acc_holistic_svm_1)\n",
    "print(\"\\n\")\n",
    "\n",
    "print(\"more balanced train\")\n",
    "print(acc_nb_synth_train_balanced_corr)\n",
    "print(acc_knn_synth_train_balanced_corr)\n",
    "print(acc_svm_synth_train_balanced_corr)\n"
   ]
  },
  {
   "cell_type": "code",
   "execution_count": null,
   "metadata": {
    "ExecuteTime": {
     "end_time": "2019-08-11T03:59:01.838116Z",
     "start_time": "2019-08-11T02:35:54.793Z"
    }
   },
   "outputs": [],
   "source": [
    "\"\"\"\n",
    "original train\n",
    "0.5885509838998211\n",
    "0.5974955277280859\n",
    "0.5974955277280859\n",
    "\n",
    "# same size synth\n",
    "more balanced train\n",
    "0.5974955277280859\n",
    "0.42397137745974955\n",
    "0.26654740608228983\n",
    "\n",
    "# twice synth\n",
    "0.5974955277280859\n",
    "0.4525939177101968\n",
    "0.007155635062611807\n",
    "\n",
    "# three times synth\n",
    "0.5974955277280859\n",
    "0.4203935599284436\n",
    "0.08050089445438283\n",
    "\n",
    "\"\"\""
   ]
  },
  {
   "cell_type": "markdown",
   "metadata": {
    "ExecuteTime": {
     "end_time": "2019-08-03T10:44:01.551743Z",
     "start_time": "2019-08-03T10:44:01.549943Z"
    }
   },
   "source": [
    "## Train: synth"
   ]
  },
  {
   "cell_type": "code",
   "execution_count": 23,
   "metadata": {
    "ExecuteTime": {
     "end_time": "2019-08-11T04:11:15.187283Z",
     "start_time": "2019-08-11T04:07:15.776659Z"
    }
   },
   "outputs": [
    {
     "name": "stdout",
     "output_type": "stream",
     "text": [
      " 0    950\n",
      "-1    353\n",
      "-2    190\n",
      " 1    176\n",
      " 2     44\n",
      "Name: Discrete Thermal Comfort_TA, dtype: int64\n",
      "      Temperature (Fahrenheit)  SkinTemperature  ClothingInsulation  \\\n",
      "0                        65.95            83.51                0.44   \n",
      "1                        66.00            82.74                0.59   \n",
      "2                        66.40            86.52                0.39   \n",
      "3                        80.00            87.25                0.26   \n",
      "4                        64.75            88.43                0.50   \n",
      "5                        66.40            83.76                0.28   \n",
      "6                        78.55            82.40                0.58   \n",
      "7                        66.61            86.23                0.56   \n",
      "8                        67.21            85.69                0.23   \n",
      "9                        65.82            92.63                0.24   \n",
      "10                       78.67            82.38                0.58   \n",
      "11                       64.80            86.32                0.23   \n",
      "12                       77.60            84.32                0.59   \n",
      "13                       64.10            88.29                0.57   \n",
      "14                       64.59            86.75                0.45   \n",
      "15                       77.32            88.06                0.49   \n",
      "16                       66.94            90.18                0.50   \n",
      "17                       65.89            87.19                0.25   \n",
      "18                       65.36            85.63                0.57   \n",
      "19                       64.82            83.06                0.24   \n",
      "20                       64.91            78.71                0.24   \n",
      "21                       64.77            86.95                0.59   \n",
      "22                       64.42            87.58                0.24   \n",
      "23                       77.02            85.95                0.59   \n",
      "24                       63.98            82.89                0.59   \n",
      "25                       64.83            85.94                0.59   \n",
      "26                       65.45            83.48                0.47   \n",
      "27                       64.22            82.72                0.54   \n",
      "28                       66.05            82.22                0.44   \n",
      "29                       79.97            89.51                0.89   \n",
      "...                        ...              ...                 ...   \n",
      "1683                     78.33            89.32                0.25   \n",
      "1684                     64.55            86.25                0.57   \n",
      "1685                     65.04            90.40                0.23   \n",
      "1686                     64.30            89.64                0.24   \n",
      "1687                     77.02            82.58                0.23   \n",
      "1688                     78.40            85.99                0.24   \n",
      "1689                     77.37            82.80                0.56   \n",
      "1690                     66.63            87.53                0.23   \n",
      "1691                     65.45            89.64                0.23   \n",
      "1692                     77.26            88.17                0.23   \n",
      "1693                     64.71            83.42                0.44   \n",
      "1694                     63.86            84.75                0.23   \n",
      "1695                     64.51            84.22                0.23   \n",
      "1696                     77.82            88.34                0.72   \n",
      "1697                     66.85            85.62                0.23   \n",
      "1698                     77.00            89.78                0.23   \n",
      "1699                     65.13            84.56                0.23   \n",
      "1700                     65.94            89.14                0.39   \n",
      "1701                     64.12            91.59                0.24   \n",
      "1702                     64.48            83.36                0.23   \n",
      "1703                     65.99            85.82                0.51   \n",
      "1704                     67.19            85.82                0.23   \n",
      "1705                     78.00            85.69                0.59   \n",
      "1706                     78.14            86.44                0.78   \n",
      "1707                     79.51            85.85                0.26   \n",
      "1708                     80.21            87.46                0.24   \n",
      "1709                     64.66            87.68                0.23   \n",
      "1710                     78.68            82.72                0.27   \n",
      "1711                     65.23            82.04                0.23   \n",
      "1712                     65.69            82.36                0.25   \n",
      "\n",
      "      Height(cm)  Shoulder Circumference(cm)  Weight(lbs) Gender  \\\n",
      "0         167.57                       92.13       113.86      0   \n",
      "1         161.74                       90.36       137.66      0   \n",
      "2         169.36                       90.18       148.44      0   \n",
      "3         169.37                      100.50       144.06      0   \n",
      "4         181.35                      104.99       157.03      0   \n",
      "5         165.24                       97.82       193.97      0   \n",
      "6         151.30                       90.18       116.54      0   \n",
      "7         169.00                       90.76       113.81      1   \n",
      "8         169.37                       90.37       144.08      1   \n",
      "9         193.16                      108.00       193.87      1   \n",
      "10        161.82                      101.56       139.04      0   \n",
      "11        173.02                      110.79       135.10      0   \n",
      "12        193.19                      101.89       113.81      1   \n",
      "13        181.58                      107.90       180.82      1   \n",
      "14        168.32                       90.18       113.97      1   \n",
      "15        162.07                      107.68       176.57      0   \n",
      "16        166.77                      107.92       158.94      0   \n",
      "17        169.38                      107.52       144.06      0   \n",
      "18        161.56                       90.16       152.15      0   \n",
      "19        164.97                       90.17       135.25      0   \n",
      "20        169.36                      109.46       175.77      0   \n",
      "21        172.86                       95.14       194.06      0   \n",
      "22        173.11                      106.11       144.06      1   \n",
      "23        161.55                       96.82       193.87      0   \n",
      "24        168.86                       90.48       194.04      0   \n",
      "25        169.29                      105.98       194.06      0   \n",
      "26        161.82                       90.16       192.76      0   \n",
      "27        165.95                       90.23       194.05      0   \n",
      "28        161.55                      101.89       137.39      0   \n",
      "29        191.53                       97.36       144.09      0   \n",
      "...          ...                         ...          ...    ...   \n",
      "1683      167.51                       96.72       135.10      1   \n",
      "1684      171.07                       91.02       144.06      1   \n",
      "1685      192.71                      110.45       113.81      0   \n",
      "1686      169.17                      107.82       155.14      0   \n",
      "1687      181.14                      108.00       181.75      1   \n",
      "1688      178.06                      107.70       113.81      1   \n",
      "1689      169.23                       95.84       145.31      0   \n",
      "1690      181.70                      108.00       144.06      0   \n",
      "1691      169.28                      106.98        89.06      1   \n",
      "1692      181.67                      107.99       165.17      1   \n",
      "1693      177.54                      106.14       165.15      1   \n",
      "1694      177.01                      106.88       140.36      1   \n",
      "1695      181.70                      108.00       144.09      0   \n",
      "1696      193.47                      107.88       165.16      1   \n",
      "1697      181.52                      108.00       165.15      1   \n",
      "1698      192.92                      107.92       144.11      1   \n",
      "1699      193.56                      108.01       135.76      0   \n",
      "1700      164.58                      107.94       144.06      1   \n",
      "1701      190.88                      107.99       165.19      1   \n",
      "1702      169.09                      108.00       135.18      1   \n",
      "1703      172.24                      106.98       113.81      1   \n",
      "1704      169.29                      104.56       113.81      0   \n",
      "1705      178.10                      107.45        89.70      1   \n",
      "1706      169.99                      106.75       113.81      1   \n",
      "1707      169.20                       90.84       113.81      0   \n",
      "1708      176.91                      101.52       113.81      0   \n",
      "1709      169.26                      107.97       141.24      0   \n",
      "1710      169.23                       90.48       113.93      0   \n",
      "1711      193.53                      133.47       135.10      0   \n",
      "1712      166.50                      107.59        90.13      0   \n",
      "\n",
      "      Temperature_outside  Humidity_outside  Discrete Thermal Comfort_TA  \n",
      "0                   75.43             49.34                            0  \n",
      "1                   55.99             51.02                            0  \n",
      "2                   25.56             71.45                            0  \n",
      "3                   33.10             71.30                            0  \n",
      "4                   52.83             60.78                            0  \n",
      "5                   52.93             76.68                            0  \n",
      "6                   25.53             49.49                            0  \n",
      "7                   75.93             71.30                            0  \n",
      "8                   44.20             71.30                            0  \n",
      "9                   52.94             76.68                            0  \n",
      "10                  25.53             61.90                            0  \n",
      "11                  25.90             71.31                            0  \n",
      "12                  57.12             50.35                            0  \n",
      "13                  52.90             76.67                            0  \n",
      "14                  25.57             60.12                            0  \n",
      "15                  59.51             82.52                            0  \n",
      "16                  52.94             68.51                            0  \n",
      "17                  59.50             49.35                            0  \n",
      "18                  41.13             49.73                            0  \n",
      "19                  41.15             49.34                            0  \n",
      "20                  62.94             59.96                            0  \n",
      "21                  26.19             86.73                            0  \n",
      "22                  47.60             71.31                            0  \n",
      "23                  52.94             86.72                            0  \n",
      "24                  38.22             68.75                            0  \n",
      "25                  34.79             76.69                            0  \n",
      "26                  25.53             59.96                            0  \n",
      "27                  25.53             76.57                            0  \n",
      "28                  41.15             49.34                            0  \n",
      "29                  25.53             71.67                            0  \n",
      "...                   ...               ...                          ...  \n",
      "1683                88.39             71.30                            2  \n",
      "1684                59.50             49.55                            2  \n",
      "1685                79.02             82.96                            2  \n",
      "1686                52.80             86.69                            2  \n",
      "1687                89.14             61.35                            2  \n",
      "1688                58.78             49.75                            2  \n",
      "1689                31.02             71.95                            2  \n",
      "1690                90.13             82.97                            2  \n",
      "1691                78.56             82.96                            2  \n",
      "1692                52.72             75.53                            2  \n",
      "1693                88.29             71.31                            2  \n",
      "1694                90.12             71.55                            2  \n",
      "1695                52.94             84.30                            2  \n",
      "1696                59.42             76.05                            2  \n",
      "1697                90.13             83.16                            2  \n",
      "1698                59.50             78.37                            2  \n",
      "1699                52.94             71.31                            2  \n",
      "1700                90.08             49.34                            2  \n",
      "1701                79.09             84.07                            2  \n",
      "1702                90.13             65.60                            2  \n",
      "1703                59.19             51.12                            2  \n",
      "1704                89.21             49.34                            2  \n",
      "1705                42.01             74.82                            2  \n",
      "1706                58.38             52.49                            2  \n",
      "1707                26.28             71.30                            2  \n",
      "1708                58.18             59.96                            2  \n",
      "1709                52.94             85.51                            2  \n",
      "1710                41.52             77.46                            2  \n",
      "1711                90.12             71.32                            2  \n",
      "1712                77.91             82.96                            2  \n",
      "\n",
      "[1713 rows x 10 columns]\n",
      "Features: ['Temperature (Fahrenheit)' 'SkinTemperature' 'ClothingInsulation'\n",
      " 'Height(cm)' 'Shoulder Circumference(cm)' 'Weight(lbs)' 'Gender'\n",
      " 'Temperature_outside' 'Humidity_outside']\n",
      "Expected accuracy (f1 micro) based on Cross-Validation:  0.5541355609617685\n",
      "GaussianNB(priors=None, var_smoothing=1e-09)\n",
      "Accuracy (f1 micro) on test set:  0.5160349854227405\n",
      "F1 micro on test set:  0.5160349854227405\n",
      "F1 macro on test set:  0.2626564463831545\n",
      "Confusion Matrix: \n",
      "[[  1   5  28   0   4]\n",
      " [  1  25  37   5   3]\n",
      " [  3  30 146   5   6]\n",
      " [  1  14  13   4   3]\n",
      " [  0   2   0   6   1]]\n",
      "Classification Metrics: \n",
      "              precision    recall  f1-score   support\n",
      "\n",
      "          -2       0.17      0.03      0.05        38\n",
      "          -1       0.33      0.35      0.34        71\n",
      "           0       0.65      0.77      0.71       190\n",
      "           1       0.20      0.11      0.15        35\n",
      "           2       0.06      0.11      0.08         9\n",
      "\n",
      "   micro avg       0.52      0.52      0.52       343\n",
      "   macro avg       0.28      0.27      0.26       343\n",
      "weighted avg       0.47      0.52      0.48       343\n",
      "\n",
      "Features: ['Temperature (Fahrenheit)' 'SkinTemperature' 'ClothingInsulation'\n",
      " 'Height(cm)' 'Shoulder Circumference(cm)' 'Weight(lbs)' 'Gender'\n",
      " 'Temperature_outside' 'Humidity_outside']\n",
      "Number of folds: 10\n"
     ]
    },
    {
     "name": "stderr",
     "output_type": "stream",
     "text": [
      "/home/matias/anaconda3/envs/tGAN/lib/python3.7/site-packages/sklearn/utils/validation.py:595: DataConversionWarning: Data with input dtype object was converted to float64 by StandardScaler.\n",
      "  warnings.warn(msg, DataConversionWarning)\n",
      "/home/matias/anaconda3/envs/tGAN/lib/python3.7/site-packages/sklearn/utils/validation.py:595: DataConversionWarning: Data with input dtype object was converted to float64 by StandardScaler.\n",
      "  warnings.warn(msg, DataConversionWarning)\n"
     ]
    },
    {
     "name": "stdout",
     "output_type": "stream",
     "text": [
      "Best parameters set found on development set:\n",
      "{'algorithm': 'brute', 'metric': 'seuclidean', 'n_neighbors': 13, 'weights': 'distance'}\n",
      "KNeighborsClassifier(algorithm='brute', leaf_size=30, metric='seuclidean',\n",
      "           metric_params=None, n_jobs=None, n_neighbors=13, p=2,\n",
      "           weights='distance')\n",
      "Accuracy (f1 micro) on test set:  0.5510204081632653\n",
      "F1 micro on test set:  0.5510204081632653\n",
      "F1 macro on test set:  0.26040252637207734\n",
      "Confusion Matrix: \n",
      "[[  1   3  34   0   0]\n",
      " [  3  17  45   4   2]\n",
      " [  3  14 168   4   1]\n",
      " [  0   7  26   2   0]\n",
      " [  1   2   4   1   1]]\n",
      "Classification Metrics: \n",
      "              precision    recall  f1-score   support\n",
      "\n",
      "          -2       0.12      0.03      0.04        38\n",
      "          -1       0.40      0.24      0.30        71\n",
      "           0       0.61      0.88      0.72       190\n",
      "           1       0.18      0.06      0.09        35\n",
      "           2       0.25      0.11      0.15         9\n",
      "\n",
      "   micro avg       0.55      0.55      0.55       343\n",
      "   macro avg       0.31      0.26      0.26       343\n",
      "weighted avg       0.46      0.55      0.48       343\n",
      "\n",
      "Features: ['Temperature (Fahrenheit)' 'SkinTemperature' 'ClothingInsulation'\n",
      " 'Height(cm)' 'Shoulder Circumference(cm)' 'Weight(lbs)' 'Gender'\n",
      " 'Temperature_outside' 'Humidity_outside']\n",
      "Number of folds: 10\n"
     ]
    },
    {
     "name": "stderr",
     "output_type": "stream",
     "text": [
      "/home/matias/anaconda3/envs/tGAN/lib/python3.7/site-packages/sklearn/utils/validation.py:595: DataConversionWarning: Data with input dtype object was converted to float64 by StandardScaler.\n",
      "  warnings.warn(msg, DataConversionWarning)\n",
      "/home/matias/anaconda3/envs/tGAN/lib/python3.7/site-packages/sklearn/utils/validation.py:595: DataConversionWarning: Data with input dtype object was converted to float64 by StandardScaler.\n",
      "  warnings.warn(msg, DataConversionWarning)\n",
      "/home/matias/anaconda3/envs/tGAN/lib/python3.7/site-packages/sklearn/model_selection/_search.py:841: DeprecationWarning: The default of the `iid` parameter will change from True to False in version 0.22 and will be removed in 0.24. This will change numeric results when test-set sizes are unequal.\n",
      "  DeprecationWarning)\n"
     ]
    },
    {
     "name": "stdout",
     "output_type": "stream",
     "text": [
      "Best parameters set found on development set:\n",
      "{'C': 100, 'class_weight': 'balanced', 'gamma': 0.01, 'kernel': 'rbf'}\n",
      "SVC(C=100, cache_size=200, class_weight='balanced', coef0=0.0,\n",
      "  decision_function_shape='ovr', degree=3, gamma=0.01, kernel='rbf',\n",
      "  max_iter=-1, probability=False, random_state=100, shrinking=True,\n",
      "  tol=0.001, verbose=False)\n",
      "Accuracy (f1 micro) on test set:  0.3935860058309038\n",
      "F1 micro on test set:  0.3935860058309038\n",
      "F1 macro on test set:  0.2959503432388176\n",
      "Confusion Matrix: \n",
      "[[ 8 10 12  2  6]\n",
      " [11 27 11 17  5]\n",
      " [29 37 85 26 13]\n",
      " [ 4 11  2 12  6]\n",
      " [ 1  2  0  3  3]]\n",
      "Classification Metrics: \n",
      "              precision    recall  f1-score   support\n",
      "\n",
      "          -2       0.15      0.21      0.18        38\n",
      "          -1       0.31      0.38      0.34        71\n",
      "           0       0.77      0.45      0.57       190\n",
      "           1       0.20      0.34      0.25        35\n",
      "           2       0.09      0.33      0.14         9\n",
      "\n",
      "   micro avg       0.39      0.39      0.39       343\n",
      "   macro avg       0.30      0.34      0.30       343\n",
      "weighted avg       0.53      0.39      0.43       343\n",
      "\n",
      "Accuracy (f1 micro) on test set:  0.09903381642512077\n",
      "F1 micro on test set:  0.09903381642512077\n",
      "F1 macro on test set:  0.03604395604395604\n",
      "Confusion Matrix: \n",
      "[[  0   0   0  44   0]\n",
      " [  0   0   0  80   0]\n",
      " [  0   0   0 234   0]\n",
      " [  0   0   0  41   0]\n",
      " [  0   0   0  15   0]]\n",
      "Classification Metrics: \n",
      "              precision    recall  f1-score   support\n",
      "\n",
      "          -2       0.00      0.00      0.00        44\n",
      "          -1       0.00      0.00      0.00        80\n",
      "           0       0.00      0.00      0.00       234\n",
      "           1       0.10      1.00      0.18        41\n",
      "           2       0.00      0.00      0.00        15\n",
      "\n",
      "   micro avg       0.10      0.10      0.10       414\n",
      "   macro avg       0.02      0.20      0.04       414\n",
      "weighted avg       0.01      0.10      0.02       414\n",
      "\n",
      "Accuracy (f1 micro) on test set:  0.4758454106280193\n",
      "F1 micro on test set:  0.4758454106280194\n",
      "F1 macro on test set:  0.18413346952672796\n",
      "Confusion Matrix: \n",
      "[[  0  14  27   3   0]\n",
      " [  4  24  50   2   0]\n",
      " [  4  52 173   5   0]\n",
      " [  0   4  37   0   0]\n",
      " [  0   2  13   0   0]]\n",
      "Classification Metrics: \n",
      "              precision    recall  f1-score   support\n",
      "\n",
      "          -2       0.00      0.00      0.00        44\n",
      "          -1       0.25      0.30      0.27        80\n",
      "           0       0.58      0.74      0.65       234\n",
      "           1       0.00      0.00      0.00        41\n",
      "           2       0.00      0.00      0.00        15\n",
      "\n",
      "   micro avg       0.48      0.48      0.48       414\n",
      "   macro avg       0.17      0.21      0.18       414\n",
      "weighted avg       0.37      0.48      0.42       414\n",
      "\n",
      "Accuracy (f1 micro) on test set:  0.10628019323671498\n",
      "F1 micro on test set:  0.10628019323671498\n",
      "F1 macro on test set:  0.03842794759825328\n",
      "Confusion Matrix: \n",
      "[[ 44   0   0   0   0]\n",
      " [ 80   0   0   0   0]\n",
      " [234   0   0   0   0]\n",
      " [ 41   0   0   0   0]\n",
      " [ 15   0   0   0   0]]\n",
      "Classification Metrics: \n",
      "              precision    recall  f1-score   support\n",
      "\n",
      "          -2       0.11      1.00      0.19        44\n",
      "          -1       0.00      0.00      0.00        80\n",
      "           0       0.00      0.00      0.00       234\n",
      "           1       0.00      0.00      0.00        41\n",
      "           2       0.00      0.00      0.00        15\n",
      "\n",
      "   micro avg       0.11      0.11      0.11       414\n",
      "   macro avg       0.02      0.20      0.04       414\n",
      "weighted avg       0.01      0.11      0.02       414\n",
      "\n",
      "original train\n",
      "0.6666666666666666\n",
      "0.5652173913043478\n",
      "0.5652173913043478\n",
      "\n",
      "\n",
      "more balanced train\n",
      "0.09903381642512077\n",
      "0.4758454106280193\n",
      "0.10628019323671498\n"
     ]
    },
    {
     "name": "stderr",
     "output_type": "stream",
     "text": [
      "/home/matias/anaconda3/envs/tGAN/lib/python3.7/site-packages/sklearn/metrics/classification.py:1143: UndefinedMetricWarning: F-score is ill-defined and being set to 0.0 in labels with no predicted samples.\n",
      "  'precision', 'predicted', average, warn_for)\n",
      "/home/matias/anaconda3/envs/tGAN/lib/python3.7/site-packages/sklearn/metrics/classification.py:1143: UndefinedMetricWarning: Precision and F-score are ill-defined and being set to 0.0 in labels with no predicted samples.\n",
      "  'precision', 'predicted', average, warn_for)\n",
      "/home/matias/anaconda3/envs/tGAN/lib/python3.7/site-packages/sklearn/metrics/classification.py:1143: UndefinedMetricWarning: Precision and F-score are ill-defined and being set to 0.0 in labels with no predicted samples.\n",
      "  'precision', 'predicted', average, warn_for)\n",
      "/home/matias/anaconda3/envs/tGAN/lib/python3.7/site-packages/sklearn/metrics/classification.py:1143: UndefinedMetricWarning: Precision and F-score are ill-defined and being set to 0.0 in labels with no predicted samples.\n",
      "  'precision', 'predicted', average, warn_for)\n",
      "/home/matias/anaconda3/envs/tGAN/lib/python3.7/site-packages/sklearn/metrics/classification.py:1143: UndefinedMetricWarning: F-score is ill-defined and being set to 0.0 in labels with no predicted samples.\n",
      "  'precision', 'predicted', average, warn_for)\n",
      "/home/matias/anaconda3/envs/tGAN/lib/python3.7/site-packages/sklearn/metrics/classification.py:1143: UndefinedMetricWarning: Precision and F-score are ill-defined and being set to 0.0 in labels with no predicted samples.\n",
      "  'precision', 'predicted', average, warn_for)\n",
      "/home/matias/anaconda3/envs/tGAN/lib/python3.7/site-packages/sklearn/metrics/classification.py:1143: UndefinedMetricWarning: Precision and F-score are ill-defined and being set to 0.0 in labels with no predicted samples.\n",
      "  'precision', 'predicted', average, warn_for)\n",
      "/home/matias/anaconda3/envs/tGAN/lib/python3.7/site-packages/sklearn/metrics/classification.py:1143: UndefinedMetricWarning: Precision and F-score are ill-defined and being set to 0.0 in labels with no predicted samples.\n",
      "  'precision', 'predicted', average, warn_for)\n",
      "/home/matias/anaconda3/envs/tGAN/lib/python3.7/site-packages/sklearn/metrics/classification.py:1143: UndefinedMetricWarning: F-score is ill-defined and being set to 0.0 in labels with no predicted samples.\n",
      "  'precision', 'predicted', average, warn_for)\n",
      "/home/matias/anaconda3/envs/tGAN/lib/python3.7/site-packages/sklearn/metrics/classification.py:1143: UndefinedMetricWarning: Precision and F-score are ill-defined and being set to 0.0 in labels with no predicted samples.\n",
      "  'precision', 'predicted', average, warn_for)\n",
      "/home/matias/anaconda3/envs/tGAN/lib/python3.7/site-packages/sklearn/metrics/classification.py:1143: UndefinedMetricWarning: Precision and F-score are ill-defined and being set to 0.0 in labels with no predicted samples.\n",
      "  'precision', 'predicted', average, warn_for)\n",
      "/home/matias/anaconda3/envs/tGAN/lib/python3.7/site-packages/sklearn/metrics/classification.py:1143: UndefinedMetricWarning: Precision and F-score are ill-defined and being set to 0.0 in labels with no predicted samples.\n",
      "  'precision', 'predicted', average, warn_for)\n"
     ]
    }
   ],
   "source": [
    "df_synth = pd.concat([synth_0, synth_minus1, synth_minus2, synth_1, synth_2], ignore_index=True)\n",
    "df_synth['Discrete Thermal Comfort_TA'] = pd.to_numeric(df_synth['Discrete Thermal Comfort_TA'])\n",
    "print(df_synth['Discrete Thermal Comfort_TA'].value_counts())\n",
    "df_synth = df_synth.round(2)\n",
    "\n",
    "print(df_synth)\n",
    "\n",
    "# load best models NB, KNN, SVM, MLP\n",
    "acc_nb_synth, nb_optimal_synth = buildTrainNB(df_synth, test_size_percentage=test_size_percentage)\n",
    "acc_knn_synth, knn_optimal_synth = buildTrainKNN(df_synth, test_size_percentage=test_size_percentage)\n",
    "acc_svm_synth, svm_optimal_synth = buildTrainSVM(df_synth, test_size_percentage=test_size_percentage)\n",
    "\n",
    "# using the optimal model. re-train in whole train split and test in unseen test split\n",
    "acc_nb_synth, _ = trainTest_tunedModel(df_feature1_test, nb_optimal_synth)\n",
    "acc_knn_synth, _ = trainTest_tunedModel(df_feature1_test, knn_optimal_synth)\n",
    "acc_svm_synth, _ = trainTest_tunedModel(df_feature1_test, svm_optimal_synth)\n",
    "\n",
    "print(\"original train\")\n",
    "print(acc_holistic_knn_1)\n",
    "print(acc_holistic_nb_1)\n",
    "print(acc_holistic_svm_1)\n",
    "print(\"\\n\")\n",
    "\n",
    "print(\"more balanced train\")\n",
    "print(acc_nb_synth)\n",
    "print(acc_knn_synth)\n",
    "print(acc_svm_synth)"
   ]
  },
  {
   "cell_type": "code",
   "execution_count": null,
   "metadata": {
    "ExecuteTime": {
     "end_time": "2019-08-11T03:59:01.840283Z",
     "start_time": "2019-08-11T02:35:54.800Z"
    }
   },
   "outputs": [],
   "source": [
    "\"\"\"\n",
    "original train\n",
    "0.5885509838998211\n",
    "0.5974955277280859\n",
    "0.5974955277280859\n",
    "\n",
    "# same size synth # CHANGE\n",
    "0.5974955277280859\n",
    "0.5116279069767442\n",
    "0.5974955277280859\n",
    "\n",
    "# twice synth # CHANGE\n",
    "0.007155635062611807\n",
    "0.2772808586762075\n",
    "0.007155635062611807\n",
    "\n",
    "# three times synth\n",
    "0.007155635062611807\n",
    "0.3023255813953488\n",
    "0.007155635062611807\n",
    "\n",
    "\"\"\"\n"
   ]
  },
  {
   "cell_type": "code",
   "execution_count": null,
   "metadata": {
    "ExecuteTime": {
     "end_time": "2019-08-11T03:59:01.841379Z",
     "start_time": "2019-08-11T02:35:54.804Z"
    }
   },
   "outputs": [],
   "source": [
    "all_datasets = pd.DataFrame([\n",
    "                            # train\n",
    "                            ['KNN', 'Train', 0.59],\n",
    "                            ['SVM', 'Train', 0.60],\n",
    "                            ['NB', 'Train', 0.60],\n",
    "                            \n",
    "                            # train + synth1 \n",
    "                            ['KNN', 'Train+Synth1-TGAN', 0.6],\n",
    "                            ['SVM', 'Train+Synth1-TGAN', 0.42],\n",
    "                            ['NB', 'Train+Synth1-TGAN', 0.27],\n",
    "\n",
    "                            ['KNN', 'Train+Synth1-GANCorr', 0.49],\n",
    "                            ['SVM', 'Train+Synth1-GANCorr', 0.45],\n",
    "                            ['NB', 'Train+Synth1-GANCorr', 0.60],\n",
    "\n",
    "                            ['KNN', 'Train+Synth1-GAN', 0.08],\n",
    "                            ['SVM', 'Train+Synth1-GAN', 0.49],\n",
    "                            ['NB', 'Train+Synth1-GAN', 0.60],\n",
    "    \n",
    "                            # synth1\n",
    "                            ['KNN', 'Synth1-TGAN', 0.60],\n",
    "                            ['SVM', 'Synth1-TGAN', 0.51],\n",
    "                            ['NB', 'Synth1-TGAN', 0.60],\n",
    "                            \n",
    "                            ['KNN', 'Synth1-GANCorr', 0.02],\n",
    "                            ['SVM', 'Synth1-GANCorr', 0.61],\n",
    "                            ['NB', 'Synth1-GANCorr', 0.60],\n",
    "    \n",
    "                            ['KNN', 'Synth1-GAN', 0.08],\n",
    "                            ['SVM', 'Synth1-GAN', 0.63],\n",
    "                            ['NB', 'Synth1-GAN', 0.60],\n",
    "    \n",
    "                            # train + synth2\n",
    "                            ['KNN', 'Train+Synth2-TGAN', 0.6],\n",
    "                            ['SVM', 'Train+Synth2-TGAN', 0.45],\n",
    "                            ['NB', 'Train+Synth2-TGAN', 0.01],\n",
    "                            \n",
    "                            ['KNN', 'Train+Synth2-GANCorr', 0.49],\n",
    "                            ['SVM', 'Train+Synth2-GANCorr', 0.42],\n",
    "                            ['NB', 'Train+Synth2-GANCorr', 0.6],\n",
    "    \n",
    "                            ['KNN', 'Train+Synth2-GAN', 0.08],\n",
    "                            ['SVM', 'Train+Synth2-GAN', 0.42],\n",
    "                            ['NB', 'Train+Synth2-GAN', 0.08],\n",
    "    \n",
    "                            # synth2\n",
    "                            ['KNN', 'Synth2-TGAN', 0.01],\n",
    "                            ['SVM', 'Synth2-TGAN', 0.28],\n",
    "                            ['NB', 'Synth2-TGAN', 0.01],                                                \n",
    "                            \n",
    "                            ['KNN', 'Synth2-GANCorr', 0.64],\n",
    "                            ['SVM', 'Synth2-GANCorr', 0.48],\n",
    "                            ['NB', 'Synth2-GANCorr', 0.60],  \n",
    "                            \n",
    "                            ['KNN', 'Synth2-GAN', 0.08],\n",
    "                            ['SVM', 'Synth2-GAN', 0.57],\n",
    "                            ['NB', 'Synth2-GAN', 0.60],  \n",
    "    \n",
    "                            # train + synth3\n",
    "                            ['KNN', 'Train+Synth3-TGAN', 0.60],\n",
    "                            ['SVM', 'Train+Synth3-TGAN', 0.42],\n",
    "                            ['NB', 'Train+Synth3-TGAN', 0.08],\n",
    "\n",
    "                            ['KNN', 'Train+Synth3-GANCorr', 0.28],\n",
    "                            ['SVM', 'Train+Synth3-GANCorr', 0.37],\n",
    "                            ['NB', 'Train+Synth3-GANCorr', 0.6],\n",
    "    \n",
    "                            ['KNN', 'Train+Synth3-GAN', 0.08],\n",
    "                            ['SVM', 'Train+Synth3-GAN', 0.46],\n",
    "                            ['NB', 'Train+Synth3-GAN', 0.08],\n",
    "    \n",
    "                            # synth3\n",
    "                            ['KNN', 'Synth3-TGAN', 0.01],\n",
    "                            ['SVM', 'Synth3-TGAN', 0.30],\n",
    "                            ['NB', 'Synth3-TGAN', 0.01],\n",
    "    \n",
    "                            ['KNN', 'Synth3-GANCorr', 0.24],\n",
    "                            ['SVM', 'Synth3-GANCorr', 0.4],\n",
    "                            ['NB', 'Synth3-GANCorr', 0.27],  \n",
    "    \n",
    "                            ['KNN', 'Synth3-GAN', 0.08],\n",
    "                            ['SVM', 'Synth3-GAN', 0.51],\n",
    "                            ['NB', 'Synth3-GAN', 0.08] \n",
    "\n",
    "                            ], columns = ['Model', 'Training Set and GAN', 'Accuracy'])\n",
    "\n",
    "# plot heatmap\n",
    "print(\"Metric: F1-score micro\")\n",
    "print(\"Data Split: 20% Test, 70% Train\")\n",
    "all_datasets = all_datasets.pivot(\"Training Set and GAN\", \"Model\", \"Accuracy\")\n",
    "fig = plt.figure(figsize=(12, 10))\n",
    "sns.set(font_scale=1.5)\n",
    "ax = sns.heatmap(all_datasets, linewidths = 0.5, annot = True, vmax = 1, cmap = \"YlGnBu\")\n",
    "plt.tight_layout()\n",
    "plt.show()"
   ]
  },
  {
   "cell_type": "code",
   "execution_count": null,
   "metadata": {},
   "outputs": [],
   "source": []
  }
 ],
 "metadata": {
  "kernelspec": {
   "display_name": "Python3 (tGAN)",
   "language": "python",
   "name": "tgan"
  },
  "language_info": {
   "codemirror_mode": {
    "name": "ipython",
    "version": 3
   },
   "file_extension": ".py",
   "mimetype": "text/x-python",
   "name": "python",
   "nbconvert_exporter": "python",
   "pygments_lexer": "ipython3",
   "version": "3.7.3"
  },
  "toc": {
   "base_numbering": 1,
   "nav_menu": {},
   "number_sections": true,
   "sideBar": true,
   "skip_h1_title": false,
   "title_cell": "Table of Contents",
   "title_sidebar": "Contents",
   "toc_cell": false,
   "toc_position": {
    "height": "calc(100% - 180px)",
    "left": "10px",
    "top": "150px",
    "width": "216px"
   },
   "toc_section_display": true,
   "toc_window_display": true
  },
  "varInspector": {
   "cols": {
    "lenName": 16,
    "lenType": 16,
    "lenVar": 40
   },
   "kernels_config": {
    "python": {
     "delete_cmd_postfix": "",
     "delete_cmd_prefix": "del ",
     "library": "var_list.py",
     "varRefreshCmd": "print(var_dic_list())"
    },
    "r": {
     "delete_cmd_postfix": ") ",
     "delete_cmd_prefix": "rm(",
     "library": "var_list.r",
     "varRefreshCmd": "cat(var_dic_list()) "
    }
   },
   "position": {
    "height": "395.85px",
    "left": "-1536px",
    "right": "20px",
    "top": "365px",
    "width": "576px"
   },
   "types_to_exclude": [
    "module",
    "function",
    "builtin_function_or_method",
    "instance",
    "_Feature"
   ],
   "window_display": true
  }
 },
 "nbformat": 4,
 "nbformat_minor": 2
}
