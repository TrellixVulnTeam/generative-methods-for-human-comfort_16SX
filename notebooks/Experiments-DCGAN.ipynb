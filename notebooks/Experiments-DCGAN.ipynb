{
 "cells": [
  {
   "cell_type": "markdown",
   "metadata": {},
   "source": [
    "# Load Files"
   ]
  },
  {
   "cell_type": "code",
   "execution_count": 1,
   "metadata": {
    "ExecuteTime": {
     "end_time": "2019-07-22T09:01:28.807721Z",
     "start_time": "2019-07-22T09:01:26.128232Z"
    }
   },
   "outputs": [
    {
     "name": "stdout",
     "output_type": "stream",
     "text": [
      "Importing Jupyter notebook from DCGAN.ipynb\n",
      "Importing Jupyter notebook from Utils.ipynb\n",
      "Importing Jupyter notebook from GAN.ipynb\n",
      "Importing Jupyter notebook from Functions.ipynb\n"
     ]
    }
   ],
   "source": [
    "from __future__ import absolute_import, division, print_function, unicode_literals\n",
    "\n",
    "# Notebooks\n",
    "import nbimporter\n",
    "import os\n",
    "import sys\n",
    "\n",
    "module_path = os.path.abspath(os.path.join('..'))\n",
    "if module_path not in sys.path:\n",
    "    sys.path.append(module_path)\n",
    "\n",
    "# Functions Notebook\n",
    "from DCGAN import *\n",
    "from Utils import build_GAN, batch_build_GAN, corr_matrix\n",
    "from Functions import holisticsTrainTest\n",
    "from Functions import comfPMV, ppv, selectModelParameters, trainTest_tunedModel, buildTrainRF, buildTrainKNN\n",
    "from Functions import buildTrainSVM, buildTrainNB, buildMLP, getClfMetrics, saveModel\n",
    "\n",
    "# Pandas, matplotlib, pickle, seaborn\n",
    "import pickle\n",
    "import numpy as np\n",
    "import pandas as pd\n",
    "import seaborn as sns\n",
    "import matplotlib.pyplot as plt\n",
    "# from collections import Counter\n",
    "\n",
    "# Sklearn\n",
    "from sklearn.manifold import TSNE\n",
    "from sklearn import preprocessing\n",
    "\n",
    "# Tensorflow\n",
    "import tensorflow as tf"
   ]
  },
  {
   "cell_type": "code",
   "execution_count": 2,
   "metadata": {
    "ExecuteTime": {
     "end_time": "2019-07-22T09:01:28.816942Z",
     "start_time": "2019-07-22T09:01:28.810181Z"
    }
   },
   "outputs": [],
   "source": [
    "# Run the pre-processing notebook first to make sure the pickle files exist\n",
    "\n",
    "df_feature1 = pd.read_pickle(\"df_feature1.pkl\")\n",
    "# df_feature2 = pd.read_pickle(\"df_feature2.pkl\")\n",
    "# df_feature3 = pd.read_pickle(\"df_feature3.pkl\")\n",
    "# df_feature4 = pd.read_pickle(\"df_feature4.pkl\")\n",
    "# df_feature5 = pd.read_pickle(\"df_feature5.pkl\")\n"
   ]
  },
  {
   "cell_type": "code",
   "execution_count": 3,
   "metadata": {
    "ExecuteTime": {
     "end_time": "2019-07-22T09:01:28.831127Z",
     "start_time": "2019-07-22T09:01:28.819522Z"
    }
   },
   "outputs": [],
   "source": [
    "test_size_percentage = 0.2 # for CV within train split\n",
    "train_test_split = 0.8 # for main train/validation split\n",
    "\n",
    "user_split = True #split train and test user-based or completely stratfied\n",
    "\n",
    "use_heuristics_participants = False\n"
   ]
  },
  {
   "cell_type": "code",
   "execution_count": 4,
   "metadata": {
    "ExecuteTime": {
     "end_time": "2019-07-22T09:01:28.898524Z",
     "start_time": "2019-07-22T09:01:28.833310Z"
    }
   },
   "outputs": [
    {
     "name": "stdout",
     "output_type": "stream",
     "text": [
      "Complete Participants: [1, 2, 4, 5, 6, 7, 8, 11, 12, 14, 15, 16, 17, 18, 19, 20, 21, 22, 23, 24, 25, 27, 29, 30, 31, 32, 33, 34, 35, 40, 41, 42, 43, 44, 45, 46, 49, 50, 51, 52, 54, 55, 57, 58, 59, 60, 61, 62, 63, 64, 65, 66, 67, 68, 70, 71, 72, 73, 74, 75, 76, 77, 78, 79, 80]\n",
      "Total number of complete participants: 65\n"
     ]
    }
   ],
   "source": [
    "df_aux_65 = pd.read_csv(\"../data/TCS_65_participants_outsideData.csv\", delimiter = \",\")\n",
    "\n",
    "list_complete_participants = list(df_aux_65['Participant_No'].unique())\n",
    "\n",
    "if use_heuristics_participants:\n",
    "    list_complete_participants.append(10)\n",
    "    list_complete_participants.append(26)\n",
    "    list_complete_participants.append(28)\n",
    "    list_complete_participants.append(36)\n",
    "    list_complete_participants.append(37)\n",
    "    list_complete_participants.append(39)\n",
    "    list_complete_participants.append(47)\n",
    "    list_complete_participants.append(48)\n",
    "    list_complete_participants.append(53)\n",
    "\n",
    "\n",
    "num_complete_participants = len(list_complete_participants)\n",
    "print(\"Complete Participants: {}\".format(list_complete_participants))\n",
    "print(\"Total number of complete participants: {}\".format(num_complete_participants))"
   ]
  },
  {
   "cell_type": "code",
   "execution_count": 5,
   "metadata": {
    "ExecuteTime": {
     "end_time": "2019-07-22T09:01:28.915694Z",
     "start_time": "2019-07-22T09:01:28.900501Z"
    }
   },
   "outputs": [
    {
     "name": "stdout",
     "output_type": "stream",
     "text": [
      "Num participants in test set: \n",
      "Testing on participants:\n",
      "[ 4 40 41 43 57 58 61 64 68 70 71 73 80]\n",
      "Total number of instances: 2067\n",
      "Number of training instances: 1713\n",
      "Number of testing (validation) instances: 354\n"
     ]
    }
   ],
   "source": [
    "\n",
    "df_feature1_train, df_feature1_test, df_feature1_train_binary, df_feature1_test_binary = holisticsTrainTest(df_feature1, \n",
    "                                                                                                            list_complete_participants,\n",
    "                                                                                                            user_split = user_split,\n",
    "                                                                                                            train_test_split = train_test_split)\n",
    "\n",
    "\n",
    "# df_feature2_train, df_feature2_test, df_feature2_train_binary, df_feature2_test_binary  = holisticsTrainTest(df_feature2, \n",
    "#                                                                                                              list_complete_participants,\n",
    "#                                                                                                             user_split = user_split,\n",
    "#                                                                                                             train_test_split=train_test_split)\n",
    "\n",
    "# df_feature3_train, df_feature3_test, df_feature3_train_binary, df_feature3_test_binary = holisticsTrainTest(df_feature3,\n",
    "#                                                                                                            list_complete_participants,\n",
    "#                                                                                                            user_split = user_split,\n",
    "#                                                                                                            train_test_split=train_test_split)\n",
    "\n",
    "# df_feature4_train, df_feature4_test, df_feature4_train_binary, df_feature4_test_binary = holisticsTrainTest(df_feature4,\n",
    "#                                                                                                            list_complete_participants,\n",
    "#                                                                                                            user_split = user_split,\n",
    "#                                                                                                            train_test_split=train_test_split)\n",
    "\n",
    "# df_feature5_train, df_feature5_test, df_feature5_train_binary, df_feature5_test_binary = holisticsTrainTest(df_feature5,\n",
    "#                                                                                                             list_complete_participants,\n",
    "#                                                                                                            user_split = user_split,\n",
    "#                                                                                                            train_test_split=train_test_split)\n",
    "\n",
    "print(\"Total number of instances: {}\".format(df_feature1.shape[0]))\n",
    "\n",
    "print(\"Number of training instances: {}\".format(df_feature1_train.shape[0]))\n",
    "print(\"Number of testing (validation) instances: {}\".format(df_feature1_test.shape[0]))"
   ]
  },
  {
   "cell_type": "markdown",
   "metadata": {},
   "source": [
    "# Preparing data"
   ]
  },
  {
   "cell_type": "code",
   "execution_count": 6,
   "metadata": {
    "ExecuteTime": {
     "end_time": "2019-07-22T09:01:28.932481Z",
     "start_time": "2019-07-22T09:01:28.917519Z"
    }
   },
   "outputs": [
    {
     "name": "stdout",
     "output_type": "stream",
     "text": [
      " 0    950\n",
      "-1    353\n",
      "-2    190\n",
      " 1    176\n",
      " 2     44\n",
      "Name: Discrete Thermal Comfort_TA, dtype: int64\n"
     ]
    }
   ],
   "source": [
    "# generate datasets for each class\n",
    "\n",
    "print(df_feature1_train['Discrete Thermal Comfort_TA'].value_counts())\n",
    "df_feature1_train_1 = df_feature1_train[df_feature1_train[ 'Discrete Thermal Comfort_TA'] == 1]  \n",
    "del df_feature1_train_1['Discrete Thermal Comfort_TA']\n",
    "\n",
    "df_feature1_train_2 = df_feature1_train[df_feature1_train[ 'Discrete Thermal Comfort_TA'] == 2]\n",
    "del df_feature1_train_2['Discrete Thermal Comfort_TA']\n",
    "\n",
    "df_feature1_train_minus1 = df_feature1_train[df_feature1_train[ 'Discrete Thermal Comfort_TA'] == -1]\n",
    "del df_feature1_train_minus1['Discrete Thermal Comfort_TA']\n",
    "\n",
    "df_feature1_train_minus2 = df_feature1_train[df_feature1_train[ 'Discrete Thermal Comfort_TA'] == -2]\n",
    "del df_feature1_train_minus2['Discrete Thermal Comfort_TA']"
   ]
  },
  {
   "cell_type": "code",
   "execution_count": 7,
   "metadata": {
    "ExecuteTime": {
     "end_time": "2019-07-22T09:01:28.940281Z",
     "start_time": "2019-07-22T09:01:28.934035Z"
    }
   },
   "outputs": [],
   "source": [
    "# X_embedded = TSNE(n_components=2).fit_transform(df_feature1_train_1)\n",
    "# print(X_embedded)"
   ]
  },
  {
   "cell_type": "code",
   "execution_count": 8,
   "metadata": {
    "ExecuteTime": {
     "end_time": "2019-07-22T09:01:28.956705Z",
     "start_time": "2019-07-22T09:01:28.943275Z"
    }
   },
   "outputs": [],
   "source": [
    "# print(X_embedded[:,0])\n",
    "\n",
    "# plt.scatter(X_embedded[:,0], X_embedded[:,1])\n"
   ]
  },
  {
   "cell_type": "code",
   "execution_count": 9,
   "metadata": {
    "ExecuteTime": {
     "end_time": "2019-07-22T09:01:29.370399Z",
     "start_time": "2019-07-22T09:01:28.959826Z"
    }
   },
   "outputs": [
    {
     "data": {
      "image/png": "[encoded data removed]",
      "text/plain": [
       "<Figure size 792x648 with 2 Axes>"
      ]
     },
     "metadata": {
      "needs_background": "light"
     },
     "output_type": "display_data"
    }
   ],
   "source": [
    "# Compute the correlation matrix\n",
    "corr_real_1 = corr_matrix(df_feature1_train)"
   ]
  },
  {
   "cell_type": "markdown",
   "metadata": {},
   "source": [
    "# GAN "
   ]
  },
  {
   "cell_type": "code",
   "execution_count": 10,
   "metadata": {
    "ExecuteTime": {
     "end_time": "2019-07-22T09:01:29.374806Z",
     "start_time": "2019-07-22T09:01:29.372749Z"
    }
   },
   "outputs": [],
   "source": [
    "# # trained classification model\n",
    "# acc_knn_1_train, knn_optimal_1 = buildTrainKNN(df_feature1_train_1,test_size_percentage=test_size_percentage)\n",
    "# # test model\n",
    "# acc_holistic_knn_1, _ = trainTest_tunedModel(df_feature1_test, knn_optimal_1)\n",
    "# # 0.6\n"
   ]
  },
  {
   "cell_type": "code",
   "execution_count": 11,
   "metadata": {
    "ExecuteTime": {
     "end_time": "2019-07-22T09:01:29.391612Z",
     "start_time": "2019-07-22T09:01:29.376347Z"
    }
   },
   "outputs": [],
   "source": [
    "# define the metrics to compare the synth data\n",
    "\n",
    "# run experiments to fund best architecture that maximizes good synth data\n",
    "\n",
    "# have TCS classifier model ACC from occutherm as baseline, with new synth data\n",
    "# re run the models and see if ACC increases"
   ]
  },
  {
   "cell_type": "markdown",
   "metadata": {},
   "source": [
    "## Finding Architecture"
   ]
  },
  {
   "cell_type": "code",
   "execution_count": 23,
   "metadata": {
    "ExecuteTime": {
     "end_time": "2019-07-22T11:57:27.991594Z",
     "start_time": "2019-07-22T09:41:46.539604Z"
    },
    "scrolled": false
   },
   "outputs": [
    {
     "name": "stdout",
     "output_type": "stream",
     "text": [
      "Synth Data shape= (640, 10)\n"
     ]
    },
    {
     "name": "stderr",
     "output_type": "stream",
     "text": [
      "/home/matias/anaconda3/lib/python3.7/site-packages/sklearn/preprocessing/data.py:334: DataConversionWarning: Data with input dtype int64, float64 were all converted to float64 by MinMaxScaler.\n",
      "  return self.partial_fit(X, y)\n",
      "\n"
     ]
    }
   ],
   "source": [
    "EPOCHS = 1000\n",
    "\n",
    "# build DCGAN\n",
    "dcgan = DCGAN(n_features=df_feature1_train.shape[1])\n",
    "dcgan.train(df_feature1_train, EPOCHS=EPOCHS)\n",
    "\n",
    "# gen_df_list, loss_g_list, loss_d_list, parameters_list = batch_build_GAN(df_feature1_train_1, batch_parameters)\n"
   ]
  },
  {
   "cell_type": "code",
   "execution_count": 19,
   "metadata": {
    "ExecuteTime": {
     "end_time": "2019-07-22T09:34:13.431997Z",
     "start_time": "2019-07-22T09:34:12.493585Z"
    }
   },
   "outputs": [
    {
     "name": "stdout",
     "output_type": "stream",
     "text": [
      "Synth Data shape= (640, 10)\n",
      "     Temperature (Fahrenheit)  SkinTemperature  ClothingInsulation  \\\n",
      "0                   73.696663        86.780952            0.580139   \n",
      "1                   73.827301        87.135239            0.600695   \n",
      "2                   70.714508        82.379265            0.436707   \n",
      "3                   71.286156        83.070793            0.467827   \n",
      "4                   71.995033        83.315796            0.478132   \n",
      "5                   74.229713        90.200279            0.770145   \n",
      "6                   73.651115        86.221466            0.577516   \n",
      "7                   74.467102        89.946564            0.709744   \n",
      "8                   74.626297        88.933365            0.670470   \n",
      "9                   74.276382        88.400154            0.647678   \n",
      "10                  73.602966        85.861938            0.545471   \n",
      "11                  71.374985        83.408333            0.505325   \n",
      "12                  70.428123        82.316162            0.442142   \n",
      "13                  71.796928        83.873596            0.467210   \n",
      "14                  70.302055        82.387878            0.435332   \n",
      "15                  73.541016        86.953445            0.623654   \n",
      "16                  73.553658        88.114868            0.680121   \n",
      "17                  72.208611        84.140717            0.483304   \n",
      "18                  74.376778        89.154121            0.675789   \n",
      "19                  73.379356        86.558060            0.580386   \n",
      "20                  73.062950        85.512329            0.586890   \n",
      "21                  70.167084        82.354980            0.433406   \n",
      "22                  72.800995        84.630486            0.497158   \n",
      "23                  70.531296        82.678741            0.488557   \n",
      "24                  74.005669        87.324928            0.617212   \n",
      "25                  73.635017        86.550598            0.618560   \n",
      "26                  74.227638        88.578758            0.646300   \n",
      "27                  69.653435        82.009621            0.456025   \n",
      "28                  71.989067        83.434006            0.405392   \n",
      "29                  71.031570        83.237381            0.504883   \n",
      "..                        ...              ...                 ...   \n",
      "610                 73.558151        85.790443            0.511629   \n",
      "611                 73.278984        84.833176            0.477787   \n",
      "612                 72.587822        85.113556            0.572201   \n",
      "613                 73.345863        87.372459            0.608828   \n",
      "614                 72.692268        85.083321            0.557775   \n",
      "615                 73.753334        85.559494            0.537480   \n",
      "616                 71.589287        83.044556            0.407663   \n",
      "617                 72.346916        84.405006            0.522891   \n",
      "618                 70.834053        82.992439            0.446379   \n",
      "619                 73.543724        86.457161            0.564759   \n",
      "620                 73.689735        86.689346            0.589855   \n",
      "621                 72.838753        85.076454            0.516241   \n",
      "622                 69.962547        81.977242            0.390460   \n",
      "623                 70.067276        82.335197            0.446992   \n",
      "624                 74.720253        90.299889            0.735667   \n",
      "625                 70.907257        83.238937            0.436209   \n",
      "626                 73.446289        86.822495            0.581950   \n",
      "627                 72.821953        85.163605            0.569989   \n",
      "628                 74.144943        87.341469            0.607152   \n",
      "629                 74.246140        88.410973            0.673042   \n",
      "630                 73.910629        86.338188            0.553396   \n",
      "631                 72.214050        84.135513            0.486392   \n",
      "632                 73.008774        86.352066            0.610901   \n",
      "633                 73.398781        85.464241            0.548351   \n",
      "634                 73.270027        85.466438            0.514717   \n",
      "635                 71.414764        83.092270            0.413766   \n",
      "636                 71.957993        83.820763            0.489215   \n",
      "637                 71.986420        83.809662            0.543160   \n",
      "638                 70.869232        82.749626            0.406950   \n",
      "639                 71.654816        83.691284            0.490613   \n",
      "\n",
      "     Height(cm)  Shoulder Circumference(cm)  Weight(lbs)  Gender  \\\n",
      "0    168.102173                  107.502678   146.848190     0.0   \n",
      "1    168.461197                  106.238846   142.559906     0.0   \n",
      "2    172.673950                  118.055862   184.226562     1.0   \n",
      "3    170.431747                  115.025414   177.895645     1.0   \n",
      "4    171.552643                  115.116280   171.290909     1.0   \n",
      "5    170.052338                  105.173843   131.794815     0.0   \n",
      "6    168.340317                  107.457077   146.834198     0.0   \n",
      "7    169.085587                  102.706039   131.111084     0.0   \n",
      "8    169.715881                  105.678558   134.383179     0.0   \n",
      "9    169.375122                  106.277855   138.120117     0.0   \n",
      "10   168.221329                  108.099648   147.681808     0.0   \n",
      "11   169.451157                  112.810715   175.593735     1.0   \n",
      "12   172.677628                  118.586296   186.877319     1.0   \n",
      "13   169.081009                  113.189240   173.386215     1.0   \n",
      "14   172.193069                  118.305397   188.683426     1.0   \n",
      "15   168.834778                  109.067490   145.000473     0.0   \n",
      "16   168.918518                  107.256844   139.921265     0.0   \n",
      "17   168.122345                  111.356285   165.718826     1.0   \n",
      "18   169.066757                  104.171631   132.678558     0.0   \n",
      "19   167.893570                  106.198860   148.232224     0.0   \n",
      "20   169.076279                  111.326195   152.890060     0.0   \n",
      "21   172.108231                  118.104057   190.562622     1.0   \n",
      "22   168.195740                  109.886993   158.402084     1.0   \n",
      "23   171.458084                  118.254333   184.827271     1.0   \n",
      "24   169.055725                  107.080444   140.960373     0.0   \n",
      "25   169.336746                  109.246063   146.369278     0.0   \n",
      "26   168.686752                  103.947235   136.492676     0.0   \n",
      "27   172.948334                  120.215454   195.008957     1.0   \n",
      "28   170.313553                  112.658051   172.509964     1.0   \n",
      "29   170.316177                  115.833519   178.066330     1.0   \n",
      "..          ...                         ...          ...     ...   \n",
      "610  168.080429                  107.384552   148.426804     0.0   \n",
      "611  169.731033                  111.122406   157.096893     1.0   \n",
      "612  168.237991                  110.851837   155.841644     0.0   \n",
      "613  167.552628                  104.043648   142.293625     0.0   \n",
      "614  167.508438                  108.577614   156.812836     0.0   \n",
      "615  169.347946                  109.584831   150.696442     0.0   \n",
      "616  171.982147                  114.883331   178.216766     1.0   \n",
      "617  167.964676                  111.248863   159.370911     1.0   \n",
      "618  170.071304                  115.839691   181.549255     1.0   \n",
      "619  168.493546                  108.544846   144.951340     0.0   \n",
      "620  168.746597                  108.131508   144.204269     0.0   \n",
      "621  167.198105                  106.932747   155.297821     0.0   \n",
      "622  173.090240                  118.958847   194.674377     1.0   \n",
      "623  172.116486                  118.166069   191.964478     1.0   \n",
      "624  169.367645                  101.794235   127.531387     0.0   \n",
      "625  168.454422                  112.435524   178.658051     1.0   \n",
      "626  167.762634                  105.163170   142.705765     0.0   \n",
      "627  168.078140                  110.009338   156.346359     0.0   \n",
      "628  169.168335                  106.852303   140.565948     0.0   \n",
      "629  169.408371                  106.781265   136.673996     0.0   \n",
      "630  168.449921                  107.141647   147.043930     0.0   \n",
      "631  167.773071                  109.472946   167.381653     1.0   \n",
      "632  168.071320                  108.109825   149.885452     0.0   \n",
      "633  168.146805                  108.939621   153.143082     0.0   \n",
      "634  168.591827                  109.309967   149.457321     0.0   \n",
      "635  170.130615                  112.989197   177.261292     1.0   \n",
      "636  169.542023                  113.209129   168.333908     1.0   \n",
      "637  170.092163                  114.765160   167.284546     1.0   \n",
      "638  172.268555                  117.380424   185.633774     1.0   \n",
      "639  168.208420                  111.479561   172.333328     1.0   \n",
      "\n",
      "     Temperature_outside  Humidity_outside  Discrete Thermal Comfort_TA  \n",
      "0              45.431053         66.853477                         -0.0  \n",
      "1              44.320736         62.468578                         -1.0  \n",
      "2              66.278198         78.797539                          1.0  \n",
      "3              59.572392         75.810524                          0.0  \n",
      "4              57.941090         72.267242                          0.0  \n",
      "5              40.457405         47.457218                         -1.0  \n",
      "6              44.478085         62.375301                         -0.0  \n",
      "7              41.450569         55.238338                         -1.0  \n",
      "8              44.668468         57.585510                         -1.0  \n",
      "9              44.569580         57.254440                         -1.0  \n",
      "10             46.066139         68.926414                         -0.0  \n",
      "11             54.908745         72.123428                          0.0  \n",
      "12             67.250404         78.462395                          1.0  \n",
      "13             56.929729         78.471954                          0.0  \n",
      "14             67.898987         81.069885                          1.0  \n",
      "15             44.396328         58.136421                         -1.0  \n",
      "16             42.344791         53.668495                         -1.0  \n",
      "17             50.465397         73.900902                          0.0  \n",
      "18             43.498173         58.612152                         -1.0  \n",
      "19             44.258152         65.227097                         -0.0  \n",
      "20             45.559566         61.694443                         -0.0  \n",
      "21             69.259598         81.785233                          1.0  \n",
      "22             48.823624         71.863609                         -0.0  \n",
      "23             62.626209         74.893112                          0.0  \n",
      "24             45.102608         60.748398                         -1.0  \n",
      "25             44.182888         57.869900                         -1.0  \n",
      "26             43.460129         60.437271                         -1.0  \n",
      "27             70.476845         79.954956                          1.0  \n",
      "28             61.796379         82.811867                          1.0  \n",
      "29             58.312473         72.958427                          0.0  \n",
      "..                   ...               ...                          ...  \n",
      "610            48.954521         75.142075                          0.0  \n",
      "611            53.483761         74.660904                          0.0  \n",
      "612            45.512394         63.388542                         -0.0  \n",
      "613            43.016842         65.155266                         -1.0  \n",
      "614            44.803688         68.183357                         -0.0  \n",
      "615            48.701252         68.609474                          0.0  \n",
      "616            65.387741         82.728523                          1.0  \n",
      "617            47.047626         68.194359                         -0.0  \n",
      "618            62.617615         79.459816                          0.0  \n",
      "619            46.680058         65.811096                         -0.0  \n",
      "620            45.656395         62.865475                         -0.0  \n",
      "621            45.612328         72.623459                         -0.0  \n",
      "622            73.256149         85.955574                          1.0  \n",
      "623            69.257370         81.192505                          1.0  \n",
      "624            41.228722         53.471550                         -1.0  \n",
      "625            60.794216         81.665474                          0.0  \n",
      "626            44.131168         65.123146                         -1.0  \n",
      "627            44.917957         62.972191                         -0.0  \n",
      "628            45.465515         60.665634                         -1.0  \n",
      "629            43.652691         54.636890                         -1.0  \n",
      "630            46.344654         70.071602                         -0.0  \n",
      "631            51.093967         75.019318                          0.0  \n",
      "632            43.655766         61.151600                         -1.0  \n",
      "633            45.697266         67.786537                         -0.0  \n",
      "634            48.524174         70.491982                         -0.0  \n",
      "635            63.481777         83.078133                          1.0  \n",
      "636            54.544003         73.119202                          0.0  \n",
      "637            51.027821         65.650665                          0.0  \n",
      "638            68.577454         83.880882                          1.0  \n",
      "639            52.585136         73.979607                          0.0  \n",
      "\n",
      "[640 rows x 10 columns]\n",
      "-0.0    293\n",
      "-1.0    213\n",
      " 1.0    133\n",
      "-2.0      1\n",
      "Name: Discrete Thermal Comfort_TA, dtype: int64\n"
     ]
    },
    {
     "name": "stderr",
     "output_type": "stream",
     "text": [
      "/home/matias/anaconda3/lib/python3.7/site-packages/sklearn/preprocessing/data.py:334: DataConversionWarning: Data with input dtype int64, float64 were all converted to float64 by MinMaxScaler.\n",
      "  return self.partial_fit(X, y)\n"
     ]
    }
   ],
   "source": [
    "synth_df = dcgan.generate_data(df_feature1_train)\n",
    "print(synth_df)\n",
    "print(synth_df['Discrete Thermal Comfort_TA'].value_counts())\n"
   ]
  },
  {
   "cell_type": "code",
   "execution_count": 24,
   "metadata": {
    "ExecuteTime": {
     "end_time": "2019-07-22T11:57:34.665681Z",
     "start_time": "2019-07-22T11:57:34.270691Z"
    }
   },
   "outputs": [
    {
     "data": {
      "image/png": "[encoded data removed]",
      "text/plain": [
       "<Figure size 792x648 with 2 Axes>"
      ]
     },
     "metadata": {
      "needs_background": "light"
     },
     "output_type": "display_data"
    }
   ],
   "source": [
    "# Compute the correlation matrix\n",
    "corr_synth_1 = corr_matrix(synth_df)\n"
   ]
  },
  {
   "cell_type": "code",
   "execution_count": 25,
   "metadata": {
    "ExecuteTime": {
     "end_time": "2019-07-22T11:57:41.546113Z",
     "start_time": "2019-07-22T11:57:41.155466Z"
    }
   },
   "outputs": [
    {
     "name": "stdout",
     "output_type": "stream",
     "text": [
      "                             Temperature (Fahrenheit)  SkinTemperature  \\\n",
      "Temperature (Fahrenheit)                     0.000000        -0.451930   \n",
      "SkinTemperature                             -0.451930         0.000000   \n",
      "ClothingInsulation                          -0.842120        -0.892372   \n",
      "Height(cm)                                   0.642472         0.575663   \n",
      "Shoulder Circumference(cm)                   0.934596         0.986529   \n",
      "Weight(lbs)                                  0.997096         1.009161   \n",
      "Gender                                       0.773812         0.836773   \n",
      "Temperature_outside                          0.842047         0.787957   \n",
      "Humidity_outside                             0.906750         1.022662   \n",
      "Discrete Thermal Comfort_TA                  1.406438         1.147840   \n",
      "\n",
      "                             ClothingInsulation  Height(cm)  \\\n",
      "Temperature (Fahrenheit)              -0.842120    0.642472   \n",
      "SkinTemperature                       -0.892372    0.575663   \n",
      "ClothingInsulation                     0.000000    0.534971   \n",
      "Height(cm)                             0.534971    0.000000   \n",
      "Shoulder Circumference(cm)             0.964223   -0.146094   \n",
      "Weight(lbs)                            0.766724   -0.107576   \n",
      "Gender                                 0.861954    0.128436   \n",
      "Temperature_outside                    0.456468   -0.992953   \n",
      "Humidity_outside                       0.956994   -0.538558   \n",
      "Discrete Thermal Comfort_TA            0.804867   -0.579750   \n",
      "\n",
      "                             Shoulder Circumference(cm)  Weight(lbs)  \\\n",
      "Temperature (Fahrenheit)                       0.934596     0.997096   \n",
      "SkinTemperature                                0.986529     1.009161   \n",
      "ClothingInsulation                             0.964223     0.766724   \n",
      "Height(cm)                                    -0.146094    -0.107576   \n",
      "Shoulder Circumference(cm)                     0.000000    -0.161149   \n",
      "Weight(lbs)                                   -0.161149     0.000000   \n",
      "Gender                                        -0.123115    -0.348101   \n",
      "Temperature_outside                           -1.110166    -0.846653   \n",
      "Humidity_outside                              -0.719738    -0.860921   \n",
      "Discrete Thermal Comfort_TA                   -0.746446    -0.810477   \n",
      "\n",
      "                               Gender  Temperature_outside  Humidity_outside  \\\n",
      "Temperature (Fahrenheit)     0.773812             0.842047          0.906750   \n",
      "SkinTemperature              0.836773             0.787957          1.022662   \n",
      "ClothingInsulation           0.861954             0.456468          0.956994   \n",
      "Height(cm)                   0.128436            -0.992953         -0.538558   \n",
      "Shoulder Circumference(cm)  -0.123115            -1.110166         -0.719738   \n",
      "Weight(lbs)                 -0.348101            -0.846653         -0.860921   \n",
      "Gender                       0.000000            -0.981295         -0.785965   \n",
      "Temperature_outside         -0.981295             0.000000         -1.005000   \n",
      "Humidity_outside            -0.785965            -1.005000          0.000000   \n",
      "Discrete Thermal Comfort_TA -0.718175            -0.927977         -0.804454   \n",
      "\n",
      "                             Discrete Thermal Comfort_TA  \n",
      "Temperature (Fahrenheit)                        1.406438  \n",
      "SkinTemperature                                 1.147840  \n",
      "ClothingInsulation                              0.804867  \n",
      "Height(cm)                                     -0.579750  \n",
      "Shoulder Circumference(cm)                     -0.746446  \n",
      "Weight(lbs)                                    -0.810477  \n",
      "Gender                                         -0.718175  \n",
      "Temperature_outside                            -0.927977  \n",
      "Humidity_outside                               -0.804454  \n",
      "Discrete Thermal Comfort_TA                     0.000000  \n"
     ]
    },
    {
     "data": {
      "image/png": "[encoded data removed]",
      "text/plain": [
       "<Figure size 792x648 with 2 Axes>"
      ]
     },
     "metadata": {
      "needs_background": "light"
     },
     "output_type": "display_data"
    }
   ],
   "source": [
    "# substract corr matrices\n",
    "corr_diff = corr_real_1 - corr_synth_1\n",
    "print(corr_diff)\n",
    "\n",
    "corr_diff = corr_matrix(None, get_corr=False, corr=corr_diff)"
   ]
  },
  {
   "cell_type": "code",
   "execution_count": null,
   "metadata": {},
   "outputs": [],
   "source": []
  }
 ],
 "metadata": {
  "kernelspec": {
   "display_name": "Python 3",
   "language": "python",
   "name": "python3"
  },
  "language_info": {
   "codemirror_mode": {
    "name": "ipython",
    "version": 3
   },
   "file_extension": ".py",
   "mimetype": "text/x-python",
   "name": "python",
   "nbconvert_exporter": "python",
   "pygments_lexer": "ipython3",
   "version": "3.7.3"
  },
  "toc": {
   "base_numbering": 1,
   "nav_menu": {},
   "number_sections": true,
   "sideBar": true,
   "skip_h1_title": false,
   "title_cell": "Table of Contents",
   "title_sidebar": "Contents",
   "toc_cell": false,
   "toc_position": {
    "height": "calc(100% - 180px)",
    "left": "10px",
    "top": "150px",
    "width": "216px"
   },
   "toc_section_display": true,
   "toc_window_display": false
  },
  "varInspector": {
   "cols": {
    "lenName": 16,
    "lenType": 16,
    "lenVar": 40
   },
   "kernels_config": {
    "python": {
     "delete_cmd_postfix": "",
     "delete_cmd_prefix": "del ",
     "library": "var_list.py",
     "varRefreshCmd": "print(var_dic_list())"
    },
    "r": {
     "delete_cmd_postfix": ") ",
     "delete_cmd_prefix": "rm(",
     "library": "var_list.r",
     "varRefreshCmd": "cat(var_dic_list()) "
    }
   },
   "position": {
    "height": "395.85px",
    "left": "-1536px",
    "right": "20px",
    "top": "365px",
    "width": "576px"
   },
   "types_to_exclude": [
    "module",
    "function",
    "builtin_function_or_method",
    "instance",
    "_Feature"
   ],
   "window_display": true
  }
 },
 "nbformat": 4,
 "nbformat_minor": 2
}
